{
 "cells": [
  {
   "cell_type": "markdown",
   "metadata": {
    "toc": true
   },
   "source": [
    "<h1>目次<span class=\"tocSkip\"></span></h1>\n",
    "<div class=\"toc\"><ul class=\"toc-item\"><li><span><a href=\"#分析方針\" data-toc-modified-id=\"分析方針-1\"><span class=\"toc-item-num\">1&nbsp;&nbsp;</span>分析方針</a></span></li><li><span><a href=\"#データ準備\" data-toc-modified-id=\"データ準備-2\"><span class=\"toc-item-num\">2&nbsp;&nbsp;</span>データ準備</a></span></li><li><span><a href=\"#1時間を4分割\" data-toc-modified-id=\"1時間を4分割-3\"><span class=\"toc-item-num\">3&nbsp;&nbsp;</span>1時間を4分割</a></span></li><li><span><a href=\"#需要予測\" data-toc-modified-id=\"需要予測-4\"><span class=\"toc-item-num\">4&nbsp;&nbsp;</span>需要予測</a></span><ul class=\"toc-item\"><li><span><a href=\"#月・曜日・時間・分・祝日・CALL_TYPE-----で集約\" data-toc-modified-id=\"月・曜日・時間・分・祝日・CALL_TYPE-----で集約-4.1\"><span class=\"toc-item-num\">4.1&nbsp;&nbsp;</span>月・曜日・時間・分・祝日・CALL_TYPE     で集約</a></span></li><li><span><a href=\"#count以外をダミー変数化\" data-toc-modified-id=\"count以外をダミー変数化-4.2\"><span class=\"toc-item-num\">4.2&nbsp;&nbsp;</span>count以外をダミー変数化</a></span></li><li><span><a href=\"#AdaBoostで予測\" data-toc-modified-id=\"AdaBoostで予測-4.3\"><span class=\"toc-item-num\">4.3&nbsp;&nbsp;</span>AdaBoostで予測</a></span><ul class=\"toc-item\"><li><span><a href=\"#乗車台数を予測\" data-toc-modified-id=\"乗車台数を予測-4.3.1\"><span class=\"toc-item-num\">4.3.1&nbsp;&nbsp;</span>乗車台数を予測</a></span></li><li><span><a href=\"#ハイパーパラメータの調整\" data-toc-modified-id=\"ハイパーパラメータの調整-4.3.2\"><span class=\"toc-item-num\">4.3.2&nbsp;&nbsp;</span>ハイパーパラメータの調整</a></span></li><li><span><a href=\"#距離を予測\" data-toc-modified-id=\"距離を予測-4.3.3\"><span class=\"toc-item-num\">4.3.3&nbsp;&nbsp;</span>距離を予測</a></span></li></ul></li></ul></li><li><span><a href=\"#流しのみ区画に分ける\" data-toc-modified-id=\"流しのみ区画に分ける-5\"><span class=\"toc-item-num\">5&nbsp;&nbsp;</span>流しのみ区画に分ける</a></span><ul class=\"toc-item\"><li><span><a href=\"#緯度、経度を10等分する\" data-toc-modified-id=\"緯度、経度を10等分する-5.1\"><span class=\"toc-item-num\">5.1&nbsp;&nbsp;</span>緯度、経度を10等分する</a></span><ul class=\"toc-item\"><li><span><a href=\"#境界値の算出\" data-toc-modified-id=\"境界値の算出-5.1.1\"><span class=\"toc-item-num\">5.1.1&nbsp;&nbsp;</span>境界値の算出</a></span></li><li><span><a href=\"#分割位置列を追加\" data-toc-modified-id=\"分割位置列を追加-5.1.2\"><span class=\"toc-item-num\">5.1.2&nbsp;&nbsp;</span>分割位置列を追加</a></span></li></ul></li><li><span><a href=\"#降車方向を追加\" data-toc-modified-id=\"降車方向を追加-5.2\"><span class=\"toc-item-num\">5.2&nbsp;&nbsp;</span>降車方向を追加</a></span></li></ul></li><li><span><a href=\"#AREA_54をスペクトラルクラスタリング\" data-toc-modified-id=\"AREA_54をスペクトラルクラスタリング-6\"><span class=\"toc-item-num\">6&nbsp;&nbsp;</span>AREA_54をスペクトラルクラスタリング</a></span><ul class=\"toc-item\"><li><span><a href=\"#AREA_54のデータを抽出\" data-toc-modified-id=\"AREA_54のデータを抽出-6.1\"><span class=\"toc-item-num\">6.1&nbsp;&nbsp;</span>AREA_54のデータを抽出</a></span></li><li><span><a href=\"#クラスタリング\" data-toc-modified-id=\"クラスタリング-6.2\"><span class=\"toc-item-num\">6.2&nbsp;&nbsp;</span>クラスタリング</a></span><ul class=\"toc-item\"><li><span><a href=\"#土・日曜---04:00\" data-toc-modified-id=\"土・日曜---04:00-6.2.1\"><span class=\"toc-item-num\">6.2.1&nbsp;&nbsp;</span>土・日曜 - 04:00</a></span></li></ul></li></ul></li><li><span><a href=\"#SpectralClusteringだとkernelが死ぬので、代わりにDBSCAN\" data-toc-modified-id=\"SpectralClusteringだとkernelが死ぬので、代わりにDBSCAN-7\"><span class=\"toc-item-num\">7&nbsp;&nbsp;</span>SpectralClusteringだとkernelが死ぬので、代わりにDBSCAN</a></span></li><li><span><a href=\"#The-kernel-appears-to-have-died.-It-will-restart-automatically.\" data-toc-modified-id=\"The-kernel-appears-to-have-died.-It-will-restart-automatically.-8\"><span class=\"toc-item-num\">8&nbsp;&nbsp;</span>The kernel appears to have died. It will restart automatically.</a></span><ul class=\"toc-item\"><li><ul class=\"toc-item\"><li><span><a href=\"#平日---15:00\" data-toc-modified-id=\"平日---15:00-8.0.1\"><span class=\"toc-item-num\">8.0.1&nbsp;&nbsp;</span>平日 - 15:00</a></span></li><li><span><a href=\"#平日---22:00\" data-toc-modified-id=\"平日---22:00-8.0.2\"><span class=\"toc-item-num\">8.0.2&nbsp;&nbsp;</span>平日 - 22:00</a></span></li></ul></li></ul></li><li><span><a href=\"#AREA_54の需要台数を予測\" data-toc-modified-id=\"AREA_54の需要台数を予測-9\"><span class=\"toc-item-num\">9&nbsp;&nbsp;</span>AREA_54の需要台数を予測</a></span><ul class=\"toc-item\"><li><span><a href=\"#area_54で乗車した際の進行方向\" data-toc-modified-id=\"area_54で乗車した際の進行方向-9.1\"><span class=\"toc-item-num\">9.1&nbsp;&nbsp;</span>area_54で乗車した際の進行方向</a></span></li><li><span><a href=\"#ここまでのデータを保存\" data-toc-modified-id=\"ここまでのデータを保存-9.2\"><span class=\"toc-item-num\">9.2&nbsp;&nbsp;</span>ここまでのデータを保存</a></span></li></ul></li><li><span><a href=\"#分析方針\" data-toc-modified-id=\"分析方針-10\"><span class=\"toc-item-num\">10&nbsp;&nbsp;</span>分析方針</a></span></li></ul></div>"
   ]
  },
  {
   "cell_type": "markdown",
   "metadata": {},
   "source": [
    "## 分析方針"
   ]
  },
  {
   "cell_type": "markdown",
   "metadata": {},
   "source": [
    "- 需要予測\n",
    "    - 下記を特徴量として、センター、スタンド、流し毎の需要を15分単位に予測する。（AdaBost）\n",
    "        - CALL_TYPE（センター・スタンド・流し）\n",
    "        - 月\n",
    "        - 曜日\n",
    "        - 時間\n",
    "        - 分(0,15,30,45)\n",
    "        - 祝日\n",
    "        - 人数（目的変数）\n",
    "        \n",
    "    - 下記を特徴量として、センター、スタンド、流し毎の移動距離を15分単位に予測する。\n",
    "        - CALL_TYPE（センター・スタンド・流し）\n",
    "        - 月\n",
    "        - 曜日\n",
    "        - 時間\n",
    "        - 分(0,15,30,45)\n",
    "        - 祝日\n",
    "        - 平均移動距離（目的変数）\n",
    "\n",
    "- 配置予測（流し）\n",
    "    - 区分けされたエリアをスペクトラルクラスタリングで細分化し、流しの配置場所を予測。\n",
    "        - スペクトラルクラスタリング（ 24*7 = 168通り ）\n",
    "            - 曜日\n",
    "            - 時間\n",
    "            - 乗車座標（緯度・経度）\n",
    "            - 降車（緯度・経度）\n",
    "        - 代表的な曜日- 時間（日曜 - 04:00、水曜- 16:00、金曜 - 22:00）で特定エリアを細分化\n",
    "    - スペクトラルクラスタリングしたエリアの需要を予測\n",
    "        - スペクトラル分析したエリアのデータを抽出\n",
    "            - スペクトラル分析したエリアの需要予測\n",
    "                - CALL_TYPE（流し）\n",
    "                - 曜日\n",
    "                - 時間\n",
    "                - 分(0,15,30,45)\n",
    "                - 祝日\n",
    "\n",
    "            - スペクトラル分析したエリアの移動距離を予測\n",
    "                - CALL_TYPE（流し）\n",
    "                - 曜日\n",
    "                - 時間\n",
    "                - 分(0,15,30,45)\n",
    "                - 祝日\n",
    "\n",
    "            - スペクトラル分析したエリアの移動距離を予測\n",
    "                - CALL_TYPE（流し）\n",
    "                - 曜日\n",
    "                - 時間\n",
    "                - 分(0,15,30,45)\n",
    "                - 進行方向\n",
    "\n",
    "- 可能であれば、エリア内の最適ルートを出せれば尚良\n"
   ]
  },
  {
   "cell_type": "markdown",
   "metadata": {},
   "source": [
    "## データ準備"
   ]
  },
  {
   "cell_type": "code",
   "execution_count": 1,
   "metadata": {},
   "outputs": [],
   "source": [
    "import pandas as pd \n",
    "import numpy as np\n",
    "import re\n",
    "import copy\n",
    "from datetime import datetime as dt\n",
    "from gmplot import gmplot\n",
    "\n",
    "from matplotlib import pyplot as plt\n",
    "import seaborn as sns\n",
    "\n",
    "# warningの抑止\n",
    "import warnings\n",
    "warnings.filterwarnings('ignore')\n",
    "\n",
    "# メモリ解放\n",
    "import gc"
   ]
  },
  {
   "cell_type": "code",
   "execution_count": 2,
   "metadata": {
    "scrolled": true
   },
   "outputs": [
    {
     "data": {
      "text/html": [
       "<div>\n",
       "<style scoped>\n",
       "    .dataframe tbody tr th:only-of-type {\n",
       "        vertical-align: middle;\n",
       "    }\n",
       "\n",
       "    .dataframe tbody tr th {\n",
       "        vertical-align: top;\n",
       "    }\n",
       "\n",
       "    .dataframe thead th {\n",
       "        text-align: right;\n",
       "    }\n",
       "</style>\n",
       "<table border=\"1\" class=\"dataframe\">\n",
       "  <thead>\n",
       "    <tr style=\"text-align: right;\">\n",
       "      <th></th>\n",
       "      <th>TIMESTAMP</th>\n",
       "      <th>year</th>\n",
       "      <th>month</th>\n",
       "      <th>day</th>\n",
       "      <th>weekday</th>\n",
       "      <th>hour</th>\n",
       "      <th>minute</th>\n",
       "      <th>holiday</th>\n",
       "      <th>riding_time</th>\n",
       "      <th>distance</th>\n",
       "      <th>start_x</th>\n",
       "      <th>start_y</th>\n",
       "      <th>end_x</th>\n",
       "      <th>end_y</th>\n",
       "      <th>CALL_TYPE</th>\n",
       "      <th>TAXI_ID</th>\n",
       "    </tr>\n",
       "  </thead>\n",
       "  <tbody>\n",
       "    <tr>\n",
       "      <th>0</th>\n",
       "      <td>1372636853</td>\n",
       "      <td>2013</td>\n",
       "      <td>7</td>\n",
       "      <td>1</td>\n",
       "      <td>mon</td>\n",
       "      <td>0</td>\n",
       "      <td>0</td>\n",
       "      <td>o</td>\n",
       "      <td>375</td>\n",
       "      <td>2.395003</td>\n",
       "      <td>-8.610291</td>\n",
       "      <td>41.140746</td>\n",
       "      <td>-8.605890</td>\n",
       "      <td>41.145345</td>\n",
       "      <td>C</td>\n",
       "      <td>20000380</td>\n",
       "    </tr>\n",
       "    <tr>\n",
       "      <th>1</th>\n",
       "      <td>1372636854</td>\n",
       "      <td>2013</td>\n",
       "      <td>7</td>\n",
       "      <td>1</td>\n",
       "      <td>mon</td>\n",
       "      <td>0</td>\n",
       "      <td>0</td>\n",
       "      <td>o</td>\n",
       "      <td>645</td>\n",
       "      <td>10.114430</td>\n",
       "      <td>-8.574678</td>\n",
       "      <td>41.151951</td>\n",
       "      <td>-8.607996</td>\n",
       "      <td>41.142915</td>\n",
       "      <td>C</td>\n",
       "      <td>20000520</td>\n",
       "    </tr>\n",
       "    <tr>\n",
       "      <th>2</th>\n",
       "      <td>1372636858</td>\n",
       "      <td>2013</td>\n",
       "      <td>7</td>\n",
       "      <td>1</td>\n",
       "      <td>mon</td>\n",
       "      <td>0</td>\n",
       "      <td>0</td>\n",
       "      <td>o</td>\n",
       "      <td>345</td>\n",
       "      <td>3.186095</td>\n",
       "      <td>-8.618643</td>\n",
       "      <td>41.141412</td>\n",
       "      <td>-8.630838</td>\n",
       "      <td>41.154489</td>\n",
       "      <td>C</td>\n",
       "      <td>20000589</td>\n",
       "    </tr>\n",
       "    <tr>\n",
       "      <th>3</th>\n",
       "      <td>1372636875</td>\n",
       "      <td>2013</td>\n",
       "      <td>7</td>\n",
       "      <td>1</td>\n",
       "      <td>mon</td>\n",
       "      <td>0</td>\n",
       "      <td>1</td>\n",
       "      <td>o</td>\n",
       "      <td>330</td>\n",
       "      <td>2.549688</td>\n",
       "      <td>-8.619894</td>\n",
       "      <td>41.148009</td>\n",
       "      <td>-8.609490</td>\n",
       "      <td>41.157351</td>\n",
       "      <td>C</td>\n",
       "      <td>20000233</td>\n",
       "    </tr>\n",
       "    <tr>\n",
       "      <th>4</th>\n",
       "      <td>1372636896</td>\n",
       "      <td>2013</td>\n",
       "      <td>7</td>\n",
       "      <td>1</td>\n",
       "      <td>mon</td>\n",
       "      <td>0</td>\n",
       "      <td>1</td>\n",
       "      <td>o</td>\n",
       "      <td>645</td>\n",
       "      <td>10.080812</td>\n",
       "      <td>-8.617599</td>\n",
       "      <td>41.146137</td>\n",
       "      <td>-8.636625</td>\n",
       "      <td>41.169141</td>\n",
       "      <td>C</td>\n",
       "      <td>20000360</td>\n",
       "    </tr>\n",
       "  </tbody>\n",
       "</table>\n",
       "</div>"
      ],
      "text/plain": [
       "    TIMESTAMP  year  month  day weekday  hour  minute holiday  riding_time  \\\n",
       "0  1372636853  2013      7    1     mon     0       0       o          375   \n",
       "1  1372636854  2013      7    1     mon     0       0       o          645   \n",
       "2  1372636858  2013      7    1     mon     0       0       o          345   \n",
       "3  1372636875  2013      7    1     mon     0       1       o          330   \n",
       "4  1372636896  2013      7    1     mon     0       1       o          645   \n",
       "\n",
       "    distance   start_x    start_y     end_x      end_y CALL_TYPE   TAXI_ID  \n",
       "0   2.395003 -8.610291  41.140746 -8.605890  41.145345         C  20000380  \n",
       "1  10.114430 -8.574678  41.151951 -8.607996  41.142915         C  20000520  \n",
       "2   3.186095 -8.618643  41.141412 -8.630838  41.154489         C  20000589  \n",
       "3   2.549688 -8.619894  41.148009 -8.609490  41.157351         C  20000233  \n",
       "4  10.080812 -8.617599  41.146137 -8.636625  41.169141         C  20000360  "
      ]
     },
     "execution_count": 2,
     "metadata": {},
     "output_type": "execute_result"
    }
   ],
   "source": [
    "pd.set_option(\"display.max_columns\", 30)\n",
    "\n",
    "# データを読み込む\n",
    "df = pd.read_csv(\"data/edit_train_final.csv\")\n",
    "\n",
    "df.head()"
   ]
  },
  {
   "cell_type": "markdown",
   "metadata": {},
   "source": [
    "## 1時間を4分割"
   ]
  },
  {
   "cell_type": "markdown",
   "metadata": {},
   "source": [
    "15毎に分析する為、00、15,30,45分に補正"
   ]
  },
  {
   "cell_type": "code",
   "execution_count": 3,
   "metadata": {},
   "outputs": [
    {
     "data": {
      "text/plain": [
       "45    443897\n",
       "0     413615\n",
       "15    408723\n",
       "30    407917\n",
       "Name: minute, dtype: int64"
      ]
     },
     "execution_count": 3,
     "metadata": {},
     "output_type": "execute_result"
    }
   ],
   "source": [
    "def convert_min(x):\n",
    "    if x < 15:\n",
    "        return 0\n",
    "    elif 15 <= x < 30:\n",
    "        return 15\n",
    "    elif 30 <= x < 45:\n",
    "        return 30\n",
    "    elif 45 <= x:\n",
    "        return 45\n",
    "    else:\n",
    "        return np.Inf\n",
    "\n",
    "df[\"minute\"] = df[\"minute\"].apply(convert_min)\n",
    "df[\"minute\"].value_counts()"
   ]
  },
  {
   "cell_type": "markdown",
   "metadata": {},
   "source": [
    "## 需要予測"
   ]
  },
  {
   "cell_type": "code",
   "execution_count": 4,
   "metadata": {},
   "outputs": [],
   "source": [
    "pd.set_option(\"display.max_columns\", 30)\n",
    "\n",
    "# データを読み込む\n",
    "train_df = df.copy()\n",
    "# test_df = pd.read_csv(\"data/edit_test_final.csv\")"
   ]
  },
  {
   "cell_type": "code",
   "execution_count": 5,
   "metadata": {},
   "outputs": [],
   "source": [
    "# 要らない列を削除\n",
    "train_df.drop([\n",
    "    \"TIMESTAMP\", \"year\", \"day\", \"start_x\", \"start_y\", \"end_x\", \"end_y\",\n",
    "    \"TAXI_ID\"\n",
    "],\n",
    "              axis=1,\n",
    "              inplace=True)\n",
    "\n",
    "col_names = [\n",
    "    \"month\", \"weekday\", \"hour\", \"minute\", \"holiday\", \"CALL_TYPE\", \"distance\"\n",
    "]\n",
    "\n",
    "# 列の並び替え\n",
    "train_df = train_df.reindex(col_names, axis=1)"
   ]
  },
  {
   "cell_type": "code",
   "execution_count": 6,
   "metadata": {},
   "outputs": [
    {
     "data": {
      "text/html": [
       "<div>\n",
       "<style scoped>\n",
       "    .dataframe tbody tr th:only-of-type {\n",
       "        vertical-align: middle;\n",
       "    }\n",
       "\n",
       "    .dataframe tbody tr th {\n",
       "        vertical-align: top;\n",
       "    }\n",
       "\n",
       "    .dataframe thead th {\n",
       "        text-align: right;\n",
       "    }\n",
       "</style>\n",
       "<table border=\"1\" class=\"dataframe\">\n",
       "  <thead>\n",
       "    <tr style=\"text-align: right;\">\n",
       "      <th></th>\n",
       "      <th>month</th>\n",
       "      <th>weekday</th>\n",
       "      <th>hour</th>\n",
       "      <th>minute</th>\n",
       "      <th>holiday</th>\n",
       "      <th>CALL_TYPE</th>\n",
       "      <th>distance</th>\n",
       "    </tr>\n",
       "  </thead>\n",
       "  <tbody>\n",
       "    <tr>\n",
       "      <th>0</th>\n",
       "      <td>7</td>\n",
       "      <td>mon</td>\n",
       "      <td>0</td>\n",
       "      <td>0</td>\n",
       "      <td>o</td>\n",
       "      <td>C</td>\n",
       "      <td>2.395003</td>\n",
       "    </tr>\n",
       "    <tr>\n",
       "      <th>1</th>\n",
       "      <td>7</td>\n",
       "      <td>mon</td>\n",
       "      <td>0</td>\n",
       "      <td>0</td>\n",
       "      <td>o</td>\n",
       "      <td>C</td>\n",
       "      <td>10.114430</td>\n",
       "    </tr>\n",
       "    <tr>\n",
       "      <th>2</th>\n",
       "      <td>7</td>\n",
       "      <td>mon</td>\n",
       "      <td>0</td>\n",
       "      <td>0</td>\n",
       "      <td>o</td>\n",
       "      <td>C</td>\n",
       "      <td>3.186095</td>\n",
       "    </tr>\n",
       "    <tr>\n",
       "      <th>3</th>\n",
       "      <td>7</td>\n",
       "      <td>mon</td>\n",
       "      <td>0</td>\n",
       "      <td>0</td>\n",
       "      <td>o</td>\n",
       "      <td>C</td>\n",
       "      <td>2.549688</td>\n",
       "    </tr>\n",
       "    <tr>\n",
       "      <th>4</th>\n",
       "      <td>7</td>\n",
       "      <td>mon</td>\n",
       "      <td>0</td>\n",
       "      <td>0</td>\n",
       "      <td>o</td>\n",
       "      <td>C</td>\n",
       "      <td>10.080812</td>\n",
       "    </tr>\n",
       "  </tbody>\n",
       "</table>\n",
       "</div>"
      ],
      "text/plain": [
       "   month weekday  hour  minute holiday CALL_TYPE   distance\n",
       "0      7     mon     0       0       o         C   2.395003\n",
       "1      7     mon     0       0       o         C  10.114430\n",
       "2      7     mon     0       0       o         C   3.186095\n",
       "3      7     mon     0       0       o         C   2.549688\n",
       "4      7     mon     0       0       o         C  10.080812"
      ]
     },
     "execution_count": 6,
     "metadata": {},
     "output_type": "execute_result"
    }
   ],
   "source": [
    "train_df.head()"
   ]
  },
  {
   "cell_type": "markdown",
   "metadata": {},
   "source": [
    "### 月・曜日・時間・分・祝日・CALL_TYPE \tで集約"
   ]
  },
  {
   "cell_type": "code",
   "execution_count": 7,
   "metadata": {},
   "outputs": [],
   "source": [
    "train_groped_df = train_df.groupby([\"month\", \"weekday\", \"hour\", \"minute\", \"holiday\", \"CALL_TYPE\"]).count()\n",
    "train_groped_df[\"distance_mean\"] = train_df.groupby([\"month\", \"weekday\", \"hour\", \"minute\", \"holiday\", \"CALL_TYPE\"]).mean()"
   ]
  },
  {
   "cell_type": "code",
   "execution_count": 8,
   "metadata": {},
   "outputs": [
    {
     "data": {
      "text/html": [
       "<div>\n",
       "<style scoped>\n",
       "    .dataframe tbody tr th:only-of-type {\n",
       "        vertical-align: middle;\n",
       "    }\n",
       "\n",
       "    .dataframe tbody tr th {\n",
       "        vertical-align: top;\n",
       "    }\n",
       "\n",
       "    .dataframe thead th {\n",
       "        text-align: right;\n",
       "    }\n",
       "</style>\n",
       "<table border=\"1\" class=\"dataframe\">\n",
       "  <thead>\n",
       "    <tr style=\"text-align: right;\">\n",
       "      <th></th>\n",
       "      <th></th>\n",
       "      <th></th>\n",
       "      <th></th>\n",
       "      <th></th>\n",
       "      <th></th>\n",
       "      <th>distance</th>\n",
       "      <th>distance_mean</th>\n",
       "    </tr>\n",
       "    <tr>\n",
       "      <th>month</th>\n",
       "      <th>weekday</th>\n",
       "      <th>hour</th>\n",
       "      <th>minute</th>\n",
       "      <th>holiday</th>\n",
       "      <th>CALL_TYPE</th>\n",
       "      <th></th>\n",
       "      <th></th>\n",
       "    </tr>\n",
       "  </thead>\n",
       "  <tbody>\n",
       "    <tr>\n",
       "      <th rowspan=\"5\" valign=\"top\">1</th>\n",
       "      <th rowspan=\"5\" valign=\"top\">fri</th>\n",
       "      <th rowspan=\"5\" valign=\"top\">0</th>\n",
       "      <th rowspan=\"3\" valign=\"top\">0</th>\n",
       "      <th rowspan=\"3\" valign=\"top\">o</th>\n",
       "      <th>A</th>\n",
       "      <td>32</td>\n",
       "      <td>7.514191</td>\n",
       "    </tr>\n",
       "    <tr>\n",
       "      <th>B</th>\n",
       "      <td>52</td>\n",
       "      <td>5.109028</td>\n",
       "    </tr>\n",
       "    <tr>\n",
       "      <th>C</th>\n",
       "      <td>34</td>\n",
       "      <td>6.716537</td>\n",
       "    </tr>\n",
       "    <tr>\n",
       "      <th rowspan=\"2\" valign=\"top\">15</th>\n",
       "      <th rowspan=\"2\" valign=\"top\">o</th>\n",
       "      <th>A</th>\n",
       "      <td>20</td>\n",
       "      <td>4.746192</td>\n",
       "    </tr>\n",
       "    <tr>\n",
       "      <th>B</th>\n",
       "      <td>53</td>\n",
       "      <td>5.102043</td>\n",
       "    </tr>\n",
       "  </tbody>\n",
       "</table>\n",
       "</div>"
      ],
      "text/plain": [
       "                                             distance  distance_mean\n",
       "month weekday hour minute holiday CALL_TYPE                         \n",
       "1     fri     0    0      o       A                32       7.514191\n",
       "                                  B                52       5.109028\n",
       "                                  C                34       6.716537\n",
       "                   15     o       A                20       4.746192\n",
       "                                  B                53       5.102043"
      ]
     },
     "execution_count": 8,
     "metadata": {},
     "output_type": "execute_result"
    }
   ],
   "source": [
    "train_groped_df.head()"
   ]
  },
  {
   "cell_type": "code",
   "execution_count": 9,
   "metadata": {},
   "outputs": [
    {
     "name": "stdout",
     "output_type": "stream",
     "text": [
      "118 32\n",
      "7.514191 7.5141906634551425\n"
     ]
    }
   ],
   "source": [
    "print((32 + 52 + 34), df.query(\"month == 1 & weekday == 'fri' & hour == 0 and minute == 0 & CALL_TYPE=='A'\")[\"distance\"].count())\n",
    "print(7.514191, df.query(\"month == 1 & weekday == 'fri' & hour == 0 and minute == 0 & CALL_TYPE=='A'\")[\"distance\"].sum() / 32)"
   ]
  },
  {
   "cell_type": "code",
   "execution_count": 10,
   "metadata": {
    "scrolled": true
   },
   "outputs": [
    {
     "data": {
      "text/html": [
       "<div>\n",
       "<style scoped>\n",
       "    .dataframe tbody tr th:only-of-type {\n",
       "        vertical-align: middle;\n",
       "    }\n",
       "\n",
       "    .dataframe tbody tr th {\n",
       "        vertical-align: top;\n",
       "    }\n",
       "\n",
       "    .dataframe thead th {\n",
       "        text-align: right;\n",
       "    }\n",
       "</style>\n",
       "<table border=\"1\" class=\"dataframe\">\n",
       "  <thead>\n",
       "    <tr style=\"text-align: right;\">\n",
       "      <th></th>\n",
       "      <th></th>\n",
       "      <th></th>\n",
       "      <th></th>\n",
       "      <th></th>\n",
       "      <th></th>\n",
       "      <th>count</th>\n",
       "      <th>distance_mean</th>\n",
       "    </tr>\n",
       "    <tr>\n",
       "      <th>month</th>\n",
       "      <th>weekday</th>\n",
       "      <th>hour</th>\n",
       "      <th>minute</th>\n",
       "      <th>holiday</th>\n",
       "      <th>CALL_TYPE</th>\n",
       "      <th></th>\n",
       "      <th></th>\n",
       "    </tr>\n",
       "  </thead>\n",
       "  <tbody>\n",
       "    <tr>\n",
       "      <th rowspan=\"5\" valign=\"top\">1</th>\n",
       "      <th rowspan=\"5\" valign=\"top\">fri</th>\n",
       "      <th rowspan=\"5\" valign=\"top\">0</th>\n",
       "      <th rowspan=\"3\" valign=\"top\">0</th>\n",
       "      <th rowspan=\"3\" valign=\"top\">o</th>\n",
       "      <th>A</th>\n",
       "      <td>32</td>\n",
       "      <td>7.514191</td>\n",
       "    </tr>\n",
       "    <tr>\n",
       "      <th>B</th>\n",
       "      <td>52</td>\n",
       "      <td>5.109028</td>\n",
       "    </tr>\n",
       "    <tr>\n",
       "      <th>C</th>\n",
       "      <td>34</td>\n",
       "      <td>6.716537</td>\n",
       "    </tr>\n",
       "    <tr>\n",
       "      <th rowspan=\"2\" valign=\"top\">15</th>\n",
       "      <th rowspan=\"2\" valign=\"top\">o</th>\n",
       "      <th>A</th>\n",
       "      <td>20</td>\n",
       "      <td>4.746192</td>\n",
       "    </tr>\n",
       "    <tr>\n",
       "      <th>B</th>\n",
       "      <td>53</td>\n",
       "      <td>5.102043</td>\n",
       "    </tr>\n",
       "  </tbody>\n",
       "</table>\n",
       "</div>"
      ],
      "text/plain": [
       "                                             count  distance_mean\n",
       "month weekday hour minute holiday CALL_TYPE                      \n",
       "1     fri     0    0      o       A             32       7.514191\n",
       "                                  B             52       5.109028\n",
       "                                  C             34       6.716537\n",
       "                   15     o       A             20       4.746192\n",
       "                                  B             53       5.102043"
      ]
     },
     "execution_count": 10,
     "metadata": {},
     "output_type": "execute_result"
    }
   ],
   "source": [
    "# カラム名を変更\n",
    "train_groped_df.rename(columns={\"distance\": \"count\"}, inplace=True)\n",
    "train_groped_df.head()"
   ]
  },
  {
   "cell_type": "code",
   "execution_count": 11,
   "metadata": {},
   "outputs": [],
   "source": [
    "# インデックスをカラムに戻す\n",
    "train_groped_df.reset_index(inplace=True)\n",
    "\n",
    "# 不要な列を削除\n",
    "# train_df.drop([\"level_0\", \"index\"], axis=1, inplace=True)"
   ]
  },
  {
   "cell_type": "code",
   "execution_count": 12,
   "metadata": {},
   "outputs": [
    {
     "data": {
      "text/html": [
       "<div>\n",
       "<style scoped>\n",
       "    .dataframe tbody tr th:only-of-type {\n",
       "        vertical-align: middle;\n",
       "    }\n",
       "\n",
       "    .dataframe tbody tr th {\n",
       "        vertical-align: top;\n",
       "    }\n",
       "\n",
       "    .dataframe thead th {\n",
       "        text-align: right;\n",
       "    }\n",
       "</style>\n",
       "<table border=\"1\" class=\"dataframe\">\n",
       "  <thead>\n",
       "    <tr style=\"text-align: right;\">\n",
       "      <th></th>\n",
       "      <th>month</th>\n",
       "      <th>weekday</th>\n",
       "      <th>hour</th>\n",
       "      <th>minute</th>\n",
       "      <th>holiday</th>\n",
       "      <th>CALL_TYPE</th>\n",
       "      <th>count</th>\n",
       "      <th>distance_mean</th>\n",
       "    </tr>\n",
       "  </thead>\n",
       "  <tbody>\n",
       "    <tr>\n",
       "      <th>0</th>\n",
       "      <td>1</td>\n",
       "      <td>fri</td>\n",
       "      <td>0</td>\n",
       "      <td>0</td>\n",
       "      <td>o</td>\n",
       "      <td>A</td>\n",
       "      <td>32</td>\n",
       "      <td>7.514191</td>\n",
       "    </tr>\n",
       "    <tr>\n",
       "      <th>1</th>\n",
       "      <td>1</td>\n",
       "      <td>fri</td>\n",
       "      <td>0</td>\n",
       "      <td>0</td>\n",
       "      <td>o</td>\n",
       "      <td>B</td>\n",
       "      <td>52</td>\n",
       "      <td>5.109028</td>\n",
       "    </tr>\n",
       "    <tr>\n",
       "      <th>2</th>\n",
       "      <td>1</td>\n",
       "      <td>fri</td>\n",
       "      <td>0</td>\n",
       "      <td>0</td>\n",
       "      <td>o</td>\n",
       "      <td>C</td>\n",
       "      <td>34</td>\n",
       "      <td>6.716537</td>\n",
       "    </tr>\n",
       "    <tr>\n",
       "      <th>3</th>\n",
       "      <td>1</td>\n",
       "      <td>fri</td>\n",
       "      <td>0</td>\n",
       "      <td>15</td>\n",
       "      <td>o</td>\n",
       "      <td>A</td>\n",
       "      <td>20</td>\n",
       "      <td>4.746192</td>\n",
       "    </tr>\n",
       "    <tr>\n",
       "      <th>4</th>\n",
       "      <td>1</td>\n",
       "      <td>fri</td>\n",
       "      <td>0</td>\n",
       "      <td>15</td>\n",
       "      <td>o</td>\n",
       "      <td>B</td>\n",
       "      <td>53</td>\n",
       "      <td>5.102043</td>\n",
       "    </tr>\n",
       "  </tbody>\n",
       "</table>\n",
       "</div>"
      ],
      "text/plain": [
       "   month weekday  hour  minute holiday CALL_TYPE  count  distance_mean\n",
       "0      1     fri     0       0       o         A     32       7.514191\n",
       "1      1     fri     0       0       o         B     52       5.109028\n",
       "2      1     fri     0       0       o         C     34       6.716537\n",
       "3      1     fri     0      15       o         A     20       4.746192\n",
       "4      1     fri     0      15       o         B     53       5.102043"
      ]
     },
     "execution_count": 12,
     "metadata": {},
     "output_type": "execute_result"
    }
   ],
   "source": [
    "train_groped_df.head()"
   ]
  },
  {
   "cell_type": "markdown",
   "metadata": {},
   "source": [
    "### count以外をダミー変数化"
   ]
  },
  {
   "cell_type": "code",
   "execution_count": 13,
   "metadata": {},
   "outputs": [
    {
     "data": {
      "text/html": [
       "<div>\n",
       "<style scoped>\n",
       "    .dataframe tbody tr th:only-of-type {\n",
       "        vertical-align: middle;\n",
       "    }\n",
       "\n",
       "    .dataframe tbody tr th {\n",
       "        vertical-align: top;\n",
       "    }\n",
       "\n",
       "    .dataframe thead th {\n",
       "        text-align: right;\n",
       "    }\n",
       "</style>\n",
       "<table border=\"1\" class=\"dataframe\">\n",
       "  <thead>\n",
       "    <tr style=\"text-align: right;\">\n",
       "      <th></th>\n",
       "      <th>month</th>\n",
       "      <th>hour</th>\n",
       "      <th>minute</th>\n",
       "      <th>weekday_mon</th>\n",
       "      <th>weekday_tue</th>\n",
       "      <th>weekday_wed</th>\n",
       "      <th>weekday_thu</th>\n",
       "      <th>weekday_fri</th>\n",
       "      <th>weekday_sat</th>\n",
       "      <th>weekday_sun</th>\n",
       "      <th>holiday_o</th>\n",
       "      <th>holiday_h</th>\n",
       "      <th>CALL_TYPE_A</th>\n",
       "      <th>CALL_TYPE_B</th>\n",
       "      <th>CALL_TYPE_C</th>\n",
       "      <th>count</th>\n",
       "      <th>distance_mean</th>\n",
       "    </tr>\n",
       "  </thead>\n",
       "  <tbody>\n",
       "    <tr>\n",
       "      <th>0</th>\n",
       "      <td>1</td>\n",
       "      <td>0</td>\n",
       "      <td>0</td>\n",
       "      <td>0</td>\n",
       "      <td>0</td>\n",
       "      <td>0</td>\n",
       "      <td>0</td>\n",
       "      <td>1</td>\n",
       "      <td>0</td>\n",
       "      <td>0</td>\n",
       "      <td>1</td>\n",
       "      <td>0</td>\n",
       "      <td>1</td>\n",
       "      <td>0</td>\n",
       "      <td>0</td>\n",
       "      <td>32</td>\n",
       "      <td>7.514191</td>\n",
       "    </tr>\n",
       "    <tr>\n",
       "      <th>1</th>\n",
       "      <td>1</td>\n",
       "      <td>0</td>\n",
       "      <td>0</td>\n",
       "      <td>0</td>\n",
       "      <td>0</td>\n",
       "      <td>0</td>\n",
       "      <td>0</td>\n",
       "      <td>1</td>\n",
       "      <td>0</td>\n",
       "      <td>0</td>\n",
       "      <td>1</td>\n",
       "      <td>0</td>\n",
       "      <td>0</td>\n",
       "      <td>1</td>\n",
       "      <td>0</td>\n",
       "      <td>52</td>\n",
       "      <td>5.109028</td>\n",
       "    </tr>\n",
       "    <tr>\n",
       "      <th>2</th>\n",
       "      <td>1</td>\n",
       "      <td>0</td>\n",
       "      <td>0</td>\n",
       "      <td>0</td>\n",
       "      <td>0</td>\n",
       "      <td>0</td>\n",
       "      <td>0</td>\n",
       "      <td>1</td>\n",
       "      <td>0</td>\n",
       "      <td>0</td>\n",
       "      <td>1</td>\n",
       "      <td>0</td>\n",
       "      <td>0</td>\n",
       "      <td>0</td>\n",
       "      <td>1</td>\n",
       "      <td>34</td>\n",
       "      <td>6.716537</td>\n",
       "    </tr>\n",
       "    <tr>\n",
       "      <th>3</th>\n",
       "      <td>1</td>\n",
       "      <td>0</td>\n",
       "      <td>15</td>\n",
       "      <td>0</td>\n",
       "      <td>0</td>\n",
       "      <td>0</td>\n",
       "      <td>0</td>\n",
       "      <td>1</td>\n",
       "      <td>0</td>\n",
       "      <td>0</td>\n",
       "      <td>1</td>\n",
       "      <td>0</td>\n",
       "      <td>1</td>\n",
       "      <td>0</td>\n",
       "      <td>0</td>\n",
       "      <td>20</td>\n",
       "      <td>4.746192</td>\n",
       "    </tr>\n",
       "    <tr>\n",
       "      <th>4</th>\n",
       "      <td>1</td>\n",
       "      <td>0</td>\n",
       "      <td>15</td>\n",
       "      <td>0</td>\n",
       "      <td>0</td>\n",
       "      <td>0</td>\n",
       "      <td>0</td>\n",
       "      <td>1</td>\n",
       "      <td>0</td>\n",
       "      <td>0</td>\n",
       "      <td>1</td>\n",
       "      <td>0</td>\n",
       "      <td>0</td>\n",
       "      <td>1</td>\n",
       "      <td>0</td>\n",
       "      <td>53</td>\n",
       "      <td>5.102043</td>\n",
       "    </tr>\n",
       "  </tbody>\n",
       "</table>\n",
       "</div>"
      ],
      "text/plain": [
       "   month  hour  minute  weekday_mon  weekday_tue  weekday_wed  weekday_thu  \\\n",
       "0      1     0       0            0            0            0            0   \n",
       "1      1     0       0            0            0            0            0   \n",
       "2      1     0       0            0            0            0            0   \n",
       "3      1     0      15            0            0            0            0   \n",
       "4      1     0      15            0            0            0            0   \n",
       "\n",
       "   weekday_fri  weekday_sat  weekday_sun  holiday_o  holiday_h  CALL_TYPE_A  \\\n",
       "0            1            0            0          1          0            1   \n",
       "1            1            0            0          1          0            0   \n",
       "2            1            0            0          1          0            0   \n",
       "3            1            0            0          1          0            1   \n",
       "4            1            0            0          1          0            0   \n",
       "\n",
       "   CALL_TYPE_B  CALL_TYPE_C  count  distance_mean  \n",
       "0            0            0     32       7.514191  \n",
       "1            1            0     52       5.109028  \n",
       "2            0            1     34       6.716537  \n",
       "3            0            0     20       4.746192  \n",
       "4            1            0     53       5.102043  "
      ]
     },
     "execution_count": 13,
     "metadata": {},
     "output_type": "execute_result"
    }
   ],
   "source": [
    "train_groped_df = pd.get_dummies(train_groped_df)\n",
    "\n",
    "col_names = [\n",
    "    'month', 'hour', 'minute', 'weekday_mon', 'weekday_tue', 'weekday_wed',\n",
    "    'weekday_thu', 'weekday_fri', 'weekday_sat', 'weekday_sun', 'holiday_o',\n",
    "    'holiday_h', 'CALL_TYPE_A', 'CALL_TYPE_B', 'CALL_TYPE_C', 'count', \"distance_mean\"\n",
    "]\n",
    "\n",
    "# 列の並び替え\n",
    "train_groped_df = train_groped_df.reindex(col_names, axis=1)\n",
    "\n",
    "train_groped_df.head()"
   ]
  },
  {
   "cell_type": "markdown",
   "metadata": {},
   "source": [
    "### AdaBoostで予測"
   ]
  },
  {
   "cell_type": "code",
   "execution_count": 14,
   "metadata": {},
   "outputs": [
    {
     "data": {
      "text/plain": [
       "17"
      ]
     },
     "execution_count": 14,
     "metadata": {},
     "output_type": "execute_result"
    }
   ],
   "source": [
    "train_groped_df.shape[1]"
   ]
  },
  {
   "cell_type": "code",
   "execution_count": 15,
   "metadata": {},
   "outputs": [
    {
     "data": {
      "text/html": [
       "<div>\n",
       "<style scoped>\n",
       "    .dataframe tbody tr th:only-of-type {\n",
       "        vertical-align: middle;\n",
       "    }\n",
       "\n",
       "    .dataframe tbody tr th {\n",
       "        vertical-align: top;\n",
       "    }\n",
       "\n",
       "    .dataframe thead th {\n",
       "        text-align: right;\n",
       "    }\n",
       "</style>\n",
       "<table border=\"1\" class=\"dataframe\">\n",
       "  <thead>\n",
       "    <tr style=\"text-align: right;\">\n",
       "      <th></th>\n",
       "      <th>month</th>\n",
       "      <th>hour</th>\n",
       "      <th>minute</th>\n",
       "      <th>weekday_mon</th>\n",
       "      <th>weekday_tue</th>\n",
       "      <th>weekday_wed</th>\n",
       "      <th>weekday_thu</th>\n",
       "      <th>weekday_fri</th>\n",
       "      <th>weekday_sat</th>\n",
       "      <th>weekday_sun</th>\n",
       "      <th>holiday_o</th>\n",
       "      <th>holiday_h</th>\n",
       "      <th>CALL_TYPE_A</th>\n",
       "      <th>CALL_TYPE_B</th>\n",
       "      <th>CALL_TYPE_C</th>\n",
       "    </tr>\n",
       "  </thead>\n",
       "  <tbody>\n",
       "    <tr>\n",
       "      <th>0</th>\n",
       "      <td>1</td>\n",
       "      <td>0</td>\n",
       "      <td>0</td>\n",
       "      <td>0</td>\n",
       "      <td>0</td>\n",
       "      <td>0</td>\n",
       "      <td>0</td>\n",
       "      <td>1</td>\n",
       "      <td>0</td>\n",
       "      <td>0</td>\n",
       "      <td>1</td>\n",
       "      <td>0</td>\n",
       "      <td>1</td>\n",
       "      <td>0</td>\n",
       "      <td>0</td>\n",
       "    </tr>\n",
       "    <tr>\n",
       "      <th>1</th>\n",
       "      <td>1</td>\n",
       "      <td>0</td>\n",
       "      <td>0</td>\n",
       "      <td>0</td>\n",
       "      <td>0</td>\n",
       "      <td>0</td>\n",
       "      <td>0</td>\n",
       "      <td>1</td>\n",
       "      <td>0</td>\n",
       "      <td>0</td>\n",
       "      <td>1</td>\n",
       "      <td>0</td>\n",
       "      <td>0</td>\n",
       "      <td>1</td>\n",
       "      <td>0</td>\n",
       "    </tr>\n",
       "    <tr>\n",
       "      <th>2</th>\n",
       "      <td>1</td>\n",
       "      <td>0</td>\n",
       "      <td>0</td>\n",
       "      <td>0</td>\n",
       "      <td>0</td>\n",
       "      <td>0</td>\n",
       "      <td>0</td>\n",
       "      <td>1</td>\n",
       "      <td>0</td>\n",
       "      <td>0</td>\n",
       "      <td>1</td>\n",
       "      <td>0</td>\n",
       "      <td>0</td>\n",
       "      <td>0</td>\n",
       "      <td>1</td>\n",
       "    </tr>\n",
       "    <tr>\n",
       "      <th>3</th>\n",
       "      <td>1</td>\n",
       "      <td>0</td>\n",
       "      <td>15</td>\n",
       "      <td>0</td>\n",
       "      <td>0</td>\n",
       "      <td>0</td>\n",
       "      <td>0</td>\n",
       "      <td>1</td>\n",
       "      <td>0</td>\n",
       "      <td>0</td>\n",
       "      <td>1</td>\n",
       "      <td>0</td>\n",
       "      <td>1</td>\n",
       "      <td>0</td>\n",
       "      <td>0</td>\n",
       "    </tr>\n",
       "    <tr>\n",
       "      <th>4</th>\n",
       "      <td>1</td>\n",
       "      <td>0</td>\n",
       "      <td>15</td>\n",
       "      <td>0</td>\n",
       "      <td>0</td>\n",
       "      <td>0</td>\n",
       "      <td>0</td>\n",
       "      <td>1</td>\n",
       "      <td>0</td>\n",
       "      <td>0</td>\n",
       "      <td>1</td>\n",
       "      <td>0</td>\n",
       "      <td>0</td>\n",
       "      <td>1</td>\n",
       "      <td>0</td>\n",
       "    </tr>\n",
       "  </tbody>\n",
       "</table>\n",
       "</div>"
      ],
      "text/plain": [
       "   month  hour  minute  weekday_mon  weekday_tue  weekday_wed  weekday_thu  \\\n",
       "0      1     0       0            0            0            0            0   \n",
       "1      1     0       0            0            0            0            0   \n",
       "2      1     0       0            0            0            0            0   \n",
       "3      1     0      15            0            0            0            0   \n",
       "4      1     0      15            0            0            0            0   \n",
       "\n",
       "   weekday_fri  weekday_sat  weekday_sun  holiday_o  holiday_h  CALL_TYPE_A  \\\n",
       "0            1            0            0          1          0            1   \n",
       "1            1            0            0          1          0            0   \n",
       "2            1            0            0          1          0            0   \n",
       "3            1            0            0          1          0            1   \n",
       "4            1            0            0          1          0            0   \n",
       "\n",
       "   CALL_TYPE_B  CALL_TYPE_C  \n",
       "0            0            0  \n",
       "1            1            0  \n",
       "2            0            1  \n",
       "3            0            0  \n",
       "4            1            0  "
      ]
     },
     "metadata": {},
     "output_type": "display_data"
    },
    {
     "data": {
      "text/html": [
       "<div>\n",
       "<style scoped>\n",
       "    .dataframe tbody tr th:only-of-type {\n",
       "        vertical-align: middle;\n",
       "    }\n",
       "\n",
       "    .dataframe tbody tr th {\n",
       "        vertical-align: top;\n",
       "    }\n",
       "\n",
       "    .dataframe thead th {\n",
       "        text-align: right;\n",
       "    }\n",
       "</style>\n",
       "<table border=\"1\" class=\"dataframe\">\n",
       "  <thead>\n",
       "    <tr style=\"text-align: right;\">\n",
       "      <th></th>\n",
       "      <th>count</th>\n",
       "      <th>distance_mean</th>\n",
       "    </tr>\n",
       "  </thead>\n",
       "  <tbody>\n",
       "    <tr>\n",
       "      <th>0</th>\n",
       "      <td>32</td>\n",
       "      <td>7.514191</td>\n",
       "    </tr>\n",
       "    <tr>\n",
       "      <th>1</th>\n",
       "      <td>52</td>\n",
       "      <td>5.109028</td>\n",
       "    </tr>\n",
       "    <tr>\n",
       "      <th>2</th>\n",
       "      <td>34</td>\n",
       "      <td>6.716537</td>\n",
       "    </tr>\n",
       "    <tr>\n",
       "      <th>3</th>\n",
       "      <td>20</td>\n",
       "      <td>4.746192</td>\n",
       "    </tr>\n",
       "    <tr>\n",
       "      <th>4</th>\n",
       "      <td>53</td>\n",
       "      <td>5.102043</td>\n",
       "    </tr>\n",
       "  </tbody>\n",
       "</table>\n",
       "</div>"
      ],
      "text/plain": [
       "   count  distance_mean\n",
       "0     32       7.514191\n",
       "1     52       5.109028\n",
       "2     34       6.716537\n",
       "3     20       4.746192\n",
       "4     53       5.102043"
      ]
     },
     "metadata": {},
     "output_type": "display_data"
    }
   ],
   "source": [
    "display(train_groped_df.iloc[:, 0:15].head(),\n",
    "        train_groped_df.iloc[:, 15:17].head())"
   ]
  },
  {
   "cell_type": "code",
   "execution_count": 16,
   "metadata": {},
   "outputs": [],
   "source": [
    "from sklearn.model_selection import train_test_split\n",
    "\n",
    "X = np.array(train_groped_df.iloc[:, 0:15])\n",
    "Y = np.array(train_groped_df.iloc[:, 15:17])\n",
    "\n",
    "# クロスバリデーション用にテストデータを分割(学習：75% テスト:25%)\n",
    "X_train, X_test, y_train, y_test = train_test_split(\n",
    "    X, Y, random_state=1234)"
   ]
  },
  {
   "cell_type": "code",
   "execution_count": 17,
   "metadata": {},
   "outputs": [
    {
     "data": {
      "text/plain": [
       "((1674152, 7), (29080, 15), (29080, 2))"
      ]
     },
     "execution_count": 17,
     "metadata": {},
     "output_type": "execute_result"
    }
   ],
   "source": [
    "train_df.shape, X.shape,Y.shape"
   ]
  },
  {
   "cell_type": "code",
   "execution_count": 18,
   "metadata": {},
   "outputs": [],
   "source": [
    "from sklearn.tree import DecisionTreeRegressor\n",
    "from sklearn.ensemble import AdaBoostRegressor\n",
    "\n",
    "from sklearn.model_selection import GridSearchCV\n",
    "from sklearn.metrics import mean_squared_error"
   ]
  },
  {
   "cell_type": "markdown",
   "metadata": {},
   "source": [
    "#### 乗車台数を予測"
   ]
  },
  {
   "cell_type": "code",
   "execution_count": 19,
   "metadata": {},
   "outputs": [
    {
     "data": {
      "text/plain": [
       "DecisionTreeRegressor(criterion='mse', max_depth=None, max_features=None,\n",
       "           max_leaf_nodes=None, min_impurity_decrease=0.0,\n",
       "           min_impurity_split=None, min_samples_leaf=1,\n",
       "           min_samples_split=2, min_weight_fraction_leaf=0.0,\n",
       "           presort=False, random_state=None, splitter='best')"
      ]
     },
     "execution_count": 19,
     "metadata": {},
     "output_type": "execute_result"
    }
   ],
   "source": [
    "DecisionTreeRegressor()"
   ]
  },
  {
   "cell_type": "code",
   "execution_count": 20,
   "metadata": {},
   "outputs": [
    {
     "name": "stdout",
     "output_type": "stream",
     "text": [
      "### AdaBoostRegressor detail: \n",
      "AdaBoostRegressor(base_estimator=DecisionTreeRegressor(criterion='mse', max_depth=15, max_features=None,\n",
      "           max_leaf_nodes=None, min_impurity_decrease=0.0,\n",
      "           min_impurity_split=None, min_samples_leaf=1,\n",
      "           min_samples_split=2, min_weight_fraction_leaf=0.0,\n",
      "           presort=False, random_state=None, splitter='best'),\n",
      "         learning_rate=1.0, loss='linear', n_estimators=50,\n",
      "         random_state=1234)\n",
      "### RMSE: 12.618400705063078\n",
      "### feature_importances_: \n",
      "[0.17315239 0.24606604 0.04410853 0.03053218 0.02174499 0.01881644\n",
      " 0.0130183  0.02635094 0.03953921 0.04400883 0.02515507 0.02277638\n",
      " 0.00778927 0.28032478 0.00661664]\n",
      "### [train] coefficient of determination R^2: 0.98\n",
      "### [test] coefficient of determination R^2: 0.93\n"
     ]
    }
   ],
   "source": [
    "# AdaBoostをインスタンス化\n",
    "ada_count = AdaBoostRegressor(\n",
    "#     base_estimator=DecisionTreeRegressor(), random_state=1234)\n",
    "    base_estimator=DecisionTreeRegressor(max_depth=15), random_state=1234)\n",
    "# ada = AdaBoostRegressor(random_state=1234)\n",
    "\n",
    "# X_train：特徴量のデータ、y_train：教師データ（実車台数）で学習\n",
    "ada_count.fit(X_train, y_train[:, 0])\n",
    "\n",
    "# X_testで予測し、結果を y_pred に格納\n",
    "y_pred = ada_count.predict(X_test)\n",
    "\n",
    "# 予測（y_pred）と答え（y_train2）の誤差を計算\n",
    "ada_mse = mean_squared_error(y_test[:, 0], y_pred)\n",
    "\n",
    "print(\"### AdaBoostRegressor detail: \\n{}\".format(ada_count))\n",
    "\n",
    "print(\"### RMSE: {}\".format(np.sqrt(ada_mse)))\n",
    "print(\"### feature_importances_: \\n{}\".format(ada_count.feature_importances_))\n",
    "\n",
    "print(\"### [train] coefficient of determination R^2: {:.2f}\".format(\n",
    "    ada_count.score(X_train, y_train[:, 0])))\n",
    "print(\"### [test] coefficient of determination R^2: {:.2f}\".format(\n",
    "    ada_count.score(X_test, y_test[:, 0])))"
   ]
  },
  {
   "cell_type": "markdown",
   "metadata": {},
   "source": [
    "#### ハイパーパラメータの調整\n",
    "\n",
    "各項目は、独立なの変数の利用有無は調整しない。\n",
    "DecisionTreeRegressorの木の深さはmax_depth=15が実験で決めたけど、指針はある？"
   ]
  },
  {
   "cell_type": "code",
   "execution_count": 21,
   "metadata": {},
   "outputs": [],
   "source": [
    "from sklearn.model_selection import GridSearchCV\n",
    "params = {\n",
    "    \"n_estimators\": [25, 50, 75, 100],\n",
    "    \"learning_rate\": [0.1, 0.25, 0.5, 0.75, 1.0]\n",
    "}\n",
    "\n",
    "gscv = GridSearchCV(\n",
    "    ada_count, param_grid=params, verbose=1, cv=3, scoring='neg_mean_squared_error')"
   ]
  },
  {
   "cell_type": "code",
   "execution_count": 22,
   "metadata": {},
   "outputs": [
    {
     "name": "stdout",
     "output_type": "stream",
     "text": [
      "Fitting 3 folds for each of 20 candidates, totalling 60 fits\n"
     ]
    },
    {
     "name": "stderr",
     "output_type": "stream",
     "text": [
      "[Parallel(n_jobs=1)]: Using backend SequentialBackend with 1 concurrent workers.\n",
      "[Parallel(n_jobs=1)]: Done  60 out of  60 | elapsed:  2.0min finished\n"
     ]
    },
    {
     "data": {
      "text/plain": [
       "GridSearchCV(cv=3, error_score='raise-deprecating',\n",
       "       estimator=AdaBoostRegressor(base_estimator=DecisionTreeRegressor(criterion='mse', max_depth=15, max_features=None,\n",
       "           max_leaf_nodes=None, min_impurity_decrease=0.0,\n",
       "           min_impurity_split=None, min_samples_leaf=1,\n",
       "           min_samples_split=2, min_weight_fraction_leaf=0.0,\n",
       "           presort=False, random_state=None, splitter='best'),\n",
       "         learning_rate=1.0, loss='linear', n_estimators=50,\n",
       "         random_state=1234),\n",
       "       fit_params=None, iid='warn', n_jobs=None,\n",
       "       param_grid={'n_estimators': [25, 50, 75, 100], 'learning_rate': [0.1, 0.25, 0.5, 0.75, 1.0]},\n",
       "       pre_dispatch='2*n_jobs', refit=True, return_train_score='warn',\n",
       "       scoring='neg_mean_squared_error', verbose=1)"
      ]
     },
     "execution_count": 22,
     "metadata": {},
     "output_type": "execute_result"
    }
   ],
   "source": [
    "# グリッドサーチ実行\n",
    "gscv.fit(X_train, y_train[:,0])"
   ]
  },
  {
   "cell_type": "markdown",
   "metadata": {},
   "source": [
    "n_estimators、learning_rateもデフォルトのままが良い。"
   ]
  },
  {
   "cell_type": "code",
   "execution_count": 23,
   "metadata": {},
   "outputs": [
    {
     "data": {
      "text/plain": [
       "array([[ 1.        ,  0.        ,  0.        ,  0.        ,  0.        ,\n",
       "         0.        ,  0.        ,  1.        ,  0.        ,  0.        ,\n",
       "         1.        ,  0.        ,  1.        ,  0.        ,  0.        ,\n",
       "        32.        ,  7.51419066],\n",
       "       [ 1.        ,  0.        ,  0.        ,  0.        ,  0.        ,\n",
       "         0.        ,  0.        ,  1.        ,  0.        ,  0.        ,\n",
       "         1.        ,  0.        ,  0.        ,  1.        ,  0.        ,\n",
       "        52.        ,  5.10902827]])"
      ]
     },
     "execution_count": 23,
     "metadata": {},
     "output_type": "execute_result"
    }
   ],
   "source": [
    "train_groped_df.head(2).values"
   ]
  },
  {
   "cell_type": "code",
   "execution_count": 24,
   "metadata": {},
   "outputs": [
    {
     "data": {
      "text/plain": [
       "array([21., 52.])"
      ]
     },
     "execution_count": 24,
     "metadata": {},
     "output_type": "execute_result"
    }
   ],
   "source": [
    "# 予測してみる([1月 00:00 金曜、平日、センター],[1月 00:00 金曜、平日、スタンド])\n",
    "ada_count.predict(\n",
    "    np.array([[1, 0, 0, 0, 0, 0, 0, 1, 0, 0, 1, 0, 1, 0, 0],\n",
    "              [1, 0, 0, 0, 0, 0, 0, 1, 0, 0, 1, 0, 0, 1, 0]]))"
   ]
  },
  {
   "cell_type": "code",
   "execution_count": 25,
   "metadata": {},
   "outputs": [
    {
     "data": {
      "text/plain": [
       "(array([ 45.        ,  93.44444444,   8.        , ..., 155.70967742,\n",
       "         93.41666667,  71.5       ]),\n",
       " array([ 42.,  94.,   7., ..., 144.,  73.,  62.]))"
      ]
     },
     "execution_count": 25,
     "metadata": {},
     "output_type": "execute_result"
    }
   ],
   "source": [
    "ada_count.predict(X_test),y_test[:,0]"
   ]
  },
  {
   "cell_type": "markdown",
   "metadata": {},
   "source": [
    "#### 距離を予測"
   ]
  },
  {
   "cell_type": "code",
   "execution_count": 26,
   "metadata": {},
   "outputs": [
    {
     "name": "stdout",
     "output_type": "stream",
     "text": [
      "### AdaBoostRegressor detail: \n",
      "AdaBoostRegressor(base_estimator=DecisionTreeRegressor(criterion='mse', max_depth=10, max_features=None,\n",
      "           max_leaf_nodes=None, min_impurity_decrease=0.0,\n",
      "           min_impurity_split=None, min_samples_leaf=1,\n",
      "           min_samples_split=2, min_weight_fraction_leaf=0.0,\n",
      "           presort=False, random_state=None, splitter='best'),\n",
      "         learning_rate=1.0, loss='linear', n_estimators=50,\n",
      "         random_state=1234)\n",
      "### RMSE: 2.132657833202209\n",
      "### feature_importances_: \n",
      "[0.2263511  0.30830418 0.13420092 0.05006708 0.03451061 0.03149917\n",
      " 0.01613729 0.02937426 0.00737918 0.03575314 0.03075533 0.02789203\n",
      " 0.00304446 0.00276126 0.06196997]\n",
      "### [train] coefficient of determination R^2: 0.67\n",
      "### [test] coefficient of determination R^2: 0.25\n"
     ]
    }
   ],
   "source": [
    "# AdaBoostをインスタンス化\n",
    "ada_distance = AdaBoostRegressor(\n",
    "#     base_estimator=DecisionTreeRegressor(), random_state=1234)\n",
    "    base_estimator=DecisionTreeRegressor(max_depth=10), random_state=1234)\n",
    "# ada = AdaBoostRegressor(random_state=1234)\n",
    "\n",
    "# X_train：特徴量のデータ、y_train：教師データ（実車台数）で学習\n",
    "ada_distance.fit(X_train, y_train[:, 1])\n",
    "\n",
    "# X_testで予測し、結果を y_pred に格納\n",
    "y_pred = ada_distance.predict(X_test)\n",
    "\n",
    "# 予測（y_pred）と答え（y_train2）の誤差を計算\n",
    "ada_mse = mean_squared_error(y_test[:, 1], y_pred)\n",
    "\n",
    "print(\"### AdaBoostRegressor detail: \\n{}\".format(ada_distance))\n",
    "\n",
    "print(\"### RMSE: {}\".format(np.sqrt(ada_mse)))\n",
    "print(\"### feature_importances_: \\n{}\".format(ada_distance.feature_importances_))\n",
    "\n",
    "print(\"### [train] coefficient of determination R^2: {:.2f}\".format(\n",
    "    ada_distance.score(X_train, y_train[:, 1])))\n",
    "print(\"### [test] coefficient of determination R^2: {:.2f}\".format(\n",
    "    ada_distance.score(X_test, y_test[:, 1])))"
   ]
  },
  {
   "cell_type": "markdown",
   "metadata": {},
   "source": [
    "__TODO:距離の精度を上げる。__"
   ]
  },
  {
   "cell_type": "markdown",
   "metadata": {},
   "source": [
    "## 流しのみ区画に分ける"
   ]
  },
  {
   "cell_type": "code",
   "execution_count": 27,
   "metadata": {},
   "outputs": [],
   "source": [
    "df_call_type_c = df[df[\"CALL_TYPE\"] == \"C\"]"
   ]
  },
  {
   "cell_type": "code",
   "execution_count": 28,
   "metadata": {},
   "outputs": [
    {
     "data": {
      "image/png": "[encoded data removed]",
      "text/plain": [
       "<matplotlib.figure.Figure at 0x1a15a736a0>"
      ]
     },
     "metadata": {},
     "output_type": "display_data"
    }
   ],
   "source": [
    "plt.scatter(df_call_type_c[\"end_x\"], df_call_type_c[\"end_y\"], color ='r')\n",
    "plt.scatter(df_call_type_c[\"start_x\"], df_call_type_c[\"start_y\"])\n",
    "plt.title(\"Start - End Point\")\n",
    "plt.xlabel(\"long\")\n",
    "plt.ylabel(\"lat\")\n",
    "plt.xlim(-9.45, -6.65)\n",
    "plt.ylim(37.15, 42.0)\n",
    "plt.grid()"
   ]
  },
  {
   "cell_type": "code",
   "execution_count": 29,
   "metadata": {},
   "outputs": [
    {
     "data": {
      "text/html": [
       "<div>\n",
       "<style scoped>\n",
       "    .dataframe tbody tr th:only-of-type {\n",
       "        vertical-align: middle;\n",
       "    }\n",
       "\n",
       "    .dataframe tbody tr th {\n",
       "        vertical-align: top;\n",
       "    }\n",
       "\n",
       "    .dataframe thead th {\n",
       "        text-align: right;\n",
       "    }\n",
       "</style>\n",
       "<table border=\"1\" class=\"dataframe\">\n",
       "  <thead>\n",
       "    <tr style=\"text-align: right;\">\n",
       "      <th></th>\n",
       "      <th>riding_time</th>\n",
       "      <th>distance</th>\n",
       "      <th>start_x</th>\n",
       "      <th>start_y</th>\n",
       "      <th>end_x</th>\n",
       "      <th>end_y</th>\n",
       "    </tr>\n",
       "  </thead>\n",
       "  <tbody>\n",
       "    <tr>\n",
       "      <th>count</th>\n",
       "      <td>502547.000000</td>\n",
       "      <td>502547.000000</td>\n",
       "      <td>502547.000000</td>\n",
       "      <td>502547.000000</td>\n",
       "      <td>502547.000000</td>\n",
       "      <td>502547.000000</td>\n",
       "    </tr>\n",
       "    <tr>\n",
       "      <th>mean</th>\n",
       "      <td>826.510724</td>\n",
       "      <td>7.716674</td>\n",
       "      <td>-8.618668</td>\n",
       "      <td>41.156637</td>\n",
       "      <td>-8.620709</td>\n",
       "      <td>41.163464</td>\n",
       "    </tr>\n",
       "    <tr>\n",
       "      <th>std</th>\n",
       "      <td>993.778382</td>\n",
       "      <td>12.595755</td>\n",
       "      <td>0.033315</td>\n",
       "      <td>0.032558</td>\n",
       "      <td>0.045607</td>\n",
       "      <td>0.048331</td>\n",
       "    </tr>\n",
       "    <tr>\n",
       "      <th>min</th>\n",
       "      <td>30.000000</td>\n",
       "      <td>0.000000</td>\n",
       "      <td>-11.820645</td>\n",
       "      <td>37.184832</td>\n",
       "      <td>-9.729117</td>\n",
       "      <td>37.313784</td>\n",
       "    </tr>\n",
       "    <tr>\n",
       "      <th>25%</th>\n",
       "      <td>420.000000</td>\n",
       "      <td>2.890794</td>\n",
       "      <td>-8.629722</td>\n",
       "      <td>41.147163</td>\n",
       "      <td>-8.644891</td>\n",
       "      <td>41.148819</td>\n",
       "    </tr>\n",
       "    <tr>\n",
       "      <th>50%</th>\n",
       "      <td>630.000000</td>\n",
       "      <td>5.113712</td>\n",
       "      <td>-8.613396</td>\n",
       "      <td>41.152491</td>\n",
       "      <td>-8.615808</td>\n",
       "      <td>41.158728</td>\n",
       "    </tr>\n",
       "    <tr>\n",
       "      <th>75%</th>\n",
       "      <td>945.000000</td>\n",
       "      <td>9.163816</td>\n",
       "      <td>-8.606146</td>\n",
       "      <td>41.163093</td>\n",
       "      <td>-8.602839</td>\n",
       "      <td>41.173092</td>\n",
       "    </tr>\n",
       "    <tr>\n",
       "      <th>max</th>\n",
       "      <td>58215.000000</td>\n",
       "      <td>1335.144743</td>\n",
       "      <td>-4.816116</td>\n",
       "      <td>51.037119</td>\n",
       "      <td>-6.263919</td>\n",
       "      <td>44.351622</td>\n",
       "    </tr>\n",
       "  </tbody>\n",
       "</table>\n",
       "</div>"
      ],
      "text/plain": [
       "         riding_time       distance        start_x        start_y  \\\n",
       "count  502547.000000  502547.000000  502547.000000  502547.000000   \n",
       "mean      826.510724       7.716674      -8.618668      41.156637   \n",
       "std       993.778382      12.595755       0.033315       0.032558   \n",
       "min        30.000000       0.000000     -11.820645      37.184832   \n",
       "25%       420.000000       2.890794      -8.629722      41.147163   \n",
       "50%       630.000000       5.113712      -8.613396      41.152491   \n",
       "75%       945.000000       9.163816      -8.606146      41.163093   \n",
       "max     58215.000000    1335.144743      -4.816116      51.037119   \n",
       "\n",
       "               end_x          end_y  \n",
       "count  502547.000000  502547.000000  \n",
       "mean       -8.620709      41.163464  \n",
       "std         0.045607       0.048331  \n",
       "min        -9.729117      37.313784  \n",
       "25%        -8.644891      41.148819  \n",
       "50%        -8.615808      41.158728  \n",
       "75%        -8.602839      41.173092  \n",
       "max        -6.263919      44.351622  "
      ]
     },
     "execution_count": 29,
     "metadata": {},
     "output_type": "execute_result"
    }
   ],
   "source": [
    "df_call_type_c.describe()[[\"riding_time\", \"distance\", \"start_x\", \"start_y\", \"end_x\", \"end_y\"]]"
   ]
  },
  {
   "cell_type": "markdown",
   "metadata": {},
   "source": [
    "long = -9度 ～ -7度は距離的に222km位なので、\n",
    "start_xとstart_yの平均を中心（-8.6291,  41.1579)を中心に20km(= 40km,40km)に範囲を絞ってみる。  \n",
    "\n",
    "0.01度=1.11kmなので、0.2度=22.2km\n",
    "-8.6291 ±　0.2\n",
    "41.1579 ±　0.2\n",
    "\n",
    "のデータに絞る。"
   ]
  },
  {
   "cell_type": "code",
   "execution_count": 30,
   "metadata": {},
   "outputs": [
    {
     "data": {
      "text/plain": [
       "(-8.4291, -8.829099999999999, 41.3579, 40.957899999999995)"
      ]
     },
     "execution_count": 30,
     "metadata": {},
     "output_type": "execute_result"
    }
   ],
   "source": [
    "-8.6291 + 0.20, -8.6291 - 0.20, 41.1579 + 0.20, 41.1579 - 0.20"
   ]
  },
  {
   "cell_type": "code",
   "execution_count": 31,
   "metadata": {},
   "outputs": [
    {
     "data": {
      "text/plain": [
       "((501762, 16), (502547, 16), 0.9984379570468036)"
      ]
     },
     "execution_count": 31,
     "metadata": {},
     "output_type": "execute_result"
    }
   ],
   "source": [
    "df_call_type_c_limited = df_call_type_c.query(\n",
    "    \"-8.829099999999999 <= start_x <= -8.4291 and 40.957899999999995 <= start_y <= 41.3579\"\n",
    ")\n",
    "\n",
    "df_call_type_c_limited.shape, df_call_type_c.shape, df_call_type_c_limited.shape[\n",
    "    0] / df_call_type_c.shape[0]"
   ]
  },
  {
   "cell_type": "markdown",
   "metadata": {},
   "source": [
    "99.8%が　(40,40)圏内にいる。"
   ]
  },
  {
   "cell_type": "code",
   "execution_count": 32,
   "metadata": {},
   "outputs": [
    {
     "data": {
      "text/plain": [
       "(44.39999999999984, 44.40000000000063)"
      ]
     },
     "execution_count": 32,
     "metadata": {},
     "output_type": "execute_result"
    }
   ],
   "source": [
    "(-8.4291 - (-8.829099999999999)) * 111, (41.3579 - 40.957899999999995) * 111"
   ]
  },
  {
   "cell_type": "markdown",
   "metadata": {},
   "source": [
    "### 緯度、経度を10等分する"
   ]
  },
  {
   "cell_type": "markdown",
   "metadata": {},
   "source": [
    "#### 境界値の算出"
   ]
  },
  {
   "cell_type": "code",
   "execution_count": 33,
   "metadata": {},
   "outputs": [
    {
     "data": {
      "text/plain": [
       "(array([-8.8295, -8.7891, -8.7491, -8.7091, -8.6691, -8.6291, -8.5891,\n",
       "        -8.5491, -8.5091, -8.4691, -8.4291]),\n",
       " array([40.9575, 40.9979, 41.0379, 41.0779, 41.1179, 41.1579, 41.1979,\n",
       "        41.2379, 41.2779, 41.3179, 41.3579]))"
      ]
     },
     "execution_count": 33,
     "metadata": {},
     "output_type": "execute_result"
    }
   ],
   "source": [
    "long_cut, long_bins = pd.cut(pd.Series([-8.829099999999999, -8.4291]), 10, retbins=True)\n",
    "\n",
    "lat_cut, lat_bins = pd.cut(pd.Series([40.957899999999995, 41.3579]), 10, retbins=True)\n",
    "\n",
    "long_bins, lat_bins"
   ]
  },
  {
   "cell_type": "markdown",
   "metadata": {},
   "source": [
    "#### 分割位置列を追加"
   ]
  },
  {
   "cell_type": "code",
   "execution_count": 34,
   "metadata": {},
   "outputs": [],
   "source": [
    "def split_area(row):\n",
    "\n",
    "    long_bins = [\n",
    "        -8.7891, -8.7491, -8.7091, -8.6691, -8.6291, -8.5891, -8.5491, -8.5091,\n",
    "        -8.4691, -8.4291\n",
    "    ]\n",
    "\n",
    "    lat_bins = [\n",
    "        40.9979, 41.0379, 41.0779, 41.1179, 41.1579, 41.1979, 41.2379, 41.2779,\n",
    "        41.3179, 41.3579\n",
    "    ]\n",
    "\n",
    "    area = [\n",
    "        [\"area_00\", \"area_01\", \"area_02\", \"area_03\", \"area_04\", \"area_05\", \"area_06\", \"area_07\", \"area_08\", \"area_09\" ]\n",
    "        ,[\"area_10\", \"area_11\", \"area_12\", \"area_13\", \"area_14\", \"area_15\", \"area_16\", \"area_17\", \"area_18\", \"area_19\" ]\n",
    "        ,[\"area_20\", \"area_21\", \"area_22\", \"area_23\", \"area_24\", \"area_25\", \"area_26\", \"area_27\", \"area_28\", \"area_29\" ]\n",
    "        ,[\"area_30\", \"area_31\", \"area_32\", \"area_33\", \"area_34\", \"area_35\", \"area_36\", \"area_37\", \"area_38\", \"area_39\" ]\n",
    "        ,[\"area_40\", \"area_41\", \"area_42\", \"area_43\", \"area_54\", \"area_45\", \"area_46\", \"area_47\", \"area_48\", \"area_49\" ]\n",
    "        ,[\"area_50\", \"area_51\", \"area_52\", \"area_53\", \"area_54\", \"area_55\", \"area_56\", \"area_57\", \"area_58\", \"area_59\" ]\n",
    "        ,[\"area_60\", \"area_61\", \"area_62\", \"area_63\", \"area_64\", \"area_65\", \"area_66\", \"area_67\", \"area_68\", \"area_69\" ]\n",
    "        ,[\"area_70\", \"area_71\", \"area_72\", \"area_73\", \"area_74\", \"area_75\", \"area_76\", \"area_77\", \"area_78\", \"area_79\" ]\n",
    "        ,[\"area_80\", \"area_81\", \"area_82\", \"area_83\", \"area_84\", \"area_85\", \"area_86\", \"area_87\", \"area_88\", \"area_89\" ]\n",
    "        ,[\"area_90\", \"area_91\", \"area_92\", \"area_93\", \"area_94\", \"area_95\", \"area_96\", \"area_97\", \"area_98\", \"area_99\" ]\n",
    "    ]\n",
    "\n",
    "    _start_long = row[\"start_x\"]\n",
    "    _start_lat = row[\"start_y\"]\n",
    "\n",
    "    for i, x in enumerate(long_bins):\n",
    "\n",
    "        if _start_long < x:\n",
    "            for j, y in enumerate(lat_bins):\n",
    "                if _start_lat < y:\n",
    "                    return area[i][j]\n",
    "\n",
    "    return \"area_err\"\n",
    "\n",
    "\n",
    "df_call_type_c_limited[\"area\"] = df_call_type_c_limited.apply(split_area, axis=1)"
   ]
  },
  {
   "cell_type": "code",
   "execution_count": 35,
   "metadata": {},
   "outputs": [
    {
     "data": {
      "text/plain": [
       "Index(['TIMESTAMP', 'year', 'month', 'day', 'weekday', 'hour', 'minute',\n",
       "       'holiday', 'riding_time', 'distance', 'start_x', 'start_y', 'end_x',\n",
       "       'end_y', 'CALL_TYPE', 'TAXI_ID', 'area'],\n",
       "      dtype='object')"
      ]
     },
     "execution_count": 35,
     "metadata": {},
     "output_type": "execute_result"
    }
   ],
   "source": [
    "df_call_type_c_limited.columns"
   ]
  },
  {
   "cell_type": "code",
   "execution_count": 36,
   "metadata": {},
   "outputs": [
    {
     "data": {
      "text/html": [
       "<div>\n",
       "<style scoped>\n",
       "    .dataframe tbody tr th:only-of-type {\n",
       "        vertical-align: middle;\n",
       "    }\n",
       "\n",
       "    .dataframe tbody tr th {\n",
       "        vertical-align: top;\n",
       "    }\n",
       "\n",
       "    .dataframe thead th {\n",
       "        text-align: right;\n",
       "    }\n",
       "</style>\n",
       "<table border=\"1\" class=\"dataframe\">\n",
       "  <thead>\n",
       "    <tr style=\"text-align: right;\">\n",
       "      <th></th>\n",
       "      <th>month</th>\n",
       "      <th>weekday</th>\n",
       "      <th>hour</th>\n",
       "      <th>minute</th>\n",
       "      <th>holiday</th>\n",
       "      <th>start_x</th>\n",
       "      <th>start_y</th>\n",
       "      <th>end_x</th>\n",
       "      <th>end_y</th>\n",
       "      <th>riding_time</th>\n",
       "      <th>distance</th>\n",
       "      <th>area</th>\n",
       "    </tr>\n",
       "  </thead>\n",
       "  <tbody>\n",
       "    <tr>\n",
       "      <th>0</th>\n",
       "      <td>7</td>\n",
       "      <td>mon</td>\n",
       "      <td>0</td>\n",
       "      <td>0</td>\n",
       "      <td>o</td>\n",
       "      <td>-8.610291</td>\n",
       "      <td>41.140746</td>\n",
       "      <td>-8.605890</td>\n",
       "      <td>41.145345</td>\n",
       "      <td>375</td>\n",
       "      <td>2.395003</td>\n",
       "      <td>area_54</td>\n",
       "    </tr>\n",
       "    <tr>\n",
       "      <th>1</th>\n",
       "      <td>7</td>\n",
       "      <td>mon</td>\n",
       "      <td>0</td>\n",
       "      <td>0</td>\n",
       "      <td>o</td>\n",
       "      <td>-8.574678</td>\n",
       "      <td>41.151951</td>\n",
       "      <td>-8.607996</td>\n",
       "      <td>41.142915</td>\n",
       "      <td>645</td>\n",
       "      <td>10.114430</td>\n",
       "      <td>area_64</td>\n",
       "    </tr>\n",
       "    <tr>\n",
       "      <th>2</th>\n",
       "      <td>7</td>\n",
       "      <td>mon</td>\n",
       "      <td>0</td>\n",
       "      <td>0</td>\n",
       "      <td>o</td>\n",
       "      <td>-8.618643</td>\n",
       "      <td>41.141412</td>\n",
       "      <td>-8.630838</td>\n",
       "      <td>41.154489</td>\n",
       "      <td>345</td>\n",
       "      <td>3.186095</td>\n",
       "      <td>area_54</td>\n",
       "    </tr>\n",
       "    <tr>\n",
       "      <th>3</th>\n",
       "      <td>7</td>\n",
       "      <td>mon</td>\n",
       "      <td>0</td>\n",
       "      <td>0</td>\n",
       "      <td>o</td>\n",
       "      <td>-8.619894</td>\n",
       "      <td>41.148009</td>\n",
       "      <td>-8.609490</td>\n",
       "      <td>41.157351</td>\n",
       "      <td>330</td>\n",
       "      <td>2.549688</td>\n",
       "      <td>area_54</td>\n",
       "    </tr>\n",
       "    <tr>\n",
       "      <th>4</th>\n",
       "      <td>7</td>\n",
       "      <td>mon</td>\n",
       "      <td>0</td>\n",
       "      <td>0</td>\n",
       "      <td>o</td>\n",
       "      <td>-8.617599</td>\n",
       "      <td>41.146137</td>\n",
       "      <td>-8.636625</td>\n",
       "      <td>41.169141</td>\n",
       "      <td>645</td>\n",
       "      <td>10.080812</td>\n",
       "      <td>area_54</td>\n",
       "    </tr>\n",
       "  </tbody>\n",
       "</table>\n",
       "</div>"
      ],
      "text/plain": [
       "   month weekday  hour  minute holiday   start_x    start_y     end_x  \\\n",
       "0      7     mon     0       0       o -8.610291  41.140746 -8.605890   \n",
       "1      7     mon     0       0       o -8.574678  41.151951 -8.607996   \n",
       "2      7     mon     0       0       o -8.618643  41.141412 -8.630838   \n",
       "3      7     mon     0       0       o -8.619894  41.148009 -8.609490   \n",
       "4      7     mon     0       0       o -8.617599  41.146137 -8.636625   \n",
       "\n",
       "       end_y  riding_time   distance     area  \n",
       "0  41.145345          375   2.395003  area_54  \n",
       "1  41.142915          645  10.114430  area_64  \n",
       "2  41.154489          345   3.186095  area_54  \n",
       "3  41.157351          330   2.549688  area_54  \n",
       "4  41.169141          645  10.080812  area_54  "
      ]
     },
     "execution_count": 36,
     "metadata": {},
     "output_type": "execute_result"
    }
   ],
   "source": [
    "# 要らない列を削除\n",
    "df_call_type_c_limited.drop(\n",
    "    [\"TIMESTAMP\", \"year\", \"day\", \"CALL_TYPE\", \"TAXI_ID\"], axis=1, inplace=True)\n",
    "\n",
    "col_names = [\n",
    "    \"month\", \"weekday\", \"hour\", \"minute\", \"holiday\", \"start_x\", \"start_y\",\n",
    "    \"end_x\", \"end_y\", \"riding_time\", \"distance\", \"area\"\n",
    "]\n",
    "\n",
    "# 列の並び替え\n",
    "df_call_type_c_limited = df_call_type_c_limited.reindex(col_names, axis=1)\n",
    "\n",
    "df_call_type_c_limited.head()"
   ]
  },
  {
   "cell_type": "markdown",
   "metadata": {},
   "source": [
    "area_54 = [(-8.5891, -8.5491), (41.1579, 41.1979]  "
   ]
  },
  {
   "cell_type": "code",
   "execution_count": 37,
   "metadata": {
    "scrolled": false
   },
   "outputs": [
    {
     "data": {
      "text/plain": [
       "area_54    0.578768\n",
       "area_55    0.147474\n",
       "area_45    0.104001\n",
       "area_65    0.048332\n",
       "area_35    0.038235\n",
       "Name: area, dtype: float64"
      ]
     },
     "execution_count": 37,
     "metadata": {},
     "output_type": "execute_result"
    },
    {
     "data": {
      "image/png": "[encoded data removed]",
      "text/plain": [
       "<matplotlib.figure.Figure at 0x1a104da240>"
      ]
     },
     "metadata": {},
     "output_type": "display_data"
    }
   ],
   "source": [
    "prop = (df_call_type_c_limited[\"area\"].value_counts() / df_call_type_c_limited.shape[0])\n",
    "\n",
    "sns.countplot(x=\"area\", order=prop.index, data=df_call_type_c_limited)\n",
    "\n",
    "# 割合\n",
    "prop.head()"
   ]
  },
  {
   "cell_type": "code",
   "execution_count": 38,
   "metadata": {},
   "outputs": [
    {
     "data": {
      "text/plain": [
       "0.91681"
      ]
     },
     "execution_count": 38,
     "metadata": {},
     "output_type": "execute_result"
    }
   ],
   "source": [
    "# 上位５エリアで91%\n",
    "0.578768 + 0.147474 + 0.104001 + 0.048332 + 0.038235"
   ]
  },
  {
   "cell_type": "markdown",
   "metadata": {},
   "source": [
    "時間毎に集計すれば乗車実績ベースの確率はでるが、データ編集しただけでつまらない・・・    \n",
    "TODO:ヒートマップみたいにエリア毎に、確立を図示するには？"
   ]
  },
  {
   "cell_type": "markdown",
   "metadata": {},
   "source": [
    "### 降車方向を追加"
   ]
  },
  {
   "cell_type": "markdown",
   "metadata": {},
   "source": [
    "緯度に対する角度で分割  \n",
    "\n",
    "\n",
    "    "
   ]
  },
  {
   "cell_type": "code",
   "execution_count": 39,
   "metadata": {},
   "outputs": [
    {
     "name": "stdout",
     "output_type": "stream",
     "text": [
      "### E:337.5 - 22.5度\n",
      "### NE:22.5 - 67.5度\n",
      "### N:67.5 - 112.5度\n",
      "### NW:112.5 - 157.5度\n",
      "### W:157.5 - 202.5度\n",
      "### SW:202.5 - 247.5度\n",
      "### S:247.5 - 292.5度\n",
      "### SE:292.5 - 337.5度\n"
     ]
    }
   ],
   "source": [
    "print(\"### E:{} - {}度\".format(360 - 22.5, -22.5 + 45))\n",
    "print(\"### NE:{} - {}度\".format(22.5, 22.5 + 45))\n",
    "print(\"### N:{} - {}度\".format(67.5, 67.5 + 45))\n",
    "print(\"### NW:{} - {}度\".format(112.5, 112.5 + 45))\n",
    "print(\"### W:{} - {}度\".format(157.5, 157.5 + 45))\n",
    "print(\"### SW:{} - {}度\".format(202.5, 202.5 + 45))\n",
    "print(\"### S:{} - {}度\".format(247.5, 247.5 + 45))\n",
    "print(\"### SE:{} - {}度\".format(292.5, 292.5 + 45))"
   ]
  },
  {
   "cell_type": "code",
   "execution_count": 40,
   "metadata": {},
   "outputs": [],
   "source": [
    "def get_direction(row):\n",
    "\n",
    "    _start_x = row[\"start_x\"]\n",
    "    _start_y = row[\"start_y\"]\n",
    "\n",
    "    _end_x = row[\"end_x\"]\n",
    "    _end_y = row[\"end_y\"]\n",
    "\n",
    "    # 原点を start_x、start_y に移動\n",
    "    _v1 = np.array([1.0, 0.0])\n",
    "    _v2 = np.array([_end_x - _start_x, _end_y - _start_y])\n",
    "\n",
    "    # コサインを算出\n",
    "    _cosine = np.dot(_v1, _v2) / np.linalg.norm(_v2)\n",
    "\n",
    "    # 角度をラジアンから度に変換\n",
    "    _degree = np.rad2deg(np.arccos(_cosine))\n",
    "\n",
    "    if _degree > 337.5 or _degree <= 22.5:\n",
    "        return \"E\"\n",
    "    elif _degree > 22.5 or _degree <= 67.5:\n",
    "        return \"NE\"\n",
    "    elif _degree > 67.5 or _degree <= 112.5:\n",
    "        return \"N\"\n",
    "    elif _degree > 112.5 or _degree <= 157.5:\n",
    "        return \"NW\"\n",
    "    elif _degree > 157.5 or _degree <= 202.5:\n",
    "        return \"W\"\n",
    "    elif _degree > 202.5 or _degree <= 247.5:\n",
    "        return \"SW\"\n",
    "    elif _degree > 247.5 or _degree <= 292.5:\n",
    "        return \"S\"\n",
    "    elif _degree > 292.5 or _degree <= 337.5:\n",
    "        return \"SE\"\n",
    "\n",
    "    return \"EQ\"\n",
    "\n",
    "\n",
    "df_call_type_c_limited[\"direction\"] = df_call_type_c_limited.apply(get_direction, axis=1)"
   ]
  },
  {
   "cell_type": "code",
   "execution_count": 41,
   "metadata": {},
   "outputs": [
    {
     "data": {
      "text/html": [
       "<div>\n",
       "<style scoped>\n",
       "    .dataframe tbody tr th:only-of-type {\n",
       "        vertical-align: middle;\n",
       "    }\n",
       "\n",
       "    .dataframe tbody tr th {\n",
       "        vertical-align: top;\n",
       "    }\n",
       "\n",
       "    .dataframe thead th {\n",
       "        text-align: right;\n",
       "    }\n",
       "</style>\n",
       "<table border=\"1\" class=\"dataframe\">\n",
       "  <thead>\n",
       "    <tr style=\"text-align: right;\">\n",
       "      <th></th>\n",
       "      <th>month</th>\n",
       "      <th>weekday</th>\n",
       "      <th>hour</th>\n",
       "      <th>minute</th>\n",
       "      <th>holiday</th>\n",
       "      <th>start_x</th>\n",
       "      <th>start_y</th>\n",
       "      <th>end_x</th>\n",
       "      <th>end_y</th>\n",
       "      <th>riding_time</th>\n",
       "      <th>distance</th>\n",
       "      <th>area</th>\n",
       "      <th>direction</th>\n",
       "    </tr>\n",
       "  </thead>\n",
       "  <tbody>\n",
       "    <tr>\n",
       "      <th>0</th>\n",
       "      <td>7</td>\n",
       "      <td>mon</td>\n",
       "      <td>0</td>\n",
       "      <td>0</td>\n",
       "      <td>o</td>\n",
       "      <td>-8.610291</td>\n",
       "      <td>41.140746</td>\n",
       "      <td>-8.605890</td>\n",
       "      <td>41.145345</td>\n",
       "      <td>375</td>\n",
       "      <td>2.395003</td>\n",
       "      <td>area_54</td>\n",
       "      <td>NE</td>\n",
       "    </tr>\n",
       "    <tr>\n",
       "      <th>1</th>\n",
       "      <td>7</td>\n",
       "      <td>mon</td>\n",
       "      <td>0</td>\n",
       "      <td>0</td>\n",
       "      <td>o</td>\n",
       "      <td>-8.574678</td>\n",
       "      <td>41.151951</td>\n",
       "      <td>-8.607996</td>\n",
       "      <td>41.142915</td>\n",
       "      <td>645</td>\n",
       "      <td>10.114430</td>\n",
       "      <td>area_64</td>\n",
       "      <td>NE</td>\n",
       "    </tr>\n",
       "    <tr>\n",
       "      <th>2</th>\n",
       "      <td>7</td>\n",
       "      <td>mon</td>\n",
       "      <td>0</td>\n",
       "      <td>0</td>\n",
       "      <td>o</td>\n",
       "      <td>-8.618643</td>\n",
       "      <td>41.141412</td>\n",
       "      <td>-8.630838</td>\n",
       "      <td>41.154489</td>\n",
       "      <td>345</td>\n",
       "      <td>3.186095</td>\n",
       "      <td>area_54</td>\n",
       "      <td>NE</td>\n",
       "    </tr>\n",
       "    <tr>\n",
       "      <th>3</th>\n",
       "      <td>7</td>\n",
       "      <td>mon</td>\n",
       "      <td>0</td>\n",
       "      <td>0</td>\n",
       "      <td>o</td>\n",
       "      <td>-8.619894</td>\n",
       "      <td>41.148009</td>\n",
       "      <td>-8.609490</td>\n",
       "      <td>41.157351</td>\n",
       "      <td>330</td>\n",
       "      <td>2.549688</td>\n",
       "      <td>area_54</td>\n",
       "      <td>NE</td>\n",
       "    </tr>\n",
       "    <tr>\n",
       "      <th>4</th>\n",
       "      <td>7</td>\n",
       "      <td>mon</td>\n",
       "      <td>0</td>\n",
       "      <td>0</td>\n",
       "      <td>o</td>\n",
       "      <td>-8.617599</td>\n",
       "      <td>41.146137</td>\n",
       "      <td>-8.636625</td>\n",
       "      <td>41.169141</td>\n",
       "      <td>645</td>\n",
       "      <td>10.080812</td>\n",
       "      <td>area_54</td>\n",
       "      <td>NE</td>\n",
       "    </tr>\n",
       "  </tbody>\n",
       "</table>\n",
       "</div>"
      ],
      "text/plain": [
       "   month weekday  hour  minute holiday   start_x    start_y     end_x  \\\n",
       "0      7     mon     0       0       o -8.610291  41.140746 -8.605890   \n",
       "1      7     mon     0       0       o -8.574678  41.151951 -8.607996   \n",
       "2      7     mon     0       0       o -8.618643  41.141412 -8.630838   \n",
       "3      7     mon     0       0       o -8.619894  41.148009 -8.609490   \n",
       "4      7     mon     0       0       o -8.617599  41.146137 -8.636625   \n",
       "\n",
       "       end_y  riding_time   distance     area direction  \n",
       "0  41.145345          375   2.395003  area_54        NE  \n",
       "1  41.142915          645  10.114430  area_64        NE  \n",
       "2  41.154489          345   3.186095  area_54        NE  \n",
       "3  41.157351          330   2.549688  area_54        NE  \n",
       "4  41.169141          645  10.080812  area_54        NE  "
      ]
     },
     "execution_count": 41,
     "metadata": {},
     "output_type": "execute_result"
    }
   ],
   "source": [
    "df_call_type_c_limited.head()"
   ]
  },
  {
   "cell_type": "code",
   "execution_count": 42,
   "metadata": {
    "scrolled": true
   },
   "outputs": [
    {
     "name": "stdout",
     "output_type": "stream",
     "text": [
      "71 290404\n"
     ]
    },
    {
     "data": {
      "text/html": [
       "<div>\n",
       "<style scoped>\n",
       "    .dataframe tbody tr th:only-of-type {\n",
       "        vertical-align: middle;\n",
       "    }\n",
       "\n",
       "    .dataframe tbody tr th {\n",
       "        vertical-align: top;\n",
       "    }\n",
       "\n",
       "    .dataframe thead th {\n",
       "        text-align: right;\n",
       "    }\n",
       "</style>\n",
       "<table border=\"1\" class=\"dataframe\">\n",
       "  <thead>\n",
       "    <tr style=\"text-align: right;\">\n",
       "      <th></th>\n",
       "      <th>month</th>\n",
       "      <th>weekday</th>\n",
       "      <th>hour</th>\n",
       "      <th>minute</th>\n",
       "      <th>holiday</th>\n",
       "      <th>start_x</th>\n",
       "      <th>start_y</th>\n",
       "      <th>end_x</th>\n",
       "      <th>end_y</th>\n",
       "      <th>riding_time</th>\n",
       "      <th>distance</th>\n",
       "      <th>area</th>\n",
       "      <th>direction</th>\n",
       "    </tr>\n",
       "  </thead>\n",
       "  <tbody>\n",
       "    <tr>\n",
       "      <th>3721</th>\n",
       "      <td>7</td>\n",
       "      <td>mon</td>\n",
       "      <td>17</td>\n",
       "      <td>30</td>\n",
       "      <td>o</td>\n",
       "      <td>-8.629047</td>\n",
       "      <td>41.169843</td>\n",
       "      <td>-8.629047</td>\n",
       "      <td>41.169843</td>\n",
       "      <td>30</td>\n",
       "      <td>0.0</td>\n",
       "      <td>area_55</td>\n",
       "      <td>EQ</td>\n",
       "    </tr>\n",
       "    <tr>\n",
       "      <th>3978</th>\n",
       "      <td>7</td>\n",
       "      <td>mon</td>\n",
       "      <td>19</td>\n",
       "      <td>0</td>\n",
       "      <td>o</td>\n",
       "      <td>-8.624583</td>\n",
       "      <td>41.136984</td>\n",
       "      <td>-8.624583</td>\n",
       "      <td>41.136984</td>\n",
       "      <td>30</td>\n",
       "      <td>0.0</td>\n",
       "      <td>area_54</td>\n",
       "      <td>EQ</td>\n",
       "    </tr>\n",
       "    <tr>\n",
       "      <th>21043</th>\n",
       "      <td>7</td>\n",
       "      <td>fri</td>\n",
       "      <td>11</td>\n",
       "      <td>0</td>\n",
       "      <td>o</td>\n",
       "      <td>-8.636085</td>\n",
       "      <td>41.164254</td>\n",
       "      <td>-8.636085</td>\n",
       "      <td>41.164254</td>\n",
       "      <td>30</td>\n",
       "      <td>0.0</td>\n",
       "      <td>area_45</td>\n",
       "      <td>EQ</td>\n",
       "    </tr>\n",
       "    <tr>\n",
       "      <th>42945</th>\n",
       "      <td>7</td>\n",
       "      <td>tue</td>\n",
       "      <td>19</td>\n",
       "      <td>30</td>\n",
       "      <td>o</td>\n",
       "      <td>-8.585955</td>\n",
       "      <td>41.148477</td>\n",
       "      <td>-8.585955</td>\n",
       "      <td>41.148477</td>\n",
       "      <td>45</td>\n",
       "      <td>0.0</td>\n",
       "      <td>area_64</td>\n",
       "      <td>EQ</td>\n",
       "    </tr>\n",
       "    <tr>\n",
       "      <th>51654</th>\n",
       "      <td>7</td>\n",
       "      <td>thu</td>\n",
       "      <td>15</td>\n",
       "      <td>30</td>\n",
       "      <td>o</td>\n",
       "      <td>-8.689293</td>\n",
       "      <td>41.168205</td>\n",
       "      <td>-8.689293</td>\n",
       "      <td>41.168205</td>\n",
       "      <td>30</td>\n",
       "      <td>0.0</td>\n",
       "      <td>area_35</td>\n",
       "      <td>EQ</td>\n",
       "    </tr>\n",
       "  </tbody>\n",
       "</table>\n",
       "</div>"
      ],
      "text/plain": [
       "       month weekday  hour  minute holiday   start_x    start_y     end_x  \\\n",
       "3721       7     mon    17      30       o -8.629047  41.169843 -8.629047   \n",
       "3978       7     mon    19       0       o -8.624583  41.136984 -8.624583   \n",
       "21043      7     fri    11       0       o -8.636085  41.164254 -8.636085   \n",
       "42945      7     tue    19      30       o -8.585955  41.148477 -8.585955   \n",
       "51654      7     thu    15      30       o -8.689293  41.168205 -8.689293   \n",
       "\n",
       "           end_y  riding_time  distance     area direction  \n",
       "3721   41.169843           30       0.0  area_55        EQ  \n",
       "3978   41.136984           30       0.0  area_54        EQ  \n",
       "21043  41.164254           30       0.0  area_45        EQ  \n",
       "42945  41.148477           45       0.0  area_64        EQ  \n",
       "51654  41.168205           30       0.0  area_35        EQ  "
      ]
     },
     "execution_count": 42,
     "metadata": {},
     "output_type": "execute_result"
    }
   ],
   "source": [
    "print(\n",
    "    df_call_type_c_limited.query('direction == \"EQ\" and area == \"area_54\"').shape[0],\n",
    "    df_call_type_c_limited.query('area == \"area_54\"').shape[0])\n",
    "\n",
    "# 乗降ポイントが同じ乗車履歴が UN になっている\n",
    "df_call_type_c_limited[df_call_type_c_limited[\"direction\"] == \"EQ\"].head()"
   ]
  },
  {
   "cell_type": "markdown",
   "metadata": {},
   "source": [
    "## AREA_54をスペクトラルクラスタリング"
   ]
  },
  {
   "cell_type": "markdown",
   "metadata": {},
   "source": [
    "### AREA_54のデータを抽出\n",
    "\n",
    "- 日曜 - 04:00\n",
    "- 水曜 - 15:00\n",
    "- 金曜 - 22:00\n",
    "\n",
    "と思ったが、サンプル数が少ないので\n",
    "- 土・日曜 - 04:00\n",
    "- 平日 - 15:00\n",
    "- 平日 - 22:00\n",
    "\n",
    "でクラスタリング"
   ]
  },
  {
   "cell_type": "code",
   "execution_count": 43,
   "metadata": {
    "scrolled": true
   },
   "outputs": [
    {
     "data": {
      "text/html": [
       "<div>\n",
       "<style scoped>\n",
       "    .dataframe tbody tr th:only-of-type {\n",
       "        vertical-align: middle;\n",
       "    }\n",
       "\n",
       "    .dataframe tbody tr th {\n",
       "        vertical-align: top;\n",
       "    }\n",
       "\n",
       "    .dataframe thead th {\n",
       "        text-align: right;\n",
       "    }\n",
       "</style>\n",
       "<table border=\"1\" class=\"dataframe\">\n",
       "  <thead>\n",
       "    <tr style=\"text-align: right;\">\n",
       "      <th></th>\n",
       "      <th>month</th>\n",
       "      <th>weekday</th>\n",
       "      <th>hour</th>\n",
       "      <th>minute</th>\n",
       "      <th>holiday</th>\n",
       "      <th>start_x</th>\n",
       "      <th>start_y</th>\n",
       "      <th>end_x</th>\n",
       "      <th>end_y</th>\n",
       "      <th>riding_time</th>\n",
       "      <th>distance</th>\n",
       "      <th>area</th>\n",
       "      <th>direction</th>\n",
       "    </tr>\n",
       "  </thead>\n",
       "  <tbody>\n",
       "    <tr>\n",
       "      <th>0</th>\n",
       "      <td>7</td>\n",
       "      <td>mon</td>\n",
       "      <td>0</td>\n",
       "      <td>0</td>\n",
       "      <td>o</td>\n",
       "      <td>-8.610291</td>\n",
       "      <td>41.140746</td>\n",
       "      <td>-8.605890</td>\n",
       "      <td>41.145345</td>\n",
       "      <td>375</td>\n",
       "      <td>2.395003</td>\n",
       "      <td>area_54</td>\n",
       "      <td>NE</td>\n",
       "    </tr>\n",
       "    <tr>\n",
       "      <th>1</th>\n",
       "      <td>7</td>\n",
       "      <td>mon</td>\n",
       "      <td>0</td>\n",
       "      <td>0</td>\n",
       "      <td>o</td>\n",
       "      <td>-8.618643</td>\n",
       "      <td>41.141412</td>\n",
       "      <td>-8.630838</td>\n",
       "      <td>41.154489</td>\n",
       "      <td>345</td>\n",
       "      <td>3.186095</td>\n",
       "      <td>area_54</td>\n",
       "      <td>NE</td>\n",
       "    </tr>\n",
       "    <tr>\n",
       "      <th>2</th>\n",
       "      <td>7</td>\n",
       "      <td>mon</td>\n",
       "      <td>0</td>\n",
       "      <td>0</td>\n",
       "      <td>o</td>\n",
       "      <td>-8.619894</td>\n",
       "      <td>41.148009</td>\n",
       "      <td>-8.609490</td>\n",
       "      <td>41.157351</td>\n",
       "      <td>330</td>\n",
       "      <td>2.549688</td>\n",
       "      <td>area_54</td>\n",
       "      <td>NE</td>\n",
       "    </tr>\n",
       "    <tr>\n",
       "      <th>3</th>\n",
       "      <td>7</td>\n",
       "      <td>mon</td>\n",
       "      <td>0</td>\n",
       "      <td>0</td>\n",
       "      <td>o</td>\n",
       "      <td>-8.617599</td>\n",
       "      <td>41.146137</td>\n",
       "      <td>-8.636625</td>\n",
       "      <td>41.169141</td>\n",
       "      <td>645</td>\n",
       "      <td>10.080812</td>\n",
       "      <td>area_54</td>\n",
       "      <td>NE</td>\n",
       "    </tr>\n",
       "    <tr>\n",
       "      <th>4</th>\n",
       "      <td>7</td>\n",
       "      <td>mon</td>\n",
       "      <td>0</td>\n",
       "      <td>0</td>\n",
       "      <td>o</td>\n",
       "      <td>-8.612964</td>\n",
       "      <td>41.140359</td>\n",
       "      <td>-8.615970</td>\n",
       "      <td>41.140530</td>\n",
       "      <td>975</td>\n",
       "      <td>22.403604</td>\n",
       "      <td>area_54</td>\n",
       "      <td>NE</td>\n",
       "    </tr>\n",
       "  </tbody>\n",
       "</table>\n",
       "</div>"
      ],
      "text/plain": [
       "   month weekday  hour  minute holiday   start_x    start_y     end_x  \\\n",
       "0      7     mon     0       0       o -8.610291  41.140746 -8.605890   \n",
       "1      7     mon     0       0       o -8.618643  41.141412 -8.630838   \n",
       "2      7     mon     0       0       o -8.619894  41.148009 -8.609490   \n",
       "3      7     mon     0       0       o -8.617599  41.146137 -8.636625   \n",
       "4      7     mon     0       0       o -8.612964  41.140359 -8.615970   \n",
       "\n",
       "       end_y  riding_time   distance     area direction  \n",
       "0  41.145345          375   2.395003  area_54        NE  \n",
       "1  41.154489          345   3.186095  area_54        NE  \n",
       "2  41.157351          330   2.549688  area_54        NE  \n",
       "3  41.169141          645  10.080812  area_54        NE  \n",
       "4  41.140530          975  22.403604  area_54        NE  "
      ]
     },
     "execution_count": 43,
     "metadata": {},
     "output_type": "execute_result"
    }
   ],
   "source": [
    "area_54_df = df_call_type_c_limited.query('area == \"area_54\"')\n",
    "\n",
    "area_54_df.reset_index(drop=True, inplace=True)\n",
    "\n",
    "area_54_df.head()"
   ]
  },
  {
   "cell_type": "markdown",
   "metadata": {},
   "source": [
    "### クラスタリング"
   ]
  },
  {
   "cell_type": "markdown",
   "metadata": {},
   "source": [
    "#### 土・日曜 - 04:00"
   ]
  },
  {
   "cell_type": "code",
   "execution_count": 44,
   "metadata": {
    "scrolled": true
   },
   "outputs": [
    {
     "data": {
      "text/plain": [
       "(57370, 13)"
      ]
     },
     "execution_count": 44,
     "metadata": {},
     "output_type": "execute_result"
    }
   ],
   "source": [
    "area_54_categ_1 = area_54_df.query(\n",
    "    \"weekday in ['sun', 'sat'] and 3 <= hour <= 6\")\n",
    "\n",
    "area_54_categ_1.shape"
   ]
  },
  {
   "cell_type": "code",
   "execution_count": null,
   "metadata": {
    "scrolled": true
   },
   "outputs": [],
   "source": [
    "# area_54のarea_54_categ_1の分布\n",
    "plt.scatter(area_54_categ_1[\"end_x\"], area_54_categ_1[\"end_y\"], color ='r')\n",
    "plt.scatter(area_54_categ_1[\"start_x\"], area_54_categ_1[\"start_y\"])\n",
    "plt.title(\"Start - End Point\")\n",
    "plt.xlabel(\"long\")\n",
    "plt.ylabel(\"lat\")\n",
    "plt.grid()"
   ]
  },
  {
   "cell_type": "markdown",
   "metadata": {},
   "source": [
    "## SpectralClusteringだとkernelが死ぬので、代わりにDBSCAN"
   ]
  },
  {
   "cell_type": "code",
   "execution_count": 90,
   "metadata": {},
   "outputs": [],
   "source": [
    "from sklearn.cluster import DBSCAN\n",
    "\n",
    "# dbscan = DBSCAN(eps=0.5, min_samples=5)\n",
    "dbscan = DBSCAN(eps=3.0, min_samples=100)\n",
    "\n",
    "area_54_dummy_categ_1 = pd.get_dummies(area_54_categ_1)\n",
    "\n",
    "dbscan_cluster =dbscan.fit_predict(area_54_dummy_categ_1)"
   ]
  },
  {
   "cell_type": "code",
   "execution_count": 48,
   "metadata": {},
   "outputs": [
    {
     "data": {
      "text/plain": [
       "DBSCAN(algorithm='auto', eps=0.5, leaf_size=30, metric='euclidean',\n",
       "    metric_params=None, min_samples=5, n_jobs=None, p=None)"
      ]
     },
     "execution_count": 48,
     "metadata": {},
     "output_type": "execute_result"
    }
   ],
   "source": [
    "dbscan"
   ]
  },
  {
   "cell_type": "code",
   "execution_count": 91,
   "metadata": {
    "scrolled": true
   },
   "outputs": [
    {
     "data": {
      "text/plain": [
       "(57370,\n",
       " array([-1,  0,  1,  2,  3,  4,  5,  6,  7,  8,  9, 10, 11, 12, 13, 14, 15,\n",
       "        16, 17, 18, 19, 20, 21, 22, 23, 24, 25, 26, 27, 28, 29, 30, 31, 32,\n",
       "        33, 34, 35, 36, 37, 38, 39, 40, 41, 42, 43, 44, 45, 46, 47, 48, 49,\n",
       "        50, 51, 52, 53, 54, 55, 56, 57, 58, 59, 60, 61, 62, 63, 64, 65, 66,\n",
       "        67, 68, 69, 70, 71, 72, 73, 74, 75, 76, 77, 78, 79, 80, 81, 82]))"
      ]
     },
     "execution_count": 91,
     "metadata": {},
     "output_type": "execute_result"
    }
   ],
   "source": [
    "area_54_categ_1.shape[0],np.unique(dbscan_cluster)"
   ]
  },
  {
   "cell_type": "code",
   "execution_count": 87,
   "metadata": {},
   "outputs": [
    {
     "data": {
      "text/plain": [
       "57370"
      ]
     },
     "execution_count": 87,
     "metadata": {},
     "output_type": "execute_result"
    }
   ],
   "source": [
    "len(np.where(dbscan_cluster==-1)[0])"
   ]
  },
  {
   "cell_type": "code",
   "execution_count": 92,
   "metadata": {},
   "outputs": [
    {
     "data": {
      "text/plain": [
       "103"
      ]
     },
     "execution_count": 92,
     "metadata": {},
     "output_type": "execute_result"
    }
   ],
   "source": [
    "len(np.where(dbscan_cluster==82)[0])"
   ]
  },
  {
   "cell_type": "markdown",
   "metadata": {},
   "source": [
    "## The kernel appears to have died. It will restart automatically."
   ]
  },
  {
   "cell_type": "code",
   "execution_count": null,
   "metadata": {},
   "outputs": [],
   "source": [
    "# SpectralClusteringをやるとShe kernel appears to have died. It will restart automatically.発生\n",
    "\n",
    "# from sklearn import cluster\n",
    "\n",
    "# area_54_dummy_categ_1 = pd.get_dummies(area_54_categ_1)\n",
    "\n",
    "# sc=cluster.SpectralClustering(n_clusters=2, eigen_solver='arpack', affinity='rbf', gamma=10.0)\n",
    "# area_54_categ_1_sc =sc.fit(area_54_dummy_categ_1)"
   ]
  },
  {
   "cell_type": "markdown",
   "metadata": {},
   "source": [
    "#### 平日 - 15:00"
   ]
  },
  {
   "cell_type": "code",
   "execution_count": null,
   "metadata": {},
   "outputs": [],
   "source": [
    "area_54_categ_2 = area_54_df.query(\n",
    "    \"weekday not in ['sun', 'sat'] and 14 <= hour <= 16\")\n",
    "\n",
    "area_54_categ_2.shape"
   ]
  },
  {
   "cell_type": "markdown",
   "metadata": {},
   "source": [
    "#### 平日 - 22:00"
   ]
  },
  {
   "cell_type": "code",
   "execution_count": null,
   "metadata": {},
   "outputs": [],
   "source": [
    "area_54_categ_3 = area_54_df.query(\n",
    "    \"weekday not in ['sun', 'sat'] and 21 <= hour <= 23\")\n",
    "\n",
    "area_54_categ_3.shape"
   ]
  },
  {
   "cell_type": "markdown",
   "metadata": {},
   "source": [
    "## AREA_54の需要台数を予測"
   ]
  },
  {
   "cell_type": "code",
   "execution_count": null,
   "metadata": {},
   "outputs": [],
   "source": [
    "df_call_type_c_limited.groupby(\n",
    "        [\"month\", \"weekday\", \"hour\", \"minute\", \"holiday\"]).max().head()"
   ]
  },
  {
   "cell_type": "code",
   "execution_count": null,
   "metadata": {},
   "outputs": [],
   "source": [
    "df_call_type_c_grouped_area54 = df_call_type_c_limited.groupby(\n",
    "    [\"month\", \"weekday\", \"hour\", \"minute\", \"holiday\"]).count()\n",
    "\n",
    "df_call_type_c_grouped_area54[\n",
    "    \"riding_time_mean\"] = df_call_type_c_limited.groupby(\n",
    "        [\"month\", \"weekday\", \"hour\", \"minute\",\n",
    "         \"holiday\"])[\"riding_time\"].mean()\n",
    "\n",
    "df_call_type_c_grouped_area54[\n",
    "    \"distance_mean\"] = df_call_type_c_limited.groupby(\n",
    "        [\"month\", \"weekday\", \"hour\", \"minute\", \"holiday\"])[\"distance\"].mean()\n",
    "\n",
    "df_call_type_c_grouped_area54[\n",
    "    \"direction_max\"] = df_call_type_c_limited.groupby(\n",
    "        [\"month\", \"weekday\", \"hour\", \"minute\", \"holiday\"])[\"direction\"].max()\n",
    "\n",
    "# カラム名を変更\n",
    "df_call_type_c_grouped_area54.rename(columns={\"area\": \"count\"}, inplace=True)\n",
    "\n",
    "# 要らない列を削除\n",
    "df_call_type_c_grouped_area54.drop([\n",
    "    \"start_x\", \"start_y\", \"end_x\", \"end_y\", \"riding_time\", \"distance\",\n",
    "    \"direction\"\n",
    "],\n",
    "                                   axis=1,\n",
    "                                   inplace=True)\n",
    "\n",
    "col_names = [\n",
    "    \"month\", \"weekday\", \"hour\", \"minute\", \"holiday\", \"count\",\n",
    "    \"riding_time_mean\", \"distance_mean\", \"direction_max\"\n",
    "]\n",
    "\n",
    "# インデックスをカラムに戻す\n",
    "df_call_type_c_grouped_area54.reset_index(inplace=True)\n",
    "\n",
    "df_call_type_c_grouped_area54.head()"
   ]
  },
  {
   "cell_type": "code",
   "execution_count": null,
   "metadata": {},
   "outputs": [],
   "source": []
  },
  {
   "cell_type": "code",
   "execution_count": null,
   "metadata": {},
   "outputs": [],
   "source": []
  },
  {
   "cell_type": "markdown",
   "metadata": {},
   "source": [
    "### area_54で乗車した際の進行方向"
   ]
  },
  {
   "cell_type": "code",
   "execution_count": null,
   "metadata": {
    "scrolled": true
   },
   "outputs": [],
   "source": [
    "sns.countplot(x=\"direction\", hue=\"holiday\", data=df_call_type_c_limited.query(\"area == 'area_54'\"))"
   ]
  },
  {
   "cell_type": "markdown",
   "metadata": {},
   "source": [
    "### ここまでのデータを保存"
   ]
  },
  {
   "cell_type": "code",
   "execution_count": null,
   "metadata": {},
   "outputs": [],
   "source": [
    "df_call_type_c_limited.to_csv(\"data/edit_train_call_type_c.csv\", index=False, header=True)"
   ]
  },
  {
   "cell_type": "markdown",
   "metadata": {},
   "source": [
    "## 分析方針\n",
    "\n",
    "１.全ドライバーの移動距離と乗車時間と乗車回数の合計を算出  \n",
    "２.乗車時間と乗車回数の２軸でプロット  \n",
    "３.クラスタリング  \n",
    "４.  \n",
    "\n",
    "乗車時間／乗車回数　で優良ドライバーを特定\n",
    "\n",
    "\n",
    "タクシーの料金は、初乗り運賃の時点から「距離」と「時間」を併用。\n",
    "\n",
    "タクシーの料金は基本的に一定距離内の初乗り運賃（例：東京：最長1.052kmまで、上限410円）\n",
    "を越えて乗車した場合の走行距離に応じた「距離制」で計算されるが、走行速度が10km/h以下になった場合には、走行時間を距離に置き換えて計算する「時間距離併用制」が適用される。\n"
   ]
  },
  {
   "cell_type": "code",
   "execution_count": null,
   "metadata": {},
   "outputs": [],
   "source": []
  }
 ],
 "metadata": {
  "kernelspec": {
   "display_name": "Python 3",
   "language": "python",
   "name": "python3"
  },
  "language_info": {
   "codemirror_mode": {
    "name": "ipython",
    "version": 3
   },
   "file_extension": ".py",
   "mimetype": "text/x-python",
   "name": "python",
   "nbconvert_exporter": "python",
   "pygments_lexer": "ipython3",
   "version": "3.6.4"
  },
  "toc": {
   "base_numbering": 1,
   "nav_menu": {},
   "number_sections": true,
   "sideBar": true,
   "skip_h1_title": true,
   "title_cell": "目次",
   "title_sidebar": "Contents",
   "toc_cell": true,
   "toc_position": {},
   "toc_section_display": true,
   "toc_window_display": true
  }
 },
 "nbformat": 4,
 "nbformat_minor": 2
}
