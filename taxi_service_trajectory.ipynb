{
 "cells": [
  {
   "cell_type": "markdown",
   "metadata": {
    "toc": true
   },
   "source": [
    "<h1>Table of Contents<span class=\"tocSkip\"></span></h1>\n",
    "<div class=\"toc\"><ul class=\"toc-item\"><li><span><a href=\"#背景\" data-toc-modified-id=\"背景-1\"><span class=\"toc-item-num\">1&nbsp;&nbsp;</span>背景</a></span></li><li><span><a href=\"#目的\" data-toc-modified-id=\"目的-2\"><span class=\"toc-item-num\">2&nbsp;&nbsp;</span>目的</a></span><ul class=\"toc-item\"><li><span><a href=\"#ビジネスインパクト\" data-toc-modified-id=\"ビジネスインパクト-2.1\"><span class=\"toc-item-num\">2.1&nbsp;&nbsp;</span>ビジネスインパクト</a></span></li></ul></li><li><span><a href=\"#データ概説\" data-toc-modified-id=\"データ概説-3\"><span class=\"toc-item-num\">3&nbsp;&nbsp;</span>データ概説</a></span></li><li><span><a href=\"#初期仮説\" data-toc-modified-id=\"初期仮説-4\"><span class=\"toc-item-num\">4&nbsp;&nbsp;</span>初期仮説</a></span></li><li><span><a href=\"#データ分析\" data-toc-modified-id=\"データ分析-5\"><span class=\"toc-item-num\">5&nbsp;&nbsp;</span>データ分析</a></span><ul class=\"toc-item\"><li><span><a href=\"#データの俯瞰\" data-toc-modified-id=\"データの俯瞰-5.1\"><span class=\"toc-item-num\">5.1&nbsp;&nbsp;</span>データの俯瞰</a></span></li><li><span><a href=\"#列の並べ替え\" data-toc-modified-id=\"列の並べ替え-5.2\"><span class=\"toc-item-num\">5.2&nbsp;&nbsp;</span>列の並べ替え</a></span></li><li><span><a href=\"#UNIXタイムスタンプを-yyyyMMddhhmmss形式に変更\" data-toc-modified-id=\"UNIXタイムスタンプを-yyyyMMddhhmmss形式に変更-5.3\"><span class=\"toc-item-num\">5.3&nbsp;&nbsp;</span>UNIXタイムスタンプを yyyyMMddhhmmss形式に変更</a></span></li><li><span><a href=\"#タイムスタンプを年月日時分秒＋曜日に分ける\" data-toc-modified-id=\"タイムスタンプを年月日時分秒＋曜日に分ける-5.4\"><span class=\"toc-item-num\">5.4&nbsp;&nbsp;</span>タイムスタンプを年月日時分秒＋曜日に分ける</a></span></li><li><span><a href=\"#POLYLINEの中身をfloatの配列に変換\" data-toc-modified-id=\"POLYLINEの中身をfloatの配列に変換-5.5\"><span class=\"toc-item-num\">5.5&nbsp;&nbsp;</span>POLYLINEの中身をfloatの配列に変換</a></span></li></ul></li><li><span><a href=\"#乗車率の算出\" data-toc-modified-id=\"乗車率の算出-6\"><span class=\"toc-item-num\">6&nbsp;&nbsp;</span>乗車率の算出</a></span><ul class=\"toc-item\"><li><span><a href=\"#乗車率の定義\" data-toc-modified-id=\"乗車率の定義-6.1\"><span class=\"toc-item-num\">6.1&nbsp;&nbsp;</span>乗車率の定義</a></span></li></ul></li></ul></div>"
   ]
  },
  {
   "cell_type": "markdown",
   "metadata": {},
   "source": [
    "# 交通運行の最適化を目指したタクシーの乗車需要"
   ]
  },
  {
   "cell_type": "markdown",
   "metadata": {},
   "source": [
    "## 背景"
   ]
  },
  {
   "cell_type": "markdown",
   "metadata": {},
   "source": [
    "観光需要の高まりから交通需要が伸びていく一方で、人口減少や超高齢化社会に直面する日本においてドライバー不足は切実な問題であり、タクシー業界も例外ではない。    \n",
    "歩合制を採用しているタクシー業界では、乗車率はドライバーの土地勘と経験に影響を受けやすく、新人ドライバーの不安材料となっている。\n",
    "\n",
    "土地勘のない新人ドライバーでも安定的に乗車率を稼げるようにする事で、離職率の低下や、新たなドライバー確保すると共に、\n",
    "外国籍ドライバーの就業も予測される2020年東京オリンピックに備え、CO2削減を推進したクリーン、かつ選手村を中心に8km圏内のコンパクトな大会運営がコンセプトに貢献したい。"
   ]
  },
  {
   "cell_type": "markdown",
   "metadata": {},
   "source": [
    "## 目的"
   ]
  },
  {
   "cell_type": "markdown",
   "metadata": {},
   "source": [
    "- 実車時間を最大化し空車状態を減らしたい。\n",
    "- コンペでは、ドライバーの初期位置と日付（2014年、8月14日　18:00）値が与えられ\n",
    "    - 目的地の予測\n",
    "    - 実車時間の予測   \n",
    "    \n",
    "がアウトプットっぽい"
   ]
  },
  {
   "cell_type": "markdown",
   "metadata": {},
   "source": [
    "### ビジネスインパクト"
   ]
  },
  {
   "cell_type": "markdown",
   "metadata": {},
   "source": [
    "- 営業区域500m四方のエリアごとの乗車台数予測\n",
    "- 乗車獲得率の高い100m四方エリアの洗い出し\n",
    "- 乗客獲得率高い進行方向\n",
    "- 普段より人口が多い500m四方のエリア情報\n",
    "- 現在から30分後までの未来のタクシー乗車台数の予測などを10分ごとに配車システムへ提供する。\n",
    "\n",
    "- AIタクシー（ドコモ参照）\n",
    "- AIが先読みした需要予測に基づいてタクシーが先行して向かうことで顧客の待ち時間が短縮。\n",
    "- 電車遅延やイベントなどの非日常的な乗車需要増に対応したい。\n",
    "- ドライバーごとの実車率のばらつき解消・底上げ\n",
    "    - 各ドライバーの運行効率化により、タクシー事業者の収益向上に貢献する。リアルタイムに需要を伝えることで、新人ドライバーの不安を払拭し、離職率の低下や、新たなドライバー確保が期待され、ドライバー不足解消の一助となる。\n",
    "- 気象データがあれば尚良し。\n",
    "- モバイルの配車アプリ等から顧客の位置データがあれば、年齢・性別等で適切な情報が提供できる可能性あり。\n",
    "- モバイルの配車アプリ等から顧客の位置データがあれば、人口の密集地帯が提供できるはず。\n",
    "- AIタクシー導入後、新人ドライバーは1日当たり3115円の売り上げが上がった。（東京都心では1日約5万弱だとすると6%の売り上げ増）\n",
    "- 新人でもすぐに結果を出しやすくしたい。\n",
    "- 乗り合いバスもいいのでは？2018/4/16　（ITmedia エンタープライズ）\n",
    "- AIタクシー交通運行の最適化をめざしたタクシーの乗車需要予測技術（PDF）"
   ]
  },
  {
   "cell_type": "markdown",
   "metadata": {},
   "source": [
    "## データ概説"
   ]
  },
  {
   "cell_type": "markdown",
   "metadata": {},
   "source": [
    "- 各行は1回の乗車データ\n",
    "- タクシーの台数は442台\n",
    "- 2013-07-01 2014-06-30 までのデータ\n",
    "- Porto_taxi_data_test_partial_trajectories.csv はテストセット。(2014-01-07　2014-12-31まで）\n",
    "- DAYTYPEは間違っている為、手修正が必要\n",
    "    - 2014年祝日\n",
    "        - 1/1 火\n",
    "        - 2/11　金 regional holiday カーニバル\n",
    "        - 2/14　金 ordinary friday　バレンタインデー\n",
    "        - 3/29　金　\n",
    "        - 3/31　日　\n",
    "        - 4/1 金\n",
    "        - 4/25 金\n",
    "        - 5/1 木\n",
    "        - 5/5 日　ordinary sunday　母の日\n",
    "        - 5/9 木　regional holiday\n",
    "        - 5/30 木　ordinary thursday\n",
    "        - 6/10 火　\n",
    "        - 6/13 金　regional holiday\n",
    "        - 6/24 火　regional holiday\n",
    "        - 6/29 日　regional holiday\n",
    "        - 8/15 金　\n",
    "        - 10/5 土　ordinary saturday　\n",
    "        - 11/1 金　ordinary friday\n",
    "        - 12/1 日　ordinary monday　\n",
    "        - 12/8 日　　\n",
    "        - 12/25 水　\n",
    "    - 2014年祝日\n",
    "        - 1/1 水\n",
    "        - 2/14　金 ordinary friday　バレンタインデー\n",
    "        - 3/3　月　regional holiday\n",
    "        - 4/18 金\n",
    "        - 4/20 日\n",
    "        - 4/21 月　regional holiday　イースターの月曜日\n",
    "        - 4/25 金\n",
    "        - 5/1 木\n",
    "        - 5/4 日　ordinary sunday　母の日\n",
    "        - 5/29 火　regional holiday\n",
    "        - 6/10 火　\n",
    "        - 6/13 金　regional holiday\n",
    "        - 6/19 木　ordinary sunday\n",
    "        - 6/24 火　regional holiday\n",
    "        - 6/29 日　regional holiday\n",
    "        - 8/15 金　\n",
    "        - 10/5 日　ordinary sunday　\n",
    "        - 11/1 土　ordinary saturday\n",
    "        - 12/1 月　ordinary monday　\n",
    "        - 12/8 月　　\n",
    "        - 12/25 木　\n",
    "        \n",
    "        \n",
    "        \n",
    "                "
   ]
  },
  {
   "cell_type": "markdown",
   "metadata": {},
   "source": [
    "データ定義\n",
    "- TRIP_ID：（String）　各乗車を一意に表す識別子。\n",
    "\n",
    "- CALL_TYPE：（char）　乗車サービスの提供タイプ。\n",
    "    - センターから配車された場合は \"A\" \n",
    "    - タクシー乗り場から乗車した場合は \"B\" \n",
    "    - 流している最中に乗車要求された場合 \"C\" \n",
    "\n",
    "- ORIGIN_CALL：（整数）　少なくとも1つのサービスを要求するために使用された各電話番号の一意の識別子を含みます。\n",
    "    - CALL_TYPE = 'A'の場合、旅行の顧客を識別します。 \n",
    "    - それ以外の場合は、NULL値とみなされます。 \n",
    "\n",
    "- ORIGIN_STAND：（整数）：　タクシー乗り場の識別子。 \n",
    "    - CALL_TYPE = 'B'の場合、乗車の開始点を示します。 \n",
    "    - それ以外の場合は、NULL値。 \n",
    "\n",
    "- TAXI_ID :(整数）：タクシードライバーの識別子。 \n",
    "\n",
    "- TIMESTAMP：（整数）　Unixタイムスタンプ（秒単位）。 1970-01-01 00:00:00からの経過秒数を表す。トリップの開始を識別します。 \n",
    "\n",
    "- DAYTYPE：（char）　旅行の出発日の日時を指定します。 次の3つの値のいずれかを仮定します。 \n",
    "    - この旅行が休日または他の特別な日に開始された場合（すなわち、延期、休暇など）、 'B' \n",
    "    - タイプBの日の前日に旅行が開始された場合は 'C' \n",
    "    - そうでなければ（すなわち、通常の日、就業日または週末） 'A'。 \n",
    "重要な注意：このフィールドは正しく計算されていません。 ポルトガルの公式祝日の信頼できる情報源として、以下のリンクをご覧ください。 \n",
    "\n",
    "- MISSING_DATA：（ブール値）　GPSデータストリームが完了するとFALSE、1つ（または複数）の場所が見つからない場合はTRUEです。 \n",
    "    恐らく、降車した地点が不明なデータと思われる。（補完できないので削除対象）\n",
    "\n",
    "- POLYLINE：（String）：　文字列としてマップされたGPS座標（WGS84形式）のリストを含んでいます。 \n",
    "    - 文字列の先頭と末尾は角括弧（[と]）で識別されます。 \n",
    "    - 座標の各ペアは、[LONGITUDE、LATITUDE]と同じ角括弧で識別されます。 \n",
    "    - このリストには、15秒ごとに1組の座標が含まれています。 \n",
    "    - 最後のリスト項目は旅行の目的地に対応し、最初の項目は出発地を表します。"
   ]
  },
  {
   "cell_type": "markdown",
   "metadata": {},
   "source": [
    "## 初期仮説"
   ]
  },
  {
   "cell_type": "markdown",
   "metadata": {},
   "source": [
    "- 平日と休日（祝日含む）、時間によって乗車率は異なってくるはず（本来は天候も）\n",
    "- 乗車しやすい場所があるはず\n",
    "- 後車しやすい場所があるはず\n",
    "- 乗車率が高くなる流し方向があるはず\n",
    "- 乗車率の高いドライバーと低いドライバーがいるはず。"
   ]
  },
  {
   "cell_type": "markdown",
   "metadata": {},
   "source": [
    "## データ分析"
   ]
  },
  {
   "cell_type": "code",
   "execution_count": 1,
   "metadata": {},
   "outputs": [],
   "source": [
    "import pandas as pd \n",
    "import numpy as np\n",
    "import re\n",
    "import copy\n",
    "from datetime import datetime as dt\n",
    "\n",
    "from matplotlib import pyplot as plt\n",
    "import seaborn as sns\n",
    "\n",
    "# warningの抑止\n",
    "import warnings\n",
    "warnings.filterwarnings('ignore')"
   ]
  },
  {
   "cell_type": "code",
   "execution_count": 2,
   "metadata": {},
   "outputs": [
    {
     "data": {
      "text/plain": [
       "(1710670, 9)"
      ]
     },
     "execution_count": 2,
     "metadata": {},
     "output_type": "execute_result"
    }
   ],
   "source": [
    "# データを読み込む\n",
    "df = pd.read_csv(\"data/train.csv\")\n",
    "\n",
    "# データを読み込む\n",
    "# df = pd.read_csv(\"data/solution_challengeII.csv\")\n",
    "\n",
    "# # データを読み込む\n",
    "# df = pd.read_csv(\"data/solution_fixed.csv\")\n",
    "\n",
    "# 行数と列数を確認\n",
    "df.shape"
   ]
  },
  {
   "cell_type": "markdown",
   "metadata": {},
   "source": [
    "### データの俯瞰"
   ]
  },
  {
   "cell_type": "code",
   "execution_count": 3,
   "metadata": {},
   "outputs": [
    {
     "data": {
      "text/html": [
       "<div>\n",
       "<style scoped>\n",
       "    .dataframe tbody tr th:only-of-type {\n",
       "        vertical-align: middle;\n",
       "    }\n",
       "\n",
       "    .dataframe tbody tr th {\n",
       "        vertical-align: top;\n",
       "    }\n",
       "\n",
       "    .dataframe thead th {\n",
       "        text-align: right;\n",
       "    }\n",
       "</style>\n",
       "<table border=\"1\" class=\"dataframe\">\n",
       "  <thead>\n",
       "    <tr style=\"text-align: right;\">\n",
       "      <th></th>\n",
       "      <th>TRIP_ID</th>\n",
       "      <th>CALL_TYPE</th>\n",
       "      <th>ORIGIN_CALL</th>\n",
       "      <th>ORIGIN_STAND</th>\n",
       "      <th>TAXI_ID</th>\n",
       "      <th>TIMESTAMP</th>\n",
       "      <th>DAY_TYPE</th>\n",
       "      <th>MISSING_DATA</th>\n",
       "      <th>POLYLINE</th>\n",
       "    </tr>\n",
       "  </thead>\n",
       "  <tbody>\n",
       "    <tr>\n",
       "      <th>0</th>\n",
       "      <td>1372636858620000589</td>\n",
       "      <td>C</td>\n",
       "      <td>NaN</td>\n",
       "      <td>NaN</td>\n",
       "      <td>20000589</td>\n",
       "      <td>1372636858</td>\n",
       "      <td>A</td>\n",
       "      <td>False</td>\n",
       "      <td>[[-8.618643,41.141412],[-8.618499,41.141376],[...</td>\n",
       "    </tr>\n",
       "    <tr>\n",
       "      <th>1</th>\n",
       "      <td>1372637303620000596</td>\n",
       "      <td>B</td>\n",
       "      <td>NaN</td>\n",
       "      <td>7.0</td>\n",
       "      <td>20000596</td>\n",
       "      <td>1372637303</td>\n",
       "      <td>A</td>\n",
       "      <td>False</td>\n",
       "      <td>[[-8.639847,41.159826],[-8.640351,41.159871],[...</td>\n",
       "    </tr>\n",
       "    <tr>\n",
       "      <th>2</th>\n",
       "      <td>1372636951620000320</td>\n",
       "      <td>C</td>\n",
       "      <td>NaN</td>\n",
       "      <td>NaN</td>\n",
       "      <td>20000320</td>\n",
       "      <td>1372636951</td>\n",
       "      <td>A</td>\n",
       "      <td>False</td>\n",
       "      <td>[[-8.612964,41.140359],[-8.613378,41.14035],[-...</td>\n",
       "    </tr>\n",
       "    <tr>\n",
       "      <th>3</th>\n",
       "      <td>1372636854620000520</td>\n",
       "      <td>C</td>\n",
       "      <td>NaN</td>\n",
       "      <td>NaN</td>\n",
       "      <td>20000520</td>\n",
       "      <td>1372636854</td>\n",
       "      <td>A</td>\n",
       "      <td>False</td>\n",
       "      <td>[[-8.574678,41.151951],[-8.574705,41.151942],[...</td>\n",
       "    </tr>\n",
       "    <tr>\n",
       "      <th>4</th>\n",
       "      <td>1372637091620000337</td>\n",
       "      <td>C</td>\n",
       "      <td>NaN</td>\n",
       "      <td>NaN</td>\n",
       "      <td>20000337</td>\n",
       "      <td>1372637091</td>\n",
       "      <td>A</td>\n",
       "      <td>False</td>\n",
       "      <td>[[-8.645994,41.18049],[-8.645949,41.180517],[-...</td>\n",
       "    </tr>\n",
       "  </tbody>\n",
       "</table>\n",
       "</div>"
      ],
      "text/plain": [
       "               TRIP_ID CALL_TYPE  ORIGIN_CALL  ORIGIN_STAND   TAXI_ID  \\\n",
       "0  1372636858620000589         C          NaN           NaN  20000589   \n",
       "1  1372637303620000596         B          NaN           7.0  20000596   \n",
       "2  1372636951620000320         C          NaN           NaN  20000320   \n",
       "3  1372636854620000520         C          NaN           NaN  20000520   \n",
       "4  1372637091620000337         C          NaN           NaN  20000337   \n",
       "\n",
       "    TIMESTAMP DAY_TYPE  MISSING_DATA  \\\n",
       "0  1372636858        A         False   \n",
       "1  1372637303        A         False   \n",
       "2  1372636951        A         False   \n",
       "3  1372636854        A         False   \n",
       "4  1372637091        A         False   \n",
       "\n",
       "                                            POLYLINE  \n",
       "0  [[-8.618643,41.141412],[-8.618499,41.141376],[...  \n",
       "1  [[-8.639847,41.159826],[-8.640351,41.159871],[...  \n",
       "2  [[-8.612964,41.140359],[-8.613378,41.14035],[-...  \n",
       "3  [[-8.574678,41.151951],[-8.574705,41.151942],[...  \n",
       "4  [[-8.645994,41.18049],[-8.645949,41.180517],[-...  "
      ]
     },
     "execution_count": 3,
     "metadata": {},
     "output_type": "execute_result"
    }
   ],
   "source": [
    "df.head()"
   ]
  },
  {
   "cell_type": "markdown",
   "metadata": {},
   "source": [
    "### 列の並べ替え"
   ]
  },
  {
   "cell_type": "code",
   "execution_count": 4,
   "metadata": {},
   "outputs": [
    {
     "data": {
      "text/html": [
       "<div>\n",
       "<style scoped>\n",
       "    .dataframe tbody tr th:only-of-type {\n",
       "        vertical-align: middle;\n",
       "    }\n",
       "\n",
       "    .dataframe tbody tr th {\n",
       "        vertical-align: top;\n",
       "    }\n",
       "\n",
       "    .dataframe thead th {\n",
       "        text-align: right;\n",
       "    }\n",
       "</style>\n",
       "<table border=\"1\" class=\"dataframe\">\n",
       "  <thead>\n",
       "    <tr style=\"text-align: right;\">\n",
       "      <th></th>\n",
       "      <th>TIMESTAMP</th>\n",
       "      <th>DAY_TYPE</th>\n",
       "      <th>TAXI_ID</th>\n",
       "      <th>TRIP_ID</th>\n",
       "      <th>CALL_TYPE</th>\n",
       "      <th>ORIGIN_STAND</th>\n",
       "      <th>ORIGIN_CALL</th>\n",
       "      <th>MISSING_DATA</th>\n",
       "      <th>POLYLINE</th>\n",
       "    </tr>\n",
       "  </thead>\n",
       "  <tbody>\n",
       "    <tr>\n",
       "      <th>0</th>\n",
       "      <td>1372636853</td>\n",
       "      <td>A</td>\n",
       "      <td>20000380</td>\n",
       "      <td>1372636853620000380</td>\n",
       "      <td>C</td>\n",
       "      <td>NaN</td>\n",
       "      <td>NaN</td>\n",
       "      <td>False</td>\n",
       "      <td>[[-8.610291,41.140746],[-8.6103,41.140755],[-8...</td>\n",
       "    </tr>\n",
       "    <tr>\n",
       "      <th>1</th>\n",
       "      <td>1372636854</td>\n",
       "      <td>A</td>\n",
       "      <td>20000520</td>\n",
       "      <td>1372636854620000520</td>\n",
       "      <td>C</td>\n",
       "      <td>NaN</td>\n",
       "      <td>NaN</td>\n",
       "      <td>False</td>\n",
       "      <td>[[-8.574678,41.151951],[-8.574705,41.151942],[...</td>\n",
       "    </tr>\n",
       "    <tr>\n",
       "      <th>2</th>\n",
       "      <td>1372636858</td>\n",
       "      <td>A</td>\n",
       "      <td>20000589</td>\n",
       "      <td>1372636858620000589</td>\n",
       "      <td>C</td>\n",
       "      <td>NaN</td>\n",
       "      <td>NaN</td>\n",
       "      <td>False</td>\n",
       "      <td>[[-8.618643,41.141412],[-8.618499,41.141376],[...</td>\n",
       "    </tr>\n",
       "    <tr>\n",
       "      <th>3</th>\n",
       "      <td>1372636875</td>\n",
       "      <td>A</td>\n",
       "      <td>20000233</td>\n",
       "      <td>1372636875620000233</td>\n",
       "      <td>C</td>\n",
       "      <td>NaN</td>\n",
       "      <td>NaN</td>\n",
       "      <td>False</td>\n",
       "      <td>[[-8.619894,41.148009],[-8.620164,41.14773],[-...</td>\n",
       "    </tr>\n",
       "    <tr>\n",
       "      <th>4</th>\n",
       "      <td>1372636896</td>\n",
       "      <td>A</td>\n",
       "      <td>20000360</td>\n",
       "      <td>1372636896620000360</td>\n",
       "      <td>C</td>\n",
       "      <td>NaN</td>\n",
       "      <td>NaN</td>\n",
       "      <td>False</td>\n",
       "      <td>[[-8.617599,41.146137],[-8.617581,41.14593],[-...</td>\n",
       "    </tr>\n",
       "  </tbody>\n",
       "</table>\n",
       "</div>"
      ],
      "text/plain": [
       "    TIMESTAMP DAY_TYPE   TAXI_ID              TRIP_ID CALL_TYPE  ORIGIN_STAND  \\\n",
       "0  1372636853        A  20000380  1372636853620000380         C           NaN   \n",
       "1  1372636854        A  20000520  1372636854620000520         C           NaN   \n",
       "2  1372636858        A  20000589  1372636858620000589         C           NaN   \n",
       "3  1372636875        A  20000233  1372636875620000233         C           NaN   \n",
       "4  1372636896        A  20000360  1372636896620000360         C           NaN   \n",
       "\n",
       "   ORIGIN_CALL  MISSING_DATA  \\\n",
       "0          NaN         False   \n",
       "1          NaN         False   \n",
       "2          NaN         False   \n",
       "3          NaN         False   \n",
       "4          NaN         False   \n",
       "\n",
       "                                            POLYLINE  \n",
       "0  [[-8.610291,41.140746],[-8.6103,41.140755],[-8...  \n",
       "1  [[-8.574678,41.151951],[-8.574705,41.151942],[...  \n",
       "2  [[-8.618643,41.141412],[-8.618499,41.141376],[...  \n",
       "3  [[-8.619894,41.148009],[-8.620164,41.14773],[-...  \n",
       "4  [[-8.617599,41.146137],[-8.617581,41.14593],[-...  "
      ]
     },
     "execution_count": 4,
     "metadata": {},
     "output_type": "execute_result"
    }
   ],
   "source": [
    "con_names = [\n",
    "    \"TIMESTAMP\", \"DAY_TYPE\", \"TAXI_ID\", \"TRIP_ID\", \"CALL_TYPE\", \"ORIGIN_STAND\",\n",
    "    \"ORIGIN_CALL\", \"MISSING_DATA\", \"POLYLINE\"\n",
    "]\n",
    "\n",
    "# TIMESTSMPの昇順でソート\n",
    "df.sort_values(by=[\"TIMESTAMP\", \"TAXI_ID\"], ascending=True, inplace=True)\n",
    "\n",
    "# 列の並び替え\n",
    "df = df.reindex(con_names, axis=1)\n",
    "\n",
    "# 元の行インデックスをdropし、振りなおす \n",
    "df.reset_index(drop=True, inplace=True)\n",
    "df.head()"
   ]
  },
  {
   "cell_type": "code",
   "execution_count": 5,
   "metadata": {},
   "outputs": [
    {
     "data": {
      "text/plain": [
       "TIMESTAMP         int64\n",
       "DAY_TYPE         object\n",
       "TAXI_ID           int64\n",
       "TRIP_ID           int64\n",
       "CALL_TYPE        object\n",
       "ORIGIN_STAND    float64\n",
       "ORIGIN_CALL     float64\n",
       "MISSING_DATA       bool\n",
       "POLYLINE         object\n",
       "dtype: object"
      ]
     },
     "execution_count": 5,
     "metadata": {},
     "output_type": "execute_result"
    }
   ],
   "source": [
    "df.dtypes"
   ]
  },
  {
   "cell_type": "markdown",
   "metadata": {},
   "source": [
    "### UNIXタイムスタンプを yyyyMMddhhmmss形式に変更"
   ]
  },
  {
   "cell_type": "code",
   "execution_count": 6,
   "metadata": {},
   "outputs": [],
   "source": [
    "df[\"time\"] = pd.to_datetime(df[\"TIMESTAMP\"], unit=\"s\") "
   ]
  },
  {
   "cell_type": "code",
   "execution_count": 7,
   "metadata": {
    "scrolled": false
   },
   "outputs": [
    {
     "data": {
      "text/html": [
       "<div>\n",
       "<style scoped>\n",
       "    .dataframe tbody tr th:only-of-type {\n",
       "        vertical-align: middle;\n",
       "    }\n",
       "\n",
       "    .dataframe tbody tr th {\n",
       "        vertical-align: top;\n",
       "    }\n",
       "\n",
       "    .dataframe thead th {\n",
       "        text-align: right;\n",
       "    }\n",
       "</style>\n",
       "<table border=\"1\" class=\"dataframe\">\n",
       "  <thead>\n",
       "    <tr style=\"text-align: right;\">\n",
       "      <th></th>\n",
       "      <th>TIMESTAMP</th>\n",
       "      <th>DAY_TYPE</th>\n",
       "      <th>TAXI_ID</th>\n",
       "      <th>TRIP_ID</th>\n",
       "      <th>CALL_TYPE</th>\n",
       "      <th>ORIGIN_STAND</th>\n",
       "      <th>ORIGIN_CALL</th>\n",
       "      <th>MISSING_DATA</th>\n",
       "      <th>POLYLINE</th>\n",
       "      <th>time</th>\n",
       "    </tr>\n",
       "  </thead>\n",
       "  <tbody>\n",
       "    <tr>\n",
       "      <th>0</th>\n",
       "      <td>1372636853</td>\n",
       "      <td>A</td>\n",
       "      <td>20000380</td>\n",
       "      <td>1372636853620000380</td>\n",
       "      <td>C</td>\n",
       "      <td>NaN</td>\n",
       "      <td>NaN</td>\n",
       "      <td>False</td>\n",
       "      <td>[[-8.610291,41.140746],[-8.6103,41.140755],[-8...</td>\n",
       "      <td>2013-07-01 00:00:53</td>\n",
       "    </tr>\n",
       "    <tr>\n",
       "      <th>1</th>\n",
       "      <td>1372636854</td>\n",
       "      <td>A</td>\n",
       "      <td>20000520</td>\n",
       "      <td>1372636854620000520</td>\n",
       "      <td>C</td>\n",
       "      <td>NaN</td>\n",
       "      <td>NaN</td>\n",
       "      <td>False</td>\n",
       "      <td>[[-8.574678,41.151951],[-8.574705,41.151942],[...</td>\n",
       "      <td>2013-07-01 00:00:54</td>\n",
       "    </tr>\n",
       "    <tr>\n",
       "      <th>2</th>\n",
       "      <td>1372636858</td>\n",
       "      <td>A</td>\n",
       "      <td>20000589</td>\n",
       "      <td>1372636858620000589</td>\n",
       "      <td>C</td>\n",
       "      <td>NaN</td>\n",
       "      <td>NaN</td>\n",
       "      <td>False</td>\n",
       "      <td>[[-8.618643,41.141412],[-8.618499,41.141376],[...</td>\n",
       "      <td>2013-07-01 00:00:58</td>\n",
       "    </tr>\n",
       "    <tr>\n",
       "      <th>3</th>\n",
       "      <td>1372636875</td>\n",
       "      <td>A</td>\n",
       "      <td>20000233</td>\n",
       "      <td>1372636875620000233</td>\n",
       "      <td>C</td>\n",
       "      <td>NaN</td>\n",
       "      <td>NaN</td>\n",
       "      <td>False</td>\n",
       "      <td>[[-8.619894,41.148009],[-8.620164,41.14773],[-...</td>\n",
       "      <td>2013-07-01 00:01:15</td>\n",
       "    </tr>\n",
       "    <tr>\n",
       "      <th>4</th>\n",
       "      <td>1372636896</td>\n",
       "      <td>A</td>\n",
       "      <td>20000360</td>\n",
       "      <td>1372636896620000360</td>\n",
       "      <td>C</td>\n",
       "      <td>NaN</td>\n",
       "      <td>NaN</td>\n",
       "      <td>False</td>\n",
       "      <td>[[-8.617599,41.146137],[-8.617581,41.14593],[-...</td>\n",
       "      <td>2013-07-01 00:01:36</td>\n",
       "    </tr>\n",
       "  </tbody>\n",
       "</table>\n",
       "</div>"
      ],
      "text/plain": [
       "    TIMESTAMP DAY_TYPE   TAXI_ID              TRIP_ID CALL_TYPE  ORIGIN_STAND  \\\n",
       "0  1372636853        A  20000380  1372636853620000380         C           NaN   \n",
       "1  1372636854        A  20000520  1372636854620000520         C           NaN   \n",
       "2  1372636858        A  20000589  1372636858620000589         C           NaN   \n",
       "3  1372636875        A  20000233  1372636875620000233         C           NaN   \n",
       "4  1372636896        A  20000360  1372636896620000360         C           NaN   \n",
       "\n",
       "   ORIGIN_CALL  MISSING_DATA  \\\n",
       "0          NaN         False   \n",
       "1          NaN         False   \n",
       "2          NaN         False   \n",
       "3          NaN         False   \n",
       "4          NaN         False   \n",
       "\n",
       "                                            POLYLINE                time  \n",
       "0  [[-8.610291,41.140746],[-8.6103,41.140755],[-8... 2013-07-01 00:00:53  \n",
       "1  [[-8.574678,41.151951],[-8.574705,41.151942],[... 2013-07-01 00:00:54  \n",
       "2  [[-8.618643,41.141412],[-8.618499,41.141376],[... 2013-07-01 00:00:58  \n",
       "3  [[-8.619894,41.148009],[-8.620164,41.14773],[-... 2013-07-01 00:01:15  \n",
       "4  [[-8.617599,41.146137],[-8.617581,41.14593],[-... 2013-07-01 00:01:36  "
      ]
     },
     "execution_count": 7,
     "metadata": {},
     "output_type": "execute_result"
    }
   ],
   "source": [
    "df.head()"
   ]
  },
  {
   "cell_type": "markdown",
   "metadata": {},
   "source": [
    "### タイムスタンプを年月日時分秒＋曜日に分ける"
   ]
  },
  {
   "cell_type": "code",
   "execution_count": 8,
   "metadata": {},
   "outputs": [
    {
     "data": {
      "text/plain": [
       "Series([], Name: time, dtype: datetime64[ns])"
      ]
     },
     "execution_count": 8,
     "metadata": {},
     "output_type": "execute_result"
    }
   ],
   "source": [
    "df.iloc[:, 9][:0]"
   ]
  },
  {
   "cell_type": "code",
   "execution_count": 9,
   "metadata": {},
   "outputs": [],
   "source": [
    "# time列（9列目）を、年月日時分秒 + 曜日 で分割する。\n",
    "df[\"year\"] = df.iloc[:, 9].apply(lambda x: x.year)\n",
    "\n",
    "df[\"month\"] = df.iloc[:, 9].apply(lambda x: x.month)\n",
    "\n",
    "df[\"day\"] = df.iloc[:, 9].apply(lambda x: x.day)\n",
    "\n",
    "df[\"weekday\"] = df.iloc[:, 9].apply(lambda x: x.weekday())\n",
    "\n",
    "df[\"hour\"] = df.iloc[:, 9].apply(lambda x: x.hour)\n",
    "\n",
    "df[\"minute\"] = df.iloc[:, 9].apply(lambda x: x.minute)\n",
    "\n",
    "df[\"second\"] = df.iloc[:, 9].apply(lambda x: x.second)"
   ]
  },
  {
   "cell_type": "code",
   "execution_count": 10,
   "metadata": {},
   "outputs": [
    {
     "data": {
      "text/html": [
       "<div>\n",
       "<style scoped>\n",
       "    .dataframe tbody tr th:only-of-type {\n",
       "        vertical-align: middle;\n",
       "    }\n",
       "\n",
       "    .dataframe tbody tr th {\n",
       "        vertical-align: top;\n",
       "    }\n",
       "\n",
       "    .dataframe thead th {\n",
       "        text-align: right;\n",
       "    }\n",
       "</style>\n",
       "<table border=\"1\" class=\"dataframe\">\n",
       "  <thead>\n",
       "    <tr style=\"text-align: right;\">\n",
       "      <th></th>\n",
       "      <th>TIMESTAMP</th>\n",
       "      <th>DAY_TYPE</th>\n",
       "      <th>TAXI_ID</th>\n",
       "      <th>TRIP_ID</th>\n",
       "      <th>CALL_TYPE</th>\n",
       "      <th>ORIGIN_STAND</th>\n",
       "      <th>ORIGIN_CALL</th>\n",
       "      <th>MISSING_DATA</th>\n",
       "      <th>POLYLINE</th>\n",
       "      <th>time</th>\n",
       "      <th>year</th>\n",
       "      <th>month</th>\n",
       "      <th>day</th>\n",
       "      <th>weekday</th>\n",
       "      <th>hour</th>\n",
       "      <th>minute</th>\n",
       "      <th>second</th>\n",
       "    </tr>\n",
       "  </thead>\n",
       "  <tbody>\n",
       "    <tr>\n",
       "      <th>0</th>\n",
       "      <td>1372636853</td>\n",
       "      <td>A</td>\n",
       "      <td>20000380</td>\n",
       "      <td>1372636853620000380</td>\n",
       "      <td>C</td>\n",
       "      <td>NaN</td>\n",
       "      <td>NaN</td>\n",
       "      <td>False</td>\n",
       "      <td>[[-8.610291,41.140746],[-8.6103,41.140755],[-8...</td>\n",
       "      <td>2013-07-01 00:00:53</td>\n",
       "      <td>2013</td>\n",
       "      <td>7</td>\n",
       "      <td>1</td>\n",
       "      <td>0</td>\n",
       "      <td>0</td>\n",
       "      <td>0</td>\n",
       "      <td>53</td>\n",
       "    </tr>\n",
       "    <tr>\n",
       "      <th>1</th>\n",
       "      <td>1372636854</td>\n",
       "      <td>A</td>\n",
       "      <td>20000520</td>\n",
       "      <td>1372636854620000520</td>\n",
       "      <td>C</td>\n",
       "      <td>NaN</td>\n",
       "      <td>NaN</td>\n",
       "      <td>False</td>\n",
       "      <td>[[-8.574678,41.151951],[-8.574705,41.151942],[...</td>\n",
       "      <td>2013-07-01 00:00:54</td>\n",
       "      <td>2013</td>\n",
       "      <td>7</td>\n",
       "      <td>1</td>\n",
       "      <td>0</td>\n",
       "      <td>0</td>\n",
       "      <td>0</td>\n",
       "      <td>54</td>\n",
       "    </tr>\n",
       "    <tr>\n",
       "      <th>2</th>\n",
       "      <td>1372636858</td>\n",
       "      <td>A</td>\n",
       "      <td>20000589</td>\n",
       "      <td>1372636858620000589</td>\n",
       "      <td>C</td>\n",
       "      <td>NaN</td>\n",
       "      <td>NaN</td>\n",
       "      <td>False</td>\n",
       "      <td>[[-8.618643,41.141412],[-8.618499,41.141376],[...</td>\n",
       "      <td>2013-07-01 00:00:58</td>\n",
       "      <td>2013</td>\n",
       "      <td>7</td>\n",
       "      <td>1</td>\n",
       "      <td>0</td>\n",
       "      <td>0</td>\n",
       "      <td>0</td>\n",
       "      <td>58</td>\n",
       "    </tr>\n",
       "    <tr>\n",
       "      <th>3</th>\n",
       "      <td>1372636875</td>\n",
       "      <td>A</td>\n",
       "      <td>20000233</td>\n",
       "      <td>1372636875620000233</td>\n",
       "      <td>C</td>\n",
       "      <td>NaN</td>\n",
       "      <td>NaN</td>\n",
       "      <td>False</td>\n",
       "      <td>[[-8.619894,41.148009],[-8.620164,41.14773],[-...</td>\n",
       "      <td>2013-07-01 00:01:15</td>\n",
       "      <td>2013</td>\n",
       "      <td>7</td>\n",
       "      <td>1</td>\n",
       "      <td>0</td>\n",
       "      <td>0</td>\n",
       "      <td>1</td>\n",
       "      <td>15</td>\n",
       "    </tr>\n",
       "    <tr>\n",
       "      <th>4</th>\n",
       "      <td>1372636896</td>\n",
       "      <td>A</td>\n",
       "      <td>20000360</td>\n",
       "      <td>1372636896620000360</td>\n",
       "      <td>C</td>\n",
       "      <td>NaN</td>\n",
       "      <td>NaN</td>\n",
       "      <td>False</td>\n",
       "      <td>[[-8.617599,41.146137],[-8.617581,41.14593],[-...</td>\n",
       "      <td>2013-07-01 00:01:36</td>\n",
       "      <td>2013</td>\n",
       "      <td>7</td>\n",
       "      <td>1</td>\n",
       "      <td>0</td>\n",
       "      <td>0</td>\n",
       "      <td>1</td>\n",
       "      <td>36</td>\n",
       "    </tr>\n",
       "  </tbody>\n",
       "</table>\n",
       "</div>"
      ],
      "text/plain": [
       "    TIMESTAMP DAY_TYPE   TAXI_ID              TRIP_ID CALL_TYPE  ORIGIN_STAND  \\\n",
       "0  1372636853        A  20000380  1372636853620000380         C           NaN   \n",
       "1  1372636854        A  20000520  1372636854620000520         C           NaN   \n",
       "2  1372636858        A  20000589  1372636858620000589         C           NaN   \n",
       "3  1372636875        A  20000233  1372636875620000233         C           NaN   \n",
       "4  1372636896        A  20000360  1372636896620000360         C           NaN   \n",
       "\n",
       "   ORIGIN_CALL  MISSING_DATA  \\\n",
       "0          NaN         False   \n",
       "1          NaN         False   \n",
       "2          NaN         False   \n",
       "3          NaN         False   \n",
       "4          NaN         False   \n",
       "\n",
       "                                            POLYLINE                time  \\\n",
       "0  [[-8.610291,41.140746],[-8.6103,41.140755],[-8... 2013-07-01 00:00:53   \n",
       "1  [[-8.574678,41.151951],[-8.574705,41.151942],[... 2013-07-01 00:00:54   \n",
       "2  [[-8.618643,41.141412],[-8.618499,41.141376],[... 2013-07-01 00:00:58   \n",
       "3  [[-8.619894,41.148009],[-8.620164,41.14773],[-... 2013-07-01 00:01:15   \n",
       "4  [[-8.617599,41.146137],[-8.617581,41.14593],[-... 2013-07-01 00:01:36   \n",
       "\n",
       "   year  month  day  weekday  hour  minute  second  \n",
       "0  2013      7    1        0     0       0      53  \n",
       "1  2013      7    1        0     0       0      54  \n",
       "2  2013      7    1        0     0       0      58  \n",
       "3  2013      7    1        0     0       1      15  \n",
       "4  2013      7    1        0     0       1      36  "
      ]
     },
     "execution_count": 10,
     "metadata": {},
     "output_type": "execute_result"
    }
   ],
   "source": [
    "df.head()"
   ]
  },
  {
   "cell_type": "code",
   "execution_count": 11,
   "metadata": {},
   "outputs": [],
   "source": [
    "con_names = [\n",
    "    \"TIMESTAMP\", \"year\", \"month\", \"day\", \"weekday\", \"hour\", \"minute\", \"second\", \"DAY_TYPE\",\n",
    "    \"TAXI_ID\", \"TRIP_ID\", \"CALL_TYPE\", \"ORIGIN_STAND\", \"ORIGIN_CALL\",\n",
    "    \"MISSING_DATA\", \"POLYLINE\"\n",
    "]\n",
    "\n",
    "# df.drop(\"TIMESTAMP\", axis=1, inplace=True)\n",
    "df.drop(\"time\", axis=1, inplace=True)\n",
    "\n",
    "df.sort_values(by=[\"year\", \"month\", \"day\", \"hour\", \"minute\", \"second\"], ascending=True, inplace=True)\n",
    "df = df.reindex(con_names, axis=1)"
   ]
  },
  {
   "cell_type": "code",
   "execution_count": 12,
   "metadata": {},
   "outputs": [
    {
     "data": {
      "text/html": [
       "<div>\n",
       "<style scoped>\n",
       "    .dataframe tbody tr th:only-of-type {\n",
       "        vertical-align: middle;\n",
       "    }\n",
       "\n",
       "    .dataframe tbody tr th {\n",
       "        vertical-align: top;\n",
       "    }\n",
       "\n",
       "    .dataframe thead th {\n",
       "        text-align: right;\n",
       "    }\n",
       "</style>\n",
       "<table border=\"1\" class=\"dataframe\">\n",
       "  <thead>\n",
       "    <tr style=\"text-align: right;\">\n",
       "      <th></th>\n",
       "      <th>TIMESTAMP</th>\n",
       "      <th>year</th>\n",
       "      <th>month</th>\n",
       "      <th>day</th>\n",
       "      <th>weekday</th>\n",
       "      <th>hour</th>\n",
       "      <th>minute</th>\n",
       "      <th>second</th>\n",
       "      <th>DAY_TYPE</th>\n",
       "      <th>TAXI_ID</th>\n",
       "      <th>TRIP_ID</th>\n",
       "      <th>CALL_TYPE</th>\n",
       "      <th>ORIGIN_STAND</th>\n",
       "      <th>ORIGIN_CALL</th>\n",
       "      <th>MISSING_DATA</th>\n",
       "      <th>POLYLINE</th>\n",
       "    </tr>\n",
       "  </thead>\n",
       "  <tbody>\n",
       "    <tr>\n",
       "      <th>0</th>\n",
       "      <td>1372636853</td>\n",
       "      <td>2013</td>\n",
       "      <td>7</td>\n",
       "      <td>1</td>\n",
       "      <td>0</td>\n",
       "      <td>0</td>\n",
       "      <td>0</td>\n",
       "      <td>53</td>\n",
       "      <td>A</td>\n",
       "      <td>20000380</td>\n",
       "      <td>1372636853620000380</td>\n",
       "      <td>C</td>\n",
       "      <td>NaN</td>\n",
       "      <td>NaN</td>\n",
       "      <td>False</td>\n",
       "      <td>[[-8.610291,41.140746],[-8.6103,41.140755],[-8...</td>\n",
       "    </tr>\n",
       "    <tr>\n",
       "      <th>1</th>\n",
       "      <td>1372636854</td>\n",
       "      <td>2013</td>\n",
       "      <td>7</td>\n",
       "      <td>1</td>\n",
       "      <td>0</td>\n",
       "      <td>0</td>\n",
       "      <td>0</td>\n",
       "      <td>54</td>\n",
       "      <td>A</td>\n",
       "      <td>20000520</td>\n",
       "      <td>1372636854620000520</td>\n",
       "      <td>C</td>\n",
       "      <td>NaN</td>\n",
       "      <td>NaN</td>\n",
       "      <td>False</td>\n",
       "      <td>[[-8.574678,41.151951],[-8.574705,41.151942],[...</td>\n",
       "    </tr>\n",
       "    <tr>\n",
       "      <th>2</th>\n",
       "      <td>1372636858</td>\n",
       "      <td>2013</td>\n",
       "      <td>7</td>\n",
       "      <td>1</td>\n",
       "      <td>0</td>\n",
       "      <td>0</td>\n",
       "      <td>0</td>\n",
       "      <td>58</td>\n",
       "      <td>A</td>\n",
       "      <td>20000589</td>\n",
       "      <td>1372636858620000589</td>\n",
       "      <td>C</td>\n",
       "      <td>NaN</td>\n",
       "      <td>NaN</td>\n",
       "      <td>False</td>\n",
       "      <td>[[-8.618643,41.141412],[-8.618499,41.141376],[...</td>\n",
       "    </tr>\n",
       "    <tr>\n",
       "      <th>3</th>\n",
       "      <td>1372636875</td>\n",
       "      <td>2013</td>\n",
       "      <td>7</td>\n",
       "      <td>1</td>\n",
       "      <td>0</td>\n",
       "      <td>0</td>\n",
       "      <td>1</td>\n",
       "      <td>15</td>\n",
       "      <td>A</td>\n",
       "      <td>20000233</td>\n",
       "      <td>1372636875620000233</td>\n",
       "      <td>C</td>\n",
       "      <td>NaN</td>\n",
       "      <td>NaN</td>\n",
       "      <td>False</td>\n",
       "      <td>[[-8.619894,41.148009],[-8.620164,41.14773],[-...</td>\n",
       "    </tr>\n",
       "    <tr>\n",
       "      <th>4</th>\n",
       "      <td>1372636896</td>\n",
       "      <td>2013</td>\n",
       "      <td>7</td>\n",
       "      <td>1</td>\n",
       "      <td>0</td>\n",
       "      <td>0</td>\n",
       "      <td>1</td>\n",
       "      <td>36</td>\n",
       "      <td>A</td>\n",
       "      <td>20000360</td>\n",
       "      <td>1372636896620000360</td>\n",
       "      <td>C</td>\n",
       "      <td>NaN</td>\n",
       "      <td>NaN</td>\n",
       "      <td>False</td>\n",
       "      <td>[[-8.617599,41.146137],[-8.617581,41.14593],[-...</td>\n",
       "    </tr>\n",
       "  </tbody>\n",
       "</table>\n",
       "</div>"
      ],
      "text/plain": [
       "    TIMESTAMP  year  month  day  weekday  hour  minute  second DAY_TYPE  \\\n",
       "0  1372636853  2013      7    1        0     0       0      53        A   \n",
       "1  1372636854  2013      7    1        0     0       0      54        A   \n",
       "2  1372636858  2013      7    1        0     0       0      58        A   \n",
       "3  1372636875  2013      7    1        0     0       1      15        A   \n",
       "4  1372636896  2013      7    1        0     0       1      36        A   \n",
       "\n",
       "    TAXI_ID              TRIP_ID CALL_TYPE  ORIGIN_STAND  ORIGIN_CALL  \\\n",
       "0  20000380  1372636853620000380         C           NaN          NaN   \n",
       "1  20000520  1372636854620000520         C           NaN          NaN   \n",
       "2  20000589  1372636858620000589         C           NaN          NaN   \n",
       "3  20000233  1372636875620000233         C           NaN          NaN   \n",
       "4  20000360  1372636896620000360         C           NaN          NaN   \n",
       "\n",
       "   MISSING_DATA                                           POLYLINE  \n",
       "0         False  [[-8.610291,41.140746],[-8.6103,41.140755],[-8...  \n",
       "1         False  [[-8.574678,41.151951],[-8.574705,41.151942],[...  \n",
       "2         False  [[-8.618643,41.141412],[-8.618499,41.141376],[...  \n",
       "3         False  [[-8.619894,41.148009],[-8.620164,41.14773],[-...  \n",
       "4         False  [[-8.617599,41.146137],[-8.617581,41.14593],[-...  "
      ]
     },
     "execution_count": 12,
     "metadata": {},
     "output_type": "execute_result"
    }
   ],
   "source": [
    "df.head()"
   ]
  },
  {
   "cell_type": "code",
   "execution_count": null,
   "metadata": {},
   "outputs": [],
   "source": [
    "# 複合インデックスとして再作成\n",
    "# df.set_index([\"year\", \"month\", \"day\", \"weekday\", \"hour\"], inplace=True)"
   ]
  },
  {
   "cell_type": "code",
   "execution_count": 13,
   "metadata": {},
   "outputs": [
    {
     "data": {
      "text/html": [
       "<div>\n",
       "<style scoped>\n",
       "    .dataframe tbody tr th:only-of-type {\n",
       "        vertical-align: middle;\n",
       "    }\n",
       "\n",
       "    .dataframe tbody tr th {\n",
       "        vertical-align: top;\n",
       "    }\n",
       "\n",
       "    .dataframe thead th {\n",
       "        text-align: right;\n",
       "    }\n",
       "</style>\n",
       "<table border=\"1\" class=\"dataframe\">\n",
       "  <thead>\n",
       "    <tr style=\"text-align: right;\">\n",
       "      <th></th>\n",
       "      <th>TIMESTAMP</th>\n",
       "      <th>year</th>\n",
       "      <th>month</th>\n",
       "      <th>day</th>\n",
       "      <th>weekday</th>\n",
       "      <th>hour</th>\n",
       "      <th>minute</th>\n",
       "      <th>second</th>\n",
       "      <th>DAY_TYPE</th>\n",
       "      <th>TAXI_ID</th>\n",
       "      <th>TRIP_ID</th>\n",
       "      <th>CALL_TYPE</th>\n",
       "      <th>ORIGIN_STAND</th>\n",
       "      <th>ORIGIN_CALL</th>\n",
       "      <th>MISSING_DATA</th>\n",
       "      <th>POLYLINE</th>\n",
       "    </tr>\n",
       "  </thead>\n",
       "  <tbody>\n",
       "    <tr>\n",
       "      <th>0</th>\n",
       "      <td>1372636853</td>\n",
       "      <td>2013</td>\n",
       "      <td>7</td>\n",
       "      <td>1</td>\n",
       "      <td>0</td>\n",
       "      <td>0</td>\n",
       "      <td>0</td>\n",
       "      <td>53</td>\n",
       "      <td>A</td>\n",
       "      <td>20000380</td>\n",
       "      <td>1372636853620000380</td>\n",
       "      <td>C</td>\n",
       "      <td>NaN</td>\n",
       "      <td>NaN</td>\n",
       "      <td>False</td>\n",
       "      <td>[[-8.610291,41.140746],[-8.6103,41.140755],[-8...</td>\n",
       "    </tr>\n",
       "    <tr>\n",
       "      <th>868</th>\n",
       "      <td>1372665614</td>\n",
       "      <td>2013</td>\n",
       "      <td>7</td>\n",
       "      <td>1</td>\n",
       "      <td>0</td>\n",
       "      <td>8</td>\n",
       "      <td>0</td>\n",
       "      <td>14</td>\n",
       "      <td>A</td>\n",
       "      <td>20000380</td>\n",
       "      <td>1372665614620000380</td>\n",
       "      <td>A</td>\n",
       "      <td>NaN</td>\n",
       "      <td>8221.0</td>\n",
       "      <td>False</td>\n",
       "      <td>[[-8.611668,41.168817],[-8.611632,41.168781],[...</td>\n",
       "    </tr>\n",
       "    <tr>\n",
       "      <th>1006</th>\n",
       "      <td>1372667141</td>\n",
       "      <td>2013</td>\n",
       "      <td>7</td>\n",
       "      <td>1</td>\n",
       "      <td>0</td>\n",
       "      <td>8</td>\n",
       "      <td>25</td>\n",
       "      <td>41</td>\n",
       "      <td>A</td>\n",
       "      <td>20000380</td>\n",
       "      <td>1372667141620000380</td>\n",
       "      <td>A</td>\n",
       "      <td>NaN</td>\n",
       "      <td>2002.0</td>\n",
       "      <td>False</td>\n",
       "      <td>[[-8.640162,41.166153],[-8.640162,41.166162],[...</td>\n",
       "    </tr>\n",
       "  </tbody>\n",
       "</table>\n",
       "</div>"
      ],
      "text/plain": [
       "       TIMESTAMP  year  month  day  weekday  hour  minute  second DAY_TYPE  \\\n",
       "0     1372636853  2013      7    1        0     0       0      53        A   \n",
       "868   1372665614  2013      7    1        0     8       0      14        A   \n",
       "1006  1372667141  2013      7    1        0     8      25      41        A   \n",
       "\n",
       "       TAXI_ID              TRIP_ID CALL_TYPE  ORIGIN_STAND  ORIGIN_CALL  \\\n",
       "0     20000380  1372636853620000380         C           NaN          NaN   \n",
       "868   20000380  1372665614620000380         A           NaN       8221.0   \n",
       "1006  20000380  1372667141620000380         A           NaN       2002.0   \n",
       "\n",
       "      MISSING_DATA                                           POLYLINE  \n",
       "0            False  [[-8.610291,41.140746],[-8.6103,41.140755],[-8...  \n",
       "868          False  [[-8.611668,41.168817],[-8.611632,41.168781],[...  \n",
       "1006         False  [[-8.640162,41.166153],[-8.640162,41.166162],[...  "
      ]
     },
     "execution_count": 13,
     "metadata": {},
     "output_type": "execute_result"
    }
   ],
   "source": [
    "df[df[\"TAXI_ID\"] == 20000380].head(3)"
   ]
  },
  {
   "cell_type": "code",
   "execution_count": 14,
   "metadata": {},
   "outputs": [
    {
     "data": {
      "text/html": [
       "<div>\n",
       "<style scoped>\n",
       "    .dataframe tbody tr th:only-of-type {\n",
       "        vertical-align: middle;\n",
       "    }\n",
       "\n",
       "    .dataframe tbody tr th {\n",
       "        vertical-align: top;\n",
       "    }\n",
       "\n",
       "    .dataframe thead th {\n",
       "        text-align: right;\n",
       "    }\n",
       "</style>\n",
       "<table border=\"1\" class=\"dataframe\">\n",
       "  <thead>\n",
       "    <tr style=\"text-align: right;\">\n",
       "      <th></th>\n",
       "      <th>TIMESTAMP</th>\n",
       "      <th>year</th>\n",
       "      <th>month</th>\n",
       "      <th>day</th>\n",
       "      <th>weekday</th>\n",
       "      <th>hour</th>\n",
       "      <th>minute</th>\n",
       "      <th>second</th>\n",
       "      <th>DAY_TYPE</th>\n",
       "      <th>TAXI_ID</th>\n",
       "      <th>TRIP_ID</th>\n",
       "      <th>CALL_TYPE</th>\n",
       "      <th>ORIGIN_STAND</th>\n",
       "      <th>ORIGIN_CALL</th>\n",
       "      <th>MISSING_DATA</th>\n",
       "      <th>POLYLINE</th>\n",
       "    </tr>\n",
       "  </thead>\n",
       "  <tbody>\n",
       "    <tr>\n",
       "      <th>105726</th>\n",
       "      <td>1374554455</td>\n",
       "      <td>2013</td>\n",
       "      <td>7</td>\n",
       "      <td>23</td>\n",
       "      <td>1</td>\n",
       "      <td>4</td>\n",
       "      <td>40</td>\n",
       "      <td>55</td>\n",
       "      <td>A</td>\n",
       "      <td>20000625</td>\n",
       "      <td>1374554455620000625</td>\n",
       "      <td>B</td>\n",
       "      <td>23.0</td>\n",
       "      <td>NaN</td>\n",
       "      <td>True</td>\n",
       "      <td>[[-8.612559,41.145975],[-8.612577,41.145975],[...</td>\n",
       "    </tr>\n",
       "    <tr>\n",
       "      <th>171456</th>\n",
       "      <td>1375863510</td>\n",
       "      <td>2013</td>\n",
       "      <td>8</td>\n",
       "      <td>7</td>\n",
       "      <td>2</td>\n",
       "      <td>8</td>\n",
       "      <td>18</td>\n",
       "      <td>30</td>\n",
       "      <td>A</td>\n",
       "      <td>20000454</td>\n",
       "      <td>1375863510620000454</td>\n",
       "      <td>B</td>\n",
       "      <td>62.0</td>\n",
       "      <td>NaN</td>\n",
       "      <td>True</td>\n",
       "      <td>[[-0.205893,41.010282]]</td>\n",
       "    </tr>\n",
       "    <tr>\n",
       "      <th>299257</th>\n",
       "      <td>1378544246</td>\n",
       "      <td>2013</td>\n",
       "      <td>9</td>\n",
       "      <td>7</td>\n",
       "      <td>5</td>\n",
       "      <td>8</td>\n",
       "      <td>57</td>\n",
       "      <td>26</td>\n",
       "      <td>A</td>\n",
       "      <td>20000057</td>\n",
       "      <td>1378544246620000057</td>\n",
       "      <td>B</td>\n",
       "      <td>55.0</td>\n",
       "      <td>NaN</td>\n",
       "      <td>True</td>\n",
       "      <td>[[-8.569719,41.166135],[-8.567928,41.166477],[...</td>\n",
       "    </tr>\n",
       "    <tr>\n",
       "      <th>456708</th>\n",
       "      <td>1381233613</td>\n",
       "      <td>2013</td>\n",
       "      <td>10</td>\n",
       "      <td>8</td>\n",
       "      <td>1</td>\n",
       "      <td>12</td>\n",
       "      <td>0</td>\n",
       "      <td>13</td>\n",
       "      <td>A</td>\n",
       "      <td>20000387</td>\n",
       "      <td>1381233613620000387</td>\n",
       "      <td>C</td>\n",
       "      <td>NaN</td>\n",
       "      <td>NaN</td>\n",
       "      <td>True</td>\n",
       "      <td>[[-8.626347,41.153436],[-8.626275,41.152905],[...</td>\n",
       "    </tr>\n",
       "    <tr>\n",
       "      <th>737559</th>\n",
       "      <td>1386346894</td>\n",
       "      <td>2013</td>\n",
       "      <td>12</td>\n",
       "      <td>6</td>\n",
       "      <td>4</td>\n",
       "      <td>16</td>\n",
       "      <td>21</td>\n",
       "      <td>34</td>\n",
       "      <td>A</td>\n",
       "      <td>20000904</td>\n",
       "      <td>1386346894620000904</td>\n",
       "      <td>C</td>\n",
       "      <td>NaN</td>\n",
       "      <td>NaN</td>\n",
       "      <td>True</td>\n",
       "      <td>[[-8.652816,40.636575],[-8.652807,40.636566],[...</td>\n",
       "    </tr>\n",
       "    <tr>\n",
       "      <th>782437</th>\n",
       "      <td>1387137779</td>\n",
       "      <td>2013</td>\n",
       "      <td>12</td>\n",
       "      <td>15</td>\n",
       "      <td>6</td>\n",
       "      <td>20</td>\n",
       "      <td>2</td>\n",
       "      <td>59</td>\n",
       "      <td>A</td>\n",
       "      <td>20000640</td>\n",
       "      <td>1387137779620000640</td>\n",
       "      <td>C</td>\n",
       "      <td>NaN</td>\n",
       "      <td>NaN</td>\n",
       "      <td>True</td>\n",
       "      <td>[[-8.604558,41.161941],[-8.604477,41.162013],[...</td>\n",
       "    </tr>\n",
       "    <tr>\n",
       "      <th>848772</th>\n",
       "      <td>1388351478</td>\n",
       "      <td>2013</td>\n",
       "      <td>12</td>\n",
       "      <td>29</td>\n",
       "      <td>6</td>\n",
       "      <td>21</td>\n",
       "      <td>11</td>\n",
       "      <td>18</td>\n",
       "      <td>A</td>\n",
       "      <td>20000678</td>\n",
       "      <td>1388351478620000678</td>\n",
       "      <td>A</td>\n",
       "      <td>NaN</td>\n",
       "      <td>9738.0</td>\n",
       "      <td>True</td>\n",
       "      <td>[[-8.609697,41.160276],[-8.609571,41.16033],[-...</td>\n",
       "    </tr>\n",
       "    <tr>\n",
       "      <th>932616</th>\n",
       "      <td>1390005983</td>\n",
       "      <td>2014</td>\n",
       "      <td>1</td>\n",
       "      <td>18</td>\n",
       "      <td>5</td>\n",
       "      <td>0</td>\n",
       "      <td>46</td>\n",
       "      <td>23</td>\n",
       "      <td>A</td>\n",
       "      <td>20000640</td>\n",
       "      <td>1390005983620000640</td>\n",
       "      <td>C</td>\n",
       "      <td>NaN</td>\n",
       "      <td>NaN</td>\n",
       "      <td>True</td>\n",
       "      <td>[[-8.604792,41.16123],[-8.604801,41.161167],[-...</td>\n",
       "    </tr>\n",
       "    <tr>\n",
       "      <th>1276188</th>\n",
       "      <td>1396631707</td>\n",
       "      <td>2014</td>\n",
       "      <td>4</td>\n",
       "      <td>4</td>\n",
       "      <td>4</td>\n",
       "      <td>17</td>\n",
       "      <td>15</td>\n",
       "      <td>7</td>\n",
       "      <td>A</td>\n",
       "      <td>20000163</td>\n",
       "      <td>1396631707620000163</td>\n",
       "      <td>C</td>\n",
       "      <td>NaN</td>\n",
       "      <td>NaN</td>\n",
       "      <td>True</td>\n",
       "      <td>[[-10.634022,43.834248]]</td>\n",
       "    </tr>\n",
       "    <tr>\n",
       "      <th>1428555</th>\n",
       "      <td>1399405185</td>\n",
       "      <td>2014</td>\n",
       "      <td>5</td>\n",
       "      <td>6</td>\n",
       "      <td>1</td>\n",
       "      <td>19</td>\n",
       "      <td>39</td>\n",
       "      <td>45</td>\n",
       "      <td>A</td>\n",
       "      <td>20000508</td>\n",
       "      <td>1399405185620000508</td>\n",
       "      <td>C</td>\n",
       "      <td>NaN</td>\n",
       "      <td>NaN</td>\n",
       "      <td>True</td>\n",
       "      <td>[[-8.620011,41.14683],[-8.619957,41.146659],[-...</td>\n",
       "    </tr>\n",
       "  </tbody>\n",
       "</table>\n",
       "</div>"
      ],
      "text/plain": [
       "          TIMESTAMP  year  month  day  weekday  hour  minute  second DAY_TYPE  \\\n",
       "105726   1374554455  2013      7   23        1     4      40      55        A   \n",
       "171456   1375863510  2013      8    7        2     8      18      30        A   \n",
       "299257   1378544246  2013      9    7        5     8      57      26        A   \n",
       "456708   1381233613  2013     10    8        1    12       0      13        A   \n",
       "737559   1386346894  2013     12    6        4    16      21      34        A   \n",
       "782437   1387137779  2013     12   15        6    20       2      59        A   \n",
       "848772   1388351478  2013     12   29        6    21      11      18        A   \n",
       "932616   1390005983  2014      1   18        5     0      46      23        A   \n",
       "1276188  1396631707  2014      4    4        4    17      15       7        A   \n",
       "1428555  1399405185  2014      5    6        1    19      39      45        A   \n",
       "\n",
       "          TAXI_ID              TRIP_ID CALL_TYPE  ORIGIN_STAND  ORIGIN_CALL  \\\n",
       "105726   20000625  1374554455620000625         B          23.0          NaN   \n",
       "171456   20000454  1375863510620000454         B          62.0          NaN   \n",
       "299257   20000057  1378544246620000057         B          55.0          NaN   \n",
       "456708   20000387  1381233613620000387         C           NaN          NaN   \n",
       "737559   20000904  1386346894620000904         C           NaN          NaN   \n",
       "782437   20000640  1387137779620000640         C           NaN          NaN   \n",
       "848772   20000678  1388351478620000678         A           NaN       9738.0   \n",
       "932616   20000640  1390005983620000640         C           NaN          NaN   \n",
       "1276188  20000163  1396631707620000163         C           NaN          NaN   \n",
       "1428555  20000508  1399405185620000508         C           NaN          NaN   \n",
       "\n",
       "         MISSING_DATA                                           POLYLINE  \n",
       "105726           True  [[-8.612559,41.145975],[-8.612577,41.145975],[...  \n",
       "171456           True                            [[-0.205893,41.010282]]  \n",
       "299257           True  [[-8.569719,41.166135],[-8.567928,41.166477],[...  \n",
       "456708           True  [[-8.626347,41.153436],[-8.626275,41.152905],[...  \n",
       "737559           True  [[-8.652816,40.636575],[-8.652807,40.636566],[...  \n",
       "782437           True  [[-8.604558,41.161941],[-8.604477,41.162013],[...  \n",
       "848772           True  [[-8.609697,41.160276],[-8.609571,41.16033],[-...  \n",
       "932616           True  [[-8.604792,41.16123],[-8.604801,41.161167],[-...  \n",
       "1276188          True                           [[-10.634022,43.834248]]  \n",
       "1428555          True  [[-8.620011,41.14683],[-8.619957,41.146659],[-...  "
      ]
     },
     "execution_count": 14,
     "metadata": {},
     "output_type": "execute_result"
    }
   ],
   "source": [
    "df[df[\"MISSING_DATA\"] != False]"
   ]
  },
  {
   "cell_type": "code",
   "execution_count": 15,
   "metadata": {},
   "outputs": [
    {
     "data": {
      "text/plain": [
       "(1710670, 16)"
      ]
     },
     "execution_count": 15,
     "metadata": {},
     "output_type": "execute_result"
    }
   ],
   "source": [
    "df.shape"
   ]
  },
  {
   "cell_type": "code",
   "execution_count": 16,
   "metadata": {},
   "outputs": [
    {
     "data": {
      "text/plain": [
       "(364770, 16)"
      ]
     },
     "execution_count": 16,
     "metadata": {},
     "output_type": "execute_result"
    }
   ],
   "source": [
    "# 配車センターから乗った\n",
    "df[df[\"CALL_TYPE\"] == \"A\"].shape"
   ]
  },
  {
   "cell_type": "code",
   "execution_count": 17,
   "metadata": {},
   "outputs": [
    {
     "data": {
      "text/plain": [
       "(817881, 16)"
      ]
     },
     "execution_count": 17,
     "metadata": {},
     "output_type": "execute_result"
    }
   ],
   "source": [
    "# タクシー乗り場から乗車\n",
    "df[df[\"CALL_TYPE\"] == \"B\"].shape"
   ]
  },
  {
   "cell_type": "code",
   "execution_count": 18,
   "metadata": {},
   "outputs": [
    {
     "data": {
      "text/plain": [
       "(528019, 16)"
      ]
     },
     "execution_count": 18,
     "metadata": {},
     "output_type": "execute_result"
    }
   ],
   "source": [
    "# 流して乗車\n",
    "df[df[\"CALL_TYPE\"] == \"C\"].shape"
   ]
  },
  {
   "cell_type": "code",
   "execution_count": 19,
   "metadata": {},
   "outputs": [
    {
     "data": {
      "text/html": [
       "<div>\n",
       "<style scoped>\n",
       "    .dataframe tbody tr th:only-of-type {\n",
       "        vertical-align: middle;\n",
       "    }\n",
       "\n",
       "    .dataframe tbody tr th {\n",
       "        vertical-align: top;\n",
       "    }\n",
       "\n",
       "    .dataframe thead th {\n",
       "        text-align: right;\n",
       "    }\n",
       "</style>\n",
       "<table border=\"1\" class=\"dataframe\">\n",
       "  <thead>\n",
       "    <tr style=\"text-align: right;\">\n",
       "      <th></th>\n",
       "      <th>TIMESTAMP</th>\n",
       "      <th>year</th>\n",
       "      <th>month</th>\n",
       "      <th>day</th>\n",
       "      <th>weekday</th>\n",
       "      <th>hour</th>\n",
       "      <th>minute</th>\n",
       "      <th>second</th>\n",
       "      <th>DAY_TYPE</th>\n",
       "      <th>TAXI_ID</th>\n",
       "      <th>TRIP_ID</th>\n",
       "      <th>CALL_TYPE</th>\n",
       "      <th>ORIGIN_STAND</th>\n",
       "      <th>ORIGIN_CALL</th>\n",
       "      <th>MISSING_DATA</th>\n",
       "      <th>POLYLINE</th>\n",
       "    </tr>\n",
       "  </thead>\n",
       "  <tbody>\n",
       "    <tr>\n",
       "      <th>0</th>\n",
       "      <td>1372636853</td>\n",
       "      <td>2013</td>\n",
       "      <td>7</td>\n",
       "      <td>1</td>\n",
       "      <td>0</td>\n",
       "      <td>0</td>\n",
       "      <td>0</td>\n",
       "      <td>53</td>\n",
       "      <td>A</td>\n",
       "      <td>20000380</td>\n",
       "      <td>1372636853620000380</td>\n",
       "      <td>C</td>\n",
       "      <td>NaN</td>\n",
       "      <td>NaN</td>\n",
       "      <td>False</td>\n",
       "      <td>[[-8.610291,41.140746],[-8.6103,41.140755],[-8...</td>\n",
       "    </tr>\n",
       "  </tbody>\n",
       "</table>\n",
       "</div>"
      ],
      "text/plain": [
       "    TIMESTAMP  year  month  day  weekday  hour  minute  second DAY_TYPE  \\\n",
       "0  1372636853  2013      7    1        0     0       0      53        A   \n",
       "\n",
       "    TAXI_ID              TRIP_ID CALL_TYPE  ORIGIN_STAND  ORIGIN_CALL  \\\n",
       "0  20000380  1372636853620000380         C           NaN          NaN   \n",
       "\n",
       "   MISSING_DATA                                           POLYLINE  \n",
       "0         False  [[-8.610291,41.140746],[-8.6103,41.140755],[-8...  "
      ]
     },
     "execution_count": 19,
     "metadata": {},
     "output_type": "execute_result"
    }
   ],
   "source": [
    "df[df[\"TRIP_ID\"] == 1372636853620000380]"
   ]
  },
  {
   "cell_type": "code",
   "execution_count": 20,
   "metadata": {},
   "outputs": [
    {
     "data": {
      "text/plain": [
       "float"
      ]
     },
     "execution_count": 20,
     "metadata": {},
     "output_type": "execute_result"
    }
   ],
   "source": [
    "str = \"123.456\"\n",
    "type(float(str))"
   ]
  },
  {
   "cell_type": "code",
   "execution_count": 21,
   "metadata": {},
   "outputs": [
    {
     "data": {
      "text/plain": [
       "pandas.core.series.Series"
      ]
     },
     "execution_count": 21,
     "metadata": {},
     "output_type": "execute_result"
    }
   ],
   "source": [
    "type(df[df[\"TRIP_ID\"] == 1372636853620000380][\"POLYLINE\"])"
   ]
  },
  {
   "cell_type": "code",
   "execution_count": 22,
   "metadata": {},
   "outputs": [
    {
     "data": {
      "text/plain": [
       "'[[-8.610291,41.140746],[-8.6103,41.140755],[-8.610309,41.14089],[-8.613657,41.141358],[-8.614602,41.141484],[-8.614242,41.142618],[-8.61363,41.143239],[-8.612883,41.143761],[-8.612208,41.144238],[-8.611542,41.144724],[-8.611227,41.144931],[-8.611191,41.14494],[-8.611101,41.145012],[-8.610822,41.145552],[-8.610516,41.146119],[-8.609355,41.146695],[-8.608311,41.147694],[-8.607051,41.148468],[-8.604792,41.147883],[-8.604045,41.147685],[-8.603865,41.146956],[-8.604531,41.146182],[-8.605593,41.145534],[-8.605854,41.145345],[-8.60589,41.145345]]'"
      ]
     },
     "execution_count": 22,
     "metadata": {},
     "output_type": "execute_result"
    }
   ],
   "source": [
    "# シリーズ\n",
    "polyline = df[df[\"TRIP_ID\"] == 1372636853620000380][\"POLYLINE\"]\n",
    "# numpy.ndarray\n",
    "polyline = polyline.values\n",
    "polyline = polyline[0]\n",
    "polyline"
   ]
  },
  {
   "cell_type": "markdown",
   "metadata": {},
   "source": [
    "### POLYLINEの中身をfloatの配列に変換"
   ]
  },
  {
   "cell_type": "code",
   "execution_count": 23,
   "metadata": {},
   "outputs": [],
   "source": [
    "# POLYLINEの中身をfloatの配列に変換\n",
    "def convert_float_list(polyline: str):\n",
    "\n",
    "    cordinate = polyline.replace(\"[\", \"\")\n",
    "    cordinate = cordinate.replace(\"]\", \"\")\n",
    "    str_arr = cordinate.split(\",\")\n",
    "\n",
    "    cord_list = []\n",
    "    each_cord = []\n",
    "\n",
    "    for i, e in enumerate(str_arr):\n",
    "\n",
    "        try:\n",
    "            if i % 2 == 0:\n",
    "                each_cord = []\n",
    "                each_cord.append(float(e))\n",
    "            else:\n",
    "                each_cord.append(float(e))\n",
    "                cord_list.append(each_cord)\n",
    "        except:\n",
    "            print(\"### i = \", i)\n",
    "            print(\"### e = \", e)\n",
    "            \n",
    "            break\n",
    "\n",
    "    return cord_list"
   ]
  },
  {
   "cell_type": "code",
   "execution_count": 24,
   "metadata": {},
   "outputs": [
    {
     "data": {
      "text/plain": [
       "'[[-8.610291,41.140746],[-8.6103,41.140755],[-8.610309,41.14089],[-8.613657,41.141358],[-8.614602,41.141484],[-8.614242,41.142618],[-8.61363,41.143239],[-8.612883,41.143761],[-8.612208,41.144238],[-8.611542,41.144724],[-8.611227,41.144931],[-8.611191,41.14494],[-8.611101,41.145012],[-8.610822,41.145552],[-8.610516,41.146119],[-8.609355,41.146695],[-8.608311,41.147694],[-8.607051,41.148468],[-8.604792,41.147883],[-8.604045,41.147685],[-8.603865,41.146956],[-8.604531,41.146182],[-8.605593,41.145534],[-8.605854,41.145345],[-8.60589,41.145345]]'"
      ]
     },
     "execution_count": 24,
     "metadata": {},
     "output_type": "execute_result"
    }
   ],
   "source": [
    "df[\"POLYLINE\"].iloc[0]"
   ]
  },
  {
   "cell_type": "code",
   "execution_count": 26,
   "metadata": {},
   "outputs": [],
   "source": [
    "# df[\"POLYLINE\"] = df[\"POLYLINE\"].apply(convert_float_list)"
   ]
  },
  {
   "cell_type": "code",
   "execution_count": null,
   "metadata": {},
   "outputs": [],
   "source": [
    "df[\"POLYLINE\"].iloc[0]"
   ]
  },
  {
   "cell_type": "code",
   "execution_count": 27,
   "metadata": {},
   "outputs": [
    {
     "data": {
      "text/plain": [
       "'[[-8.610291,41.140746],[-8.6103,41.140755]]'"
      ]
     },
     "execution_count": 27,
     "metadata": {},
     "output_type": "execute_result"
    }
   ],
   "source": [
    "# floatに変換\n",
    "a = \"[[-8.610291,41.140746],[-8.6103,41.140755]]\"\n",
    "# a = [[-8.610291,41.140746],[-8.6103,41.140755]]\n",
    "a"
   ]
  },
  {
   "cell_type": "code",
   "execution_count": 28,
   "metadata": {},
   "outputs": [
    {
     "data": {
      "text/plain": [
       "[-8.610291, 41.140746, -8.6103, 41.140755]"
      ]
     },
     "execution_count": 28,
     "metadata": {},
     "output_type": "execute_result"
    }
   ],
   "source": [
    "a = a.replace(\"[\", \"\")\n",
    "a = a.replace(\"]\", \"\")\n",
    "# a = a.split(\",\")\n",
    "arr = a.split(\",\")\n",
    "\n",
    "# 数値の配列に変換\n",
    "arr = list(map(float, arr))\n",
    "arr"
   ]
  },
  {
   "cell_type": "markdown",
   "metadata": {},
   "source": [
    "## 乗車率の算出\n",
    "\n",
    "### 乗車率の定義\n",
    "1日の乗車時間（秒）/ 24 * 60 * 60(秒）    \n",
    "\n",
    "※日跨ぎで働くドライバーでも1日の稼働時間は同じという前提。   \n",
    "例）9-18（8h）、22-25(1h）＋ 10-15(5h）＋22-25(2h）　"
   ]
  },
  {
   "cell_type": "code",
   "execution_count": null,
   "metadata": {},
   "outputs": [],
   "source": [
    "def calc_working_rate(arr: ndarray):\n",
    "    \n",
    "    # 24 * 60 * 60 = 86400\n",
    "    return ( arr.sum() / 86400) * 100"
   ]
  },
  {
   "cell_type": "code",
   "execution_count": null,
   "metadata": {},
   "outputs": [],
   "source": [
    "24 * 60 * 60"
   ]
  },
  {
   "cell_type": "code",
   "execution_count": null,
   "metadata": {},
   "outputs": [],
   "source": []
  },
  {
   "cell_type": "code",
   "execution_count": null,
   "metadata": {},
   "outputs": [],
   "source": []
  },
  {
   "cell_type": "code",
   "execution_count": null,
   "metadata": {},
   "outputs": [],
   "source": []
  }
 ],
 "metadata": {
  "kernelspec": {
   "display_name": "Python 3",
   "language": "python",
   "name": "python3"
  },
  "language_info": {
   "codemirror_mode": {
    "name": "ipython",
    "version": 3
   },
   "file_extension": ".py",
   "mimetype": "text/x-python",
   "name": "python",
   "nbconvert_exporter": "python",
   "pygments_lexer": "ipython3",
   "version": "3.6.4"
  },
  "toc": {
   "base_numbering": 1,
   "nav_menu": {},
   "number_sections": true,
   "sideBar": true,
   "skip_h1_title": true,
   "title_cell": "Table of Contents",
   "title_sidebar": "Contents",
   "toc_cell": true,
   "toc_position": {},
   "toc_section_display": true,
   "toc_window_display": true
  }
 },
 "nbformat": 4,
 "nbformat_minor": 2
}
