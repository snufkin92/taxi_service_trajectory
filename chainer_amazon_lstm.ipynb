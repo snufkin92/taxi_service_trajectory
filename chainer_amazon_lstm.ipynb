{
 "cells": [
  {
   "cell_type": "markdown",
   "metadata": {},
   "source": [
    "# Chainer + LSTM でAmazonの株価を予測する。"
   ]
  },
  {
   "cell_type": "code",
   "execution_count": null,
   "metadata": {},
   "outputs": [],
   "source": [
    "import pandas as pd\n",
    "import numpy as np\n",
    "import datetime as dt\n",
    "\n",
    "from matplotlib import pyplot as plt\n",
    "import seaborn as sns\n",
    "\n",
    "# warningの抑止\n",
    "import warnings\n",
    "warnings.filterwarnings('ignore')"
   ]
  },
  {
   "cell_type": "markdown",
   "metadata": {},
   "source": [
    "## 再現性"
   ]
  },
  {
   "cell_type": "code",
   "execution_count": null,
   "metadata": {},
   "outputs": [],
   "source": [
    "import random\n",
    "import numpy\n",
    "import chainer\n",
    "\n",
    "\n",
    "def reset_seed(seed=0):\n",
    "    random.seed(seed)\n",
    "    numpy.random.seed(seed)\n",
    "    if chainer.cuda.available:\n",
    "        chainer.cuda.cupy.random.seed(seed)\n",
    "\n",
    "\n",
    "reset_seed(0)"
   ]
  },
  {
   "cell_type": "markdown",
   "metadata": {},
   "source": [
    "## データ読み込み"
   ]
  },
  {
   "cell_type": "code",
   "execution_count": null,
   "metadata": {},
   "outputs": [],
   "source": [
    "import pandas_datareader.data as web\n",
    "\n",
    "try:\n",
    "    df = pd.read_csv(\"data/stock_amazon.csv\")\n",
    "    df[\"Date\"] = pd.to_datetime(df[\"Date\"])\n",
    "    df.set_index(\"Date\", drop=True, inplace=True)\n",
    "\n",
    "except FileNotFoundError as e:\n",
    "    start = dt.date(2008, 1, 1)\n",
    "    end = dt.date(2018, 12, 31)\n",
    "    df = web.DataReader('AMZN', \"yahoo\", start, end)\n",
    "    df.to_csv(\"data/stock_amazon.csv\", index=True, header=True)\n",
    "\n",
    "display(df.head(5), df.describe())"
   ]
  },
  {
   "cell_type": "markdown",
   "metadata": {},
   "source": [
    "## 過去データの作成"
   ]
  },
  {
   "cell_type": "markdown",
   "metadata": {},
   "source": [
    "25日分の過去データを作成"
   ]
  },
  {
   "cell_type": "code",
   "execution_count": null,
   "metadata": {},
   "outputs": [],
   "source": [
    "pd.set_option(\"display.max_columns\", 200)\n",
    "\n",
    "# \n",
    "for i in range(1, 26):\n",
    "    df[[\n",
    "        \"High_past_{0:02d}\".format(i), \"Low_past_{0:02d}\".format(i),\n",
    "        \"Open_past_{0:02d}\".format(i), \"Close_past_{0:02d}\".format(i),\n",
    "        \"Volume_{0:02d}\".format(i), \"Adj_Close_{0:02d}\".format(i)\n",
    "    ]] = df[[\"High\", \"Low\", \"Open\", \"Close\", \"Volume\", \"Adj Close\"]].shift(i)\n",
    "\n",
    "df[:30]"
   ]
  },
  {
   "cell_type": "code",
   "execution_count": null,
   "metadata": {},
   "outputs": [],
   "source": [
    "df.dropna(inplace=True)\n",
    "\n",
    "display(df.shape, df.head())"
   ]
  },
  {
   "cell_type": "markdown",
   "metadata": {},
   "source": [
    "## 説明変数と目的変数の作成"
   ]
  },
  {
   "cell_type": "code",
   "execution_count": null,
   "metadata": {},
   "outputs": [],
   "source": [
    "# 説明変数\n",
    "# X = df.iloc[:, 6:]\n",
    "\n",
    "close_col = [\n",
    "    \"Close_past_01\", \"Close_past_02\", \"Close_past_03\", \"Close_past_04\",\n",
    "    \"Close_past_05\", \"Close_past_06\", \"Close_past_07\", \"Close_past_08\",\n",
    "    \"Close_past_09\", \"Close_past_10\", \"Close_past_11\", \"Close_past_12\",\n",
    "    \"Close_past_13\", \"Close_past_14\", \"Close_past_15\", \"Close_past_16\",\n",
    "    \"Close_past_17\", \"Close_past_18\", \"Close_past_19\", \"Close_past_20\",\n",
    "    \"Close_past_21\", \"Close_past_22\", \"Close_past_23\", \"Close_past_24\",\n",
    "    \"Close_past_25\"\n",
    "]\n",
    "X = df.loc[:, close_col]\n",
    "\n",
    "# 目的変数\n",
    "Y = df[\"Close\"]\n",
    "\n",
    "display(X.head(), Y.head())"
   ]
  },
  {
   "cell_type": "code",
   "execution_count": null,
   "metadata": {},
   "outputs": [],
   "source": [
    "from sklearn.model_selection import train_test_split\n",
    "\n",
    "# クロスバリデーション用にテストデータを分割(学習：70% テスト:30%)\n",
    "X_train, X_test, y_train, y_test = train_test_split(\n",
    "    X, Y, test_size=0.3, shuffle=False, random_state=1234)\n",
    "\n",
    "X_train.shape, X_test.shape, y_train.shape, y_test.shape"
   ]
  },
  {
   "cell_type": "markdown",
   "metadata": {},
   "source": [
    "## LSTM回帰モデル作成"
   ]
  },
  {
   "cell_type": "code",
   "execution_count": null,
   "metadata": {},
   "outputs": [],
   "source": [
    "from chainer import Chain\n",
    "import chainer.links as L\n",
    "import chainer.functions as F\n",
    "\n",
    "class LSTM(Chain):\n",
    "    def __init__(self):\n",
    "        # Optimizerが最適化対象のパラメータをもつ事を暗示する。\n",
    "        super(LSTM, self).__init__()\n",
    "\n",
    "        with self.init_scope():                \n",
    "            self.l1 = L.Linear(None, 50)\n",
    "            self.l2 = L.LSTM(None, 50)\n",
    "            self.l3 = L.Linear(None, 1)\n",
    "\n",
    "    def reset_state(self):\n",
    "        self.l2.reset_state()  \n",
    "        \n",
    "        \n",
    "    def __call__(self, x):\n",
    "        \n",
    "        # データを受け取った際のforward計算\n",
    "        h = F.relu(self.l1(x))\n",
    "        h = F.dropout(h, ratio=0.7)\n",
    "        \n",
    "        h = F.relu( self.l2(h))\n",
    "        \n",
    "        # マイナスはゼロに変換   \n",
    "        h = F.relu( self.l3(h))\n",
    "    \n",
    "        return h\n",
    "    \n",
    "class LSTMRegressor(Chain):\n",
    "    def __init__(self, predictor):\n",
    "        super(LSTMRegressor, self).__init__(predictor=predictor)\n",
    "\n",
    "    def __call__(self, x, y):\n",
    "        pred = self.predictor(x)\n",
    "\n",
    "        loss = F.mean_squared_error(pred, y)\n",
    "        report({'loss': loss}, self)\n",
    "\n",
    "        return loss\n",
    "    \n",
    "model = LSTMRegressor(LSTM())"
   ]
  },
  {
   "cell_type": "markdown",
   "metadata": {},
   "source": [
    "## オプティマイザの設定"
   ]
  },
  {
   "cell_type": "code",
   "execution_count": null,
   "metadata": {},
   "outputs": [],
   "source": [
    "from chainer import optimizers\n",
    "\n",
    "# 最適化手法をAdamに指定\n",
    "optimizer = optimizers.Adam(alpha=0.01)\n",
    "\n",
    "# モデルにオプティマイザーを組み込む\n",
    "optimizer.setup(model)"
   ]
  },
  {
   "cell_type": "markdown",
   "metadata": {},
   "source": [
    "### Iteratorの作成"
   ]
  },
  {
   "cell_type": "code",
   "execution_count": null,
   "metadata": {},
   "outputs": [],
   "source": [
    "from sklearn.preprocessing import StandardScaler\n",
    "\n",
    "# 標準正規分布で標準化\n",
    "scaler = StandardScaler()\n",
    "\n",
    "X_train_scale = scaler.fit_transform(X_train)\n",
    "X_test_scale = scaler.fit_transform(X_test)"
   ]
  },
  {
   "cell_type": "code",
   "execution_count": null,
   "metadata": {},
   "outputs": [],
   "source": [
    "from chainer.datasets import tuple_dataset\n",
    "from chainer import iterators\n",
    "\n",
    "train_set = tuple_dataset.TupleDataset(X_train_scale.astype(np.float32), y_train.values.reshape(-1, 1).astype(np.float32))\n",
    "test_set = tuple_dataset.TupleDataset(X_test_scale.astype(np.float32), y_test.values.reshape(-1, 1).astype(np.float32))\n",
    "\n",
    "# 25日移動平均線を意識してバッチサイズを25に設定\n",
    "batchsize = 25\n",
    "\n",
    "# Trainでは、時系列は意識させるのでshufleしない)\n",
    "train_iter = iterators.SerialIterator(train_set, batchsize, shuffle=False)\n",
    "test_iter = iterators.SerialIterator(test_set, batchsize, repeat=False, shuffle=False)"
   ]
  },
  {
   "cell_type": "markdown",
   "metadata": {},
   "source": [
    "### Updaterの作成"
   ]
  },
  {
   "cell_type": "code",
   "execution_count": null,
   "metadata": {},
   "outputs": [],
   "source": [
    "from chainer import training\n",
    "\n",
    "updater = training.StandardUpdater(train_iter, optimizer)"
   ]
  },
  {
   "cell_type": "markdown",
   "metadata": {},
   "source": [
    "### Trainerの準備"
   ]
  },
  {
   "cell_type": "code",
   "execution_count": null,
   "metadata": {},
   "outputs": [],
   "source": [
    "from chainer.training import extensions\n",
    "from chainer import report\n",
    "\n",
    "trainer = training.Trainer(updater, (20, 'epoch'))\n",
    "trainer.extend(extensions.Evaluator(test_iter, model))\n",
    "trainer.extend(extensions.LogReport())\n",
    "trainer.extend(extensions.PrintReport(['epoch', 'main/loss', 'validation/main/loss', 'elapsed_time']))"
   ]
  },
  {
   "cell_type": "markdown",
   "metadata": {},
   "source": [
    "## 学習"
   ]
  },
  {
   "cell_type": "code",
   "execution_count": null,
   "metadata": {},
   "outputs": [],
   "source": [
    "trainer.run()"
   ]
  },
  {
   "cell_type": "code",
   "execution_count": null,
   "metadata": {},
   "outputs": [],
   "source": [
    "import chainer\n",
    "from chainer import Variable\n",
    "\n",
    "# model.predictor.reset_state()\n",
    "\n",
    "test_var =Variable(X_train.values.astype(np.float32))\n",
    "\n",
    "# モデルのforward関数に渡す\n",
    "with chainer.using_config('train', False), chainer.using_config('enable_backprop', False):\n",
    "    pred_y = model.predictor(test_var)\n",
    "\n",
    "pred_y_df = pd.DataFrame(pred_y.data, index=X_train.index)\n",
    "    \n",
    "plt.plot(df[\"Close\"], label=\"true\")\n",
    "plt.plot(pred_y_df, color=\"r\", label=\"train\")\n",
    "# plt.plot(-8.644806, color=\"y\", label=\"predict\")\n",
    "plt.title(\"Amazon - Stock Price\")\n",
    "plt.xlabel(\"Date\")\n",
    "plt.ylabel(\"Close Price\")\n",
    "plt.legend()\n",
    "plt.grid()"
   ]
  }
 ],
 "metadata": {
  "kernelspec": {
   "display_name": "Python 3",
   "language": "python",
   "name": "python3"
  },
  "language_info": {
   "codemirror_mode": {
    "name": "ipython",
    "version": 3
   },
   "file_extension": ".py",
   "mimetype": "text/x-python",
   "name": "python",
   "nbconvert_exporter": "python",
   "pygments_lexer": "ipython3",
   "version": "3.6.4"
  },
  "toc": {
   "base_numbering": 1,
   "nav_menu": {},
   "number_sections": true,
   "sideBar": true,
   "skip_h1_title": true,
   "title_cell": "目次",
   "title_sidebar": "Contents",
   "toc_cell": false,
   "toc_position": {},
   "toc_section_display": true,
   "toc_window_display": true
  }
 },
 "nbformat": 4,
 "nbformat_minor": 2
}
