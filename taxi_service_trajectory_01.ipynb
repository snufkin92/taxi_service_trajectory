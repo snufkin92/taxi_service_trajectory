{
 "cells": [
  {
   "cell_type": "markdown",
   "metadata": {
    "toc": true
   },
   "source": [
    "<h1>目次<span class=\"tocSkip\"></span></h1>\n",
    "<div class=\"toc\"><ul class=\"toc-item\"><li><span><a href=\"#背景\" data-toc-modified-id=\"背景-1\"><span class=\"toc-item-num\">1&nbsp;&nbsp;</span>背景</a></span></li><li><span><a href=\"#目的\" data-toc-modified-id=\"目的-2\"><span class=\"toc-item-num\">2&nbsp;&nbsp;</span>目的</a></span><ul class=\"toc-item\"><li><span><a href=\"#ビジネスインパクト\" data-toc-modified-id=\"ビジネスインパクト-2.1\"><span class=\"toc-item-num\">2.1&nbsp;&nbsp;</span>ビジネスインパクト</a></span></li></ul></li><li><span><a href=\"#データ概説\" data-toc-modified-id=\"データ概説-3\"><span class=\"toc-item-num\">3&nbsp;&nbsp;</span>データ概説</a></span></li><li><span><a href=\"#初期仮説\" data-toc-modified-id=\"初期仮説-4\"><span class=\"toc-item-num\">4&nbsp;&nbsp;</span>初期仮説</a></span></li><li><span><a href=\"#データ編集\" data-toc-modified-id=\"データ編集-5\"><span class=\"toc-item-num\">5&nbsp;&nbsp;</span>データ編集</a></span><ul class=\"toc-item\"><li><span><a href=\"#UNIXタイムスタンプを-yyyyMMddhhmmss形式に変更\" data-toc-modified-id=\"UNIXタイムスタンプを-yyyyMMddhhmmss形式に変更-5.1\"><span class=\"toc-item-num\">5.1&nbsp;&nbsp;</span>UNIXタイムスタンプを yyyyMMddhhmmss形式に変更</a></span></li><li><span><a href=\"#タイムスタンプを年月日時分秒＋曜日に分ける\" data-toc-modified-id=\"タイムスタンプを年月日時分秒＋曜日に分ける-5.2\"><span class=\"toc-item-num\">5.2&nbsp;&nbsp;</span>タイムスタンプを年月日時分秒＋曜日に分ける</a></span></li><li><span><a href=\"#POLYLINEの編集\" data-toc-modified-id=\"POLYLINEの編集-5.3\"><span class=\"toc-item-num\">5.3&nbsp;&nbsp;</span>POLYLINEの編集</a></span><ul class=\"toc-item\"><li><span><a href=\"#カンマ区切りの文字列に変換\" data-toc-modified-id=\"カンマ区切りの文字列に変換-5.3.1\"><span class=\"toc-item-num\">5.3.1&nbsp;&nbsp;</span>カンマ区切りの文字列に変換</a></span></li><li><span><a href=\"#POLYLINEに不正な値が入っている行を削除\" data-toc-modified-id=\"POLYLINEに不正な値が入っている行を削除-5.3.2\"><span class=\"toc-item-num\">5.3.2&nbsp;&nbsp;</span>POLYLINEに不正な値が入っている行を削除</a></span></li><li><span><a href=\"#[緯度、経度]ペアで配列化\" data-toc-modified-id=\"[緯度、経度]ペアで配列化-5.3.3\"><span class=\"toc-item-num\">5.3.3&nbsp;&nbsp;</span>[緯度、経度]ペアで配列化</a></span></li></ul></li><li><span><a href=\"#乗車距離の算出\" data-toc-modified-id=\"乗車距離の算出-5.4\"><span class=\"toc-item-num\">5.4&nbsp;&nbsp;</span>乗車距離の算出</a></span></li><li><span><a href=\"#乗降ポイント列の追加\" data-toc-modified-id=\"乗降ポイント列の追加-5.5\"><span class=\"toc-item-num\">5.5&nbsp;&nbsp;</span>乗降ポイント列の追加</a></span><ul class=\"toc-item\"><li><span><a href=\"#降車ポイントが不明なデータの削除\" data-toc-modified-id=\"降車ポイントが不明なデータの削除-5.5.1\"><span class=\"toc-item-num\">5.5.1&nbsp;&nbsp;</span>降車ポイントが不明なデータの削除</a></span></li></ul></li><li><span><a href=\"#祝日列の追加\" data-toc-modified-id=\"祝日列の追加-5.6\"><span class=\"toc-item-num\">5.6&nbsp;&nbsp;</span>祝日列の追加</a></span></li><li><span><a href=\"#曜日を文字に変換\" data-toc-modified-id=\"曜日を文字に変換-5.7\"><span class=\"toc-item-num\">5.7&nbsp;&nbsp;</span>曜日を文字に変換</a></span></li><li><span><a href=\"#列を並び替え、日付の昇順でソート\" data-toc-modified-id=\"列を並び替え、日付の昇順でソート-5.8\"><span class=\"toc-item-num\">5.8&nbsp;&nbsp;</span>列を並び替え、日付の昇順でソート</a></span></li></ul></li><li><span><a href=\"#ここまでのデータをcsvに保存\" data-toc-modified-id=\"ここまでのデータをcsvに保存-6\"><span class=\"toc-item-num\">6&nbsp;&nbsp;</span>ここまでのデータをcsvに保存</a></span></li></ul></div>"
   ]
  },
  {
   "cell_type": "markdown",
   "metadata": {},
   "source": [
    "# 交通運行の最適化を目指したタクシーの乗車需要"
   ]
  },
  {
   "cell_type": "markdown",
   "metadata": {},
   "source": [
    "## 背景"
   ]
  },
  {
   "cell_type": "markdown",
   "metadata": {},
   "source": [
    "観光需要の高まりから交通需要が伸びていく一方で、人口減少や超高齢化社会に直面する日本においてドライバー不足は切実な問題であり、タクシー業界も例外ではない。    \n",
    "歩合制を採用しているタクシー業界では、乗車率はドライバーの土地勘と経験に影響を受けやすく、新人ドライバーの不安材料となっている。\n",
    "\n",
    "土地勘のない新人ドライバーでも安定的に乗車率を稼げるようにする事で、離職率の低下や、新たなドライバー確保すると共に、\n",
    "外国籍ドライバーの就業も予測される2020年東京オリンピックに備え、CO2削減を推進したクリーン、かつ選手村を中心に8km圏内のコンパクトな大会運営がコンセプトに貢献したい。"
   ]
  },
  {
   "cell_type": "markdown",
   "metadata": {},
   "source": [
    "## 目的"
   ]
  },
  {
   "cell_type": "markdown",
   "metadata": {},
   "source": [
    "- 実車時間を最大化し空車状態を減らしたい。\n",
    "- コンペでは、ドライバーの初期位置と日付（2014年、8月14日　18:00）値が与えられ\n",
    "    - 目的地の予測\n",
    "    - 実車時間の予測   \n",
    "    \n",
    "がアウトプットっぽい"
   ]
  },
  {
   "cell_type": "markdown",
   "metadata": {},
   "source": [
    "### ビジネスインパクト"
   ]
  },
  {
   "cell_type": "markdown",
   "metadata": {},
   "source": [
    "- 営業区域500m四方のエリアごとの乗車台数予測\n",
    "- 乗車獲得率の高い100m四方エリアの洗い出し\n",
    "- 乗客獲得率高い進行方向\n",
    "- 普段より人口が多い500m四方のエリア情報\n",
    "- 現在から30分後までの未来のタクシー乗車台数の予測などを10分ごとに配車システムへ提供する。\n",
    "\n",
    "- AIタクシー（ドコモ参照）\n",
    "- AIが先読みした需要予測に基づいてタクシーが先行して向かうことで顧客の待ち時間が短縮。\n",
    "- 電車遅延やイベントなどの非日常的な乗車需要増に対応したい。\n",
    "- ドライバーごとの実車率のばらつき解消・底上げ\n",
    "    - 各ドライバーの運行効率化により、タクシー事業者の収益向上に貢献する。リアルタイムに需要を伝えることで、新人ドライバーの不安を払拭し、離職率の低下や、新たなドライバー確保が期待され、ドライバー不足解消の一助となる。\n",
    "- 気象データがあれば尚良し。\n",
    "- モバイルの配車アプリ等から顧客の位置データがあれば、年齢・性別等で適切な情報が提供できる可能性あり。\n",
    "- モバイルの配車アプリ等から顧客の位置データがあれば、人口の密集地帯が提供できるはず。\n",
    "- AIタクシー導入後、新人ドライバーは1日当たり3115円の売り上げが上がった。（東京都心では1日約5万弱だとすると6%の売り上げ増）\n",
    "- 新人でもすぐに結果を出しやすくしたい。\n",
    "- 乗り合いバスもいいのでは？2018/4/16　（ITmedia エンタープライズ）\n",
    "- AIタクシー交通運行の最適化をめざしたタクシーの乗車需要予測技術（PDF）"
   ]
  },
  {
   "cell_type": "markdown",
   "metadata": {},
   "source": [
    "## データ概説"
   ]
  },
  {
   "cell_type": "markdown",
   "metadata": {},
   "source": [
    "- 各行は1回の乗車データ\n",
    "- タクシーの台数は442台\n",
    "- 2013-07-01 2014-06-30 までのデータ\n",
    "- Porto_taxi_data_test_partial_trajectories.csv はテストセット。(2014-01-07　2014-12-31まで）\n",
    "- DAYTYPEは間違っている為、手修正が必要\n",
    "    - 2013年祝日\n",
    "        - 1/1 火\n",
    "        - 2/11　金 regional holiday カーニバル\n",
    "        - 2/14　金 ordinary friday　バレンタインデー\n",
    "        - 3/29　金　\n",
    "        - 3/31　日　\n",
    "        - 4/1 金\n",
    "        - 4/25 金\n",
    "        - 5/1 木\n",
    "        - 5/5 日　ordinary sunday　母の日\n",
    "        - 5/9 木　regional holiday\n",
    "        - 5/30 木　ordinary thursday\n",
    "        - 6/10 火　\n",
    "        - 6/13 金　regional holiday\n",
    "        - 6/24 火　regional holiday\n",
    "        - 6/29 日　regional holiday\n",
    "        - 8/15 金　\n",
    "        - 10/5 土　ordinary saturday　\n",
    "        - 11/1 金　ordinary friday\n",
    "        - 12/1 日　ordinary monday　\n",
    "        - 12/8 日　　\n",
    "        - 12/25 水　\n",
    "    - 2014年祝日\n",
    "        - 1/1 水\n",
    "        - 2/14　金 ordinary friday　バレンタインデー\n",
    "        - 3/3　月　regional holiday\n",
    "        - 4/18 金\n",
    "        - 4/20 日\n",
    "        - 4/21 月　regional holiday　イースターの月曜日\n",
    "        - 4/25 金\n",
    "        - 5/1 木\n",
    "        - 5/4 日　ordinary sunday　母の日\n",
    "        - 5/29 火　regional holiday\n",
    "        - 6/10 火　\n",
    "        - 6/13 金　regional holiday\n",
    "        - 6/19 木　ordinary sunday\n",
    "        - 6/24 火　regional holiday\n",
    "        - 6/29 日　regional holiday\n",
    "        - 8/15 金　\n",
    "        - 10/5 日　ordinary sunday　\n",
    "        - 11/1 土　ordinary saturday\n",
    "        - 12/1 月　ordinary monday　\n",
    "        - 12/8 月　　\n",
    "        - 12/25 木　\n",
    "        \n",
    "        \n",
    "        \n",
    "                "
   ]
  },
  {
   "cell_type": "markdown",
   "metadata": {},
   "source": [
    "データ定義\n",
    "- TRIP_ID：（String）　各乗車を一意に表す識別子。\n",
    "\n",
    "- CALL_TYPE：（char）　乗車サービスの提供タイプ。\n",
    "    - センターから配車された場合は \"A\" \n",
    "    - タクシー乗り場から乗車した場合は \"B\" \n",
    "    - 流している最中に乗車要求された場合 \"C\" \n",
    "\n",
    "- ORIGIN_CALL：（整数）　少なくとも1つのサービスを要求するために使用された各電話番号の一意の識別子を含みます。\n",
    "    - CALL_TYPE = 'A'の場合、旅行の顧客を識別します。 \n",
    "    - それ以外の場合は、NULL値とみなされます。 \n",
    "\n",
    "- ORIGIN_STAND：（整数）：　タクシー乗り場の識別子。 \n",
    "    - CALL_TYPE = 'B'の場合、乗車の開始点を示します。 \n",
    "    - それ以外の場合は、NULL値。 \n",
    "\n",
    "- TAXI_ID :(整数）：タクシードライバーの識別子。 \n",
    "\n",
    "- TIMESTAMP：（整数）　Unixタイムスタンプ（秒単位）。 1970-01-01 00:00:00からの経過秒数を表す。トリップの開始を識別します。 \n",
    "\n",
    "- DAYTYPE：（char）　旅行の出発日の日時を指定します。 次の3つの値のいずれかを仮定します。 \n",
    "    - この旅行が休日または他の特別な日に開始された場合（すなわち、延期、休暇など）、 'B' \n",
    "    - タイプBの日の前日に旅行が開始された場合は 'C' \n",
    "    - そうでなければ（すなわち、通常の日、就業日または週末） 'A'。 \n",
    "重要な注意：このフィールドは正しく計算されていません。 ポルトガルの公式祝日の信頼できる情報源として、以下のリンクをご覧ください。 \n",
    "\n",
    "- MISSING_DATA：（ブール値）　GPSデータストリームが完了するとFALSE、1つ（または複数）の場所が見つからない場合はTRUEです。 \n",
    "    恐らく、降車した地点が不明なデータと思われる。（補完できないので削除対象）\n",
    "\n",
    "- POLYLINE：（String）：　文字列としてマップされたGPS座標（WGS84形式）のリストを含んでいます。 \n",
    "    - 文字列の先頭と末尾は角括弧（[と]）で識別されます。 \n",
    "    - 座標の各ペアは、[LONGITUDE、LATITUDE]と同じ角括弧で識別されます。 \n",
    "    - このリストには、15秒ごとに1組の座標が含まれています。 \n",
    "    - 最後のリスト項目は旅行の目的地に対応し、最初の項目は出発地を表します。"
   ]
  },
  {
   "cell_type": "markdown",
   "metadata": {},
   "source": [
    "## 初期仮説"
   ]
  },
  {
   "cell_type": "markdown",
   "metadata": {},
   "source": [
    "- 平日と休日（祝日含む）、時間によって乗車率は異なってくるはず（本来は天候も）\n",
    "- 乗車しやすい場所があるはず\n",
    "- 後車しやすい場所があるはず\n",
    "- 乗車率が高くなる流し方向があるはず\n",
    "- 乗車率の高いドライバーと低いドライバーがいるはず。"
   ]
  },
  {
   "cell_type": "markdown",
   "metadata": {},
   "source": [
    "## データ編集"
   ]
  },
  {
   "cell_type": "code",
   "execution_count": 1,
   "metadata": {},
   "outputs": [],
   "source": [
    "import pandas as pd \n",
    "import numpy as np\n",
    "import re\n",
    "import copy\n",
    "from datetime import datetime as dt\n",
    "\n",
    "from matplotlib import pyplot as plt\n",
    "import seaborn as sns\n",
    "\n",
    "# warningの抑止\n",
    "import warnings\n",
    "warnings.filterwarnings('ignore')\n",
    "\n",
    "# メモリ解放\n",
    "import gc"
   ]
  },
  {
   "cell_type": "code",
   "execution_count": 2,
   "metadata": {},
   "outputs": [
    {
     "data": {
      "text/plain": [
       "(1710670, 9)"
      ]
     },
     "execution_count": 2,
     "metadata": {},
     "output_type": "execute_result"
    }
   ],
   "source": [
    "# データを読み込む\n",
    "df = pd.read_csv(\"data/train.csv\")\n",
    "\n",
    "# データを読み込む\n",
    "# df = pd.read_csv(\"data/solution_challengeII.csv\")\n",
    "\n",
    "# # データを読み込む\n",
    "# df = pd.read_csv(\"data/solution_fixed.csv\")\n",
    "\n",
    "# 行数と列数を確認\n",
    "df.shape"
   ]
  },
  {
   "cell_type": "markdown",
   "metadata": {},
   "source": [
    "### UNIXタイムスタンプを yyyyMMddhhmmss形式に変更"
   ]
  },
  {
   "cell_type": "code",
   "execution_count": 3,
   "metadata": {},
   "outputs": [],
   "source": [
    "df[\"time\"] = pd.to_datetime(df[\"TIMESTAMP\"], unit=\"s\") "
   ]
  },
  {
   "cell_type": "markdown",
   "metadata": {},
   "source": [
    "### タイムスタンプを年月日時分秒＋曜日に分ける"
   ]
  },
  {
   "cell_type": "code",
   "execution_count": 4,
   "metadata": {},
   "outputs": [],
   "source": [
    "# time列（9列目）を、年月日時分秒 + 曜日 で分割する。\n",
    "df[\"year\"] = df.iloc[:, 9].apply(lambda x: x.year)\n",
    "\n",
    "df[\"month\"] = df.iloc[:, 9].apply(lambda x: x.month)\n",
    "\n",
    "df[\"day\"] = df.iloc[:, 9].apply(lambda x: x.day)\n",
    "\n",
    "df[\"weekday\"] = df.iloc[:, 9].apply(lambda x: x.weekday())\n",
    "\n",
    "df[\"hour\"] = df.iloc[:, 9].apply(lambda x: x.hour)\n",
    "\n",
    "df[\"minute\"] = df.iloc[:, 9].apply(lambda x: x.minute)\n",
    "\n",
    "df[\"second\"] = df.iloc[:, 9].apply(lambda x: x.second)"
   ]
  },
  {
   "cell_type": "markdown",
   "metadata": {},
   "source": [
    "### POLYLINEの編集"
   ]
  },
  {
   "cell_type": "markdown",
   "metadata": {},
   "source": [
    "#### カンマ区切りの文字列に変換"
   ]
  },
  {
   "cell_type": "code",
   "execution_count": 5,
   "metadata": {},
   "outputs": [],
   "source": [
    "df[\"POLYLINE\"] = df[\"POLYLINE\"].apply(lambda x: x.replace(\"[\", \"\").replace(\"]\", \"\"))"
   ]
  },
  {
   "cell_type": "markdown",
   "metadata": {},
   "source": [
    "#### POLYLINEに不正な値が入っている行を削除"
   ]
  },
  {
   "cell_type": "markdown",
   "metadata": {},
   "source": [
    "POLYLINEは15秒ごとの [経度、緯度] をリストなので、値が入っていなかったり、[経度、緯度]の組みとなっていなかった場合、乗車、降車地点が不明なレコードは削除する。"
   ]
  },
  {
   "cell_type": "code",
   "execution_count": 6,
   "metadata": {},
   "outputs": [
    {
     "data": {
      "text/plain": [
       "'-8.610912,41.145786'"
      ]
     },
     "execution_count": 6,
     "metadata": {},
     "output_type": "execute_result"
    }
   ],
   "source": [
    "# 例）無効レコード(降車ポイント不明)\n",
    "df[\"POLYLINE\"].iloc[54]"
   ]
  },
  {
   "cell_type": "code",
   "execution_count": 7,
   "metadata": {},
   "outputs": [
    {
     "data": {
      "text/plain": [
       "''"
      ]
     },
     "execution_count": 7,
     "metadata": {},
     "output_type": "execute_result"
    }
   ],
   "source": [
    "# 例）無効レコード（乗車ポイント不明）\n",
    "df[\"POLYLINE\"].iloc[1161]"
   ]
  },
  {
   "cell_type": "code",
   "execution_count": 8,
   "metadata": {},
   "outputs": [],
   "source": [
    "invalid_polyline_row_index = []\n",
    "\n",
    "for i, v in enumerate(df[\"POLYLINE\"]):\n",
    "\n",
    "    try:\n",
    "        _arr = v.split(\",\")\n",
    "        _size = len(_arr)\n",
    "\n",
    "        # 経度、緯度のペアになっていない場合\n",
    "        if (_size % 2) != 0:\n",
    "            raise ValueError()\n",
    "\n",
    "        # 乗車経度、乗車緯度、降車経度、降車緯度がない場合\n",
    "        if _size < 4:\n",
    "            raise ValueError()\n",
    "\n",
    "        # 数値に変換できる事を確認\n",
    "        float(_arr[0])  #乗車経度\n",
    "        float(_arr[1])  #乗車経度\n",
    "        float(_arr[-2])  #降車経度\n",
    "        float(_arr[-1])  #降車緯度\n",
    "\n",
    "    except:\n",
    "        # print(i, v)\n",
    "        # 不適切な 値が格納されている行インデックスを格納\n",
    "        invalid_polyline_row_index.append(i)"
   ]
  },
  {
   "cell_type": "code",
   "execution_count": 9,
   "metadata": {},
   "outputs": [
    {
     "data": {
      "text/plain": [
       "36510"
      ]
     },
     "execution_count": 9,
     "metadata": {},
     "output_type": "execute_result"
    }
   ],
   "source": [
    "len(invalid_polyline_row_index)"
   ]
  },
  {
   "cell_type": "code",
   "execution_count": 10,
   "metadata": {},
   "outputs": [
    {
     "data": {
      "text/plain": [
       "1710670"
      ]
     },
     "execution_count": 10,
     "metadata": {},
     "output_type": "execute_result"
    }
   ],
   "source": [
    "df.shape[0]"
   ]
  },
  {
   "cell_type": "code",
   "execution_count": 11,
   "metadata": {},
   "outputs": [],
   "source": [
    "# 無効な行レコードを削除\n",
    "df.drop(invalid_polyline_row_index, inplace=True)"
   ]
  },
  {
   "cell_type": "code",
   "execution_count": 12,
   "metadata": {},
   "outputs": [
    {
     "data": {
      "text/plain": [
       "1674160"
      ]
     },
     "execution_count": 12,
     "metadata": {},
     "output_type": "execute_result"
    }
   ],
   "source": [
    "df.shape[0]"
   ]
  },
  {
   "cell_type": "code",
   "execution_count": 13,
   "metadata": {},
   "outputs": [
    {
     "data": {
      "text/plain": [
       "1710670"
      ]
     },
     "execution_count": 13,
     "metadata": {},
     "output_type": "execute_result"
    }
   ],
   "source": [
    "1674160 + 36510"
   ]
  },
  {
   "cell_type": "markdown",
   "metadata": {},
   "source": [
    "#### [緯度、経度]ペアで配列化"
   ]
  },
  {
   "cell_type": "code",
   "execution_count": 14,
   "metadata": {},
   "outputs": [],
   "source": [
    "def to_array_polyline(x):\n",
    "    \n",
    "    _arr = x.split(\",\")\n",
    "\n",
    "    parent_list = []\n",
    "    child_list = None\n",
    "    \n",
    "    for i ,v in enumerate( _arr ):\n",
    "        \n",
    "        if i % 2 == 0:\n",
    "            child_list = []\n",
    "            child_list.append(float(v))\n",
    "        else:\n",
    "            child_list.append(v)\n",
    "            parent_list.append(np.array(child_list))\n",
    "    \n",
    "    return np.array(parent_list)\n",
    "\n",
    "df[\"POLYLINE\"] = df[\"POLYLINE\"].apply(to_array_polyline)"
   ]
  },
  {
   "cell_type": "markdown",
   "metadata": {},
   "source": [
    "### 乗車距離の算出"
   ]
  },
  {
   "cell_type": "code",
   "execution_count": 15,
   "metadata": {},
   "outputs": [],
   "source": [
    "def calc_distance(x):\n",
    "\n",
    "    _distance = 0\n",
    "\n",
    "    start_point = []\n",
    "    end_point = []\n",
    "\n",
    "    for i, v in enumerate(x):\n",
    "\n",
    "        if i == 0:\n",
    "            start_point.append(float(v[0]))\n",
    "            start_point.append(float(v[1]))\n",
    "            continue\n",
    "\n",
    "        end_point = np.array(start_point)\n",
    "        start_point = []\n",
    "\n",
    "        start_point.append(float(v[0]))\n",
    "        start_point.append(float(v[1]))\n",
    "        start_point = np.array(start_point)\n",
    "\n",
    "        # １度あたり 110.94297kmで計算（緯度の違いによる経度の距離の違いは無視）\n",
    "        _temp = ((end_point - start_point) * 110.94297)**2\n",
    "        _distance += np.sqrt(_temp[0] + _temp[1])\n",
    "\n",
    "    return _distance\n",
    "\n",
    "\n",
    "df[\"distance\"] = df[\"POLYLINE\"].apply(calc_distance)"
   ]
  },
  {
   "cell_type": "code",
   "execution_count": 16,
   "metadata": {},
   "outputs": [
    {
     "data": {
      "text/plain": [
       "0     3.186095\n",
       "1     4.388608\n",
       "2    22.403604\n",
       "3    10.114430\n",
       "4     5.905514\n",
       "Name: distance, dtype: float64"
      ]
     },
     "execution_count": 16,
     "metadata": {},
     "output_type": "execute_result"
    }
   ],
   "source": [
    "df[\"distance\"].head()"
   ]
  },
  {
   "cell_type": "markdown",
   "metadata": {},
   "source": [
    "### 乗降ポイント列の追加"
   ]
  },
  {
   "cell_type": "code",
   "execution_count": 17,
   "metadata": {},
   "outputs": [],
   "source": [
    "# 乗車時間（秒）列の追加\n",
    "df[\"riding_time\"] = df[\"POLYLINE\"].apply(lambda x : len(x) * 15)"
   ]
  },
  {
   "cell_type": "code",
   "execution_count": 18,
   "metadata": {},
   "outputs": [],
   "source": [
    "# 乗車した緯度・経度を返す\n",
    "def get_start_point(polyline):\n",
    "    _arr = polyline.split(\",\")\n",
    "    return np.array(float(_arr[0]), float(_arr[1]))\n",
    "\n",
    "\n",
    "# 降車した緯度・経度を返す\n",
    "def get_end_point(polyline):\n",
    "    _arr = polyline.split(\",\")\n",
    "    return np.array(float(_arr[-2]), float(_arr[-1]))"
   ]
  },
  {
   "cell_type": "code",
   "execution_count": null,
   "metadata": {},
   "outputs": [],
   "source": [
    "# # 乗降ポイント列の追加(プロットの方法がわからない為、緯度、経度に分解)\n",
    "# df[\"start_point\"] = df[\"POLYLINE\"].apply(lambda x : x[0])\n",
    "# df[\"end_point\"] = df[\"POLYLINE\"].apply(lambda x : x[-1])"
   ]
  },
  {
   "cell_type": "code",
   "execution_count": 19,
   "metadata": {},
   "outputs": [],
   "source": [
    "# 乗降ポイント列の追加\n",
    "df[\"start_x\"] = df[\"POLYLINE\"].apply(lambda x : x[0][0])\n",
    "df[\"start_y\"] = df[\"POLYLINE\"].apply(lambda x : x[0][1])\n",
    "\n",
    "df[\"end_x\"] = df[\"POLYLINE\"].apply(lambda x : x[-1][0])\n",
    "df[\"end_y\"] = df[\"POLYLINE\"].apply(lambda x : x[-1][1])"
   ]
  },
  {
   "cell_type": "code",
   "execution_count": 20,
   "metadata": {},
   "outputs": [
    {
     "data": {
      "text/html": [
       "<div>\n",
       "<style scoped>\n",
       "    .dataframe tbody tr th:only-of-type {\n",
       "        vertical-align: middle;\n",
       "    }\n",
       "\n",
       "    .dataframe tbody tr th {\n",
       "        vertical-align: top;\n",
       "    }\n",
       "\n",
       "    .dataframe thead th {\n",
       "        text-align: right;\n",
       "    }\n",
       "</style>\n",
       "<table border=\"1\" class=\"dataframe\">\n",
       "  <thead>\n",
       "    <tr style=\"text-align: right;\">\n",
       "      <th></th>\n",
       "      <th>TRIP_ID</th>\n",
       "      <th>CALL_TYPE</th>\n",
       "      <th>ORIGIN_CALL</th>\n",
       "      <th>ORIGIN_STAND</th>\n",
       "      <th>TAXI_ID</th>\n",
       "      <th>TIMESTAMP</th>\n",
       "      <th>DAY_TYPE</th>\n",
       "      <th>MISSING_DATA</th>\n",
       "      <th>POLYLINE</th>\n",
       "      <th>time</th>\n",
       "      <th>...</th>\n",
       "      <th>weekday</th>\n",
       "      <th>hour</th>\n",
       "      <th>minute</th>\n",
       "      <th>second</th>\n",
       "      <th>distance</th>\n",
       "      <th>riding_time</th>\n",
       "      <th>start_x</th>\n",
       "      <th>start_y</th>\n",
       "      <th>end_x</th>\n",
       "      <th>end_y</th>\n",
       "    </tr>\n",
       "  </thead>\n",
       "  <tbody>\n",
       "    <tr>\n",
       "      <th>0</th>\n",
       "      <td>1372636858620000589</td>\n",
       "      <td>C</td>\n",
       "      <td>NaN</td>\n",
       "      <td>NaN</td>\n",
       "      <td>20000589</td>\n",
       "      <td>1372636858</td>\n",
       "      <td>A</td>\n",
       "      <td>False</td>\n",
       "      <td>[[-8.618643, 41.141412], [-8.618499, 41.141376...</td>\n",
       "      <td>2013-07-01 00:00:58</td>\n",
       "      <td>...</td>\n",
       "      <td>0</td>\n",
       "      <td>0</td>\n",
       "      <td>0</td>\n",
       "      <td>58</td>\n",
       "      <td>3.186095</td>\n",
       "      <td>345</td>\n",
       "      <td>-8.618643</td>\n",
       "      <td>41.141412</td>\n",
       "      <td>-8.630838</td>\n",
       "      <td>41.154489</td>\n",
       "    </tr>\n",
       "    <tr>\n",
       "      <th>1</th>\n",
       "      <td>1372637303620000596</td>\n",
       "      <td>B</td>\n",
       "      <td>NaN</td>\n",
       "      <td>7.0</td>\n",
       "      <td>20000596</td>\n",
       "      <td>1372637303</td>\n",
       "      <td>A</td>\n",
       "      <td>False</td>\n",
       "      <td>[[-8.639847, 41.159826], [-8.640351, 41.159871...</td>\n",
       "      <td>2013-07-01 00:08:23</td>\n",
       "      <td>...</td>\n",
       "      <td>0</td>\n",
       "      <td>0</td>\n",
       "      <td>8</td>\n",
       "      <td>23</td>\n",
       "      <td>4.388608</td>\n",
       "      <td>285</td>\n",
       "      <td>-8.639847</td>\n",
       "      <td>41.159826</td>\n",
       "      <td>-8.66574</td>\n",
       "      <td>41.170671</td>\n",
       "    </tr>\n",
       "    <tr>\n",
       "      <th>2</th>\n",
       "      <td>1372636951620000320</td>\n",
       "      <td>C</td>\n",
       "      <td>NaN</td>\n",
       "      <td>NaN</td>\n",
       "      <td>20000320</td>\n",
       "      <td>1372636951</td>\n",
       "      <td>A</td>\n",
       "      <td>False</td>\n",
       "      <td>[[-8.612964, 41.140359], [-8.613378, 41.14035]...</td>\n",
       "      <td>2013-07-01 00:02:31</td>\n",
       "      <td>...</td>\n",
       "      <td>0</td>\n",
       "      <td>0</td>\n",
       "      <td>2</td>\n",
       "      <td>31</td>\n",
       "      <td>22.403604</td>\n",
       "      <td>975</td>\n",
       "      <td>-8.612964</td>\n",
       "      <td>41.140359</td>\n",
       "      <td>-8.61597</td>\n",
       "      <td>41.14053</td>\n",
       "    </tr>\n",
       "  </tbody>\n",
       "</table>\n",
       "<p>3 rows × 23 columns</p>\n",
       "</div>"
      ],
      "text/plain": [
       "               TRIP_ID CALL_TYPE  ORIGIN_CALL  ORIGIN_STAND   TAXI_ID  \\\n",
       "0  1372636858620000589         C          NaN           NaN  20000589   \n",
       "1  1372637303620000596         B          NaN           7.0  20000596   \n",
       "2  1372636951620000320         C          NaN           NaN  20000320   \n",
       "\n",
       "    TIMESTAMP DAY_TYPE  MISSING_DATA  \\\n",
       "0  1372636858        A         False   \n",
       "1  1372637303        A         False   \n",
       "2  1372636951        A         False   \n",
       "\n",
       "                                            POLYLINE                time  \\\n",
       "0  [[-8.618643, 41.141412], [-8.618499, 41.141376... 2013-07-01 00:00:58   \n",
       "1  [[-8.639847, 41.159826], [-8.640351, 41.159871... 2013-07-01 00:08:23   \n",
       "2  [[-8.612964, 41.140359], [-8.613378, 41.14035]... 2013-07-01 00:02:31   \n",
       "\n",
       "     ...      weekday  hour  minute  second   distance  riding_time  \\\n",
       "0    ...            0     0       0      58   3.186095          345   \n",
       "1    ...            0     0       8      23   4.388608          285   \n",
       "2    ...            0     0       2      31  22.403604          975   \n",
       "\n",
       "     start_x    start_y      end_x      end_y  \n",
       "0  -8.618643  41.141412  -8.630838  41.154489  \n",
       "1  -8.639847  41.159826   -8.66574  41.170671  \n",
       "2  -8.612964  41.140359   -8.61597   41.14053  \n",
       "\n",
       "[3 rows x 23 columns]"
      ]
     },
     "execution_count": 20,
     "metadata": {},
     "output_type": "execute_result"
    }
   ],
   "source": [
    "df.head(3)"
   ]
  },
  {
   "cell_type": "markdown",
   "metadata": {},
   "source": [
    "#### 降車ポイントが不明なデータの削除"
   ]
  },
  {
   "cell_type": "code",
   "execution_count": 22,
   "metadata": {
    "scrolled": true
   },
   "outputs": [
    {
     "data": {
      "text/plain": [
       "array([ 105621,  299137,  457486,  738466,  782321,  848552,  932391,\n",
       "       1432196])"
      ]
     },
     "execution_count": 22,
     "metadata": {},
     "output_type": "execute_result"
    }
   ],
   "source": [
    "# 降車ポイント\n",
    "df[df[\"MISSING_DATA\"] != False].index.values"
   ]
  },
  {
   "cell_type": "code",
   "execution_count": null,
   "metadata": {},
   "outputs": [],
   "source": [
    "df.drop(df[df[\"MISSING_DATA\"] != False].index.values, inplace=True)"
   ]
  },
  {
   "cell_type": "code",
   "execution_count": null,
   "metadata": {},
   "outputs": [],
   "source": [
    "df[df[\"MISSING_DATA\"] != False].shape[0]"
   ]
  },
  {
   "cell_type": "markdown",
   "metadata": {},
   "source": [
    "### 祝日列の追加"
   ]
  },
  {
   "cell_type": "code",
   "execution_count": 21,
   "metadata": {},
   "outputs": [],
   "source": [
    "def is_holiday(x):\n",
    "\n",
    "    # 平日\n",
    "    ret_val = \"o\"\n",
    "\n",
    "    _year = x[\"year\"]\n",
    "    _month = x[\"month\"]\n",
    "    _day = x[\"day\"]\n",
    "\n",
    "    if _year == 2013:\n",
    "        # 1/1\n",
    "        if _month == 1:\n",
    "            if _day == 1:\n",
    "                ret_val = 'h'\n",
    "\n",
    "        # 2/11、2/14\n",
    "        elif _month == 2:\n",
    "            if _day in (11, 14):\n",
    "                ret_val = 'h'\n",
    "\n",
    "        # 3/29、3/31\n",
    "        elif _month == 3:\n",
    "            if _day in (29, 31):\n",
    "                ret_val = 'h'\n",
    "\n",
    "        # 4/1、4/25\n",
    "        elif _month == 4:\n",
    "            if _day in (1, 25):\n",
    "                ret_val = 'h'\n",
    "\n",
    "        # 5/1、5/5、5/9、5/30\n",
    "        elif _month == 5:\n",
    "            if _day in (1, 5, 9, 30):\n",
    "                ret_val = 'h'\n",
    "\n",
    "        # 6/10、6/13、6/24、6/29\n",
    "        elif _month == 6:\n",
    "            if _day in (10, 13, 24, 29):\n",
    "                ret_val = 'h'\n",
    "        # 8/15\n",
    "        elif _month == 8:\n",
    "            if _day == 15:\n",
    "                ret_val = 'h'\n",
    "        # 10/5\n",
    "        elif _month == 10:\n",
    "            if _day == 5:\n",
    "                ret_val = 'h'\n",
    "\n",
    "        # 11/1\n",
    "        elif _month == 11:\n",
    "            if _day == 1:\n",
    "                ret_val = 'h'\n",
    "\n",
    "        # 12/1、12/8、12/25\n",
    "        elif _month == 12:\n",
    "            if _day in (1, 8, 25):\n",
    "                ret_val = 'h'\n",
    "\n",
    "    elif _year == 2014:\n",
    "        # 1/1\n",
    "        if _month == 1:\n",
    "            if _day == 1:\n",
    "                ret_val = 'h'\n",
    "\n",
    "        # 2/14\n",
    "        elif _month == 2:\n",
    "            if _day == 14:\n",
    "                ret_val = 'h'\n",
    "\n",
    "        # 3/3\n",
    "        elif _month == 3:\n",
    "            if _day == 3:\n",
    "                ret_val = 'h'\n",
    "\n",
    "        # 4/18、4/20、4/21、4/25\n",
    "        elif _month == 4:\n",
    "            if _day in (18, 20, 21, 25):\n",
    "                ret_val = 'h'\n",
    "\n",
    "        # 5/1、5/4、5/29\n",
    "        elif _month == 5:\n",
    "            if _day in (1, 4, 29):\n",
    "                ret_val = 'h'\n",
    "\n",
    "        # 6/10、6/13、6/19、6/24、6/29\n",
    "        elif _month == 6:\n",
    "            if _day in (10, 13, 19, 24, 29):\n",
    "                ret_val = 'h'\n",
    "        # 8/15\n",
    "        elif _month == 8:\n",
    "            if _day == 15:\n",
    "                ret_val = 'h'\n",
    "        # 10/5\n",
    "        elif _month == 10:\n",
    "            if _day == 5:\n",
    "                ret_val = 'h'\n",
    "\n",
    "        # 11/1\n",
    "        elif _month == 11:\n",
    "            if _day == 1:\n",
    "                ret_val = 'h'\n",
    "\n",
    "        # 12/1、12/8、12/25\n",
    "        elif _month == 12:\n",
    "            if _day in (1, 8, 25):\n",
    "                ret_val = 'h'\n",
    "\n",
    "    return ret_val\n",
    "\n",
    "\n",
    "df[\"holiday\"] = df.apply(is_holiday, axis=1)"
   ]
  },
  {
   "cell_type": "markdown",
   "metadata": {},
   "source": [
    "### 曜日を文字に変換  \n",
    "後でダミー化する為"
   ]
  },
  {
   "cell_type": "code",
   "execution_count": 23,
   "metadata": {},
   "outputs": [],
   "source": [
    "# Monday=0, Sunday=6 => 0=Mon, 6=Sun に変換\n",
    "def convert_weekday(x):\n",
    "\n",
    "    if x == 0:\n",
    "        return \"mon\"\n",
    "    elif x == 1:\n",
    "        return \"tue\"\n",
    "    elif x == 2:\n",
    "        return \"wed\"\n",
    "    elif x == 3:\n",
    "        return \"thu\"\n",
    "    elif x == 4:\n",
    "        return \"fri\"\n",
    "    elif x == 5:\n",
    "        return \"sat\"\n",
    "    elif x == 6:\n",
    "        return \"sun\"\n",
    "\n",
    "df[\"weekday\"] = df[\"weekday\"].apply(convert_weekday)"
   ]
  },
  {
   "cell_type": "markdown",
   "metadata": {},
   "source": [
    "### 列を並び替え、日付の昇順でソート"
   ]
  },
  {
   "cell_type": "code",
   "execution_count": 24,
   "metadata": {},
   "outputs": [],
   "source": [
    "# 要らない列を削除\n",
    "df.drop(\"time\", axis=1, inplace=True)"
   ]
  },
  {
   "cell_type": "code",
   "execution_count": 25,
   "metadata": {},
   "outputs": [],
   "source": [
    "col_names = [\n",
    "    \"TIMESTAMP\", \"year\", \"month\", \"day\", \"weekday\", \"hour\", \"minute\", \"second\",\n",
    "    \"TAXI_ID\", \"TRIP_ID\", \"holiday\", \"riding_time\", \"distance\", \"start_x\",\n",
    "    \"start_y\", \"end_x\", \"end_y\", \"DAY_TYPE\", \"CALL_TYPE\", \"ORIGIN_STAND\",\n",
    "    \"ORIGIN_CALL\", \"MISSING_DATA\", \"POLYLINE\"\n",
    "]\n",
    "\n",
    "df.sort_values(\n",
    "    by=[\"year\", \"month\", \"day\", \"hour\", \"minute\", \"second\"],\n",
    "    ascending=True,\n",
    "    inplace=True)\n",
    "df = df.reindex(col_names, axis=1)\n",
    "\n",
    "# 元の行インデックスをdropし、振りなおす\n",
    "df.reset_index(drop=True, inplace=True)\n",
    "\n",
    "# TAXI_IDを文字列として認識させる\n",
    "df[\"TAXI_ID\"] = df[\"TAXI_ID\"].astype(str)"
   ]
  },
  {
   "cell_type": "code",
   "execution_count": 26,
   "metadata": {
    "scrolled": true
   },
   "outputs": [
    {
     "data": {
      "text/html": [
       "<div>\n",
       "<style scoped>\n",
       "    .dataframe tbody tr th:only-of-type {\n",
       "        vertical-align: middle;\n",
       "    }\n",
       "\n",
       "    .dataframe tbody tr th {\n",
       "        vertical-align: top;\n",
       "    }\n",
       "\n",
       "    .dataframe thead th {\n",
       "        text-align: right;\n",
       "    }\n",
       "</style>\n",
       "<table border=\"1\" class=\"dataframe\">\n",
       "  <thead>\n",
       "    <tr style=\"text-align: right;\">\n",
       "      <th></th>\n",
       "      <th>TIMESTAMP</th>\n",
       "      <th>year</th>\n",
       "      <th>month</th>\n",
       "      <th>day</th>\n",
       "      <th>weekday</th>\n",
       "      <th>hour</th>\n",
       "      <th>minute</th>\n",
       "      <th>second</th>\n",
       "      <th>TAXI_ID</th>\n",
       "      <th>TRIP_ID</th>\n",
       "      <th>holiday</th>\n",
       "      <th>riding_time</th>\n",
       "      <th>distance</th>\n",
       "      <th>start_x</th>\n",
       "      <th>start_y</th>\n",
       "      <th>end_x</th>\n",
       "      <th>end_y</th>\n",
       "      <th>DAY_TYPE</th>\n",
       "      <th>CALL_TYPE</th>\n",
       "      <th>ORIGIN_STAND</th>\n",
       "      <th>ORIGIN_CALL</th>\n",
       "      <th>MISSING_DATA</th>\n",
       "      <th>POLYLINE</th>\n",
       "    </tr>\n",
       "  </thead>\n",
       "  <tbody>\n",
       "    <tr>\n",
       "      <th>0</th>\n",
       "      <td>1372636853</td>\n",
       "      <td>2013</td>\n",
       "      <td>7</td>\n",
       "      <td>1</td>\n",
       "      <td>mon</td>\n",
       "      <td>0</td>\n",
       "      <td>0</td>\n",
       "      <td>53</td>\n",
       "      <td>20000380</td>\n",
       "      <td>1372636853620000380</td>\n",
       "      <td>o</td>\n",
       "      <td>375</td>\n",
       "      <td>2.395003</td>\n",
       "      <td>-8.610291</td>\n",
       "      <td>41.140746</td>\n",
       "      <td>-8.60589</td>\n",
       "      <td>41.145345</td>\n",
       "      <td>A</td>\n",
       "      <td>C</td>\n",
       "      <td>NaN</td>\n",
       "      <td>NaN</td>\n",
       "      <td>False</td>\n",
       "      <td>[[-8.610291, 41.140746], [-8.6103, 41.140755],...</td>\n",
       "    </tr>\n",
       "    <tr>\n",
       "      <th>1</th>\n",
       "      <td>1372636854</td>\n",
       "      <td>2013</td>\n",
       "      <td>7</td>\n",
       "      <td>1</td>\n",
       "      <td>mon</td>\n",
       "      <td>0</td>\n",
       "      <td>0</td>\n",
       "      <td>54</td>\n",
       "      <td>20000520</td>\n",
       "      <td>1372636854620000520</td>\n",
       "      <td>o</td>\n",
       "      <td>645</td>\n",
       "      <td>10.114430</td>\n",
       "      <td>-8.574678</td>\n",
       "      <td>41.151951</td>\n",
       "      <td>-8.607996</td>\n",
       "      <td>41.142915</td>\n",
       "      <td>A</td>\n",
       "      <td>C</td>\n",
       "      <td>NaN</td>\n",
       "      <td>NaN</td>\n",
       "      <td>False</td>\n",
       "      <td>[[-8.574678, 41.151951], [-8.574705, 41.151942...</td>\n",
       "    </tr>\n",
       "    <tr>\n",
       "      <th>2</th>\n",
       "      <td>1372636858</td>\n",
       "      <td>2013</td>\n",
       "      <td>7</td>\n",
       "      <td>1</td>\n",
       "      <td>mon</td>\n",
       "      <td>0</td>\n",
       "      <td>0</td>\n",
       "      <td>58</td>\n",
       "      <td>20000589</td>\n",
       "      <td>1372636858620000589</td>\n",
       "      <td>o</td>\n",
       "      <td>345</td>\n",
       "      <td>3.186095</td>\n",
       "      <td>-8.618643</td>\n",
       "      <td>41.141412</td>\n",
       "      <td>-8.630838</td>\n",
       "      <td>41.154489</td>\n",
       "      <td>A</td>\n",
       "      <td>C</td>\n",
       "      <td>NaN</td>\n",
       "      <td>NaN</td>\n",
       "      <td>False</td>\n",
       "      <td>[[-8.618643, 41.141412], [-8.618499, 41.141376...</td>\n",
       "    </tr>\n",
       "  </tbody>\n",
       "</table>\n",
       "</div>"
      ],
      "text/plain": [
       "    TIMESTAMP  year  month  day weekday  hour  minute  second   TAXI_ID  \\\n",
       "0  1372636853  2013      7    1     mon     0       0      53  20000380   \n",
       "1  1372636854  2013      7    1     mon     0       0      54  20000520   \n",
       "2  1372636858  2013      7    1     mon     0       0      58  20000589   \n",
       "\n",
       "               TRIP_ID holiday  riding_time   distance    start_x    start_y  \\\n",
       "0  1372636853620000380       o          375   2.395003  -8.610291  41.140746   \n",
       "1  1372636854620000520       o          645  10.114430  -8.574678  41.151951   \n",
       "2  1372636858620000589       o          345   3.186095  -8.618643  41.141412   \n",
       "\n",
       "       end_x      end_y DAY_TYPE CALL_TYPE  ORIGIN_STAND  ORIGIN_CALL  \\\n",
       "0   -8.60589  41.145345        A         C           NaN          NaN   \n",
       "1  -8.607996  41.142915        A         C           NaN          NaN   \n",
       "2  -8.630838  41.154489        A         C           NaN          NaN   \n",
       "\n",
       "   MISSING_DATA                                           POLYLINE  \n",
       "0         False  [[-8.610291, 41.140746], [-8.6103, 41.140755],...  \n",
       "1         False  [[-8.574678, 41.151951], [-8.574705, 41.151942...  \n",
       "2         False  [[-8.618643, 41.141412], [-8.618499, 41.141376...  "
      ]
     },
     "execution_count": 26,
     "metadata": {},
     "output_type": "execute_result"
    }
   ],
   "source": [
    "pd.set_option(\"display.max_columns\", 30)\n",
    "df.head(3)"
   ]
  },
  {
   "cell_type": "markdown",
   "metadata": {},
   "source": [
    "## ここまでのデータをcsvに保存\n",
    "\n",
    "※　df[\"MISSING_DATA\"] != Falseも残してます。"
   ]
  },
  {
   "cell_type": "code",
   "execution_count": null,
   "metadata": {},
   "outputs": [],
   "source": [
    "# 要らない列を削除\n",
    "# df.drop(\"POLYLINE\", axis=1, inplace=True)\n",
    "\n",
    "df.to_csv(\"data/edit_train_with_polyline.csv\", index=False, header=True)"
   ]
  },
  {
   "cell_type": "code",
   "execution_count": 27,
   "metadata": {},
   "outputs": [],
   "source": [
    "# 要らない列を削除\n",
    "df.drop(\"POLYLINE\", axis=1, inplace=True)\n",
    "\n",
    "df.to_csv(\"data/edit_train.csv\", index=False, header=True)"
   ]
  }
 ],
 "metadata": {
  "kernelspec": {
   "display_name": "Python 3",
   "language": "python",
   "name": "python3"
  },
  "language_info": {
   "codemirror_mode": {
    "name": "ipython",
    "version": 3
   },
   "file_extension": ".py",
   "mimetype": "text/x-python",
   "name": "python",
   "nbconvert_exporter": "python",
   "pygments_lexer": "ipython3",
   "version": "3.6.4"
  },
  "toc": {
   "base_numbering": 1,
   "nav_menu": {},
   "number_sections": true,
   "sideBar": true,
   "skip_h1_title": true,
   "title_cell": "目次",
   "title_sidebar": "Contents",
   "toc_cell": true,
   "toc_position": {},
   "toc_section_display": true,
   "toc_window_display": false
  }
 },
 "nbformat": 4,
 "nbformat_minor": 2
}
