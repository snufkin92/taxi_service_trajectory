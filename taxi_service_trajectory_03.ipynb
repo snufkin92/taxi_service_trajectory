{
 "cells": [
  {
   "cell_type": "markdown",
   "metadata": {},
   "source": [
    "## やりたいこと\n",
    "- 予測アプリ\n",
    "    - 緯度・軽度を分割する。\n",
    "    - 分割したエリアに乗車・降車ポイントをgooglemap上にプロット\n",
    "    - 分割したエリアの当日における15分単位の乗車確立を図示する。(ディープラーニングで2値問題の確立はだせる）\n",
    "        - 何をデータに食わせるか？（1年間の全データ？15分刻みのデータ？）\n",
    "        - 分割したエリアの当日における15分単位の乗車確率を図示する。(ディープラーニングで2値問題の確立はだせる?）\n",
    "           => 該当エリアの乗車実績数/全エリアの乗車実績数　でもだせるが・・・\n",
    "    - 分割したエリアで乗車した場合の予測乗車時間を図示する。(ディープラーニングで回帰予測はできるの？）\n",
    "    - 分割したエリアで乗車した場合の予測進路を8種類で図示する。（乗車、降車の教師データから方向はだせて、ディープラーニングで予測できる）\n",
    "\n",
    "- クラスタリング\n",
    "    - 優良ドライバーと新人ドライバーの比較ではなく、顧客を分析した方が良いか？\n",
    "        - どう分類する？"
   ]
  },
  {
   "cell_type": "markdown",
   "metadata": {},
   "source": [
    "## データ考察"
   ]
  },
  {
   "cell_type": "code",
   "execution_count": 1,
   "metadata": {},
   "outputs": [],
   "source": [
    "# Google Map上にプロットするライブラリ\n",
    "# !pip install gmplot"
   ]
  },
  {
   "cell_type": "code",
   "execution_count": 2,
   "metadata": {},
   "outputs": [],
   "source": [
    "import pandas as pd \n",
    "import numpy as np\n",
    "import re\n",
    "import copy\n",
    "from datetime import datetime as dt\n",
    "from gmplot import gmplot\n",
    "\n",
    "from matplotlib import pyplot as plt\n",
    "import seaborn as sns\n",
    "\n",
    "# warningの抑止\n",
    "import warnings\n",
    "warnings.filterwarnings('ignore')\n",
    "\n",
    "# メモリ解放\n",
    "import gc"
   ]
  },
  {
   "cell_type": "code",
   "execution_count": 3,
   "metadata": {},
   "outputs": [
    {
     "data": {
      "text/html": [
       "<div>\n",
       "<style scoped>\n",
       "    .dataframe tbody tr th:only-of-type {\n",
       "        vertical-align: middle;\n",
       "    }\n",
       "\n",
       "    .dataframe tbody tr th {\n",
       "        vertical-align: top;\n",
       "    }\n",
       "\n",
       "    .dataframe thead th {\n",
       "        text-align: right;\n",
       "    }\n",
       "</style>\n",
       "<table border=\"1\" class=\"dataframe\">\n",
       "  <thead>\n",
       "    <tr style=\"text-align: right;\">\n",
       "      <th></th>\n",
       "      <th>TIMESTAMP</th>\n",
       "      <th>year</th>\n",
       "      <th>month</th>\n",
       "      <th>day</th>\n",
       "      <th>weekday</th>\n",
       "      <th>hour</th>\n",
       "      <th>minute</th>\n",
       "      <th>second</th>\n",
       "      <th>TAXI_ID</th>\n",
       "      <th>TRIP_ID</th>\n",
       "      <th>holiday</th>\n",
       "      <th>riding_time</th>\n",
       "      <th>distance</th>\n",
       "      <th>start_x</th>\n",
       "      <th>start_y</th>\n",
       "      <th>end_x</th>\n",
       "      <th>end_y</th>\n",
       "      <th>DAY_TYPE</th>\n",
       "      <th>CALL_TYPE</th>\n",
       "      <th>ORIGIN_STAND</th>\n",
       "      <th>ORIGIN_CALL</th>\n",
       "      <th>MISSING_DATA</th>\n",
       "    </tr>\n",
       "  </thead>\n",
       "  <tbody>\n",
       "    <tr>\n",
       "      <th>0</th>\n",
       "      <td>1372636853</td>\n",
       "      <td>2013</td>\n",
       "      <td>7</td>\n",
       "      <td>1</td>\n",
       "      <td>mon</td>\n",
       "      <td>0</td>\n",
       "      <td>0</td>\n",
       "      <td>53</td>\n",
       "      <td>20000380</td>\n",
       "      <td>1372636853620000380</td>\n",
       "      <td>o</td>\n",
       "      <td>375</td>\n",
       "      <td>2.395003</td>\n",
       "      <td>-8.610291</td>\n",
       "      <td>41.140746</td>\n",
       "      <td>-8.605890</td>\n",
       "      <td>41.145345</td>\n",
       "      <td>A</td>\n",
       "      <td>C</td>\n",
       "      <td>NaN</td>\n",
       "      <td>NaN</td>\n",
       "      <td>False</td>\n",
       "    </tr>\n",
       "    <tr>\n",
       "      <th>1</th>\n",
       "      <td>1372636854</td>\n",
       "      <td>2013</td>\n",
       "      <td>7</td>\n",
       "      <td>1</td>\n",
       "      <td>mon</td>\n",
       "      <td>0</td>\n",
       "      <td>0</td>\n",
       "      <td>54</td>\n",
       "      <td>20000520</td>\n",
       "      <td>1372636854620000520</td>\n",
       "      <td>o</td>\n",
       "      <td>645</td>\n",
       "      <td>10.114430</td>\n",
       "      <td>-8.574678</td>\n",
       "      <td>41.151951</td>\n",
       "      <td>-8.607996</td>\n",
       "      <td>41.142915</td>\n",
       "      <td>A</td>\n",
       "      <td>C</td>\n",
       "      <td>NaN</td>\n",
       "      <td>NaN</td>\n",
       "      <td>False</td>\n",
       "    </tr>\n",
       "    <tr>\n",
       "      <th>2</th>\n",
       "      <td>1372636858</td>\n",
       "      <td>2013</td>\n",
       "      <td>7</td>\n",
       "      <td>1</td>\n",
       "      <td>mon</td>\n",
       "      <td>0</td>\n",
       "      <td>0</td>\n",
       "      <td>58</td>\n",
       "      <td>20000589</td>\n",
       "      <td>1372636858620000589</td>\n",
       "      <td>o</td>\n",
       "      <td>345</td>\n",
       "      <td>3.186095</td>\n",
       "      <td>-8.618643</td>\n",
       "      <td>41.141412</td>\n",
       "      <td>-8.630838</td>\n",
       "      <td>41.154489</td>\n",
       "      <td>A</td>\n",
       "      <td>C</td>\n",
       "      <td>NaN</td>\n",
       "      <td>NaN</td>\n",
       "      <td>False</td>\n",
       "    </tr>\n",
       "    <tr>\n",
       "      <th>3</th>\n",
       "      <td>1372636875</td>\n",
       "      <td>2013</td>\n",
       "      <td>7</td>\n",
       "      <td>1</td>\n",
       "      <td>mon</td>\n",
       "      <td>0</td>\n",
       "      <td>1</td>\n",
       "      <td>15</td>\n",
       "      <td>20000233</td>\n",
       "      <td>1372636875620000233</td>\n",
       "      <td>o</td>\n",
       "      <td>330</td>\n",
       "      <td>2.549688</td>\n",
       "      <td>-8.619894</td>\n",
       "      <td>41.148009</td>\n",
       "      <td>-8.609490</td>\n",
       "      <td>41.157351</td>\n",
       "      <td>A</td>\n",
       "      <td>C</td>\n",
       "      <td>NaN</td>\n",
       "      <td>NaN</td>\n",
       "      <td>False</td>\n",
       "    </tr>\n",
       "    <tr>\n",
       "      <th>4</th>\n",
       "      <td>1372636896</td>\n",
       "      <td>2013</td>\n",
       "      <td>7</td>\n",
       "      <td>1</td>\n",
       "      <td>mon</td>\n",
       "      <td>0</td>\n",
       "      <td>1</td>\n",
       "      <td>36</td>\n",
       "      <td>20000360</td>\n",
       "      <td>1372636896620000360</td>\n",
       "      <td>o</td>\n",
       "      <td>645</td>\n",
       "      <td>10.080812</td>\n",
       "      <td>-8.617599</td>\n",
       "      <td>41.146137</td>\n",
       "      <td>-8.636625</td>\n",
       "      <td>41.169141</td>\n",
       "      <td>A</td>\n",
       "      <td>C</td>\n",
       "      <td>NaN</td>\n",
       "      <td>NaN</td>\n",
       "      <td>False</td>\n",
       "    </tr>\n",
       "  </tbody>\n",
       "</table>\n",
       "</div>"
      ],
      "text/plain": [
       "    TIMESTAMP  year  month  day weekday  hour  minute  second   TAXI_ID  \\\n",
       "0  1372636853  2013      7    1     mon     0       0      53  20000380   \n",
       "1  1372636854  2013      7    1     mon     0       0      54  20000520   \n",
       "2  1372636858  2013      7    1     mon     0       0      58  20000589   \n",
       "3  1372636875  2013      7    1     mon     0       1      15  20000233   \n",
       "4  1372636896  2013      7    1     mon     0       1      36  20000360   \n",
       "\n",
       "               TRIP_ID holiday  riding_time   distance   start_x    start_y  \\\n",
       "0  1372636853620000380       o          375   2.395003 -8.610291  41.140746   \n",
       "1  1372636854620000520       o          645  10.114430 -8.574678  41.151951   \n",
       "2  1372636858620000589       o          345   3.186095 -8.618643  41.141412   \n",
       "3  1372636875620000233       o          330   2.549688 -8.619894  41.148009   \n",
       "4  1372636896620000360       o          645  10.080812 -8.617599  41.146137   \n",
       "\n",
       "      end_x      end_y DAY_TYPE CALL_TYPE  ORIGIN_STAND  ORIGIN_CALL  \\\n",
       "0 -8.605890  41.145345        A         C           NaN          NaN   \n",
       "1 -8.607996  41.142915        A         C           NaN          NaN   \n",
       "2 -8.630838  41.154489        A         C           NaN          NaN   \n",
       "3 -8.609490  41.157351        A         C           NaN          NaN   \n",
       "4 -8.636625  41.169141        A         C           NaN          NaN   \n",
       "\n",
       "   MISSING_DATA  \n",
       "0         False  \n",
       "1         False  \n",
       "2         False  \n",
       "3         False  \n",
       "4         False  "
      ]
     },
     "execution_count": 3,
     "metadata": {},
     "output_type": "execute_result"
    }
   ],
   "source": [
    "pd.set_option(\"display.max_columns\", 30)\n",
    "\n",
    "# データを読み込む\n",
    "df = pd.read_csv(\"data/edit_train.csv\")\n",
    "\n",
    "df.head()"
   ]
  },
  {
   "cell_type": "code",
   "execution_count": 4,
   "metadata": {},
   "outputs": [
    {
     "data": {
      "text/plain": [
       "0"
      ]
     },
     "execution_count": 4,
     "metadata": {},
     "output_type": "execute_result"
    }
   ],
   "source": [
    "# 降車ポイントが不明なデータを削除\n",
    "df.drop(df[df[\"MISSING_DATA\"] != False].index.values, inplace=True)\n",
    "df[df[\"MISSING_DATA\"] != False].shape[0]"
   ]
  },
  {
   "cell_type": "code",
   "execution_count": 5,
   "metadata": {},
   "outputs": [
    {
     "data": {
      "text/plain": [
       "(1674152, 22)"
      ]
     },
     "execution_count": 5,
     "metadata": {},
     "output_type": "execute_result"
    }
   ],
   "source": [
    "df.shape"
   ]
  },
  {
   "cell_type": "code",
   "execution_count": 6,
   "metadata": {},
   "outputs": [
    {
     "data": {
      "text/html": [
       "<div>\n",
       "<style scoped>\n",
       "    .dataframe tbody tr th:only-of-type {\n",
       "        vertical-align: middle;\n",
       "    }\n",
       "\n",
       "    .dataframe tbody tr th {\n",
       "        vertical-align: top;\n",
       "    }\n",
       "\n",
       "    .dataframe thead th {\n",
       "        text-align: right;\n",
       "    }\n",
       "</style>\n",
       "<table border=\"1\" class=\"dataframe\">\n",
       "  <thead>\n",
       "    <tr style=\"text-align: right;\">\n",
       "      <th></th>\n",
       "      <th>riding_time</th>\n",
       "      <th>distance</th>\n",
       "      <th>start_x</th>\n",
       "      <th>start_y</th>\n",
       "      <th>end_x</th>\n",
       "      <th>end_y</th>\n",
       "    </tr>\n",
       "  </thead>\n",
       "  <tbody>\n",
       "    <tr>\n",
       "      <th>count</th>\n",
       "      <td>1.674152e+06</td>\n",
       "      <td>1.674152e+06</td>\n",
       "      <td>1.674152e+06</td>\n",
       "      <td>1.674152e+06</td>\n",
       "      <td>1.674152e+06</td>\n",
       "      <td>1.674152e+06</td>\n",
       "    </tr>\n",
       "    <tr>\n",
       "      <th>mean</th>\n",
       "      <td>7.470452e+02</td>\n",
       "      <td>6.603551e+00</td>\n",
       "      <td>-8.617299e+00</td>\n",
       "      <td>4.115702e+01</td>\n",
       "      <td>-8.620153e+00</td>\n",
       "      <td>4.116235e+01</td>\n",
       "    </tr>\n",
       "    <tr>\n",
       "      <th>std</th>\n",
       "      <td>6.838430e+02</td>\n",
       "      <td>8.913975e+00</td>\n",
       "      <td>2.783447e-02</td>\n",
       "      <td>2.084918e-02</td>\n",
       "      <td>3.786713e-02</td>\n",
       "      <td>3.612992e-02</td>\n",
       "    </tr>\n",
       "    <tr>\n",
       "      <th>min</th>\n",
       "      <td>3.000000e+01</td>\n",
       "      <td>0.000000e+00</td>\n",
       "      <td>-1.215453e+01</td>\n",
       "      <td>3.718483e+01</td>\n",
       "      <td>-1.347646e+01</td>\n",
       "      <td>3.731378e+01</td>\n",
       "    </tr>\n",
       "    <tr>\n",
       "      <th>25%</th>\n",
       "      <td>4.350000e+02</td>\n",
       "      <td>2.887005e+00</td>\n",
       "      <td>-8.628822e+00</td>\n",
       "      <td>4.114785e+01</td>\n",
       "      <td>-8.640756e+00</td>\n",
       "      <td>4.114869e+01</td>\n",
       "    </tr>\n",
       "    <tr>\n",
       "      <th>50%</th>\n",
       "      <td>6.300000e+02</td>\n",
       "      <td>4.752176e+00</td>\n",
       "      <td>-8.612739e+00</td>\n",
       "      <td>4.115434e+01</td>\n",
       "      <td>-8.615223e+00</td>\n",
       "      <td>4.115782e+01</td>\n",
       "    </tr>\n",
       "    <tr>\n",
       "      <th>75%</th>\n",
       "      <td>8.850000e+02</td>\n",
       "      <td>7.916631e+00</td>\n",
       "      <td>-8.603748e+00</td>\n",
       "      <td>4.116317e+01</td>\n",
       "      <td>-8.602776e+00</td>\n",
       "      <td>4.117081e+01</td>\n",
       "    </tr>\n",
       "    <tr>\n",
       "      <th>max</th>\n",
       "      <td>5.821500e+04</td>\n",
       "      <td>1.609067e+03</td>\n",
       "      <td>-4.816116e+00</td>\n",
       "      <td>5.103712e+01</td>\n",
       "      <td>-5.793111e+00</td>\n",
       "      <td>4.435162e+01</td>\n",
       "    </tr>\n",
       "  </tbody>\n",
       "</table>\n",
       "</div>"
      ],
      "text/plain": [
       "        riding_time      distance       start_x       start_y         end_x  \\\n",
       "count  1.674152e+06  1.674152e+06  1.674152e+06  1.674152e+06  1.674152e+06   \n",
       "mean   7.470452e+02  6.603551e+00 -8.617299e+00  4.115702e+01 -8.620153e+00   \n",
       "std    6.838430e+02  8.913975e+00  2.783447e-02  2.084918e-02  3.786713e-02   \n",
       "min    3.000000e+01  0.000000e+00 -1.215453e+01  3.718483e+01 -1.347646e+01   \n",
       "25%    4.350000e+02  2.887005e+00 -8.628822e+00  4.114785e+01 -8.640756e+00   \n",
       "50%    6.300000e+02  4.752176e+00 -8.612739e+00  4.115434e+01 -8.615223e+00   \n",
       "75%    8.850000e+02  7.916631e+00 -8.603748e+00  4.116317e+01 -8.602776e+00   \n",
       "max    5.821500e+04  1.609067e+03 -4.816116e+00  5.103712e+01 -5.793111e+00   \n",
       "\n",
       "              end_y  \n",
       "count  1.674152e+06  \n",
       "mean   4.116235e+01  \n",
       "std    3.612992e-02  \n",
       "min    3.731378e+01  \n",
       "25%    4.114869e+01  \n",
       "50%    4.115782e+01  \n",
       "75%    4.117081e+01  \n",
       "max    4.435162e+01  "
      ]
     },
     "execution_count": 6,
     "metadata": {},
     "output_type": "execute_result"
    }
   ],
   "source": [
    "df.describe()[[\n",
    "    \"riding_time\", \"distance\", \"start_x\", \"start_y\", \"end_x\", \"end_y\"\n",
    "]]"
   ]
  },
  {
   "cell_type": "code",
   "execution_count": 7,
   "metadata": {},
   "outputs": [
    {
     "name": "stdout",
     "output_type": "stream",
     "text": [
      "16.170833333333334 時間\n",
      "1609.067 km\n"
     ]
    }
   ],
   "source": [
    "# 乗車時間最大、乗車距離最大\n",
    "print(5.821500e+04 / 60 / 60, \"時間\")\n",
    "print(1.609067e+03, \"km\")"
   ]
  },
  {
   "cell_type": "code",
   "execution_count": 8,
   "metadata": {
    "scrolled": false
   },
   "outputs": [
    {
     "data": {
      "text/html": [
       "<div>\n",
       "<style scoped>\n",
       "    .dataframe tbody tr th:only-of-type {\n",
       "        vertical-align: middle;\n",
       "    }\n",
       "\n",
       "    .dataframe tbody tr th {\n",
       "        vertical-align: top;\n",
       "    }\n",
       "\n",
       "    .dataframe thead th {\n",
       "        text-align: right;\n",
       "    }\n",
       "</style>\n",
       "<table border=\"1\" class=\"dataframe\">\n",
       "  <thead>\n",
       "    <tr style=\"text-align: right;\">\n",
       "      <th></th>\n",
       "      <th>TIMESTAMP</th>\n",
       "      <th>year</th>\n",
       "      <th>month</th>\n",
       "      <th>day</th>\n",
       "      <th>weekday</th>\n",
       "      <th>hour</th>\n",
       "      <th>minute</th>\n",
       "      <th>second</th>\n",
       "      <th>TAXI_ID</th>\n",
       "      <th>TRIP_ID</th>\n",
       "      <th>holiday</th>\n",
       "      <th>riding_time</th>\n",
       "      <th>distance</th>\n",
       "      <th>start_x</th>\n",
       "      <th>start_y</th>\n",
       "      <th>end_x</th>\n",
       "      <th>end_y</th>\n",
       "      <th>DAY_TYPE</th>\n",
       "      <th>CALL_TYPE</th>\n",
       "      <th>ORIGIN_STAND</th>\n",
       "      <th>ORIGIN_CALL</th>\n",
       "      <th>MISSING_DATA</th>\n",
       "    </tr>\n",
       "  </thead>\n",
       "  <tbody>\n",
       "    <tr>\n",
       "      <th>1238238</th>\n",
       "      <td>1396444676</td>\n",
       "      <td>2014</td>\n",
       "      <td>4</td>\n",
       "      <td>2</td>\n",
       "      <td>wed</td>\n",
       "      <td>13</td>\n",
       "      <td>17</td>\n",
       "      <td>56</td>\n",
       "      <td>20000386</td>\n",
       "      <td>1396444676620000386</td>\n",
       "      <td>o</td>\n",
       "      <td>510</td>\n",
       "      <td>1609.066766</td>\n",
       "      <td>-8.630694</td>\n",
       "      <td>41.154858</td>\n",
       "      <td>-8.644806</td>\n",
       "      <td>41.158917</td>\n",
       "      <td>A</td>\n",
       "      <td>B</td>\n",
       "      <td>12.0</td>\n",
       "      <td>NaN</td>\n",
       "      <td>False</td>\n",
       "    </tr>\n",
       "  </tbody>\n",
       "</table>\n",
       "</div>"
      ],
      "text/plain": [
       "          TIMESTAMP  year  month  day weekday  hour  minute  second   TAXI_ID  \\\n",
       "1238238  1396444676  2014      4    2     wed    13      17      56  20000386   \n",
       "\n",
       "                     TRIP_ID holiday  riding_time     distance   start_x  \\\n",
       "1238238  1396444676620000386       o          510  1609.066766 -8.630694   \n",
       "\n",
       "           start_y     end_x      end_y DAY_TYPE CALL_TYPE  ORIGIN_STAND  \\\n",
       "1238238  41.154858 -8.644806  41.158917        A         B          12.0   \n",
       "\n",
       "         ORIGIN_CALL  MISSING_DATA  \n",
       "1238238          NaN         False  "
      ]
     },
     "execution_count": 8,
     "metadata": {},
     "output_type": "execute_result"
    }
   ],
   "source": [
    "# ORIGIN_STAND != None なのでタクシースタンドからの乗車(CALL_TYPE =B)なので旅行客と思われる。恐らく、DAY_TYPEは誤り\n",
    "df[ df[\"distance\"] > 1.60e+03]"
   ]
  },
  {
   "cell_type": "code",
   "execution_count": 9,
   "metadata": {},
   "outputs": [
    {
     "data": {
      "image/png": "[encoded data removed]",
      "text/plain": [
       "<matplotlib.figure.Figure at 0x1a1d855da0>"
      ]
     },
     "metadata": {},
     "output_type": "display_data"
    }
   ],
   "source": [
    "plt.scatter(-8.630694, 41.154858, label=\"start\")\n",
    "plt.scatter(-8.644806, 41.158917, color=\"r\", label=\"end\")\n",
    "plt.title(\"Start - End Point\")\n",
    "plt.title(\"End Point\")\n",
    "plt.xlabel(\"long\")\n",
    "plt.ylabel(\"lat\")\n",
    "plt.legend()\n",
    "plt.grid()"
   ]
  },
  {
   "cell_type": "code",
   "execution_count": 10,
   "metadata": {},
   "outputs": [
    {
     "data": {
      "text/plain": [
       "814.563954"
      ]
     },
     "execution_count": 10,
     "metadata": {},
     "output_type": "execute_result"
    }
   ],
   "source": [
    "# 経度における 最大 - 最小 距離\n",
    "(-4.816116e+00 - -1.215453e+01) * 111"
   ]
  },
  {
   "cell_type": "markdown",
   "metadata": {},
   "source": [
    "距離が長すぎるので、-8.65e+00 - -8.60e+00 までに絞る\t"
   ]
  },
  {
   "cell_type": "code",
   "execution_count": 11,
   "metadata": {},
   "outputs": [
    {
     "data": {
      "text/plain": [
       "1.1099999999999763"
      ]
     },
     "execution_count": 11,
     "metadata": {},
     "output_type": "execute_result"
    }
   ],
   "source": [
    "(-8.650000e+00 - -8.660000e+00)* 111"
   ]
  },
  {
   "cell_type": "code",
   "execution_count": 12,
   "metadata": {},
   "outputs": [
    {
     "data": {
      "image/png": "[encoded data removed]",
      "text/plain": [
       "<matplotlib.figure.Figure at 0x1025f04a8>"
      ]
     },
     "metadata": {},
     "output_type": "display_data"
    }
   ],
   "source": [
    "plt.scatter(df[\"end_x\"], df[\"end_y\"], color=\"r\", label=\"end\")\n",
    "plt.scatter(df[\"start_x\"], df[\"start_y\"], label=\"start\")\n",
    "plt.title(\"Start - End Point\")\n",
    "plt.xlabel(\"long\")\n",
    "plt.ylabel(\"lat\")\n",
    "plt.legend()\n",
    "plt.grid()"
   ]
  },
  {
   "cell_type": "markdown",
   "metadata": {},
   "source": [
    "## 緯度、経度がおかしいデータを削除\n",
    "\n",
    "[ポルト - wiki](https://ja.wikipedia.org/wiki/%E3%83%9D%E3%83%AB%E3%83%88)\n",
    "\n",
    "[地理的座標と地図 ポルト - ポルトガル共和国](https://www.horlogeparlante.com/%E5%9C%B0%E7%90%86%E5%BA%A7%E6%A8%99-2735943.html)\n",
    "\n",
    "[ポルト - Google Map](https://www.google.co.jp/maps/place/41%C2%B008'58.0%22N+8%C2%B036'39.0%22W/@41.1361111,-8.7411266,11.3z/data=!4m5!3m4!1s0x0:0x0!8m2!3d41.1494444!4d-8.6108333?hl=ja)\n",
    "\n",
    "[ポルト - 温度](https://tentsuki.jp/information/portugal/1430/)\n",
    "\n",
    "[ポルトにおける平均的な気候](https://ja.weatherspark.com/y/32397/%E3%83%9D%E3%83%AB%E3%83%88%E3%80%81%E3%83%9D%E3%83%AB%E3%83%88%E3%82%AC%E3%83%AB%E3%81%AB%E3%81%8A%E3%81%91%E3%82%8B%E5%B9%B4%E9%96%93%E3%81%AE%E5%B9%B3%E5%9D%87%E7%9A%84%E3%81%AA%E6%B0%97%E5%80%99)\n",
    "\n",
    "[タクシー料金の仕組み](https://trafficnews.jp/post/65196)\n",
    "\n",
    "●公園：41.1579,-8.6291\n",
    "市庁舎：41.149444, -8.610833"
   ]
  },
  {
   "cell_type": "code",
   "execution_count": 13,
   "metadata": {},
   "outputs": [
    {
     "name": "stdout",
     "output_type": "stream",
     "text": [
      "(5, 22) (3, 22)\n",
      "(10, 22) (78, 22)\n"
     ]
    }
   ],
   "source": [
    "# ポルト の面積は 41km*2\n",
    "# 経度が-9.5以下は海とみなす\n",
    "print(df[df[\"start_x\"] < -9.5].shape, df[df[\"end_x\"] < -9.5].shape)\n",
    "\n",
    "# 経度が42.0以上は国外とみなす\n",
    "print(df[df[\"start_y\"] > 42.0].shape, df[df[\"end_y\"] > 42.0].shape)"
   ]
  },
  {
   "cell_type": "code",
   "execution_count": 14,
   "metadata": {},
   "outputs": [],
   "source": [
    "# df.query(\"-9.5 < start_x < -6.5 and -9.5 < end_x < -6.5 and start_y < 42.0 and end_y < 42.0\", inplace=True)\n",
    "# df.shape"
   ]
  },
  {
   "cell_type": "markdown",
   "metadata": {},
   "source": [
    "## CALL_TYPE による乗降ポイントのプロット\n",
    "- タクシー会社からの配車：A \n",
    "- タクシー乗り場：B \n",
    "- 流し：C "
   ]
  },
  {
   "cell_type": "code",
   "execution_count": 15,
   "metadata": {},
   "outputs": [],
   "source": [
    "df_call_type_a = df[df[\"CALL_TYPE\"] == \"A\"]\n",
    "df_call_type_b = df[df[\"CALL_TYPE\"] == \"B\"]\n",
    "df_call_type_c = df[df[\"CALL_TYPE\"] == \"C\"]"
   ]
  },
  {
   "cell_type": "code",
   "execution_count": 16,
   "metadata": {},
   "outputs": [
    {
     "data": {
      "text/html": [
       "<div>\n",
       "<style scoped>\n",
       "    .dataframe tbody tr th:only-of-type {\n",
       "        vertical-align: middle;\n",
       "    }\n",
       "\n",
       "    .dataframe tbody tr th {\n",
       "        vertical-align: top;\n",
       "    }\n",
       "\n",
       "    .dataframe thead th {\n",
       "        text-align: right;\n",
       "    }\n",
       "</style>\n",
       "<table border=\"1\" class=\"dataframe\">\n",
       "  <thead>\n",
       "    <tr style=\"text-align: right;\">\n",
       "      <th></th>\n",
       "      <th>TIMESTAMP</th>\n",
       "      <th>year</th>\n",
       "      <th>month</th>\n",
       "      <th>day</th>\n",
       "      <th>weekday</th>\n",
       "      <th>hour</th>\n",
       "      <th>minute</th>\n",
       "      <th>second</th>\n",
       "      <th>TAXI_ID</th>\n",
       "      <th>TRIP_ID</th>\n",
       "      <th>holiday</th>\n",
       "      <th>riding_time</th>\n",
       "      <th>distance</th>\n",
       "      <th>start_x</th>\n",
       "      <th>start_y</th>\n",
       "      <th>end_x</th>\n",
       "      <th>end_y</th>\n",
       "      <th>DAY_TYPE</th>\n",
       "      <th>CALL_TYPE</th>\n",
       "      <th>ORIGIN_STAND</th>\n",
       "      <th>ORIGIN_CALL</th>\n",
       "      <th>MISSING_DATA</th>\n",
       "    </tr>\n",
       "  </thead>\n",
       "  <tbody>\n",
       "    <tr>\n",
       "      <th>14</th>\n",
       "      <td>1372637254</td>\n",
       "      <td>2013</td>\n",
       "      <td>7</td>\n",
       "      <td>1</td>\n",
       "      <td>mon</td>\n",
       "      <td>0</td>\n",
       "      <td>7</td>\n",
       "      <td>34</td>\n",
       "      <td>20000657</td>\n",
       "      <td>1372637254620000657</td>\n",
       "      <td>o</td>\n",
       "      <td>645</td>\n",
       "      <td>8.372939</td>\n",
       "      <td>-8.660646</td>\n",
       "      <td>41.168574</td>\n",
       "      <td>-8.601894</td>\n",
       "      <td>41.181813</td>\n",
       "      <td>A</td>\n",
       "      <td>A</td>\n",
       "      <td>NaN</td>\n",
       "      <td>39233.0</td>\n",
       "      <td>False</td>\n",
       "    </tr>\n",
       "    <tr>\n",
       "      <th>18</th>\n",
       "      <td>1372637343</td>\n",
       "      <td>2013</td>\n",
       "      <td>7</td>\n",
       "      <td>1</td>\n",
       "      <td>mon</td>\n",
       "      <td>0</td>\n",
       "      <td>9</td>\n",
       "      <td>3</td>\n",
       "      <td>20000571</td>\n",
       "      <td>1372637343620000571</td>\n",
       "      <td>o</td>\n",
       "      <td>480</td>\n",
       "      <td>6.822088</td>\n",
       "      <td>-8.618868</td>\n",
       "      <td>41.155101</td>\n",
       "      <td>-8.575065</td>\n",
       "      <td>41.162265</td>\n",
       "      <td>A</td>\n",
       "      <td>A</td>\n",
       "      <td>NaN</td>\n",
       "      <td>31508.0</td>\n",
       "      <td>False</td>\n",
       "    </tr>\n",
       "    <tr>\n",
       "      <th>21</th>\n",
       "      <td>1372637397</td>\n",
       "      <td>2013</td>\n",
       "      <td>7</td>\n",
       "      <td>1</td>\n",
       "      <td>mon</td>\n",
       "      <td>0</td>\n",
       "      <td>9</td>\n",
       "      <td>57</td>\n",
       "      <td>20000190</td>\n",
       "      <td>1372637397620000190</td>\n",
       "      <td>o</td>\n",
       "      <td>840</td>\n",
       "      <td>11.237709</td>\n",
       "      <td>-8.620938</td>\n",
       "      <td>41.150034</td>\n",
       "      <td>-8.559153</td>\n",
       "      <td>41.177214</td>\n",
       "      <td>A</td>\n",
       "      <td>A</td>\n",
       "      <td>NaN</td>\n",
       "      <td>2002.0</td>\n",
       "      <td>False</td>\n",
       "    </tr>\n",
       "    <tr>\n",
       "      <th>26</th>\n",
       "      <td>1372637658</td>\n",
       "      <td>2013</td>\n",
       "      <td>7</td>\n",
       "      <td>1</td>\n",
       "      <td>mon</td>\n",
       "      <td>0</td>\n",
       "      <td>14</td>\n",
       "      <td>18</td>\n",
       "      <td>20000596</td>\n",
       "      <td>1372637658620000596</td>\n",
       "      <td>o</td>\n",
       "      <td>390</td>\n",
       "      <td>3.307791</td>\n",
       "      <td>-8.665686</td>\n",
       "      <td>41.170626</td>\n",
       "      <td>-8.654337</td>\n",
       "      <td>41.187816</td>\n",
       "      <td>A</td>\n",
       "      <td>A</td>\n",
       "      <td>NaN</td>\n",
       "      <td>22864.0</td>\n",
       "      <td>False</td>\n",
       "    </tr>\n",
       "    <tr>\n",
       "      <th>37</th>\n",
       "      <td>1372638035</td>\n",
       "      <td>2013</td>\n",
       "      <td>7</td>\n",
       "      <td>1</td>\n",
       "      <td>mon</td>\n",
       "      <td>0</td>\n",
       "      <td>20</td>\n",
       "      <td>35</td>\n",
       "      <td>20000337</td>\n",
       "      <td>1372638035620000337</td>\n",
       "      <td>o</td>\n",
       "      <td>345</td>\n",
       "      <td>3.416876</td>\n",
       "      <td>-8.688825</td>\n",
       "      <td>41.167323</td>\n",
       "      <td>-8.673750</td>\n",
       "      <td>41.149665</td>\n",
       "      <td>A</td>\n",
       "      <td>A</td>\n",
       "      <td>NaN</td>\n",
       "      <td>39353.0</td>\n",
       "      <td>False</td>\n",
       "    </tr>\n",
       "  </tbody>\n",
       "</table>\n",
       "</div>"
      ],
      "text/plain": [
       "     TIMESTAMP  year  month  day weekday  hour  minute  second   TAXI_ID  \\\n",
       "14  1372637254  2013      7    1     mon     0       7      34  20000657   \n",
       "18  1372637343  2013      7    1     mon     0       9       3  20000571   \n",
       "21  1372637397  2013      7    1     mon     0       9      57  20000190   \n",
       "26  1372637658  2013      7    1     mon     0      14      18  20000596   \n",
       "37  1372638035  2013      7    1     mon     0      20      35  20000337   \n",
       "\n",
       "                TRIP_ID holiday  riding_time   distance   start_x    start_y  \\\n",
       "14  1372637254620000657       o          645   8.372939 -8.660646  41.168574   \n",
       "18  1372637343620000571       o          480   6.822088 -8.618868  41.155101   \n",
       "21  1372637397620000190       o          840  11.237709 -8.620938  41.150034   \n",
       "26  1372637658620000596       o          390   3.307791 -8.665686  41.170626   \n",
       "37  1372638035620000337       o          345   3.416876 -8.688825  41.167323   \n",
       "\n",
       "       end_x      end_y DAY_TYPE CALL_TYPE  ORIGIN_STAND  ORIGIN_CALL  \\\n",
       "14 -8.601894  41.181813        A         A           NaN      39233.0   \n",
       "18 -8.575065  41.162265        A         A           NaN      31508.0   \n",
       "21 -8.559153  41.177214        A         A           NaN       2002.0   \n",
       "26 -8.654337  41.187816        A         A           NaN      22864.0   \n",
       "37 -8.673750  41.149665        A         A           NaN      39353.0   \n",
       "\n",
       "    MISSING_DATA  \n",
       "14         False  \n",
       "18         False  \n",
       "21         False  \n",
       "26         False  \n",
       "37         False  "
      ]
     },
     "execution_count": 16,
     "metadata": {},
     "output_type": "execute_result"
    }
   ],
   "source": [
    "df_call_type_a.head()"
   ]
  },
  {
   "cell_type": "code",
   "execution_count": 17,
   "metadata": {},
   "outputs": [
    {
     "name": "stdout",
     "output_type": "stream",
     "text": [
      "-4.816116 -12.154527\n",
      "-5.793111 -13.476465\n",
      "51.037119 37.184832\n",
      "44.351622 37.313784000000005\n"
     ]
    }
   ],
   "source": [
    "print(df[\"start_x\"].max(),df[\"start_x\"].min())\n",
    "print(df[\"end_x\"].max(),df[\"end_x\"].min())\n",
    "\n",
    "print(df[\"start_y\"].max(),df[\"start_y\"].min())\n",
    "print(df[\"end_y\"].max(),df[\"end_y\"].min())"
   ]
  },
  {
   "cell_type": "code",
   "execution_count": 18,
   "metadata": {},
   "outputs": [
    {
     "data": {
      "image/png": "[encoded data removed]",
      "text/plain": [
       "<matplotlib.figure.Figure at 0x1a1270de10>"
      ]
     },
     "metadata": {},
     "output_type": "display_data"
    }
   ],
   "source": [
    "fig, ax = plt.subplots(3, 1, figsize=(12.0, 9.0))\n",
    "\n",
    "plt.subplots_adjust(hspace=0.5)\n",
    "\n",
    "# CALL_TYPE= A\n",
    "ax[0].scatter(df_call_type_a[\"end_x\"], df_call_type_a[\"end_y\"], color=\"r\", label=\"end\")\n",
    "ax[0].scatter(df_call_type_a[\"start_x\"], df_call_type_a[\"start_y\"], label=\"start\")\n",
    "ax[0].set_title(\"[CALL_TYPE=A] Start - End Point\")\n",
    "ax[0].set_xlabel(\"long\")\n",
    "ax[0].set_ylabel(\"lat\")\n",
    "ax[0].set_xlim(-9.45, -6.65)\n",
    "ax[0].set_ylim(37.15, 42.0)\n",
    "ax[0].legend()\n",
    "ax[0].grid()\n",
    "\n",
    "# CALL_TYPE= B\n",
    "ax[1].scatter(df_call_type_b[\"end_x\"], df_call_type_b[\"end_y\"], color=\"r\", label=\"end\")\n",
    "ax[1].scatter(df_call_type_b[\"start_x\"], df_call_type_b[\"start_y\"], label=\"start\")\n",
    "ax[1].set_title(\"[CALL_TYPE=B] Start - End Point\")\n",
    "ax[1].set_xlabel(\"long\")\n",
    "ax[1].set_ylabel(\"lat\")\n",
    "ax[1].set_xlim(-9.45, -6.65)\n",
    "ax[1].set_ylim(37.15, 42.0)\n",
    "ax[1].legend()\n",
    "ax[1].grid()\n",
    "\n",
    "# CALL_TYPE= C\n",
    "ax[2].scatter(df_call_type_c[\"end_x\"], df_call_type_c[\"end_y\"], color=\"r\", label=\"end\")\n",
    "ax[2].scatter(df_call_type_c[\"start_x\"], df_call_type_c[\"start_y\"], label=\"start\")\n",
    "ax[2].set_title(\"[CALL_TYPE=C] Start - End Point\")\n",
    "ax[2].set_xlabel(\"long\")\n",
    "ax[2].set_ylabel(\"lat\")\n",
    "ax[2].set_xlim(-9.45, -6.65)\n",
    "ax[2].set_ylim(37.15, 42.0)\n",
    "ax[2].legend()\n",
    "ax[2].grid()\n",
    "\n",
    "plt.show()"
   ]
  },
  {
   "cell_type": "markdown",
   "metadata": {},
   "source": [
    "- 基本的に左から右に行きたい人が多い。\n",
    "- 流しの場合は、放射線?\n"
   ]
  },
  {
   "cell_type": "markdown",
   "metadata": {},
   "source": [
    "### CALL_TYPE毎に考察"
   ]
  },
  {
   "cell_type": "code",
   "execution_count": 19,
   "metadata": {},
   "outputs": [
    {
     "data": {
      "text/plain": [
       "((362716, 22), (808889, 22), (502547, 22))"
      ]
     },
     "execution_count": 19,
     "metadata": {},
     "output_type": "execute_result"
    }
   ],
   "source": [
    "df_call_type_a.shape, df_call_type_b.shape, df_call_type_c.shape"
   ]
  },
  {
   "cell_type": "markdown",
   "metadata": {},
   "source": [
    "#### 配車センター"
   ]
  },
  {
   "cell_type": "code",
   "execution_count": 20,
   "metadata": {},
   "outputs": [
    {
     "data": {
      "image/png": "[encoded data removed]",
      "text/plain": [
       "<matplotlib.figure.Figure at 0x1025e4c50>"
      ]
     },
     "metadata": {},
     "output_type": "display_data"
    }
   ],
   "source": [
    "# CALL_TYPE= A（センター）\n",
    "plt.scatter(df_call_type_a[\"end_x\"], df_call_type_a[\"end_y\"], color=\"r\", label=\"end\")\n",
    "plt.scatter(df_call_type_a[\"start_x\"], df_call_type_a[\"start_y\"], label=\"start\")\n",
    "plt.title(\"Start - End Point\")\n",
    "plt.xlabel(\"long\")\n",
    "plt.ylabel(\"lat\")\n",
    "plt.xlim(-9.45, -6.65)\n",
    "plt.ylim(37.15, 42.0)\n",
    "plt.legend()\n",
    "plt.grid()"
   ]
  },
  {
   "cell_type": "markdown",
   "metadata": {},
   "source": [
    "#### スタンド"
   ]
  },
  {
   "cell_type": "code",
   "execution_count": 21,
   "metadata": {},
   "outputs": [
    {
     "data": {
      "image/png": "[encoded data removed]",
      "text/plain": [
       "<matplotlib.figure.Figure at 0x102587e80>"
      ]
     },
     "metadata": {},
     "output_type": "display_data"
    }
   ],
   "source": [
    "# CALL_TYPE= B（スタンド）\n",
    "plt.scatter(df_call_type_b[\"end_x\"], df_call_type_b[\"end_y\"], color=\"r\", label=\"end\")\n",
    "plt.scatter(df_call_type_b[\"start_x\"], df_call_type_b[\"start_y\"], label=\"start\")\n",
    "plt.title(\"Start - End Point\")\n",
    "plt.xlabel(\"long\")\n",
    "plt.ylabel(\"lat\")\n",
    "plt.xlim(-9.45, -6.65)\n",
    "plt.ylim(37.15, 42.0)\n",
    "plt.legend()\n",
    "plt.grid()"
   ]
  },
  {
   "cell_type": "markdown",
   "metadata": {},
   "source": [
    "#### 流し"
   ]
  },
  {
   "cell_type": "code",
   "execution_count": 22,
   "metadata": {
    "scrolled": true
   },
   "outputs": [
    {
     "data": {
      "image/png": "[encoded data removed]",
      "text/plain": [
       "<matplotlib.figure.Figure at 0x10254dac8>"
      ]
     },
     "metadata": {},
     "output_type": "display_data"
    }
   ],
   "source": [
    "plt.scatter(df_call_type_c[\"end_x\"], df_call_type_c[\"end_y\"], color=\"r\", label=\"end\")\n",
    "plt.scatter(df_call_type_c[\"start_x\"], df_call_type_c[\"start_y\"], label=\"start\")\n",
    "plt.title(\"Start - End Point\")\n",
    "plt.xlabel(\"long\")\n",
    "plt.ylabel(\"lat\")\n",
    "plt.xlim(-9.45, -6.65)\n",
    "plt.ylim(37.15, 42.0)\n",
    "plt.legend()\n",
    "plt.grid()"
   ]
  },
  {
   "cell_type": "markdown",
   "metadata": {},
   "source": [
    "### 月、曜日ごと、祝日ごとにプロット"
   ]
  },
  {
   "cell_type": "markdown",
   "metadata": {},
   "source": [
    "### 月でプロット"
   ]
  },
  {
   "cell_type": "markdown",
   "metadata": {},
   "source": [
    "#### 全体"
   ]
  },
  {
   "cell_type": "code",
   "execution_count": 23,
   "metadata": {},
   "outputs": [
    {
     "data": {
      "text/plain": [
       "<matplotlib.axes._subplots.AxesSubplot at 0x102546e48>"
      ]
     },
     "execution_count": 23,
     "metadata": {},
     "output_type": "execute_result"
    },
    {
     "data": {
      "image/png": "[encoded data removed]",
      "text/plain": [
       "<matplotlib.figure.Figure at 0x1a0fe30cf8>"
      ]
     },
     "metadata": {},
     "output_type": "display_data"
    }
   ],
   "source": [
    "plt.figure(figsize=(9.0, 6.0))\n",
    "sns.countplot(x=\"month\", hue=\"holiday\", data=df)"
   ]
  },
  {
   "cell_type": "code",
   "execution_count": 24,
   "metadata": {},
   "outputs": [
    {
     "data": {
      "text/plain": [
       "<matplotlib.axes._subplots.AxesSubplot at 0x1a106b6b70>"
      ]
     },
     "execution_count": 24,
     "metadata": {},
     "output_type": "execute_result"
    },
    {
     "data": {
      "image/png": "[encoded data removed]",
      "text/plain": [
       "<matplotlib.figure.Figure at 0x1a10ad62e8>"
      ]
     },
     "metadata": {},
     "output_type": "display_data"
    }
   ],
   "source": [
    "plt.figure(figsize=(9.0, 6.0))\n",
    "# plt.legend(('A','B','C')) # 凡例\n",
    "sns.countplot(x=\"month\", hue=\"CALL_TYPE\", hue_order=[\"A\", \"B\", \"C\"], data=df)"
   ]
  },
  {
   "cell_type": "markdown",
   "metadata": {},
   "source": [
    "#### 配車センターの場合"
   ]
  },
  {
   "cell_type": "code",
   "execution_count": 25,
   "metadata": {},
   "outputs": [
    {
     "data": {
      "text/plain": [
       "<matplotlib.axes._subplots.AxesSubplot at 0x1a144aa2b0>"
      ]
     },
     "execution_count": 25,
     "metadata": {},
     "output_type": "execute_result"
    },
    {
     "data": {
      "image/png": "[encoded data removed]",
      "text/plain": [
       "<matplotlib.figure.Figure at 0x1a144399b0>"
      ]
     },
     "metadata": {},
     "output_type": "display_data"
    }
   ],
   "source": [
    "sns.countplot(x=\"month\", hue=\"holiday\", data=df_call_type_a)"
   ]
  },
  {
   "cell_type": "markdown",
   "metadata": {},
   "source": [
    "#### スタンドの場合"
   ]
  },
  {
   "cell_type": "code",
   "execution_count": 26,
   "metadata": {},
   "outputs": [
    {
     "data": {
      "text/plain": [
       "<matplotlib.axes._subplots.AxesSubplot at 0x1a138816a0>"
      ]
     },
     "execution_count": 26,
     "metadata": {},
     "output_type": "execute_result"
    },
    {
     "data": {
      "image/png": "[encoded data removed]",
      "text/plain": [
       "<matplotlib.figure.Figure at 0x1a10455668>"
      ]
     },
     "metadata": {},
     "output_type": "display_data"
    }
   ],
   "source": [
    "sns.countplot(x=\"month\", hue=\"holiday\", data=df_call_type_b)"
   ]
  },
  {
   "cell_type": "markdown",
   "metadata": {},
   "source": [
    "#### 流しの場合"
   ]
  },
  {
   "cell_type": "code",
   "execution_count": 27,
   "metadata": {
    "scrolled": true
   },
   "outputs": [
    {
     "data": {
      "text/plain": [
       "<matplotlib.axes._subplots.AxesSubplot at 0x1a10b249b0>"
      ]
     },
     "execution_count": 27,
     "metadata": {},
     "output_type": "execute_result"
    },
    {
     "data": {
      "image/png": "[encoded data removed]",
      "text/plain": [
       "<matplotlib.figure.Figure at 0x1a148984a8>"
      ]
     },
     "metadata": {},
     "output_type": "display_data"
    }
   ],
   "source": [
    "sns.countplot(x=\"month\", hue=\"holiday\",data=df_call_type_c)"
   ]
  },
  {
   "cell_type": "markdown",
   "metadata": {},
   "source": [
    "月間の最大さは14011万件くらい（例：流しの5月と1月）    \n",
    "但し、14011/442 = 31.7件、　これは、日当たり　31.7/31 = 1.05件しか差がない為、多くはない。    \n",
    "因みに、流し-月別の乗車距離の平均は1月と5月では0.6km位異なる。"
   ]
  },
  {
   "cell_type": "code",
   "execution_count": 28,
   "metadata": {},
   "outputs": [
    {
     "data": {
      "text/plain": [
       "pandas.core.frame.DataFrame"
      ]
     },
     "execution_count": 28,
     "metadata": {},
     "output_type": "execute_result"
    }
   ],
   "source": [
    "type(df_call_type_c[df_call_type_c[\"month\"] == 1])"
   ]
  },
  {
   "cell_type": "code",
   "execution_count": 29,
   "metadata": {},
   "outputs": [
    {
     "data": {
      "text/plain": [
       "14011"
      ]
     },
     "metadata": {},
     "output_type": "display_data"
    },
    {
     "data": {
      "text/plain": [
       "7.502880559581519"
      ]
     },
     "metadata": {},
     "output_type": "display_data"
    },
    {
     "data": {
      "text/plain": [
       "8.15289458590644"
      ]
     },
     "metadata": {},
     "output_type": "display_data"
    }
   ],
   "source": [
    "display(df_call_type_c[df_call_type_c[\"month\"] == 5].shape[0] -\n",
    "        df_call_type_c[df_call_type_c[\"month\"] == 1].shape[0])\n",
    "\n",
    "# sns.countplot(x=\"distance\", hue=\"holiday\",data=df_call_type_c)\n",
    "display(df_call_type_c[df_call_type_c[\"month\"] == 1].describe()[\"distance\"].loc[\"mean\"])\n",
    "display(df_call_type_c[df_call_type_c[\"month\"] == 5].describe()[\"distance\"].loc[\"mean\"])"
   ]
  },
  {
   "cell_type": "markdown",
   "metadata": {},
   "source": [
    "#### 考察（月）\n",
    "- 最小利用者数は、配車センターは10月・８月、スタンドは７月・２月、流しは５月・１月。\n",
    "- 配車センター、スタンドも流しも分布に決定的な差異はない。\n",
    "- 5月の利用が多い\n",
    "- 祝日の利用は4,5,6月が多い（5月は観光のベストシーズンらしい）"
   ]
  },
  {
   "cell_type": "markdown",
   "metadata": {},
   "source": [
    "### 曜日でプロット"
   ]
  },
  {
   "cell_type": "markdown",
   "metadata": {},
   "source": [
    "#### 全体"
   ]
  },
  {
   "cell_type": "code",
   "execution_count": 30,
   "metadata": {},
   "outputs": [
    {
     "data": {
      "text/plain": [
       "<matplotlib.axes._subplots.AxesSubplot at 0x1a1d876d30>"
      ]
     },
     "execution_count": 30,
     "metadata": {},
     "output_type": "execute_result"
    },
    {
     "data": {
      "image/png": "[encoded data removed]",
      "text/plain": [
       "<matplotlib.figure.Figure at 0x1a1019bc50>"
      ]
     },
     "metadata": {},
     "output_type": "display_data"
    }
   ],
   "source": [
    "plt.figure(figsize=(9.0, 6.0))\n",
    "sns.countplot(x=\"weekday\", hue=\"holiday\", data=df)"
   ]
  },
  {
   "cell_type": "code",
   "execution_count": 31,
   "metadata": {
    "scrolled": true
   },
   "outputs": [
    {
     "data": {
      "text/plain": [
       "<matplotlib.axes._subplots.AxesSubplot at 0x1a106ea438>"
      ]
     },
     "execution_count": 31,
     "metadata": {},
     "output_type": "execute_result"
    },
    {
     "data": {
      "image/png": "[encoded data removed]",
      "text/plain": [
       "<matplotlib.figure.Figure at 0x1a106ea278>"
      ]
     },
     "metadata": {},
     "output_type": "display_data"
    }
   ],
   "source": [
    "plt.figure(figsize=(9.0, 6.0))\n",
    "sns.countplot(x=\"weekday\", hue=\"CALL_TYPE\", hue_order=[\"A\", \"B\", \"C\"], data=df)"
   ]
  },
  {
   "cell_type": "markdown",
   "metadata": {},
   "source": [
    "配車センター、スタンドは週末の利用が少ないが、流しは平日が少なく、週末が多い事がわかる。"
   ]
  },
  {
   "cell_type": "markdown",
   "metadata": {},
   "source": [
    "#### 配車センターの場合"
   ]
  },
  {
   "cell_type": "code",
   "execution_count": 32,
   "metadata": {},
   "outputs": [
    {
     "data": {
      "text/plain": [
       "<matplotlib.axes._subplots.AxesSubplot at 0x1a10b7c390>"
      ]
     },
     "execution_count": 32,
     "metadata": {},
     "output_type": "execute_result"
    },
    {
     "data": {
      "image/png": "[encoded data removed]",
      "text/plain": [
       "<matplotlib.figure.Figure at 0x1a10cb4940>"
      ]
     },
     "metadata": {},
     "output_type": "display_data"
    }
   ],
   "source": [
    "sns.countplot(x=\"weekday\", hue=\"holiday\", data=df_call_type_a)"
   ]
  },
  {
   "cell_type": "markdown",
   "metadata": {},
   "source": [
    "#### スタンドの場合"
   ]
  },
  {
   "cell_type": "code",
   "execution_count": 33,
   "metadata": {},
   "outputs": [
    {
     "data": {
      "text/plain": [
       "(43205, 22)"
      ]
     },
     "execution_count": 33,
     "metadata": {},
     "output_type": "execute_result"
    }
   ],
   "source": [
    "# 祝日（土日含む）\n",
    "df_call_type_b[ (df_call_type_b[\"holiday\"] == \"h\")].shape"
   ]
  },
  {
   "cell_type": "code",
   "execution_count": 34,
   "metadata": {},
   "outputs": [
    {
     "data": {
      "text/plain": [
       "(86651, 22)"
      ]
     },
     "execution_count": 34,
     "metadata": {},
     "output_type": "execute_result"
    }
   ],
   "source": [
    "# 祝日でない日曜日\n",
    "df_call_type_b[(df_call_type_b[\"weekday\"] == \"sun\") & (df_call_type_b[\"holiday\"] != \"h\")].shape"
   ]
  },
  {
   "cell_type": "code",
   "execution_count": 35,
   "metadata": {},
   "outputs": [
    {
     "data": {
      "text/plain": [
       "<matplotlib.axes._subplots.AxesSubplot at 0x1a108140f0>"
      ]
     },
     "execution_count": 35,
     "metadata": {},
     "output_type": "execute_result"
    },
    {
     "data": {
      "image/png": "[encoded data removed]",
      "text/plain": [
       "<matplotlib.figure.Figure at 0x1a107db4a8>"
      ]
     },
     "metadata": {},
     "output_type": "display_data"
    }
   ],
   "source": [
    "sns.countplot(x=\"weekday\", hue=\"holiday\", data=df_call_type_b)"
   ]
  },
  {
   "cell_type": "markdown",
   "metadata": {},
   "source": [
    "#### 流しの場合"
   ]
  },
  {
   "cell_type": "code",
   "execution_count": 36,
   "metadata": {},
   "outputs": [
    {
     "data": {
      "text/plain": [
       "<matplotlib.axes._subplots.AxesSubplot at 0x1a10c87198>"
      ]
     },
     "execution_count": 36,
     "metadata": {},
     "output_type": "execute_result"
    },
    {
     "data": {
      "image/png": "[encoded data removed]",
      "text/plain": [
       "<matplotlib.figure.Figure at 0x1a108140b8>"
      ]
     },
     "metadata": {},
     "output_type": "display_data"
    }
   ],
   "source": [
    "sns.countplot(x=\"weekday\", hue=\"holiday\", data=df_call_type_c)"
   ]
  },
  {
   "cell_type": "code",
   "execution_count": 37,
   "metadata": {},
   "outputs": [
    {
     "data": {
      "text/plain": [
       "1.7355730490299384"
      ]
     },
     "execution_count": 37,
     "metadata": {},
     "output_type": "execute_result"
    }
   ],
   "source": [
    "40000 / (365 / 7) / 442"
   ]
  },
  {
   "cell_type": "markdown",
   "metadata": {},
   "source": [
    "傾向として、金曜日の利用が多く、日曜は少ない（祝日の場合はスタンドと同等の需要ある）"
   ]
  },
  {
   "cell_type": "markdown",
   "metadata": {},
   "source": [
    "#### 考察\n",
    "- スタンドの場合\n",
    "    - 平日に利用される事が多く、日曜は少ない（流しと同程度）\n",
    "- 流しの場合\n",
    "    - 平日は利用が少ない（潜在的チャンスを逃している可能性あり）される事が多く、土日が多い。\n",
    "- 金曜日の需要が高い\n",
    "- 土曜の祝日は需要が低い　\n",
    "- 日曜の祝日は需要がある"
   ]
  },
  {
   "cell_type": "markdown",
   "metadata": {},
   "source": [
    "### 時間でプロット"
   ]
  },
  {
   "cell_type": "markdown",
   "metadata": {},
   "source": [
    "#### 全体"
   ]
  },
  {
   "cell_type": "code",
   "execution_count": 77,
   "metadata": {},
   "outputs": [
    {
     "data": {
      "text/plain": [
       "<matplotlib.axes._subplots.AxesSubplot at 0x1a13aa3da0>"
      ]
     },
     "execution_count": 77,
     "metadata": {},
     "output_type": "execute_result"
    },
    {
     "data": {
      "image/png": "[encoded data removed]",
      "text/plain": [
       "<matplotlib.figure.Figure at 0x1a15b2abe0>"
      ]
     },
     "metadata": {},
     "output_type": "display_data"
    }
   ],
   "source": [
    "plt.figure(figsize=(10.5, 7.0))\n",
    "\n",
    "sns.countplot(x=\"hour\", data=df)"
   ]
  },
  {
   "cell_type": "code",
   "execution_count": 38,
   "metadata": {},
   "outputs": [
    {
     "data": {
      "text/plain": [
       "<matplotlib.axes._subplots.AxesSubplot at 0x1a10814c18>"
      ]
     },
     "execution_count": 38,
     "metadata": {},
     "output_type": "execute_result"
    },
    {
     "data": {
      "image/png": "[encoded data removed]",
      "text/plain": [
       "<matplotlib.figure.Figure at 0x1a57ad1d68>"
      ]
     },
     "metadata": {},
     "output_type": "display_data"
    }
   ],
   "source": [
    "plt.figure(figsize=(10.5, 7.0))\n",
    "\n",
    "sns.countplot(x=\"hour\", hue=\"weekday\", data=df)"
   ]
  },
  {
   "cell_type": "markdown",
   "metadata": {},
   "source": [
    "#### 配車センターの場合"
   ]
  },
  {
   "cell_type": "code",
   "execution_count": 39,
   "metadata": {},
   "outputs": [
    {
     "data": {
      "text/plain": [
       "<matplotlib.axes._subplots.AxesSubplot at 0x1a0fe3a748>"
      ]
     },
     "execution_count": 39,
     "metadata": {},
     "output_type": "execute_result"
    },
    {
     "data": {
      "image/png": "[encoded data removed]",
      "text/plain": [
       "<matplotlib.figure.Figure at 0x1025e4da0>"
      ]
     },
     "metadata": {},
     "output_type": "display_data"
    }
   ],
   "source": [
    "plt.figure(figsize=(10.5, 7.0))\n",
    "\n",
    "sns.countplot(x=\"hour\", hue=\"weekday\", data=df_call_type_a)"
   ]
  },
  {
   "cell_type": "code",
   "execution_count": 40,
   "metadata": {},
   "outputs": [
    {
     "data": {
      "text/plain": [
       "<matplotlib.axes._subplots.AxesSubplot at 0x1a13cc4cf8>"
      ]
     },
     "execution_count": 40,
     "metadata": {},
     "output_type": "execute_result"
    },
    {
     "data": {
      "image/png": "[encoded data removed]",
      "text/plain": [
       "<matplotlib.figure.Figure at 0x1a57adcb38>"
      ]
     },
     "metadata": {},
     "output_type": "display_data"
    }
   ],
   "source": [
    "sns.countplot(x=\"hour\", hue=\"holiday\", data=df_call_type_a)"
   ]
  },
  {
   "cell_type": "markdown",
   "metadata": {},
   "source": [
    "#### スタンドの場合"
   ]
  },
  {
   "cell_type": "code",
   "execution_count": 41,
   "metadata": {
    "scrolled": true
   },
   "outputs": [
    {
     "data": {
      "text/plain": [
       "<matplotlib.axes._subplots.AxesSubplot at 0x1a13c77128>"
      ]
     },
     "execution_count": 41,
     "metadata": {},
     "output_type": "execute_result"
    },
    {
     "data": {
      "image/png": "[encoded data removed]",
      "text/plain": [
       "<matplotlib.figure.Figure at 0x1a13b122e8>"
      ]
     },
     "metadata": {},
     "output_type": "display_data"
    }
   ],
   "source": [
    "plt.figure(figsize=(10.0, 5.5))\n",
    "\n",
    "sns.countplot(x=\"hour\", hue=\"weekday\", data=df_call_type_b)"
   ]
  },
  {
   "cell_type": "code",
   "execution_count": 42,
   "metadata": {},
   "outputs": [
    {
     "data": {
      "text/plain": [
       "<matplotlib.axes._subplots.AxesSubplot at 0x1a151f2978>"
      ]
     },
     "execution_count": 42,
     "metadata": {},
     "output_type": "execute_result"
    },
    {
     "data": {
      "image/png": "[encoded data removed]",
      "text/plain": [
       "<matplotlib.figure.Figure at 0x1a150c15f8>"
      ]
     },
     "metadata": {},
     "output_type": "display_data"
    }
   ],
   "source": [
    "sns.countplot(x=\"hour\", hue=\"holiday\", data=df_call_type_b)"
   ]
  },
  {
   "cell_type": "markdown",
   "metadata": {},
   "source": [
    "#### 流しの場合"
   ]
  },
  {
   "cell_type": "code",
   "execution_count": 43,
   "metadata": {},
   "outputs": [
    {
     "data": {
      "text/plain": [
       "<matplotlib.axes._subplots.AxesSubplot at 0x1a15e03da0>"
      ]
     },
     "execution_count": 43,
     "metadata": {},
     "output_type": "execute_result"
    },
    {
     "data": {
      "image/png": "[encoded data removed]",
      "text/plain": [
       "<matplotlib.figure.Figure at 0x1a15e0a470>"
      ]
     },
     "metadata": {},
     "output_type": "display_data"
    }
   ],
   "source": [
    "plt.figure(figsize=(9, 7))\n",
    "sns.countplot(x=\"hour\", hue=\"weekday\", data=df_call_type_c)"
   ]
  },
  {
   "cell_type": "code",
   "execution_count": 44,
   "metadata": {},
   "outputs": [
    {
     "data": {
      "text/plain": [
       "<matplotlib.axes._subplots.AxesSubplot at 0x1a1428cc18>"
      ]
     },
     "execution_count": 44,
     "metadata": {},
     "output_type": "execute_result"
    },
    {
     "data": {
      "image/png": "[encoded data removed]",
      "text/plain": [
       "<matplotlib.figure.Figure at 0x1a1513ad68>"
      ]
     },
     "metadata": {},
     "output_type": "display_data"
    }
   ],
   "source": [
    "sns.countplot(x=\"hour\", hue=\"holiday\", data=df_call_type_c)"
   ]
  },
  {
   "cell_type": "markdown",
   "metadata": {},
   "source": [
    "#### 考察\n",
    "- タクシー乗り場の場合\n",
    "    - 流しの1.5 - 2倍程利用されている\n",
    "    - 平日の7-20時の利用が多い\n",
    "    - 土日は0-6時の利用が多い\n",
    "- 流しの場合\n",
    "    - 1-6時はタクシー乗り場より利用が多い。\n",
    "    - 1-6時は土日の利用が多い"
   ]
  },
  {
   "cell_type": "markdown",
   "metadata": {},
   "source": [
    "### DAYTYPE考察\n",
    "    (char) It identifies the daytype of the trip's start. It assumes one of three possible values:\n",
    "    'A' otherwise (i.e. a normal day, workday or weekend).\n",
    "    'B' if this trip started on a holiday or any other special day (i.e. extending holidays)\n",
    "    'C' if the trip started on a day before a type-B day;\n"
   ]
  },
  {
   "cell_type": "code",
   "execution_count": 45,
   "metadata": {},
   "outputs": [
    {
     "data": {
      "text/plain": [
       "0"
      ]
     },
     "execution_count": 45,
     "metadata": {},
     "output_type": "execute_result"
    }
   ],
   "source": [
    "# DAY_TYPEの欠損値はなし\n",
    "df[\"DAY_TYPE\"].isnull().sum()"
   ]
  },
  {
   "cell_type": "code",
   "execution_count": 46,
   "metadata": {
    "scrolled": false
   },
   "outputs": [
    {
     "name": "stdout",
     "output_type": "stream",
     "text": [
      "362716\n",
      "0\n",
      "0\n",
      "808889\n",
      "0\n",
      "0\n",
      "502547\n",
      "0\n",
      "0\n"
     ]
    }
   ],
   "source": [
    "# 配車センターは DAY_TYPE = A（旅行以外）しかない\n",
    "print(df_call_type_a[df_call_type_a[\"DAY_TYPE\"] == \"A\"].shape[0])\n",
    "print(df_call_type_a[df_call_type_a[\"DAY_TYPE\"] == \"B\"].shape[0])\n",
    "print(df_call_type_a[df_call_type_a[\"DAY_TYPE\"] == \"C\"].shape[0])\n",
    "\n",
    "# スタンドは DAY_TYPE = A（旅行以外）しかない\n",
    "print(df_call_type_b[df_call_type_b[\"DAY_TYPE\"] == \"A\"].shape[0])\n",
    "print(df_call_type_b[df_call_type_b[\"DAY_TYPE\"] == \"B\"].shape[0])\n",
    "print(df_call_type_b[df_call_type_b[\"DAY_TYPE\"] == \"C\"].shape[0])\n",
    "\n",
    "# 流しは DAY_TYPE = A（旅行以外）しかない\n",
    "print(df_call_type_c[df_call_type_c[\"DAY_TYPE\"] == \"A\"].shape[0])\n",
    "print(df_call_type_c[df_call_type_c[\"DAY_TYPE\"] == \"B\"].shape[0])\n",
    "print(df_call_type_c[df_call_type_c[\"DAY_TYPE\"] == \"C\"].shape[0])"
   ]
  },
  {
   "cell_type": "code",
   "execution_count": 47,
   "metadata": {},
   "outputs": [
    {
     "data": {
      "text/plain": [
       "(1674152, 1674152)"
      ]
     },
     "execution_count": 47,
     "metadata": {},
     "output_type": "execute_result"
    }
   ],
   "source": [
    "(362716 + 808889 + 502547), df.shape[0]"
   ]
  },
  {
   "cell_type": "markdown",
   "metadata": {},
   "source": [
    "DAY_TYPE = Aしかないが、今回の課題には関係ないので、これ以上、考察しない。"
   ]
  },
  {
   "cell_type": "markdown",
   "metadata": {},
   "source": [
    "### ORIGIN_CALL考察\n",
    "    (integer) It contains a unique identifier for each phone number which was used to demand, at least, one service. It identifies the trip's customer if CALL_TYPE='A'. Otherwise, it assumes a NULL value;"
   ]
  },
  {
   "cell_type": "code",
   "execution_count": 48,
   "metadata": {},
   "outputs": [
    {
     "name": "stdout",
     "output_type": "stream",
     "text": [
      "1311436\n",
      "362716 0\n",
      "808889 808889\n",
      "502547 502547\n"
     ]
    }
   ],
   "source": [
    "print(df[\"ORIGIN_CALL\"].isnull().sum())\n",
    "print(df_call_type_a.shape[0], df_call_type_a[\"ORIGIN_CALL\"].isnull().sum())\n",
    "print(df_call_type_b.shape[0], df_call_type_b[\"ORIGIN_CALL\"].isnull().sum())\n",
    "print(df_call_type_c.shape[0], df_call_type_c[\"ORIGIN_CALL\"].isnull().sum())"
   ]
  },
  {
   "cell_type": "code",
   "execution_count": 49,
   "metadata": {},
   "outputs": [
    {
     "data": {
      "text/plain": [
       "(1674152, 1674152)"
      ]
     },
     "execution_count": 49,
     "metadata": {},
     "output_type": "execute_result"
    }
   ],
   "source": [
    "(362716 + 808889 + 502547), df.shape[0]"
   ]
  },
  {
   "cell_type": "markdown",
   "metadata": {},
   "source": [
    "顧客を特定する電話番号なので、配車センター以外は登録されていない（＝予想通り）"
   ]
  },
  {
   "cell_type": "markdown",
   "metadata": {},
   "source": [
    "#### ORIGIN_STAND考察\n",
    "    : (integer): It contains a unique identifier for the taxi stand. It identifies the starting point of the trip if CALL_TYPE='B'. Otherwise, it assumes a NULL value;"
   ]
  },
  {
   "cell_type": "code",
   "execution_count": 50,
   "metadata": {},
   "outputs": [
    {
     "name": "stdout",
     "output_type": "stream",
     "text": [
      "876466\n",
      "362716 362716\n",
      "808889 11203\n",
      "502547 502547\n"
     ]
    }
   ],
   "source": [
    "print(df[\"ORIGIN_STAND\"].isnull().sum())\n",
    "print(df_call_type_a.shape[0], df_call_type_a[\"ORIGIN_STAND\"].isnull().sum())\n",
    "print(df_call_type_b.shape[0], df_call_type_b[\"ORIGIN_STAND\"].isnull().sum())\n",
    "print(df_call_type_c.shape[0], df_call_type_c[\"ORIGIN_STAND\"].isnull().sum())"
   ]
  },
  {
   "cell_type": "markdown",
   "metadata": {},
   "source": [
    "スタンド以外は、全てNULL。一部のスタンドで入力がないが、使用しないので、これ以上の考察はしない。"
   ]
  },
  {
   "cell_type": "markdown",
   "metadata": {},
   "source": [
    "### 使用する列の再整理＆保存"
   ]
  },
  {
   "cell_type": "code",
   "execution_count": 51,
   "metadata": {},
   "outputs": [],
   "source": [
    "# 降車ポイントが不明なデータを削除\n",
    "df.drop(df[df[\"MISSING_DATA\"] != False].index.values, inplace=True)\n",
    "\n",
    "col_names = [\n",
    "    \"TIMESTAMP\", \"year\", \"month\", \"day\", \"weekday\", \"hour\", \"minute\",\n",
    "    \"holiday\", \"riding_time\", \"distance\", \"start_x\", \"start_y\", \"end_x\",\n",
    "    \"end_y\", \"CALL_TYPE\", \"TAXI_ID\"\n",
    "]\n",
    "\n",
    "df.sort_values(\n",
    "    by=[\"year\", \"month\", \"day\", \"hour\", \"minute\", \"second\"],\n",
    "    ascending=True,\n",
    "    inplace=True)\n",
    "\n",
    "# 要らない列を削除\n",
    "df.drop([\n",
    "    \"second\", \"TRIP_ID\", \"DAY_TYPE\", \"ORIGIN_STAND\", \"ORIGIN_CALL\",\n",
    "    \"MISSING_DATA\"\n",
    "],\n",
    "        axis=1,\n",
    "        inplace=True)\n",
    "\n",
    "# 列の並び替え\n",
    "df = df.reindex(col_names, axis=1)\n",
    "\n",
    "# 元の行インデックスをdropし、振りなおす\n",
    "df.reset_index(drop=True, inplace=True)"
   ]
  },
  {
   "cell_type": "code",
   "execution_count": 52,
   "metadata": {
    "scrolled": true
   },
   "outputs": [
    {
     "data": {
      "text/html": [
       "<div>\n",
       "<style scoped>\n",
       "    .dataframe tbody tr th:only-of-type {\n",
       "        vertical-align: middle;\n",
       "    }\n",
       "\n",
       "    .dataframe tbody tr th {\n",
       "        vertical-align: top;\n",
       "    }\n",
       "\n",
       "    .dataframe thead th {\n",
       "        text-align: right;\n",
       "    }\n",
       "</style>\n",
       "<table border=\"1\" class=\"dataframe\">\n",
       "  <thead>\n",
       "    <tr style=\"text-align: right;\">\n",
       "      <th></th>\n",
       "      <th>TIMESTAMP</th>\n",
       "      <th>year</th>\n",
       "      <th>month</th>\n",
       "      <th>day</th>\n",
       "      <th>weekday</th>\n",
       "      <th>hour</th>\n",
       "      <th>minute</th>\n",
       "      <th>holiday</th>\n",
       "      <th>riding_time</th>\n",
       "      <th>distance</th>\n",
       "      <th>start_x</th>\n",
       "      <th>start_y</th>\n",
       "      <th>end_x</th>\n",
       "      <th>end_y</th>\n",
       "      <th>CALL_TYPE</th>\n",
       "      <th>TAXI_ID</th>\n",
       "    </tr>\n",
       "  </thead>\n",
       "  <tbody>\n",
       "    <tr>\n",
       "      <th>0</th>\n",
       "      <td>1372636853</td>\n",
       "      <td>2013</td>\n",
       "      <td>7</td>\n",
       "      <td>1</td>\n",
       "      <td>mon</td>\n",
       "      <td>0</td>\n",
       "      <td>0</td>\n",
       "      <td>o</td>\n",
       "      <td>375</td>\n",
       "      <td>2.395003</td>\n",
       "      <td>-8.610291</td>\n",
       "      <td>41.140746</td>\n",
       "      <td>-8.605890</td>\n",
       "      <td>41.145345</td>\n",
       "      <td>C</td>\n",
       "      <td>20000380</td>\n",
       "    </tr>\n",
       "    <tr>\n",
       "      <th>1</th>\n",
       "      <td>1372636854</td>\n",
       "      <td>2013</td>\n",
       "      <td>7</td>\n",
       "      <td>1</td>\n",
       "      <td>mon</td>\n",
       "      <td>0</td>\n",
       "      <td>0</td>\n",
       "      <td>o</td>\n",
       "      <td>645</td>\n",
       "      <td>10.114430</td>\n",
       "      <td>-8.574678</td>\n",
       "      <td>41.151951</td>\n",
       "      <td>-8.607996</td>\n",
       "      <td>41.142915</td>\n",
       "      <td>C</td>\n",
       "      <td>20000520</td>\n",
       "    </tr>\n",
       "    <tr>\n",
       "      <th>2</th>\n",
       "      <td>1372636858</td>\n",
       "      <td>2013</td>\n",
       "      <td>7</td>\n",
       "      <td>1</td>\n",
       "      <td>mon</td>\n",
       "      <td>0</td>\n",
       "      <td>0</td>\n",
       "      <td>o</td>\n",
       "      <td>345</td>\n",
       "      <td>3.186095</td>\n",
       "      <td>-8.618643</td>\n",
       "      <td>41.141412</td>\n",
       "      <td>-8.630838</td>\n",
       "      <td>41.154489</td>\n",
       "      <td>C</td>\n",
       "      <td>20000589</td>\n",
       "    </tr>\n",
       "    <tr>\n",
       "      <th>3</th>\n",
       "      <td>1372636875</td>\n",
       "      <td>2013</td>\n",
       "      <td>7</td>\n",
       "      <td>1</td>\n",
       "      <td>mon</td>\n",
       "      <td>0</td>\n",
       "      <td>1</td>\n",
       "      <td>o</td>\n",
       "      <td>330</td>\n",
       "      <td>2.549688</td>\n",
       "      <td>-8.619894</td>\n",
       "      <td>41.148009</td>\n",
       "      <td>-8.609490</td>\n",
       "      <td>41.157351</td>\n",
       "      <td>C</td>\n",
       "      <td>20000233</td>\n",
       "    </tr>\n",
       "    <tr>\n",
       "      <th>4</th>\n",
       "      <td>1372636896</td>\n",
       "      <td>2013</td>\n",
       "      <td>7</td>\n",
       "      <td>1</td>\n",
       "      <td>mon</td>\n",
       "      <td>0</td>\n",
       "      <td>1</td>\n",
       "      <td>o</td>\n",
       "      <td>645</td>\n",
       "      <td>10.080812</td>\n",
       "      <td>-8.617599</td>\n",
       "      <td>41.146137</td>\n",
       "      <td>-8.636625</td>\n",
       "      <td>41.169141</td>\n",
       "      <td>C</td>\n",
       "      <td>20000360</td>\n",
       "    </tr>\n",
       "  </tbody>\n",
       "</table>\n",
       "</div>"
      ],
      "text/plain": [
       "    TIMESTAMP  year  month  day weekday  hour  minute holiday  riding_time  \\\n",
       "0  1372636853  2013      7    1     mon     0       0       o          375   \n",
       "1  1372636854  2013      7    1     mon     0       0       o          645   \n",
       "2  1372636858  2013      7    1     mon     0       0       o          345   \n",
       "3  1372636875  2013      7    1     mon     0       1       o          330   \n",
       "4  1372636896  2013      7    1     mon     0       1       o          645   \n",
       "\n",
       "    distance   start_x    start_y     end_x      end_y CALL_TYPE   TAXI_ID  \n",
       "0   2.395003 -8.610291  41.140746 -8.605890  41.145345         C  20000380  \n",
       "1  10.114430 -8.574678  41.151951 -8.607996  41.142915         C  20000520  \n",
       "2   3.186095 -8.618643  41.141412 -8.630838  41.154489         C  20000589  \n",
       "3   2.549688 -8.619894  41.148009 -8.609490  41.157351         C  20000233  \n",
       "4  10.080812 -8.617599  41.146137 -8.636625  41.169141         C  20000360  "
      ]
     },
     "execution_count": 52,
     "metadata": {},
     "output_type": "execute_result"
    }
   ],
   "source": [
    "df.head()"
   ]
  },
  {
   "cell_type": "code",
   "execution_count": 53,
   "metadata": {},
   "outputs": [],
   "source": [
    "df.to_csv(\"data/edit_train_final.csv\", index=False, header=True)"
   ]
  },
  {
   "cell_type": "markdown",
   "metadata": {},
   "source": [
    "## 流しのみ区画に分ける"
   ]
  },
  {
   "cell_type": "code",
   "execution_count": 54,
   "metadata": {},
   "outputs": [
    {
     "name": "stdout",
     "output_type": "stream",
     "text": [
      "(502547, 22)\n",
      "(0, 22)\n",
      "(0, 22)\n"
     ]
    }
   ],
   "source": [
    "# 流しは DAY_TYPE = A（旅行以外）しかない\n",
    "print(df_call_type_c[df_call_type_c[\"DAY_TYPE\"] == \"A\"].shape)\n",
    "print(df_call_type_c[df_call_type_c[\"DAY_TYPE\"] == \"B\"].shape)\n",
    "print(df_call_type_c[df_call_type_c[\"DAY_TYPE\"] == \"C\"].shape)"
   ]
  },
  {
   "cell_type": "code",
   "execution_count": 55,
   "metadata": {},
   "outputs": [
    {
     "data": {
      "image/png": "[encoded data removed]",
      "text/plain": [
       "<matplotlib.figure.Figure at 0x1a14292940>"
      ]
     },
     "metadata": {},
     "output_type": "display_data"
    }
   ],
   "source": [
    "plt.scatter(df_call_type_c[\"end_x\"], df_call_type_c[\"end_y\"], color ='r')\n",
    "plt.scatter(df_call_type_c[\"start_x\"], df_call_type_c[\"start_y\"])\n",
    "plt.title(\"Start - End Point\")\n",
    "plt.xlabel(\"long\")\n",
    "plt.ylabel(\"lat\")\n",
    "plt.grid()"
   ]
  },
  {
   "cell_type": "code",
   "execution_count": 56,
   "metadata": {},
   "outputs": [
    {
     "data": {
      "text/html": [
       "<div>\n",
       "<style scoped>\n",
       "    .dataframe tbody tr th:only-of-type {\n",
       "        vertical-align: middle;\n",
       "    }\n",
       "\n",
       "    .dataframe tbody tr th {\n",
       "        vertical-align: top;\n",
       "    }\n",
       "\n",
       "    .dataframe thead th {\n",
       "        text-align: right;\n",
       "    }\n",
       "</style>\n",
       "<table border=\"1\" class=\"dataframe\">\n",
       "  <thead>\n",
       "    <tr style=\"text-align: right;\">\n",
       "      <th></th>\n",
       "      <th>riding_time</th>\n",
       "      <th>distance</th>\n",
       "      <th>start_x</th>\n",
       "      <th>start_y</th>\n",
       "      <th>end_x</th>\n",
       "      <th>end_y</th>\n",
       "    </tr>\n",
       "  </thead>\n",
       "  <tbody>\n",
       "    <tr>\n",
       "      <th>count</th>\n",
       "      <td>502547.000000</td>\n",
       "      <td>502547.000000</td>\n",
       "      <td>502547.000000</td>\n",
       "      <td>502547.000000</td>\n",
       "      <td>502547.000000</td>\n",
       "      <td>502547.000000</td>\n",
       "    </tr>\n",
       "    <tr>\n",
       "      <th>mean</th>\n",
       "      <td>826.510724</td>\n",
       "      <td>7.716674</td>\n",
       "      <td>-8.618668</td>\n",
       "      <td>41.156637</td>\n",
       "      <td>-8.620709</td>\n",
       "      <td>41.163464</td>\n",
       "    </tr>\n",
       "    <tr>\n",
       "      <th>std</th>\n",
       "      <td>993.778382</td>\n",
       "      <td>12.595755</td>\n",
       "      <td>0.033315</td>\n",
       "      <td>0.032558</td>\n",
       "      <td>0.045607</td>\n",
       "      <td>0.048331</td>\n",
       "    </tr>\n",
       "    <tr>\n",
       "      <th>min</th>\n",
       "      <td>30.000000</td>\n",
       "      <td>0.000000</td>\n",
       "      <td>-11.820645</td>\n",
       "      <td>37.184832</td>\n",
       "      <td>-9.729117</td>\n",
       "      <td>37.313784</td>\n",
       "    </tr>\n",
       "    <tr>\n",
       "      <th>25%</th>\n",
       "      <td>420.000000</td>\n",
       "      <td>2.890794</td>\n",
       "      <td>-8.629722</td>\n",
       "      <td>41.147163</td>\n",
       "      <td>-8.644891</td>\n",
       "      <td>41.148819</td>\n",
       "    </tr>\n",
       "    <tr>\n",
       "      <th>50%</th>\n",
       "      <td>630.000000</td>\n",
       "      <td>5.113712</td>\n",
       "      <td>-8.613396</td>\n",
       "      <td>41.152491</td>\n",
       "      <td>-8.615808</td>\n",
       "      <td>41.158728</td>\n",
       "    </tr>\n",
       "    <tr>\n",
       "      <th>75%</th>\n",
       "      <td>945.000000</td>\n",
       "      <td>9.163816</td>\n",
       "      <td>-8.606146</td>\n",
       "      <td>41.163093</td>\n",
       "      <td>-8.602839</td>\n",
       "      <td>41.173092</td>\n",
       "    </tr>\n",
       "    <tr>\n",
       "      <th>max</th>\n",
       "      <td>58215.000000</td>\n",
       "      <td>1335.144743</td>\n",
       "      <td>-4.816116</td>\n",
       "      <td>51.037119</td>\n",
       "      <td>-6.263919</td>\n",
       "      <td>44.351622</td>\n",
       "    </tr>\n",
       "  </tbody>\n",
       "</table>\n",
       "</div>"
      ],
      "text/plain": [
       "         riding_time       distance        start_x        start_y  \\\n",
       "count  502547.000000  502547.000000  502547.000000  502547.000000   \n",
       "mean      826.510724       7.716674      -8.618668      41.156637   \n",
       "std       993.778382      12.595755       0.033315       0.032558   \n",
       "min        30.000000       0.000000     -11.820645      37.184832   \n",
       "25%       420.000000       2.890794      -8.629722      41.147163   \n",
       "50%       630.000000       5.113712      -8.613396      41.152491   \n",
       "75%       945.000000       9.163816      -8.606146      41.163093   \n",
       "max     58215.000000    1335.144743      -4.816116      51.037119   \n",
       "\n",
       "               end_x          end_y  \n",
       "count  502547.000000  502547.000000  \n",
       "mean       -8.620709      41.163464  \n",
       "std         0.045607       0.048331  \n",
       "min        -9.729117      37.313784  \n",
       "25%        -8.644891      41.148819  \n",
       "50%        -8.615808      41.158728  \n",
       "75%        -8.602839      41.173092  \n",
       "max        -6.263919      44.351622  "
      ]
     },
     "execution_count": 56,
     "metadata": {},
     "output_type": "execute_result"
    }
   ],
   "source": [
    "df_call_type_c.describe()[[\"riding_time\", \"distance\", \"start_x\", \"start_y\", \"end_x\", \"end_y\"]]"
   ]
  },
  {
   "cell_type": "markdown",
   "metadata": {},
   "source": [
    "long = -9度 ～ -7度は距離的に222km位なので、start_xとstart_yの平均を中心（-8.618668, 41.156636)を中心に20km(= 40km,40km)に範囲を絞ってみる。  \n",
    "\n",
    "0.01度=1.11kmなので、0.2度=22.2km\n",
    "-8.61866 ±　0.2\n",
    "41.156636 ±　0.2\n",
    "\n",
    "のデータに絞る。"
   ]
  },
  {
   "cell_type": "code",
   "execution_count": 57,
   "metadata": {},
   "outputs": [
    {
     "data": {
      "text/plain": [
       "(-8.418660000000001, -8.81866, 41.356636, 40.956635999999996)"
      ]
     },
     "execution_count": 57,
     "metadata": {},
     "output_type": "execute_result"
    }
   ],
   "source": [
    "-8.61866 + 0.20, -8.61866 - 0.20, 41.156636 + 0.20, 41.156636 - 0.20"
   ]
  },
  {
   "cell_type": "code",
   "execution_count": 58,
   "metadata": {},
   "outputs": [
    {
     "data": {
      "text/plain": [
       "((501772, 22), (502547, 22), 0.99845785568315)"
      ]
     },
     "execution_count": 58,
     "metadata": {},
     "output_type": "execute_result"
    }
   ],
   "source": [
    "# df_call_type_c_plus = df_call_type_c[\n",
    "#     (df_call_type_c[\"start_x\"] >= -8.818666)\n",
    "#     & (df_call_type_c[\"start_x\"] <= -8.418660000000001)\n",
    "#     & (df_call_type_c[\"start_y\"] >= 40.956635999999996)\n",
    "#     & (df_call_type_c[\"start_y\"] <= 41.356636)]\n",
    "\n",
    "# 上記と同じコード\n",
    "df_call_type_c_plus = df_call_type_c.query(\n",
    "    \"-8.818666 <= start_x <= -8.418660000000001 and 40.956635999999996 <= start_y <= 41.356636\"\n",
    ")\n",
    "\n",
    "df_call_type_c_plus.shape, df_call_type_c.shape, df_call_type_c_plus.shape[0] / df_call_type_c.shape[0]"
   ]
  },
  {
   "cell_type": "markdown",
   "metadata": {},
   "source": [
    "99.8%が　(40,40)圏内にいる。"
   ]
  },
  {
   "cell_type": "code",
   "execution_count": 59,
   "metadata": {},
   "outputs": [
    {
     "data": {
      "text/plain": [
       "(44.40066599999994, 44.40000000000063)"
      ]
     },
     "execution_count": 59,
     "metadata": {},
     "output_type": "execute_result"
    }
   ],
   "source": [
    "(-8.418660000000001 - (-8.818666 ))*111, (41.356636 - 40.956635999999996)* 111"
   ]
  },
  {
   "cell_type": "markdown",
   "metadata": {},
   "source": [
    "### 緯度、経度を10等分する"
   ]
  },
  {
   "cell_type": "markdown",
   "metadata": {},
   "source": [
    "#### 境界値の算出"
   ]
  },
  {
   "cell_type": "code",
   "execution_count": 60,
   "metadata": {},
   "outputs": [
    {
     "data": {
      "text/plain": [
       "(array([-8.81906601, -8.7786654 , -8.7386648 , -8.6986642 , -8.6586636 ,\n",
       "        -8.618663  , -8.5786624 , -8.5386618 , -8.4986612 , -8.4586606 ,\n",
       "        -8.41866   ]),\n",
       " array([40.956236, 40.996636, 41.036636, 41.076636, 41.116636, 41.156636,\n",
       "        41.196636, 41.236636, 41.276636, 41.316636, 41.356636]))"
      ]
     },
     "execution_count": 60,
     "metadata": {},
     "output_type": "execute_result"
    }
   ],
   "source": [
    "long_cut, long_bins = pd.cut(pd.Series([-8.818666, -8.418660000000001]), 10, retbins=True)\n",
    "\n",
    "lat_cut, lat_bins = pd.cut(pd.Series([40.956635999999996, 41.356636]), 10, retbins=True)\n",
    "\n",
    "long_bins, lat_bins"
   ]
  },
  {
   "cell_type": "markdown",
   "metadata": {},
   "source": [
    "#### 分割位置列を追加"
   ]
  },
  {
   "cell_type": "code",
   "execution_count": 61,
   "metadata": {},
   "outputs": [],
   "source": [
    "# お試しコード\n",
    "# long_bins = [\n",
    "#     -8.7786654, -8.7386648, -8.6986642, -8.6586636, -8.618663, -8.5786624,\n",
    "#     -8.5386618, -8.4986612, -8.4586606, -8.41866\n",
    "# ]\n",
    "\n",
    "# lat_bins = [\n",
    "#     40.996636, 41.036636, 41.076636, 41.116636, 41.156636, 41.196636,\n",
    "#     41.236636, 41.276636, 41.316636, 41.356636\n",
    "# ]\n",
    "\n",
    "# for i, v in enumerate(long_bins):\n",
    "#     print(i, v)"
   ]
  },
  {
   "cell_type": "code",
   "execution_count": 62,
   "metadata": {},
   "outputs": [],
   "source": [
    "# area =[\n",
    "#         [\"area_00\", \"area_01\", \"area_02\", \"area_03\", \"area_04\", \"area_05\", \"area_06\", \"area_07\", \"area_08\", \"area_09\" ]\n",
    "#         ,[\"area_10\", \"area_11\", \"area_12\", \"area_13\", \"area_14\", \"area_15\", \"area_16\", \"area_17\", \"area_18\", \"area_19\" ]\n",
    "#         ,[\"area_20\", \"area_21\", \"area_22\", \"area_23\", \"area_24\", \"area_25\", \"area_26\", \"area_27\", \"area_28\", \"area_29\" ]\n",
    "#         ,[\"area_30\", \"area_31\", \"area_32\", \"area_33\", \"area_34\", \"area_35\", \"area_36\", \"area_37\", \"area_38\", \"area_39\" ]\n",
    "#         ,[\"area_40\", \"area_41\", \"area_42\", \"area_43\", \"area_54\", \"area_45\", \"area_46\", \"area_47\", \"area_48\", \"area_49\" ]\n",
    "#         ,[\"area_50\", \"area_51\", \"area_52\", \"area_53\", \"area_54\", \"area_55\", \"area_56\", \"area_57\", \"area_58\", \"area_59\" ]\n",
    "#         ,[\"area_60\", \"area_61\", \"area_62\", \"area_63\", \"area_64\", \"area_65\", \"area_66\", \"area_67\", \"area_68\", \"area_69\" ]\n",
    "#         ,[\"area_70\", \"area_71\", \"area_72\", \"area_73\", \"area_74\", \"area_75\", \"area_76\", \"area_77\", \"area_78\", \"area_79\" ]\n",
    "#         ,[\"area_80\", \"area_81\", \"area_82\", \"area_83\", \"area_84\", \"area_85\", \"area_86\", \"area_87\", \"area_88\", \"area_89\" ]\n",
    "#         ,[\"area_90\", \"area_91\", \"area_92\", \"area_93\", \"area_94\", \"area_95\", \"area_96\", \"area_97\", \"area_98\", \"area_99\" ]\n",
    "# ]\n",
    "# area[0][0]"
   ]
  },
  {
   "cell_type": "code",
   "execution_count": 63,
   "metadata": {},
   "outputs": [],
   "source": [
    "def split_area(row):\n",
    "    \n",
    "    long_bins = [\n",
    "        -8.7786654, -8.7386648, -8.6986642, -8.6586636, -8.618663, -8.5786624,\n",
    "        -8.5386618, -8.4986612, -8.4586606, -8.41866\n",
    "    ]\n",
    "\n",
    "    lat_bins = [\n",
    "        40.996636, 41.036636, 41.076636, 41.116636, 41.156636, 41.196636,\n",
    "        41.236636, 41.276636, 41.316636, 41.356636\n",
    "    ]\n",
    "    \n",
    "    area = [\n",
    "        [\"area_00\", \"area_01\", \"area_02\", \"area_03\", \"area_04\", \"area_05\", \"area_06\", \"area_07\", \"area_08\", \"area_09\" ]\n",
    "        ,[\"area_10\", \"area_11\", \"area_12\", \"area_13\", \"area_14\", \"area_15\", \"area_16\", \"area_17\", \"area_18\", \"area_19\" ]\n",
    "        ,[\"area_20\", \"area_21\", \"area_22\", \"area_23\", \"area_24\", \"area_25\", \"area_26\", \"area_27\", \"area_28\", \"area_29\" ]\n",
    "        ,[\"area_30\", \"area_31\", \"area_32\", \"area_33\", \"area_34\", \"area_35\", \"area_36\", \"area_37\", \"area_38\", \"area_39\" ]\n",
    "        ,[\"area_40\", \"area_41\", \"area_42\", \"area_43\", \"area_54\", \"area_45\", \"area_46\", \"area_47\", \"area_48\", \"area_49\" ]\n",
    "        ,[\"area_50\", \"area_51\", \"area_52\", \"area_53\", \"area_54\", \"area_55\", \"area_56\", \"area_57\", \"area_58\", \"area_59\" ]\n",
    "        ,[\"area_60\", \"area_61\", \"area_62\", \"area_63\", \"area_64\", \"area_65\", \"area_66\", \"area_67\", \"area_68\", \"area_69\" ]\n",
    "        ,[\"area_70\", \"area_71\", \"area_72\", \"area_73\", \"area_74\", \"area_75\", \"area_76\", \"area_77\", \"area_78\", \"area_79\" ]\n",
    "        ,[\"area_80\", \"area_81\", \"area_82\", \"area_83\", \"area_84\", \"area_85\", \"area_86\", \"area_87\", \"area_88\", \"area_89\" ]\n",
    "        ,[\"area_90\", \"area_91\", \"area_92\", \"area_93\", \"area_94\", \"area_95\", \"area_96\", \"area_97\", \"area_98\", \"area_99\" ]\n",
    "    ]\n",
    "    \n",
    "    _start_long = row[\"start_x\"]\n",
    "    _start_lat = row[\"start_y\"]\n",
    "\n",
    "    for i, x in enumerate(long_bins):\n",
    "        \n",
    "        if _start_long < x:            \n",
    "            for j, y in enumerate(lat_bins):                    \n",
    "                if _start_lat < y:\n",
    "                    return area[i][j]\n",
    "    \n",
    "    return \"area_err\"    \n",
    "\n",
    "df_call_type_c_plus[\"area\"] = df_call_type_c_plus.apply(split_area, axis=1)"
   ]
  },
  {
   "cell_type": "code",
   "execution_count": 64,
   "metadata": {},
   "outputs": [
    {
     "data": {
      "text/html": [
       "<div>\n",
       "<style scoped>\n",
       "    .dataframe tbody tr th:only-of-type {\n",
       "        vertical-align: middle;\n",
       "    }\n",
       "\n",
       "    .dataframe tbody tr th {\n",
       "        vertical-align: top;\n",
       "    }\n",
       "\n",
       "    .dataframe thead th {\n",
       "        text-align: right;\n",
       "    }\n",
       "</style>\n",
       "<table border=\"1\" class=\"dataframe\">\n",
       "  <thead>\n",
       "    <tr style=\"text-align: right;\">\n",
       "      <th></th>\n",
       "      <th>TIMESTAMP</th>\n",
       "      <th>year</th>\n",
       "      <th>month</th>\n",
       "      <th>day</th>\n",
       "      <th>weekday</th>\n",
       "      <th>hour</th>\n",
       "      <th>minute</th>\n",
       "      <th>holiday</th>\n",
       "      <th>riding_time</th>\n",
       "      <th>distance</th>\n",
       "      <th>start_x</th>\n",
       "      <th>start_y</th>\n",
       "      <th>end_x</th>\n",
       "      <th>end_y</th>\n",
       "      <th>area</th>\n",
       "    </tr>\n",
       "  </thead>\n",
       "  <tbody>\n",
       "    <tr>\n",
       "      <th>0</th>\n",
       "      <td>1372636853</td>\n",
       "      <td>2013</td>\n",
       "      <td>7</td>\n",
       "      <td>1</td>\n",
       "      <td>mon</td>\n",
       "      <td>0</td>\n",
       "      <td>0</td>\n",
       "      <td>o</td>\n",
       "      <td>375</td>\n",
       "      <td>2.395003</td>\n",
       "      <td>-8.610291</td>\n",
       "      <td>41.140746</td>\n",
       "      <td>-8.605890</td>\n",
       "      <td>41.145345</td>\n",
       "      <td>area_54</td>\n",
       "    </tr>\n",
       "    <tr>\n",
       "      <th>1</th>\n",
       "      <td>1372636854</td>\n",
       "      <td>2013</td>\n",
       "      <td>7</td>\n",
       "      <td>1</td>\n",
       "      <td>mon</td>\n",
       "      <td>0</td>\n",
       "      <td>0</td>\n",
       "      <td>o</td>\n",
       "      <td>645</td>\n",
       "      <td>10.114430</td>\n",
       "      <td>-8.574678</td>\n",
       "      <td>41.151951</td>\n",
       "      <td>-8.607996</td>\n",
       "      <td>41.142915</td>\n",
       "      <td>area_64</td>\n",
       "    </tr>\n",
       "    <tr>\n",
       "      <th>2</th>\n",
       "      <td>1372636858</td>\n",
       "      <td>2013</td>\n",
       "      <td>7</td>\n",
       "      <td>1</td>\n",
       "      <td>mon</td>\n",
       "      <td>0</td>\n",
       "      <td>0</td>\n",
       "      <td>o</td>\n",
       "      <td>345</td>\n",
       "      <td>3.186095</td>\n",
       "      <td>-8.618643</td>\n",
       "      <td>41.141412</td>\n",
       "      <td>-8.630838</td>\n",
       "      <td>41.154489</td>\n",
       "      <td>area_54</td>\n",
       "    </tr>\n",
       "    <tr>\n",
       "      <th>3</th>\n",
       "      <td>1372636875</td>\n",
       "      <td>2013</td>\n",
       "      <td>7</td>\n",
       "      <td>1</td>\n",
       "      <td>mon</td>\n",
       "      <td>0</td>\n",
       "      <td>1</td>\n",
       "      <td>o</td>\n",
       "      <td>330</td>\n",
       "      <td>2.549688</td>\n",
       "      <td>-8.619894</td>\n",
       "      <td>41.148009</td>\n",
       "      <td>-8.609490</td>\n",
       "      <td>41.157351</td>\n",
       "      <td>area_54</td>\n",
       "    </tr>\n",
       "    <tr>\n",
       "      <th>4</th>\n",
       "      <td>1372636896</td>\n",
       "      <td>2013</td>\n",
       "      <td>7</td>\n",
       "      <td>1</td>\n",
       "      <td>mon</td>\n",
       "      <td>0</td>\n",
       "      <td>1</td>\n",
       "      <td>o</td>\n",
       "      <td>645</td>\n",
       "      <td>10.080812</td>\n",
       "      <td>-8.617599</td>\n",
       "      <td>41.146137</td>\n",
       "      <td>-8.636625</td>\n",
       "      <td>41.169141</td>\n",
       "      <td>area_54</td>\n",
       "    </tr>\n",
       "  </tbody>\n",
       "</table>\n",
       "</div>"
      ],
      "text/plain": [
       "    TIMESTAMP  year  month  day weekday  hour  minute holiday  riding_time  \\\n",
       "0  1372636853  2013      7    1     mon     0       0       o          375   \n",
       "1  1372636854  2013      7    1     mon     0       0       o          645   \n",
       "2  1372636858  2013      7    1     mon     0       0       o          345   \n",
       "3  1372636875  2013      7    1     mon     0       1       o          330   \n",
       "4  1372636896  2013      7    1     mon     0       1       o          645   \n",
       "\n",
       "    distance   start_x    start_y     end_x      end_y     area  \n",
       "0   2.395003 -8.610291  41.140746 -8.605890  41.145345  area_54  \n",
       "1  10.114430 -8.574678  41.151951 -8.607996  41.142915  area_64  \n",
       "2   3.186095 -8.618643  41.141412 -8.630838  41.154489  area_54  \n",
       "3   2.549688 -8.619894  41.148009 -8.609490  41.157351  area_54  \n",
       "4  10.080812 -8.617599  41.146137 -8.636625  41.169141  area_54  "
      ]
     },
     "execution_count": 64,
     "metadata": {},
     "output_type": "execute_result"
    }
   ],
   "source": [
    "# 要らない列を削除\n",
    "df_call_type_c_plus.drop([\"second\", \"TAXI_ID\", \"TRIP_ID\", \"DAY_TYPE\", \"CALL_TYPE\", \"ORIGIN_STAND\", \"ORIGIN_CALL\", \"MISSING_DATA\"] , axis=1, inplace=True)\n",
    "df_call_type_c_plus.head()"
   ]
  },
  {
   "cell_type": "markdown",
   "metadata": {},
   "source": [
    "area_54 = [(-8.618663, -8.5786624), (41.116636, 41.156636)]  \n",
    "area_55 = [(-8.618663, -8.5786624), (41.156636, 41.196636)]  \n",
    "area_45 = [(-8.6586636, -8.618663), (41.156636, 41.196636)]  "
   ]
  },
  {
   "cell_type": "code",
   "execution_count": 65,
   "metadata": {},
   "outputs": [
    {
     "data": {
      "text/plain": [
       "0.948607"
      ]
     },
     "execution_count": 65,
     "metadata": {},
     "output_type": "execute_result"
    }
   ],
   "source": [
    "0.570402 + 0.151611 + 0.137060 + 0.060816 + 0.028718"
   ]
  },
  {
   "cell_type": "code",
   "execution_count": 66,
   "metadata": {},
   "outputs": [
    {
     "data": {
      "text/plain": [
       "area_54    0.570402\n",
       "area_55    0.151611\n",
       "area_45    0.137060\n",
       "area_35    0.060816\n",
       "area_34    0.028718\n",
       "area_65    0.016533\n",
       "area_64    0.009425\n",
       "area_36    0.004570\n",
       "area_37    0.004143\n",
       "area_46    0.002916\n",
       "area_66    0.002529\n",
       "area_75    0.001660\n",
       "area_56    0.001648\n",
       "area_53    0.001552\n",
       "area_74    0.000889\n",
       "area_43    0.000777\n",
       "area_76    0.000670\n",
       "area_47    0.000662\n",
       "area_26    0.000574\n",
       "area_41    0.000357\n",
       "area_57    0.000265\n",
       "area_63    0.000243\n",
       "area_85    0.000233\n",
       "area_25    0.000229\n",
       "area_42    0.000175\n",
       "area_52    0.000173\n",
       "area_73    0.000132\n",
       "area_67    0.000114\n",
       "area_95    0.000092\n",
       "area_28    0.000076\n",
       "             ...   \n",
       "area_77    0.000032\n",
       "area_60    0.000030\n",
       "area_79    0.000022\n",
       "area_38    0.000020\n",
       "area_40    0.000018\n",
       "area_69    0.000016\n",
       "area_50    0.000016\n",
       "area_86    0.000016\n",
       "area_89    0.000016\n",
       "area_51    0.000016\n",
       "area_68    0.000016\n",
       "area_70    0.000016\n",
       "area_83    0.000014\n",
       "area_58    0.000014\n",
       "area_87    0.000012\n",
       "area_96    0.000010\n",
       "area_88    0.000008\n",
       "area_48    0.000008\n",
       "area_78    0.000008\n",
       "area_82    0.000008\n",
       "area_93    0.000006\n",
       "area_49    0.000006\n",
       "area_59    0.000006\n",
       "area_39    0.000006\n",
       "area_94    0.000004\n",
       "area_92    0.000002\n",
       "area_81    0.000002\n",
       "area_80    0.000002\n",
       "area_99    0.000002\n",
       "area_71    0.000002\n",
       "Name: area, Length: 68, dtype: float64"
      ]
     },
     "metadata": {},
     "output_type": "display_data"
    },
    {
     "data": {
      "image/png": "[encoded data removed]",
      "text/plain": [
       "<matplotlib.figure.Figure at 0x1a0ff22b00>"
      ]
     },
     "metadata": {},
     "output_type": "display_data"
    }
   ],
   "source": [
    "plt.figure(figsize=(16, 9))\n",
    "sns.countplot(x=\"area\", hue=\"holiday\", data=df_call_type_c_plus)\n",
    "\n",
    "# 確率\n",
    "display((df_call_type_c_plus[\"area\"].value_counts() / df_call_type_c_plus.shape[0]))"
   ]
  },
  {
   "cell_type": "markdown",
   "metadata": {},
   "source": [
    "時間毎に集計すれば乗車実績ベースの確率はでるが、データ編集しただけでつまらない・・・    \n",
    "TODO:ヒートマップみたいにエリア毎に、確立を図示するには？"
   ]
  },
  {
   "cell_type": "markdown",
   "metadata": {},
   "source": [
    "### 1時間を4分割"
   ]
  },
  {
   "cell_type": "markdown",
   "metadata": {},
   "source": [
    "15毎に分析する為、00、15,30,45分に補正"
   ]
  },
  {
   "cell_type": "code",
   "execution_count": 67,
   "metadata": {},
   "outputs": [],
   "source": [
    "def convert_min(x):\n",
    "    if x < 15:\n",
    "        return 0\n",
    "    elif 15 <= x < 30:\n",
    "        return 15\n",
    "    elif 30 <= x < 45:\n",
    "        return 30\n",
    "    elif 45 <= x:\n",
    "        return 45\n",
    "    else:\n",
    "        return np.Inf\n",
    "\n",
    "df_call_type_c_plus[\"minute\"] = df_call_type_c_plus[\"minute\"].apply(convert_min)"
   ]
  },
  {
   "cell_type": "markdown",
   "metadata": {},
   "source": [
    "### 降車方向を追加"
   ]
  },
  {
   "cell_type": "markdown",
   "metadata": {},
   "source": [
    "緯度に対する角度で分割  \n",
    "\n",
    "\n",
    "    "
   ]
  },
  {
   "cell_type": "code",
   "execution_count": 68,
   "metadata": {},
   "outputs": [
    {
     "name": "stdout",
     "output_type": "stream",
     "text": [
      "### E:337.5 - 22.5度\n",
      "### NE:22.5 - 67.5度\n",
      "### N:67.5 - 112.5度\n",
      "### NW:112.5 - 157.5度\n",
      "### W:157.5 - 202.5度\n",
      "### SW:202.5 - 247.5度\n",
      "### S:247.5 - 292.5度\n",
      "### SE:292.5 - 337.5度\n"
     ]
    }
   ],
   "source": [
    "print(\"### E:{} - {}度\".format(360 - 22.5, -22.5 + 45))\n",
    "print(\"### NE:{} - {}度\".format(22.5, 22.5 + 45))\n",
    "print(\"### N:{} - {}度\".format(67.5, 67.5 + 45))\n",
    "print(\"### NW:{} - {}度\".format(112.5, 112.5 + 45))\n",
    "print(\"### W:{} - {}度\".format(157.5, 157.5 + 45))\n",
    "print(\"### SW:{} - {}度\".format(202.5, 202.5 + 45))\n",
    "print(\"### S:{} - {}度\".format(247.5, 247.5 + 45))\n",
    "print(\"### SE:{} - {}度\".format(292.5, 292.5 + 45))"
   ]
  },
  {
   "cell_type": "code",
   "execution_count": 69,
   "metadata": {},
   "outputs": [
    {
     "name": "stdout",
     "output_type": "stream",
     "text": [
      "[1. 0.] [0.004401 0.004599]\n"
     ]
    },
    {
     "data": {
      "text/plain": [
       "46.26030384649905"
      ]
     },
     "execution_count": 69,
     "metadata": {},
     "output_type": "execute_result"
    }
   ],
   "source": [
    "_v1 = np.array([1.0, 0.0])\n",
    "_v2 = np.array([-8.605890 - -8.610291, 41.145345 - 41.140746])\n",
    "\n",
    "print(_v1, _v2)\n",
    "\n",
    "_cos = np.dot(_v1, _v2)/(np.linalg.norm(_v1) * np.linalg.norm(_v2))\n",
    "\n",
    "np.rad2deg(np.arccos(_cos))"
   ]
  },
  {
   "cell_type": "code",
   "execution_count": 70,
   "metadata": {},
   "outputs": [],
   "source": [
    "def get_direction(row):\n",
    "\n",
    "    _start_x = row[\"start_x\"]\n",
    "    _start_y = row[\"start_y\"]\n",
    "\n",
    "    _end_x = row[\"end_x\"]\n",
    "    _end_y = row[\"end_y\"]\n",
    "\n",
    "    # 原点を start_x、start_y に移動\n",
    "    _v1 = np.array([1.0, 0.0])\n",
    "    _v2 = np.array([_end_x - _start_x, _end_y - _start_y])\n",
    "\n",
    "    # コサインを算出\n",
    "    _cosine = np.dot(_v1, _v2) / np.linalg.norm(_v2)\n",
    "\n",
    "    # 角度をラジアンから度に変換\n",
    "    _degree = np.rad2deg(np.arccos(_cosine))\n",
    "\n",
    "    if _degree > 337.5 or _degree <= 22.5:\n",
    "        return \"E\"\n",
    "    elif _degree > 22.5 or _degree <= 67.5:\n",
    "        return \"NE\"\n",
    "    elif _degree > 67.5 or _degree <= 112.5:\n",
    "        return \"N\"\n",
    "    elif _degree > 112.5 or _degree <= 157.5:\n",
    "        return \"NW\"\n",
    "    elif _degree > 157.5 or _degree <= 202.5:\n",
    "        return \"W\"\n",
    "    elif _degree > 202.5 or _degree <= 247.5:\n",
    "        return \"SW\"\n",
    "    elif _degree > 247.5 or _degree <= 292.5:\n",
    "        return \"S\"\n",
    "    elif _degree > 292.5 or _degree <= 337.5:\n",
    "        return \"SE\"\n",
    "\n",
    "    return \"UN\"\n",
    "\n",
    "\n",
    "df_call_type_c_plus[\"direction\"] = df_call_type_c_plus.apply(get_direction, axis=1)"
   ]
  },
  {
   "cell_type": "code",
   "execution_count": 71,
   "metadata": {},
   "outputs": [
    {
     "data": {
      "text/html": [
       "<div>\n",
       "<style scoped>\n",
       "    .dataframe tbody tr th:only-of-type {\n",
       "        vertical-align: middle;\n",
       "    }\n",
       "\n",
       "    .dataframe tbody tr th {\n",
       "        vertical-align: top;\n",
       "    }\n",
       "\n",
       "    .dataframe thead th {\n",
       "        text-align: right;\n",
       "    }\n",
       "</style>\n",
       "<table border=\"1\" class=\"dataframe\">\n",
       "  <thead>\n",
       "    <tr style=\"text-align: right;\">\n",
       "      <th></th>\n",
       "      <th>TIMESTAMP</th>\n",
       "      <th>year</th>\n",
       "      <th>month</th>\n",
       "      <th>day</th>\n",
       "      <th>weekday</th>\n",
       "      <th>hour</th>\n",
       "      <th>minute</th>\n",
       "      <th>holiday</th>\n",
       "      <th>riding_time</th>\n",
       "      <th>distance</th>\n",
       "      <th>start_x</th>\n",
       "      <th>start_y</th>\n",
       "      <th>end_x</th>\n",
       "      <th>end_y</th>\n",
       "      <th>area</th>\n",
       "      <th>direction</th>\n",
       "    </tr>\n",
       "  </thead>\n",
       "  <tbody>\n",
       "    <tr>\n",
       "      <th>0</th>\n",
       "      <td>1372636853</td>\n",
       "      <td>2013</td>\n",
       "      <td>7</td>\n",
       "      <td>1</td>\n",
       "      <td>mon</td>\n",
       "      <td>0</td>\n",
       "      <td>0</td>\n",
       "      <td>o</td>\n",
       "      <td>375</td>\n",
       "      <td>2.395003</td>\n",
       "      <td>-8.610291</td>\n",
       "      <td>41.140746</td>\n",
       "      <td>-8.605890</td>\n",
       "      <td>41.145345</td>\n",
       "      <td>area_54</td>\n",
       "      <td>NE</td>\n",
       "    </tr>\n",
       "    <tr>\n",
       "      <th>1</th>\n",
       "      <td>1372636854</td>\n",
       "      <td>2013</td>\n",
       "      <td>7</td>\n",
       "      <td>1</td>\n",
       "      <td>mon</td>\n",
       "      <td>0</td>\n",
       "      <td>0</td>\n",
       "      <td>o</td>\n",
       "      <td>645</td>\n",
       "      <td>10.114430</td>\n",
       "      <td>-8.574678</td>\n",
       "      <td>41.151951</td>\n",
       "      <td>-8.607996</td>\n",
       "      <td>41.142915</td>\n",
       "      <td>area_64</td>\n",
       "      <td>NE</td>\n",
       "    </tr>\n",
       "    <tr>\n",
       "      <th>2</th>\n",
       "      <td>1372636858</td>\n",
       "      <td>2013</td>\n",
       "      <td>7</td>\n",
       "      <td>1</td>\n",
       "      <td>mon</td>\n",
       "      <td>0</td>\n",
       "      <td>0</td>\n",
       "      <td>o</td>\n",
       "      <td>345</td>\n",
       "      <td>3.186095</td>\n",
       "      <td>-8.618643</td>\n",
       "      <td>41.141412</td>\n",
       "      <td>-8.630838</td>\n",
       "      <td>41.154489</td>\n",
       "      <td>area_54</td>\n",
       "      <td>NE</td>\n",
       "    </tr>\n",
       "    <tr>\n",
       "      <th>3</th>\n",
       "      <td>1372636875</td>\n",
       "      <td>2013</td>\n",
       "      <td>7</td>\n",
       "      <td>1</td>\n",
       "      <td>mon</td>\n",
       "      <td>0</td>\n",
       "      <td>0</td>\n",
       "      <td>o</td>\n",
       "      <td>330</td>\n",
       "      <td>2.549688</td>\n",
       "      <td>-8.619894</td>\n",
       "      <td>41.148009</td>\n",
       "      <td>-8.609490</td>\n",
       "      <td>41.157351</td>\n",
       "      <td>area_54</td>\n",
       "      <td>NE</td>\n",
       "    </tr>\n",
       "    <tr>\n",
       "      <th>4</th>\n",
       "      <td>1372636896</td>\n",
       "      <td>2013</td>\n",
       "      <td>7</td>\n",
       "      <td>1</td>\n",
       "      <td>mon</td>\n",
       "      <td>0</td>\n",
       "      <td>0</td>\n",
       "      <td>o</td>\n",
       "      <td>645</td>\n",
       "      <td>10.080812</td>\n",
       "      <td>-8.617599</td>\n",
       "      <td>41.146137</td>\n",
       "      <td>-8.636625</td>\n",
       "      <td>41.169141</td>\n",
       "      <td>area_54</td>\n",
       "      <td>NE</td>\n",
       "    </tr>\n",
       "  </tbody>\n",
       "</table>\n",
       "</div>"
      ],
      "text/plain": [
       "    TIMESTAMP  year  month  day weekday  hour  minute holiday  riding_time  \\\n",
       "0  1372636853  2013      7    1     mon     0       0       o          375   \n",
       "1  1372636854  2013      7    1     mon     0       0       o          645   \n",
       "2  1372636858  2013      7    1     mon     0       0       o          345   \n",
       "3  1372636875  2013      7    1     mon     0       0       o          330   \n",
       "4  1372636896  2013      7    1     mon     0       0       o          645   \n",
       "\n",
       "    distance   start_x    start_y     end_x      end_y     area direction  \n",
       "0   2.395003 -8.610291  41.140746 -8.605890  41.145345  area_54        NE  \n",
       "1  10.114430 -8.574678  41.151951 -8.607996  41.142915  area_64        NE  \n",
       "2   3.186095 -8.618643  41.141412 -8.630838  41.154489  area_54        NE  \n",
       "3   2.549688 -8.619894  41.148009 -8.609490  41.157351  area_54        NE  \n",
       "4  10.080812 -8.617599  41.146137 -8.636625  41.169141  area_54        NE  "
      ]
     },
     "execution_count": 71,
     "metadata": {},
     "output_type": "execute_result"
    }
   ],
   "source": [
    "df_call_type_c_plus.head()"
   ]
  },
  {
   "cell_type": "code",
   "execution_count": 72,
   "metadata": {},
   "outputs": [
    {
     "data": {
      "text/html": [
       "<div>\n",
       "<style scoped>\n",
       "    .dataframe tbody tr th:only-of-type {\n",
       "        vertical-align: middle;\n",
       "    }\n",
       "\n",
       "    .dataframe tbody tr th {\n",
       "        vertical-align: top;\n",
       "    }\n",
       "\n",
       "    .dataframe thead th {\n",
       "        text-align: right;\n",
       "    }\n",
       "</style>\n",
       "<table border=\"1\" class=\"dataframe\">\n",
       "  <thead>\n",
       "    <tr style=\"text-align: right;\">\n",
       "      <th></th>\n",
       "      <th>TIMESTAMP</th>\n",
       "      <th>year</th>\n",
       "      <th>month</th>\n",
       "      <th>day</th>\n",
       "      <th>weekday</th>\n",
       "      <th>hour</th>\n",
       "      <th>minute</th>\n",
       "      <th>holiday</th>\n",
       "      <th>riding_time</th>\n",
       "      <th>distance</th>\n",
       "      <th>start_x</th>\n",
       "      <th>start_y</th>\n",
       "      <th>end_x</th>\n",
       "      <th>end_y</th>\n",
       "      <th>area</th>\n",
       "      <th>direction</th>\n",
       "    </tr>\n",
       "  </thead>\n",
       "  <tbody>\n",
       "    <tr>\n",
       "      <th>3721</th>\n",
       "      <td>1372700647</td>\n",
       "      <td>2013</td>\n",
       "      <td>7</td>\n",
       "      <td>1</td>\n",
       "      <td>mon</td>\n",
       "      <td>17</td>\n",
       "      <td>30</td>\n",
       "      <td>o</td>\n",
       "      <td>30</td>\n",
       "      <td>0.0</td>\n",
       "      <td>-8.629047</td>\n",
       "      <td>41.169843</td>\n",
       "      <td>-8.629047</td>\n",
       "      <td>41.169843</td>\n",
       "      <td>area_45</td>\n",
       "      <td>UN</td>\n",
       "    </tr>\n",
       "    <tr>\n",
       "      <th>3978</th>\n",
       "      <td>1372705456</td>\n",
       "      <td>2013</td>\n",
       "      <td>7</td>\n",
       "      <td>1</td>\n",
       "      <td>mon</td>\n",
       "      <td>19</td>\n",
       "      <td>0</td>\n",
       "      <td>o</td>\n",
       "      <td>30</td>\n",
       "      <td>0.0</td>\n",
       "      <td>-8.624583</td>\n",
       "      <td>41.136984</td>\n",
       "      <td>-8.624583</td>\n",
       "      <td>41.136984</td>\n",
       "      <td>area_54</td>\n",
       "      <td>UN</td>\n",
       "    </tr>\n",
       "    <tr>\n",
       "      <th>21043</th>\n",
       "      <td>1373022718</td>\n",
       "      <td>2013</td>\n",
       "      <td>7</td>\n",
       "      <td>5</td>\n",
       "      <td>fri</td>\n",
       "      <td>11</td>\n",
       "      <td>0</td>\n",
       "      <td>o</td>\n",
       "      <td>30</td>\n",
       "      <td>0.0</td>\n",
       "      <td>-8.636085</td>\n",
       "      <td>41.164254</td>\n",
       "      <td>-8.636085</td>\n",
       "      <td>41.164254</td>\n",
       "      <td>area_45</td>\n",
       "      <td>UN</td>\n",
       "    </tr>\n",
       "    <tr>\n",
       "      <th>42945</th>\n",
       "      <td>1373399077</td>\n",
       "      <td>2013</td>\n",
       "      <td>7</td>\n",
       "      <td>9</td>\n",
       "      <td>tue</td>\n",
       "      <td>19</td>\n",
       "      <td>30</td>\n",
       "      <td>o</td>\n",
       "      <td>45</td>\n",
       "      <td>0.0</td>\n",
       "      <td>-8.585955</td>\n",
       "      <td>41.148477</td>\n",
       "      <td>-8.585955</td>\n",
       "      <td>41.148477</td>\n",
       "      <td>area_54</td>\n",
       "      <td>UN</td>\n",
       "    </tr>\n",
       "    <tr>\n",
       "      <th>51654</th>\n",
       "      <td>1373557186</td>\n",
       "      <td>2013</td>\n",
       "      <td>7</td>\n",
       "      <td>11</td>\n",
       "      <td>thu</td>\n",
       "      <td>15</td>\n",
       "      <td>30</td>\n",
       "      <td>o</td>\n",
       "      <td>30</td>\n",
       "      <td>0.0</td>\n",
       "      <td>-8.689293</td>\n",
       "      <td>41.168205</td>\n",
       "      <td>-8.689293</td>\n",
       "      <td>41.168205</td>\n",
       "      <td>area_35</td>\n",
       "      <td>UN</td>\n",
       "    </tr>\n",
       "  </tbody>\n",
       "</table>\n",
       "</div>"
      ],
      "text/plain": [
       "        TIMESTAMP  year  month  day weekday  hour  minute holiday  \\\n",
       "3721   1372700647  2013      7    1     mon    17      30       o   \n",
       "3978   1372705456  2013      7    1     mon    19       0       o   \n",
       "21043  1373022718  2013      7    5     fri    11       0       o   \n",
       "42945  1373399077  2013      7    9     tue    19      30       o   \n",
       "51654  1373557186  2013      7   11     thu    15      30       o   \n",
       "\n",
       "       riding_time  distance   start_x    start_y     end_x      end_y  \\\n",
       "3721            30       0.0 -8.629047  41.169843 -8.629047  41.169843   \n",
       "3978            30       0.0 -8.624583  41.136984 -8.624583  41.136984   \n",
       "21043           30       0.0 -8.636085  41.164254 -8.636085  41.164254   \n",
       "42945           45       0.0 -8.585955  41.148477 -8.585955  41.148477   \n",
       "51654           30       0.0 -8.689293  41.168205 -8.689293  41.168205   \n",
       "\n",
       "          area direction  \n",
       "3721   area_45        UN  \n",
       "3978   area_54        UN  \n",
       "21043  area_45        UN  \n",
       "42945  area_54        UN  \n",
       "51654  area_35        UN  "
      ]
     },
     "execution_count": 72,
     "metadata": {},
     "output_type": "execute_result"
    }
   ],
   "source": [
    "# 乗降ポイントが同じ乗車履歴が UN になっている\n",
    "df_call_type_c_plus[df_call_type_c_plus[\"direction\"] == \"UN\"].head()"
   ]
  },
  {
   "cell_type": "markdown",
   "metadata": {},
   "source": [
    "### area_54で乗車した際の進行方向"
   ]
  },
  {
   "cell_type": "code",
   "execution_count": 73,
   "metadata": {
    "scrolled": true
   },
   "outputs": [
    {
     "data": {
      "text/plain": [
       "<matplotlib.axes._subplots.AxesSubplot at 0x1a13abd128>"
      ]
     },
     "execution_count": 73,
     "metadata": {},
     "output_type": "execute_result"
    },
    {
     "data": {
      "image/png": "[encoded data removed]",
      "text/plain": [
       "<matplotlib.figure.Figure at 0x102587160>"
      ]
     },
     "metadata": {},
     "output_type": "display_data"
    }
   ],
   "source": [
    "sns.countplot(x=\"direction\", hue=\"holiday\", data=df_call_type_c_plus.query(\"area == 'area_54'\"))"
   ]
  },
  {
   "cell_type": "markdown",
   "metadata": {},
   "source": [
    "### ここまでのデータを保存"
   ]
  },
  {
   "cell_type": "code",
   "execution_count": 74,
   "metadata": {},
   "outputs": [],
   "source": [
    "df_call_type_c_plus.to_csv(\"data/edit_train_call_type_c.csv\", index=False, header=True)"
   ]
  },
  {
   "cell_type": "markdown",
   "metadata": {},
   "source": [
    "## 分析方針\n",
    "\n",
    "１.全ドライバーの移動距離と乗車時間と乗車回数の合計を算出  \n",
    "２.乗車時間と乗車回数の２軸でプロット  \n",
    "３.クラスタリング  \n",
    "４.  \n",
    "\n",
    "乗車時間／乗車回数　で優良ドライバーを特定\n",
    "\n",
    "\n",
    "タクシーの料金は、初乗り運賃の時点から「距離」と「時間」を併用。\n",
    "\n",
    "タクシーの料金は基本的に一定距離内の初乗り運賃（例：東京：最長1.052kmまで、上限410円）\n",
    "を越えて乗車した場合の走行距離に応じた「距離制」で計算されるが、走行速度が10km/h以下になった場合には、走行時間を距離に置き換えて計算する「時間距離併用制」が適用される。\n"
   ]
  },
  {
   "cell_type": "markdown",
   "metadata": {},
   "source": [
    "## 乗車率の算出\n",
    "\n",
    "### 乗車率の定義\n",
    "1日の乗車時間（秒）/ 24 * 60 * 60(秒）    \n",
    "\n",
    "※日跨ぎで働くドライバーでも1日の稼働時間は同じという前提。   \n",
    "例）9-18（8h）、22-25(1h）＋ 10-15(5h）＋22-25(2h）　\n"
   ]
  },
  {
   "cell_type": "code",
   "execution_count": 75,
   "metadata": {},
   "outputs": [],
   "source": [
    "def calc_working_rate(arr: np.ndarray):\n",
    "    \n",
    "    # 24 * 60 * 60 = 86400\n",
    "    return ( arr.sum() / 86400) * 100"
   ]
  },
  {
   "cell_type": "code",
   "execution_count": 76,
   "metadata": {},
   "outputs": [
    {
     "data": {
      "text/plain": [
       "86400"
      ]
     },
     "execution_count": 76,
     "metadata": {},
     "output_type": "execute_result"
    }
   ],
   "source": [
    "24 * 60 * 60"
   ]
  },
  {
   "cell_type": "code",
   "execution_count": null,
   "metadata": {},
   "outputs": [],
   "source": []
  }
 ],
 "metadata": {
  "kernelspec": {
   "display_name": "Python 3",
   "language": "python",
   "name": "python3"
  },
  "language_info": {
   "codemirror_mode": {
    "name": "ipython",
    "version": 3
   },
   "file_extension": ".py",
   "mimetype": "text/x-python",
   "name": "python",
   "nbconvert_exporter": "python",
   "pygments_lexer": "ipython3",
   "version": "3.6.4"
  },
  "toc": {
   "base_numbering": 1,
   "nav_menu": {},
   "number_sections": true,
   "sideBar": true,
   "skip_h1_title": true,
   "title_cell": "目次",
   "title_sidebar": "Contents",
   "toc_cell": false,
   "toc_position": {},
   "toc_section_display": true,
   "toc_window_display": false
  }
 },
 "nbformat": 4,
 "nbformat_minor": 2
}
