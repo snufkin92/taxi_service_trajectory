{
 "cells": [
  {
   "cell_type": "markdown",
   "metadata": {
    "toc": true
   },
   "source": [
    "<h1>目次<span class=\"tocSkip\"></span></h1>\n",
    "<div class=\"toc\"><ul class=\"toc-item\"><li><span><a href=\"#分析方針\" data-toc-modified-id=\"分析方針-1\"><span class=\"toc-item-num\">1&nbsp;&nbsp;</span>分析方針</a></span></li><li><span><a href=\"#データ準備\" data-toc-modified-id=\"データ準備-2\"><span class=\"toc-item-num\">2&nbsp;&nbsp;</span>データ準備</a></span></li><li><span><a href=\"#1時間を4分割\" data-toc-modified-id=\"1時間を4分割-3\"><span class=\"toc-item-num\">3&nbsp;&nbsp;</span>1時間を4分割</a></span></li><li><span><a href=\"#需要予測\" data-toc-modified-id=\"需要予測-4\"><span class=\"toc-item-num\">4&nbsp;&nbsp;</span>需要予測</a></span><ul class=\"toc-item\"><li><span><a href=\"#月・曜日・時間・分・祝日・CALL_TYPE-----で集約\" data-toc-modified-id=\"月・曜日・時間・分・祝日・CALL_TYPE-----で集約-4.1\"><span class=\"toc-item-num\">4.1&nbsp;&nbsp;</span>月・曜日・時間・分・祝日・CALL_TYPE     で集約</a></span></li><li><span><a href=\"#count以外をダミー変数化\" data-toc-modified-id=\"count以外をダミー変数化-4.2\"><span class=\"toc-item-num\">4.2&nbsp;&nbsp;</span>count以外をダミー変数化</a></span></li><li><span><a href=\"#AdaBoostで予測\" data-toc-modified-id=\"AdaBoostで予測-4.3\"><span class=\"toc-item-num\">4.3&nbsp;&nbsp;</span>AdaBoostで予測</a></span><ul class=\"toc-item\"><li><span><a href=\"#乗車台数を予測\" data-toc-modified-id=\"乗車台数を予測-4.3.1\"><span class=\"toc-item-num\">4.3.1&nbsp;&nbsp;</span>乗車台数を予測</a></span></li><li><span><a href=\"#ハイパーパラメータの調整\" data-toc-modified-id=\"ハイパーパラメータの調整-4.3.2\"><span class=\"toc-item-num\">4.3.2&nbsp;&nbsp;</span>ハイパーパラメータの調整</a></span></li><li><span><a href=\"#距離を予測\" data-toc-modified-id=\"距離を予測-4.3.3\"><span class=\"toc-item-num\">4.3.3&nbsp;&nbsp;</span>距離を予測</a></span></li></ul></li></ul></li><li><span><a href=\"#流しのみ区画に分ける\" data-toc-modified-id=\"流しのみ区画に分ける-5\"><span class=\"toc-item-num\">5&nbsp;&nbsp;</span>流しのみ区画に分ける</a></span><ul class=\"toc-item\"><li><span><a href=\"#緯度、経度を10等分する\" data-toc-modified-id=\"緯度、経度を10等分する-5.1\"><span class=\"toc-item-num\">5.1&nbsp;&nbsp;</span>緯度、経度を10等分する</a></span><ul class=\"toc-item\"><li><span><a href=\"#境界値の算出\" data-toc-modified-id=\"境界値の算出-5.1.1\"><span class=\"toc-item-num\">5.1.1&nbsp;&nbsp;</span>境界値の算出</a></span></li><li><span><a href=\"#分割位置列を追加\" data-toc-modified-id=\"分割位置列を追加-5.1.2\"><span class=\"toc-item-num\">5.1.2&nbsp;&nbsp;</span>分割位置列を追加</a></span></li></ul></li><li><span><a href=\"#降車方向を追加\" data-toc-modified-id=\"降車方向を追加-5.2\"><span class=\"toc-item-num\">5.2&nbsp;&nbsp;</span>降車方向を追加</a></span></li></ul></li><li><span><a href=\"#AREA_54をスペクトラルクラスタリング\" data-toc-modified-id=\"AREA_54をスペクトラルクラスタリング-6\"><span class=\"toc-item-num\">6&nbsp;&nbsp;</span>AREA_54をスペクトラルクラスタリング</a></span><ul class=\"toc-item\"><li><span><a href=\"#AREA_54のデータを抽出\" data-toc-modified-id=\"AREA_54のデータを抽出-6.1\"><span class=\"toc-item-num\">6.1&nbsp;&nbsp;</span>AREA_54のデータを抽出</a></span></li><li><span><a href=\"#クラスタリング\" data-toc-modified-id=\"クラスタリング-6.2\"><span class=\"toc-item-num\">6.2&nbsp;&nbsp;</span>クラスタリング</a></span><ul class=\"toc-item\"><li><span><a href=\"#土・日曜---04:00\" data-toc-modified-id=\"土・日曜---04:00-6.2.1\"><span class=\"toc-item-num\">6.2.1&nbsp;&nbsp;</span>土・日曜 - 04:00</a></span></li></ul></li></ul></li><li><span><a href=\"#SpectralClusteringだとkernelが死ぬので、代わりにDBSCAN\" data-toc-modified-id=\"SpectralClusteringだとkernelが死ぬので、代わりにDBSCAN-7\"><span class=\"toc-item-num\">7&nbsp;&nbsp;</span>SpectralClusteringだとkernelが死ぬので、代わりにDBSCAN</a></span></li><li><span><a href=\"#SpectralClustering\" data-toc-modified-id=\"SpectralClustering-8\"><span class=\"toc-item-num\">8&nbsp;&nbsp;</span>SpectralClustering</a></span><ul class=\"toc-item\"><li><ul class=\"toc-item\"><li><span><a href=\"#平日---15:00\" data-toc-modified-id=\"平日---15:00-8.0.1\"><span class=\"toc-item-num\">8.0.1&nbsp;&nbsp;</span>平日 - 15:00</a></span></li><li><span><a href=\"#平日---22:00\" data-toc-modified-id=\"平日---22:00-8.0.2\"><span class=\"toc-item-num\">8.0.2&nbsp;&nbsp;</span>平日 - 22:00</a></span></li></ul></li></ul></li><li><span><a href=\"#AREA_54の需要台数を予測\" data-toc-modified-id=\"AREA_54の需要台数を予測-9\"><span class=\"toc-item-num\">9&nbsp;&nbsp;</span>AREA_54の需要台数を予測</a></span><ul class=\"toc-item\"><li><span><a href=\"#area_54で乗車した際の進行方向\" data-toc-modified-id=\"area_54で乗車した際の進行方向-9.1\"><span class=\"toc-item-num\">9.1&nbsp;&nbsp;</span>area_54で乗車した際の進行方向</a></span></li><li><span><a href=\"#ここまでのデータを保存\" data-toc-modified-id=\"ここまでのデータを保存-9.2\"><span class=\"toc-item-num\">9.2&nbsp;&nbsp;</span>ここまでのデータを保存</a></span></li></ul></li><li><span><a href=\"#分析方針\" data-toc-modified-id=\"分析方針-10\"><span class=\"toc-item-num\">10&nbsp;&nbsp;</span>分析方針</a></span></li></ul></div>"
   ]
  },
  {
   "cell_type": "markdown",
   "metadata": {},
   "source": [
    "## 分析方針"
   ]
  },
  {
   "cell_type": "markdown",
   "metadata": {},
   "source": [
    "- 需要予測\n",
    "    - 下記を特徴量として、センター、スタンド、流し毎の需要を15分単位に予測する。（AdaBost）\n",
    "        - CALL_TYPE（センター・スタンド・流し）\n",
    "        - 月\n",
    "        - 曜日\n",
    "        - 時間\n",
    "        - 分(0,15,30,45)\n",
    "        - 祝日\n",
    "        - 人数（目的変数）\n",
    "        \n",
    "    - 下記を特徴量として、センター、スタンド、流し毎の移動距離を15分単位に予測する。\n",
    "        - CALL_TYPE（センター・スタンド・流し）\n",
    "        - 月\n",
    "        - 曜日\n",
    "        - 時間\n",
    "        - 分(0,15,30,45)\n",
    "        - 祝日\n",
    "        - 平均移動距離（目的変数）\n",
    "\n",
    "- 配置予測（流し）\n",
    "    - 区分けされたエリアをスペクトラルクラスタリングで細分化し、流しの配置場所を予測。\n",
    "        - スペクトラルクラスタリング（ 24*7 = 168通り ）\n",
    "            - 曜日\n",
    "            - 時間\n",
    "            - 乗車座標（緯度・経度）\n",
    "            - 降車（緯度・経度）\n",
    "        - 代表的な曜日- 時間（日曜 - 04:00、水曜- 16:00、金曜 - 22:00）で特定エリアを細分化\n",
    "    - スペクトラルクラスタリングしたエリアの需要を予測\n",
    "        - スペクトラル分析したエリアのデータを抽出\n",
    "            - スペクトラル分析したエリアの需要予測\n",
    "                - CALL_TYPE（流し）\n",
    "                - 曜日\n",
    "                - 時間\n",
    "                - 分(0,15,30,45)\n",
    "                - 祝日\n",
    "\n",
    "            - スペクトラル分析したエリアの移動距離を予測\n",
    "                - CALL_TYPE（流し）\n",
    "                - 曜日\n",
    "                - 時間\n",
    "                - 分(0,15,30,45)\n",
    "                - 祝日\n",
    "\n",
    "            - スペクトラル分析したエリアの移動距離を予測\n",
    "                - CALL_TYPE（流し）\n",
    "                - 曜日\n",
    "                - 時間\n",
    "                - 分(0,15,30,45)\n",
    "                - 進行方向\n",
    "\n",
    "- 可能であれば、エリア内の最適ルートを出せれば尚良\n"
   ]
  },
  {
   "cell_type": "markdown",
   "metadata": {},
   "source": [
    "## データ準備"
   ]
  },
  {
   "cell_type": "code",
   "execution_count": 1,
   "metadata": {},
   "outputs": [],
   "source": [
    "import pandas as pd \n",
    "import numpy as np\n",
    "import re\n",
    "import copy\n",
    "from datetime import datetime as dt\n",
    "from gmplot import gmplot\n",
    "\n",
    "from matplotlib import pyplot as plt\n",
    "import seaborn as sns\n",
    "\n",
    "# warningの抑止\n",
    "import warnings\n",
    "warnings.filterwarnings('ignore')\n",
    "\n",
    "# メモリ解放\n",
    "import gc"
   ]
  },
  {
   "cell_type": "code",
   "execution_count": 2,
   "metadata": {
    "scrolled": true
   },
   "outputs": [
    {
     "data": {
      "text/html": [
       "<div>\n",
       "<style scoped>\n",
       "    .dataframe tbody tr th:only-of-type {\n",
       "        vertical-align: middle;\n",
       "    }\n",
       "\n",
       "    .dataframe tbody tr th {\n",
       "        vertical-align: top;\n",
       "    }\n",
       "\n",
       "    .dataframe thead th {\n",
       "        text-align: right;\n",
       "    }\n",
       "</style>\n",
       "<table border=\"1\" class=\"dataframe\">\n",
       "  <thead>\n",
       "    <tr style=\"text-align: right;\">\n",
       "      <th></th>\n",
       "      <th>TIMESTAMP</th>\n",
       "      <th>year</th>\n",
       "      <th>month</th>\n",
       "      <th>day</th>\n",
       "      <th>weekday</th>\n",
       "      <th>hour</th>\n",
       "      <th>minute</th>\n",
       "      <th>holiday</th>\n",
       "      <th>riding_time</th>\n",
       "      <th>distance</th>\n",
       "      <th>start_x</th>\n",
       "      <th>start_y</th>\n",
       "      <th>end_x</th>\n",
       "      <th>end_y</th>\n",
       "      <th>CALL_TYPE</th>\n",
       "      <th>TAXI_ID</th>\n",
       "    </tr>\n",
       "  </thead>\n",
       "  <tbody>\n",
       "    <tr>\n",
       "      <th>0</th>\n",
       "      <td>1372636853</td>\n",
       "      <td>2013</td>\n",
       "      <td>7</td>\n",
       "      <td>1</td>\n",
       "      <td>mon</td>\n",
       "      <td>0</td>\n",
       "      <td>0</td>\n",
       "      <td>o</td>\n",
       "      <td>375</td>\n",
       "      <td>2.395003</td>\n",
       "      <td>-8.610291</td>\n",
       "      <td>41.140746</td>\n",
       "      <td>-8.605890</td>\n",
       "      <td>41.145345</td>\n",
       "      <td>C</td>\n",
       "      <td>20000380</td>\n",
       "    </tr>\n",
       "    <tr>\n",
       "      <th>1</th>\n",
       "      <td>1372636854</td>\n",
       "      <td>2013</td>\n",
       "      <td>7</td>\n",
       "      <td>1</td>\n",
       "      <td>mon</td>\n",
       "      <td>0</td>\n",
       "      <td>0</td>\n",
       "      <td>o</td>\n",
       "      <td>645</td>\n",
       "      <td>10.114430</td>\n",
       "      <td>-8.574678</td>\n",
       "      <td>41.151951</td>\n",
       "      <td>-8.607996</td>\n",
       "      <td>41.142915</td>\n",
       "      <td>C</td>\n",
       "      <td>20000520</td>\n",
       "    </tr>\n",
       "    <tr>\n",
       "      <th>2</th>\n",
       "      <td>1372636858</td>\n",
       "      <td>2013</td>\n",
       "      <td>7</td>\n",
       "      <td>1</td>\n",
       "      <td>mon</td>\n",
       "      <td>0</td>\n",
       "      <td>0</td>\n",
       "      <td>o</td>\n",
       "      <td>345</td>\n",
       "      <td>3.186095</td>\n",
       "      <td>-8.618643</td>\n",
       "      <td>41.141412</td>\n",
       "      <td>-8.630838</td>\n",
       "      <td>41.154489</td>\n",
       "      <td>C</td>\n",
       "      <td>20000589</td>\n",
       "    </tr>\n",
       "    <tr>\n",
       "      <th>3</th>\n",
       "      <td>1372636875</td>\n",
       "      <td>2013</td>\n",
       "      <td>7</td>\n",
       "      <td>1</td>\n",
       "      <td>mon</td>\n",
       "      <td>0</td>\n",
       "      <td>1</td>\n",
       "      <td>o</td>\n",
       "      <td>330</td>\n",
       "      <td>2.549688</td>\n",
       "      <td>-8.619894</td>\n",
       "      <td>41.148009</td>\n",
       "      <td>-8.609490</td>\n",
       "      <td>41.157351</td>\n",
       "      <td>C</td>\n",
       "      <td>20000233</td>\n",
       "    </tr>\n",
       "    <tr>\n",
       "      <th>4</th>\n",
       "      <td>1372636896</td>\n",
       "      <td>2013</td>\n",
       "      <td>7</td>\n",
       "      <td>1</td>\n",
       "      <td>mon</td>\n",
       "      <td>0</td>\n",
       "      <td>1</td>\n",
       "      <td>o</td>\n",
       "      <td>645</td>\n",
       "      <td>10.080812</td>\n",
       "      <td>-8.617599</td>\n",
       "      <td>41.146137</td>\n",
       "      <td>-8.636625</td>\n",
       "      <td>41.169141</td>\n",
       "      <td>C</td>\n",
       "      <td>20000360</td>\n",
       "    </tr>\n",
       "  </tbody>\n",
       "</table>\n",
       "</div>"
      ],
      "text/plain": [
       "    TIMESTAMP  year  month  day weekday  hour  minute holiday  riding_time  \\\n",
       "0  1372636853  2013      7    1     mon     0       0       o          375   \n",
       "1  1372636854  2013      7    1     mon     0       0       o          645   \n",
       "2  1372636858  2013      7    1     mon     0       0       o          345   \n",
       "3  1372636875  2013      7    1     mon     0       1       o          330   \n",
       "4  1372636896  2013      7    1     mon     0       1       o          645   \n",
       "\n",
       "    distance   start_x    start_y     end_x      end_y CALL_TYPE   TAXI_ID  \n",
       "0   2.395003 -8.610291  41.140746 -8.605890  41.145345         C  20000380  \n",
       "1  10.114430 -8.574678  41.151951 -8.607996  41.142915         C  20000520  \n",
       "2   3.186095 -8.618643  41.141412 -8.630838  41.154489         C  20000589  \n",
       "3   2.549688 -8.619894  41.148009 -8.609490  41.157351         C  20000233  \n",
       "4  10.080812 -8.617599  41.146137 -8.636625  41.169141         C  20000360  "
      ]
     },
     "execution_count": 2,
     "metadata": {},
     "output_type": "execute_result"
    }
   ],
   "source": [
    "pd.set_option(\"display.max_columns\", 30)\n",
    "\n",
    "# データを読み込む\n",
    "df = pd.read_csv(\"data/edit_train_final.csv\")\n",
    "\n",
    "df.head()"
   ]
  },
  {
   "cell_type": "markdown",
   "metadata": {},
   "source": [
    "## 1時間を4分割"
   ]
  },
  {
   "cell_type": "markdown",
   "metadata": {},
   "source": [
    "15毎に分析する為、00、15,30,45分に補正"
   ]
  },
  {
   "cell_type": "code",
   "execution_count": 3,
   "metadata": {},
   "outputs": [
    {
     "data": {
      "text/plain": [
       "45    443897\n",
       "0     413615\n",
       "15    408723\n",
       "30    407917\n",
       "Name: minute, dtype: int64"
      ]
     },
     "execution_count": 3,
     "metadata": {},
     "output_type": "execute_result"
    }
   ],
   "source": [
    "def convert_min(x):\n",
    "    if x < 15:\n",
    "        return 0\n",
    "    elif 15 <= x < 30:\n",
    "        return 15\n",
    "    elif 30 <= x < 45:\n",
    "        return 30\n",
    "    elif 45 <= x:\n",
    "        return 45\n",
    "    else:\n",
    "        return np.Inf\n",
    "\n",
    "df[\"minute\"] = df[\"minute\"].apply(convert_min)\n",
    "df[\"minute\"].value_counts()"
   ]
  },
  {
   "cell_type": "markdown",
   "metadata": {},
   "source": [
    "## 需要予測"
   ]
  },
  {
   "cell_type": "code",
   "execution_count": 4,
   "metadata": {},
   "outputs": [],
   "source": [
    "pd.set_option(\"display.max_columns\", 30)\n",
    "\n",
    "# データを読み込む\n",
    "train_df = df.copy()\n",
    "# test_df = pd.read_csv(\"data/edit_test_final.csv\")"
   ]
  },
  {
   "cell_type": "code",
   "execution_count": 5,
   "metadata": {},
   "outputs": [],
   "source": [
    "# 要らない列を削除\n",
    "train_df.drop([\n",
    "    \"TIMESTAMP\", \"year\", \"day\", \"start_x\", \"start_y\", \"end_x\", \"end_y\",\n",
    "    \"TAXI_ID\"\n",
    "],\n",
    "              axis=1,\n",
    "              inplace=True)\n",
    "\n",
    "col_names = [\n",
    "    \"month\", \"weekday\", \"hour\", \"minute\", \"holiday\", \"CALL_TYPE\", \"distance\"\n",
    "]\n",
    "\n",
    "# 列の並び替え\n",
    "train_df = train_df.reindex(col_names, axis=1)"
   ]
  },
  {
   "cell_type": "code",
   "execution_count": 6,
   "metadata": {},
   "outputs": [
    {
     "data": {
      "text/html": [
       "<div>\n",
       "<style scoped>\n",
       "    .dataframe tbody tr th:only-of-type {\n",
       "        vertical-align: middle;\n",
       "    }\n",
       "\n",
       "    .dataframe tbody tr th {\n",
       "        vertical-align: top;\n",
       "    }\n",
       "\n",
       "    .dataframe thead th {\n",
       "        text-align: right;\n",
       "    }\n",
       "</style>\n",
       "<table border=\"1\" class=\"dataframe\">\n",
       "  <thead>\n",
       "    <tr style=\"text-align: right;\">\n",
       "      <th></th>\n",
       "      <th>month</th>\n",
       "      <th>weekday</th>\n",
       "      <th>hour</th>\n",
       "      <th>minute</th>\n",
       "      <th>holiday</th>\n",
       "      <th>CALL_TYPE</th>\n",
       "      <th>distance</th>\n",
       "    </tr>\n",
       "  </thead>\n",
       "  <tbody>\n",
       "    <tr>\n",
       "      <th>0</th>\n",
       "      <td>7</td>\n",
       "      <td>mon</td>\n",
       "      <td>0</td>\n",
       "      <td>0</td>\n",
       "      <td>o</td>\n",
       "      <td>C</td>\n",
       "      <td>2.395003</td>\n",
       "    </tr>\n",
       "    <tr>\n",
       "      <th>1</th>\n",
       "      <td>7</td>\n",
       "      <td>mon</td>\n",
       "      <td>0</td>\n",
       "      <td>0</td>\n",
       "      <td>o</td>\n",
       "      <td>C</td>\n",
       "      <td>10.114430</td>\n",
       "    </tr>\n",
       "    <tr>\n",
       "      <th>2</th>\n",
       "      <td>7</td>\n",
       "      <td>mon</td>\n",
       "      <td>0</td>\n",
       "      <td>0</td>\n",
       "      <td>o</td>\n",
       "      <td>C</td>\n",
       "      <td>3.186095</td>\n",
       "    </tr>\n",
       "    <tr>\n",
       "      <th>3</th>\n",
       "      <td>7</td>\n",
       "      <td>mon</td>\n",
       "      <td>0</td>\n",
       "      <td>0</td>\n",
       "      <td>o</td>\n",
       "      <td>C</td>\n",
       "      <td>2.549688</td>\n",
       "    </tr>\n",
       "    <tr>\n",
       "      <th>4</th>\n",
       "      <td>7</td>\n",
       "      <td>mon</td>\n",
       "      <td>0</td>\n",
       "      <td>0</td>\n",
       "      <td>o</td>\n",
       "      <td>C</td>\n",
       "      <td>10.080812</td>\n",
       "    </tr>\n",
       "  </tbody>\n",
       "</table>\n",
       "</div>"
      ],
      "text/plain": [
       "   month weekday  hour  minute holiday CALL_TYPE   distance\n",
       "0      7     mon     0       0       o         C   2.395003\n",
       "1      7     mon     0       0       o         C  10.114430\n",
       "2      7     mon     0       0       o         C   3.186095\n",
       "3      7     mon     0       0       o         C   2.549688\n",
       "4      7     mon     0       0       o         C  10.080812"
      ]
     },
     "execution_count": 6,
     "metadata": {},
     "output_type": "execute_result"
    }
   ],
   "source": [
    "train_df.head()"
   ]
  },
  {
   "cell_type": "markdown",
   "metadata": {},
   "source": [
    "### 月・曜日・時間・分・祝日・CALL_TYPE \tで集約"
   ]
  },
  {
   "cell_type": "code",
   "execution_count": 7,
   "metadata": {},
   "outputs": [],
   "source": [
    "train_groped_df = train_df.groupby([\"month\", \"weekday\", \"hour\", \"minute\", \"holiday\", \"CALL_TYPE\"]).count()\n",
    "train_groped_df[\"distance_mean\"] = train_df.groupby([\"month\", \"weekday\", \"hour\", \"minute\", \"holiday\", \"CALL_TYPE\"]).mean()"
   ]
  },
  {
   "cell_type": "code",
   "execution_count": 8,
   "metadata": {},
   "outputs": [
    {
     "data": {
      "text/html": [
       "<div>\n",
       "<style scoped>\n",
       "    .dataframe tbody tr th:only-of-type {\n",
       "        vertical-align: middle;\n",
       "    }\n",
       "\n",
       "    .dataframe tbody tr th {\n",
       "        vertical-align: top;\n",
       "    }\n",
       "\n",
       "    .dataframe thead th {\n",
       "        text-align: right;\n",
       "    }\n",
       "</style>\n",
       "<table border=\"1\" class=\"dataframe\">\n",
       "  <thead>\n",
       "    <tr style=\"text-align: right;\">\n",
       "      <th></th>\n",
       "      <th></th>\n",
       "      <th></th>\n",
       "      <th></th>\n",
       "      <th></th>\n",
       "      <th></th>\n",
       "      <th>distance</th>\n",
       "      <th>distance_mean</th>\n",
       "    </tr>\n",
       "    <tr>\n",
       "      <th>month</th>\n",
       "      <th>weekday</th>\n",
       "      <th>hour</th>\n",
       "      <th>minute</th>\n",
       "      <th>holiday</th>\n",
       "      <th>CALL_TYPE</th>\n",
       "      <th></th>\n",
       "      <th></th>\n",
       "    </tr>\n",
       "  </thead>\n",
       "  <tbody>\n",
       "    <tr>\n",
       "      <th rowspan=\"5\" valign=\"top\">1</th>\n",
       "      <th rowspan=\"5\" valign=\"top\">fri</th>\n",
       "      <th rowspan=\"5\" valign=\"top\">0</th>\n",
       "      <th rowspan=\"3\" valign=\"top\">0</th>\n",
       "      <th rowspan=\"3\" valign=\"top\">o</th>\n",
       "      <th>A</th>\n",
       "      <td>32</td>\n",
       "      <td>7.514191</td>\n",
       "    </tr>\n",
       "    <tr>\n",
       "      <th>B</th>\n",
       "      <td>52</td>\n",
       "      <td>5.109028</td>\n",
       "    </tr>\n",
       "    <tr>\n",
       "      <th>C</th>\n",
       "      <td>34</td>\n",
       "      <td>6.716537</td>\n",
       "    </tr>\n",
       "    <tr>\n",
       "      <th rowspan=\"2\" valign=\"top\">15</th>\n",
       "      <th rowspan=\"2\" valign=\"top\">o</th>\n",
       "      <th>A</th>\n",
       "      <td>20</td>\n",
       "      <td>4.746192</td>\n",
       "    </tr>\n",
       "    <tr>\n",
       "      <th>B</th>\n",
       "      <td>53</td>\n",
       "      <td>5.102043</td>\n",
       "    </tr>\n",
       "  </tbody>\n",
       "</table>\n",
       "</div>"
      ],
      "text/plain": [
       "                                             distance  distance_mean\n",
       "month weekday hour minute holiday CALL_TYPE                         \n",
       "1     fri     0    0      o       A                32       7.514191\n",
       "                                  B                52       5.109028\n",
       "                                  C                34       6.716537\n",
       "                   15     o       A                20       4.746192\n",
       "                                  B                53       5.102043"
      ]
     },
     "execution_count": 8,
     "metadata": {},
     "output_type": "execute_result"
    }
   ],
   "source": [
    "train_groped_df.head()"
   ]
  },
  {
   "cell_type": "code",
   "execution_count": 9,
   "metadata": {},
   "outputs": [
    {
     "name": "stdout",
     "output_type": "stream",
     "text": [
      "118 32\n",
      "7.514191 7.5141906634551425\n"
     ]
    }
   ],
   "source": [
    "print((32 + 52 + 34), df.query(\"month == 1 & weekday == 'fri' & hour == 0 and minute == 0 & CALL_TYPE=='A'\")[\"distance\"].count())\n",
    "print(7.514191, df.query(\"month == 1 & weekday == 'fri' & hour == 0 and minute == 0 & CALL_TYPE=='A'\")[\"distance\"].sum() / 32)"
   ]
  },
  {
   "cell_type": "code",
   "execution_count": 10,
   "metadata": {
    "scrolled": true
   },
   "outputs": [
    {
     "data": {
      "text/html": [
       "<div>\n",
       "<style scoped>\n",
       "    .dataframe tbody tr th:only-of-type {\n",
       "        vertical-align: middle;\n",
       "    }\n",
       "\n",
       "    .dataframe tbody tr th {\n",
       "        vertical-align: top;\n",
       "    }\n",
       "\n",
       "    .dataframe thead th {\n",
       "        text-align: right;\n",
       "    }\n",
       "</style>\n",
       "<table border=\"1\" class=\"dataframe\">\n",
       "  <thead>\n",
       "    <tr style=\"text-align: right;\">\n",
       "      <th></th>\n",
       "      <th></th>\n",
       "      <th></th>\n",
       "      <th></th>\n",
       "      <th></th>\n",
       "      <th></th>\n",
       "      <th>count</th>\n",
       "      <th>distance_mean</th>\n",
       "    </tr>\n",
       "    <tr>\n",
       "      <th>month</th>\n",
       "      <th>weekday</th>\n",
       "      <th>hour</th>\n",
       "      <th>minute</th>\n",
       "      <th>holiday</th>\n",
       "      <th>CALL_TYPE</th>\n",
       "      <th></th>\n",
       "      <th></th>\n",
       "    </tr>\n",
       "  </thead>\n",
       "  <tbody>\n",
       "    <tr>\n",
       "      <th rowspan=\"5\" valign=\"top\">1</th>\n",
       "      <th rowspan=\"5\" valign=\"top\">fri</th>\n",
       "      <th rowspan=\"5\" valign=\"top\">0</th>\n",
       "      <th rowspan=\"3\" valign=\"top\">0</th>\n",
       "      <th rowspan=\"3\" valign=\"top\">o</th>\n",
       "      <th>A</th>\n",
       "      <td>32</td>\n",
       "      <td>7.514191</td>\n",
       "    </tr>\n",
       "    <tr>\n",
       "      <th>B</th>\n",
       "      <td>52</td>\n",
       "      <td>5.109028</td>\n",
       "    </tr>\n",
       "    <tr>\n",
       "      <th>C</th>\n",
       "      <td>34</td>\n",
       "      <td>6.716537</td>\n",
       "    </tr>\n",
       "    <tr>\n",
       "      <th rowspan=\"2\" valign=\"top\">15</th>\n",
       "      <th rowspan=\"2\" valign=\"top\">o</th>\n",
       "      <th>A</th>\n",
       "      <td>20</td>\n",
       "      <td>4.746192</td>\n",
       "    </tr>\n",
       "    <tr>\n",
       "      <th>B</th>\n",
       "      <td>53</td>\n",
       "      <td>5.102043</td>\n",
       "    </tr>\n",
       "  </tbody>\n",
       "</table>\n",
       "</div>"
      ],
      "text/plain": [
       "                                             count  distance_mean\n",
       "month weekday hour minute holiday CALL_TYPE                      \n",
       "1     fri     0    0      o       A             32       7.514191\n",
       "                                  B             52       5.109028\n",
       "                                  C             34       6.716537\n",
       "                   15     o       A             20       4.746192\n",
       "                                  B             53       5.102043"
      ]
     },
     "execution_count": 10,
     "metadata": {},
     "output_type": "execute_result"
    }
   ],
   "source": [
    "# カラム名を変更\n",
    "train_groped_df.rename(columns={\"distance\": \"count\"}, inplace=True)\n",
    "train_groped_df.head()"
   ]
  },
  {
   "cell_type": "code",
   "execution_count": 11,
   "metadata": {},
   "outputs": [],
   "source": [
    "# インデックスをカラムに戻す\n",
    "train_groped_df.reset_index(inplace=True)\n",
    "\n",
    "# 不要な列を削除\n",
    "# train_df.drop([\"level_0\", \"index\"], axis=1, inplace=True)"
   ]
  },
  {
   "cell_type": "code",
   "execution_count": 12,
   "metadata": {},
   "outputs": [
    {
     "data": {
      "text/html": [
       "<div>\n",
       "<style scoped>\n",
       "    .dataframe tbody tr th:only-of-type {\n",
       "        vertical-align: middle;\n",
       "    }\n",
       "\n",
       "    .dataframe tbody tr th {\n",
       "        vertical-align: top;\n",
       "    }\n",
       "\n",
       "    .dataframe thead th {\n",
       "        text-align: right;\n",
       "    }\n",
       "</style>\n",
       "<table border=\"1\" class=\"dataframe\">\n",
       "  <thead>\n",
       "    <tr style=\"text-align: right;\">\n",
       "      <th></th>\n",
       "      <th>month</th>\n",
       "      <th>weekday</th>\n",
       "      <th>hour</th>\n",
       "      <th>minute</th>\n",
       "      <th>holiday</th>\n",
       "      <th>CALL_TYPE</th>\n",
       "      <th>count</th>\n",
       "      <th>distance_mean</th>\n",
       "    </tr>\n",
       "  </thead>\n",
       "  <tbody>\n",
       "    <tr>\n",
       "      <th>0</th>\n",
       "      <td>1</td>\n",
       "      <td>fri</td>\n",
       "      <td>0</td>\n",
       "      <td>0</td>\n",
       "      <td>o</td>\n",
       "      <td>A</td>\n",
       "      <td>32</td>\n",
       "      <td>7.514191</td>\n",
       "    </tr>\n",
       "    <tr>\n",
       "      <th>1</th>\n",
       "      <td>1</td>\n",
       "      <td>fri</td>\n",
       "      <td>0</td>\n",
       "      <td>0</td>\n",
       "      <td>o</td>\n",
       "      <td>B</td>\n",
       "      <td>52</td>\n",
       "      <td>5.109028</td>\n",
       "    </tr>\n",
       "    <tr>\n",
       "      <th>2</th>\n",
       "      <td>1</td>\n",
       "      <td>fri</td>\n",
       "      <td>0</td>\n",
       "      <td>0</td>\n",
       "      <td>o</td>\n",
       "      <td>C</td>\n",
       "      <td>34</td>\n",
       "      <td>6.716537</td>\n",
       "    </tr>\n",
       "    <tr>\n",
       "      <th>3</th>\n",
       "      <td>1</td>\n",
       "      <td>fri</td>\n",
       "      <td>0</td>\n",
       "      <td>15</td>\n",
       "      <td>o</td>\n",
       "      <td>A</td>\n",
       "      <td>20</td>\n",
       "      <td>4.746192</td>\n",
       "    </tr>\n",
       "    <tr>\n",
       "      <th>4</th>\n",
       "      <td>1</td>\n",
       "      <td>fri</td>\n",
       "      <td>0</td>\n",
       "      <td>15</td>\n",
       "      <td>o</td>\n",
       "      <td>B</td>\n",
       "      <td>53</td>\n",
       "      <td>5.102043</td>\n",
       "    </tr>\n",
       "  </tbody>\n",
       "</table>\n",
       "</div>"
      ],
      "text/plain": [
       "   month weekday  hour  minute holiday CALL_TYPE  count  distance_mean\n",
       "0      1     fri     0       0       o         A     32       7.514191\n",
       "1      1     fri     0       0       o         B     52       5.109028\n",
       "2      1     fri     0       0       o         C     34       6.716537\n",
       "3      1     fri     0      15       o         A     20       4.746192\n",
       "4      1     fri     0      15       o         B     53       5.102043"
      ]
     },
     "execution_count": 12,
     "metadata": {},
     "output_type": "execute_result"
    }
   ],
   "source": [
    "train_groped_df.head()"
   ]
  },
  {
   "cell_type": "markdown",
   "metadata": {},
   "source": [
    "### count以外をダミー変数化"
   ]
  },
  {
   "cell_type": "code",
   "execution_count": 13,
   "metadata": {},
   "outputs": [
    {
     "data": {
      "text/html": [
       "<div>\n",
       "<style scoped>\n",
       "    .dataframe tbody tr th:only-of-type {\n",
       "        vertical-align: middle;\n",
       "    }\n",
       "\n",
       "    .dataframe tbody tr th {\n",
       "        vertical-align: top;\n",
       "    }\n",
       "\n",
       "    .dataframe thead th {\n",
       "        text-align: right;\n",
       "    }\n",
       "</style>\n",
       "<table border=\"1\" class=\"dataframe\">\n",
       "  <thead>\n",
       "    <tr style=\"text-align: right;\">\n",
       "      <th></th>\n",
       "      <th>month</th>\n",
       "      <th>hour</th>\n",
       "      <th>minute</th>\n",
       "      <th>weekday_mon</th>\n",
       "      <th>weekday_tue</th>\n",
       "      <th>weekday_wed</th>\n",
       "      <th>weekday_thu</th>\n",
       "      <th>weekday_fri</th>\n",
       "      <th>weekday_sat</th>\n",
       "      <th>weekday_sun</th>\n",
       "      <th>holiday_o</th>\n",
       "      <th>holiday_h</th>\n",
       "      <th>CALL_TYPE_A</th>\n",
       "      <th>CALL_TYPE_B</th>\n",
       "      <th>CALL_TYPE_C</th>\n",
       "      <th>count</th>\n",
       "      <th>distance_mean</th>\n",
       "    </tr>\n",
       "  </thead>\n",
       "  <tbody>\n",
       "    <tr>\n",
       "      <th>0</th>\n",
       "      <td>1</td>\n",
       "      <td>0</td>\n",
       "      <td>0</td>\n",
       "      <td>0</td>\n",
       "      <td>0</td>\n",
       "      <td>0</td>\n",
       "      <td>0</td>\n",
       "      <td>1</td>\n",
       "      <td>0</td>\n",
       "      <td>0</td>\n",
       "      <td>1</td>\n",
       "      <td>0</td>\n",
       "      <td>1</td>\n",
       "      <td>0</td>\n",
       "      <td>0</td>\n",
       "      <td>32</td>\n",
       "      <td>7.514191</td>\n",
       "    </tr>\n",
       "    <tr>\n",
       "      <th>1</th>\n",
       "      <td>1</td>\n",
       "      <td>0</td>\n",
       "      <td>0</td>\n",
       "      <td>0</td>\n",
       "      <td>0</td>\n",
       "      <td>0</td>\n",
       "      <td>0</td>\n",
       "      <td>1</td>\n",
       "      <td>0</td>\n",
       "      <td>0</td>\n",
       "      <td>1</td>\n",
       "      <td>0</td>\n",
       "      <td>0</td>\n",
       "      <td>1</td>\n",
       "      <td>0</td>\n",
       "      <td>52</td>\n",
       "      <td>5.109028</td>\n",
       "    </tr>\n",
       "    <tr>\n",
       "      <th>2</th>\n",
       "      <td>1</td>\n",
       "      <td>0</td>\n",
       "      <td>0</td>\n",
       "      <td>0</td>\n",
       "      <td>0</td>\n",
       "      <td>0</td>\n",
       "      <td>0</td>\n",
       "      <td>1</td>\n",
       "      <td>0</td>\n",
       "      <td>0</td>\n",
       "      <td>1</td>\n",
       "      <td>0</td>\n",
       "      <td>0</td>\n",
       "      <td>0</td>\n",
       "      <td>1</td>\n",
       "      <td>34</td>\n",
       "      <td>6.716537</td>\n",
       "    </tr>\n",
       "    <tr>\n",
       "      <th>3</th>\n",
       "      <td>1</td>\n",
       "      <td>0</td>\n",
       "      <td>15</td>\n",
       "      <td>0</td>\n",
       "      <td>0</td>\n",
       "      <td>0</td>\n",
       "      <td>0</td>\n",
       "      <td>1</td>\n",
       "      <td>0</td>\n",
       "      <td>0</td>\n",
       "      <td>1</td>\n",
       "      <td>0</td>\n",
       "      <td>1</td>\n",
       "      <td>0</td>\n",
       "      <td>0</td>\n",
       "      <td>20</td>\n",
       "      <td>4.746192</td>\n",
       "    </tr>\n",
       "    <tr>\n",
       "      <th>4</th>\n",
       "      <td>1</td>\n",
       "      <td>0</td>\n",
       "      <td>15</td>\n",
       "      <td>0</td>\n",
       "      <td>0</td>\n",
       "      <td>0</td>\n",
       "      <td>0</td>\n",
       "      <td>1</td>\n",
       "      <td>0</td>\n",
       "      <td>0</td>\n",
       "      <td>1</td>\n",
       "      <td>0</td>\n",
       "      <td>0</td>\n",
       "      <td>1</td>\n",
       "      <td>0</td>\n",
       "      <td>53</td>\n",
       "      <td>5.102043</td>\n",
       "    </tr>\n",
       "  </tbody>\n",
       "</table>\n",
       "</div>"
      ],
      "text/plain": [
       "   month  hour  minute  weekday_mon  weekday_tue  weekday_wed  weekday_thu  \\\n",
       "0      1     0       0            0            0            0            0   \n",
       "1      1     0       0            0            0            0            0   \n",
       "2      1     0       0            0            0            0            0   \n",
       "3      1     0      15            0            0            0            0   \n",
       "4      1     0      15            0            0            0            0   \n",
       "\n",
       "   weekday_fri  weekday_sat  weekday_sun  holiday_o  holiday_h  CALL_TYPE_A  \\\n",
       "0            1            0            0          1          0            1   \n",
       "1            1            0            0          1          0            0   \n",
       "2            1            0            0          1          0            0   \n",
       "3            1            0            0          1          0            1   \n",
       "4            1            0            0          1          0            0   \n",
       "\n",
       "   CALL_TYPE_B  CALL_TYPE_C  count  distance_mean  \n",
       "0            0            0     32       7.514191  \n",
       "1            1            0     52       5.109028  \n",
       "2            0            1     34       6.716537  \n",
       "3            0            0     20       4.746192  \n",
       "4            1            0     53       5.102043  "
      ]
     },
     "execution_count": 13,
     "metadata": {},
     "output_type": "execute_result"
    }
   ],
   "source": [
    "train_groped_df = pd.get_dummies(train_groped_df)\n",
    "\n",
    "col_names = [\n",
    "    'month', 'hour', 'minute', 'weekday_mon', 'weekday_tue', 'weekday_wed',\n",
    "    'weekday_thu', 'weekday_fri', 'weekday_sat', 'weekday_sun', 'holiday_o',\n",
    "    'holiday_h', 'CALL_TYPE_A', 'CALL_TYPE_B', 'CALL_TYPE_C', 'count', \"distance_mean\"\n",
    "]\n",
    "\n",
    "# 列の並び替え\n",
    "train_groped_df = train_groped_df.reindex(col_names, axis=1)\n",
    "\n",
    "train_groped_df.head()"
   ]
  },
  {
   "cell_type": "markdown",
   "metadata": {},
   "source": [
    "### AdaBoostで予測"
   ]
  },
  {
   "cell_type": "code",
   "execution_count": 14,
   "metadata": {},
   "outputs": [
    {
     "data": {
      "text/plain": [
       "17"
      ]
     },
     "execution_count": 14,
     "metadata": {},
     "output_type": "execute_result"
    }
   ],
   "source": [
    "train_groped_df.shape[1]"
   ]
  },
  {
   "cell_type": "code",
   "execution_count": 15,
   "metadata": {},
   "outputs": [
    {
     "data": {
      "text/html": [
       "<div>\n",
       "<style scoped>\n",
       "    .dataframe tbody tr th:only-of-type {\n",
       "        vertical-align: middle;\n",
       "    }\n",
       "\n",
       "    .dataframe tbody tr th {\n",
       "        vertical-align: top;\n",
       "    }\n",
       "\n",
       "    .dataframe thead th {\n",
       "        text-align: right;\n",
       "    }\n",
       "</style>\n",
       "<table border=\"1\" class=\"dataframe\">\n",
       "  <thead>\n",
       "    <tr style=\"text-align: right;\">\n",
       "      <th></th>\n",
       "      <th>month</th>\n",
       "      <th>hour</th>\n",
       "      <th>minute</th>\n",
       "      <th>weekday_mon</th>\n",
       "      <th>weekday_tue</th>\n",
       "      <th>weekday_wed</th>\n",
       "      <th>weekday_thu</th>\n",
       "      <th>weekday_fri</th>\n",
       "      <th>weekday_sat</th>\n",
       "      <th>weekday_sun</th>\n",
       "      <th>holiday_o</th>\n",
       "      <th>holiday_h</th>\n",
       "      <th>CALL_TYPE_A</th>\n",
       "      <th>CALL_TYPE_B</th>\n",
       "      <th>CALL_TYPE_C</th>\n",
       "    </tr>\n",
       "  </thead>\n",
       "  <tbody>\n",
       "    <tr>\n",
       "      <th>0</th>\n",
       "      <td>1</td>\n",
       "      <td>0</td>\n",
       "      <td>0</td>\n",
       "      <td>0</td>\n",
       "      <td>0</td>\n",
       "      <td>0</td>\n",
       "      <td>0</td>\n",
       "      <td>1</td>\n",
       "      <td>0</td>\n",
       "      <td>0</td>\n",
       "      <td>1</td>\n",
       "      <td>0</td>\n",
       "      <td>1</td>\n",
       "      <td>0</td>\n",
       "      <td>0</td>\n",
       "    </tr>\n",
       "    <tr>\n",
       "      <th>1</th>\n",
       "      <td>1</td>\n",
       "      <td>0</td>\n",
       "      <td>0</td>\n",
       "      <td>0</td>\n",
       "      <td>0</td>\n",
       "      <td>0</td>\n",
       "      <td>0</td>\n",
       "      <td>1</td>\n",
       "      <td>0</td>\n",
       "      <td>0</td>\n",
       "      <td>1</td>\n",
       "      <td>0</td>\n",
       "      <td>0</td>\n",
       "      <td>1</td>\n",
       "      <td>0</td>\n",
       "    </tr>\n",
       "    <tr>\n",
       "      <th>2</th>\n",
       "      <td>1</td>\n",
       "      <td>0</td>\n",
       "      <td>0</td>\n",
       "      <td>0</td>\n",
       "      <td>0</td>\n",
       "      <td>0</td>\n",
       "      <td>0</td>\n",
       "      <td>1</td>\n",
       "      <td>0</td>\n",
       "      <td>0</td>\n",
       "      <td>1</td>\n",
       "      <td>0</td>\n",
       "      <td>0</td>\n",
       "      <td>0</td>\n",
       "      <td>1</td>\n",
       "    </tr>\n",
       "    <tr>\n",
       "      <th>3</th>\n",
       "      <td>1</td>\n",
       "      <td>0</td>\n",
       "      <td>15</td>\n",
       "      <td>0</td>\n",
       "      <td>0</td>\n",
       "      <td>0</td>\n",
       "      <td>0</td>\n",
       "      <td>1</td>\n",
       "      <td>0</td>\n",
       "      <td>0</td>\n",
       "      <td>1</td>\n",
       "      <td>0</td>\n",
       "      <td>1</td>\n",
       "      <td>0</td>\n",
       "      <td>0</td>\n",
       "    </tr>\n",
       "    <tr>\n",
       "      <th>4</th>\n",
       "      <td>1</td>\n",
       "      <td>0</td>\n",
       "      <td>15</td>\n",
       "      <td>0</td>\n",
       "      <td>0</td>\n",
       "      <td>0</td>\n",
       "      <td>0</td>\n",
       "      <td>1</td>\n",
       "      <td>0</td>\n",
       "      <td>0</td>\n",
       "      <td>1</td>\n",
       "      <td>0</td>\n",
       "      <td>0</td>\n",
       "      <td>1</td>\n",
       "      <td>0</td>\n",
       "    </tr>\n",
       "  </tbody>\n",
       "</table>\n",
       "</div>"
      ],
      "text/plain": [
       "   month  hour  minute  weekday_mon  weekday_tue  weekday_wed  weekday_thu  \\\n",
       "0      1     0       0            0            0            0            0   \n",
       "1      1     0       0            0            0            0            0   \n",
       "2      1     0       0            0            0            0            0   \n",
       "3      1     0      15            0            0            0            0   \n",
       "4      1     0      15            0            0            0            0   \n",
       "\n",
       "   weekday_fri  weekday_sat  weekday_sun  holiday_o  holiday_h  CALL_TYPE_A  \\\n",
       "0            1            0            0          1          0            1   \n",
       "1            1            0            0          1          0            0   \n",
       "2            1            0            0          1          0            0   \n",
       "3            1            0            0          1          0            1   \n",
       "4            1            0            0          1          0            0   \n",
       "\n",
       "   CALL_TYPE_B  CALL_TYPE_C  \n",
       "0            0            0  \n",
       "1            1            0  \n",
       "2            0            1  \n",
       "3            0            0  \n",
       "4            1            0  "
      ]
     },
     "metadata": {},
     "output_type": "display_data"
    },
    {
     "data": {
      "text/html": [
       "<div>\n",
       "<style scoped>\n",
       "    .dataframe tbody tr th:only-of-type {\n",
       "        vertical-align: middle;\n",
       "    }\n",
       "\n",
       "    .dataframe tbody tr th {\n",
       "        vertical-align: top;\n",
       "    }\n",
       "\n",
       "    .dataframe thead th {\n",
       "        text-align: right;\n",
       "    }\n",
       "</style>\n",
       "<table border=\"1\" class=\"dataframe\">\n",
       "  <thead>\n",
       "    <tr style=\"text-align: right;\">\n",
       "      <th></th>\n",
       "      <th>count</th>\n",
       "      <th>distance_mean</th>\n",
       "    </tr>\n",
       "  </thead>\n",
       "  <tbody>\n",
       "    <tr>\n",
       "      <th>0</th>\n",
       "      <td>32</td>\n",
       "      <td>7.514191</td>\n",
       "    </tr>\n",
       "    <tr>\n",
       "      <th>1</th>\n",
       "      <td>52</td>\n",
       "      <td>5.109028</td>\n",
       "    </tr>\n",
       "    <tr>\n",
       "      <th>2</th>\n",
       "      <td>34</td>\n",
       "      <td>6.716537</td>\n",
       "    </tr>\n",
       "    <tr>\n",
       "      <th>3</th>\n",
       "      <td>20</td>\n",
       "      <td>4.746192</td>\n",
       "    </tr>\n",
       "    <tr>\n",
       "      <th>4</th>\n",
       "      <td>53</td>\n",
       "      <td>5.102043</td>\n",
       "    </tr>\n",
       "  </tbody>\n",
       "</table>\n",
       "</div>"
      ],
      "text/plain": [
       "   count  distance_mean\n",
       "0     32       7.514191\n",
       "1     52       5.109028\n",
       "2     34       6.716537\n",
       "3     20       4.746192\n",
       "4     53       5.102043"
      ]
     },
     "metadata": {},
     "output_type": "display_data"
    }
   ],
   "source": [
    "display(train_groped_df.iloc[:, 0:15].head(),\n",
    "        train_groped_df.iloc[:, 15:17].head())"
   ]
  },
  {
   "cell_type": "code",
   "execution_count": 16,
   "metadata": {},
   "outputs": [],
   "source": [
    "from sklearn.model_selection import train_test_split\n",
    "\n",
    "X = np.array(train_groped_df.iloc[:, 0:15])\n",
    "Y = np.array(train_groped_df.iloc[:, 15:17])\n",
    "\n",
    "# クロスバリデーション用にテストデータを分割(学習：75% テスト:25%)\n",
    "X_train, X_test, y_train, y_test = train_test_split(\n",
    "    X, Y, random_state=1234)"
   ]
  },
  {
   "cell_type": "code",
   "execution_count": 17,
   "metadata": {},
   "outputs": [
    {
     "data": {
      "text/plain": [
       "((1674152, 7), (29080, 15), (29080, 2))"
      ]
     },
     "execution_count": 17,
     "metadata": {},
     "output_type": "execute_result"
    }
   ],
   "source": [
    "train_df.shape, X.shape,Y.shape"
   ]
  },
  {
   "cell_type": "code",
   "execution_count": 18,
   "metadata": {},
   "outputs": [],
   "source": [
    "from sklearn.tree import DecisionTreeRegressor\n",
    "from sklearn.ensemble import AdaBoostRegressor\n",
    "\n",
    "from sklearn.model_selection import GridSearchCV\n",
    "from sklearn.metrics import mean_squared_error"
   ]
  },
  {
   "cell_type": "markdown",
   "metadata": {},
   "source": [
    "#### 乗車台数を予測"
   ]
  },
  {
   "cell_type": "code",
   "execution_count": 19,
   "metadata": {},
   "outputs": [
    {
     "data": {
      "text/plain": [
       "DecisionTreeRegressor(criterion='mse', max_depth=None, max_features=None,\n",
       "           max_leaf_nodes=None, min_impurity_decrease=0.0,\n",
       "           min_impurity_split=None, min_samples_leaf=1,\n",
       "           min_samples_split=2, min_weight_fraction_leaf=0.0,\n",
       "           presort=False, random_state=None, splitter='best')"
      ]
     },
     "execution_count": 19,
     "metadata": {},
     "output_type": "execute_result"
    }
   ],
   "source": [
    "DecisionTreeRegressor()"
   ]
  },
  {
   "cell_type": "code",
   "execution_count": 20,
   "metadata": {},
   "outputs": [
    {
     "name": "stdout",
     "output_type": "stream",
     "text": [
      "### AdaBoostRegressor detail: \n",
      "AdaBoostRegressor(base_estimator=DecisionTreeRegressor(criterion='mse', max_depth=15, max_features=None,\n",
      "           max_leaf_nodes=None, min_impurity_decrease=0.0,\n",
      "           min_impurity_split=None, min_samples_leaf=1,\n",
      "           min_samples_split=2, min_weight_fraction_leaf=0.0,\n",
      "           presort=False, random_state=None, splitter='best'),\n",
      "         learning_rate=1.0, loss='linear', n_estimators=50,\n",
      "         random_state=1234)\n",
      "### RMSE: 12.618400705063078\n",
      "### feature_importances_: \n",
      "[0.17315239 0.24606604 0.04410853 0.03053218 0.02174499 0.01881644\n",
      " 0.0130183  0.02635094 0.03953921 0.04400883 0.02515507 0.02277638\n",
      " 0.00778927 0.28032478 0.00661664]\n",
      "### [train] coefficient of determination R^2: 0.98\n",
      "### [test] coefficient of determination R^2: 0.93\n"
     ]
    }
   ],
   "source": [
    "# AdaBoostをインスタンス化\n",
    "ada_count = AdaBoostRegressor(\n",
    "#     base_estimator=DecisionTreeRegressor(), random_state=1234)\n",
    "    base_estimator=DecisionTreeRegressor(max_depth=15), random_state=1234)\n",
    "# ada = AdaBoostRegressor(random_state=1234)\n",
    "\n",
    "# X_train：特徴量のデータ、y_train：教師データ（実車台数）で学習\n",
    "ada_count.fit(X_train, y_train[:, 0])\n",
    "\n",
    "# X_testで予測し、結果を y_pred に格納\n",
    "y_pred = ada_count.predict(X_test)\n",
    "\n",
    "# 予測（y_pred）と答え（y_train2）の誤差を計算\n",
    "ada_mse = mean_squared_error(y_test[:, 0], y_pred)\n",
    "\n",
    "print(\"### AdaBoostRegressor detail: \\n{}\".format(ada_count))\n",
    "\n",
    "print(\"### RMSE: {}\".format(np.sqrt(ada_mse)))\n",
    "print(\"### feature_importances_: \\n{}\".format(ada_count.feature_importances_))\n",
    "\n",
    "print(\"### [train] coefficient of determination R^2: {:.2f}\".format(\n",
    "    ada_count.score(X_train, y_train[:, 0])))\n",
    "print(\"### [test] coefficient of determination R^2: {:.2f}\".format(\n",
    "    ada_count.score(X_test, y_test[:, 0])))"
   ]
  },
  {
   "cell_type": "markdown",
   "metadata": {},
   "source": [
    "#### ハイパーパラメータの調整\n",
    "\n",
    "各項目は、独立なの変数の利用有無は調整しない。\n",
    "DecisionTreeRegressorの木の深さはmax_depth=15が実験で決めたけど、指針はある？"
   ]
  },
  {
   "cell_type": "code",
   "execution_count": 21,
   "metadata": {},
   "outputs": [],
   "source": [
    "from sklearn.model_selection import GridSearchCV\n",
    "params = {\n",
    "    \"n_estimators\": [25, 50, 75, 100],\n",
    "    \"learning_rate\": [0.1, 0.25, 0.5, 0.75, 1.0]\n",
    "}\n",
    "\n",
    "gscv = GridSearchCV(\n",
    "    ada_count, param_grid=params, verbose=1, cv=3, scoring='neg_mean_squared_error')"
   ]
  },
  {
   "cell_type": "code",
   "execution_count": 22,
   "metadata": {},
   "outputs": [
    {
     "name": "stdout",
     "output_type": "stream",
     "text": [
      "Fitting 3 folds for each of 20 candidates, totalling 60 fits\n"
     ]
    },
    {
     "name": "stderr",
     "output_type": "stream",
     "text": [
      "[Parallel(n_jobs=1)]: Using backend SequentialBackend with 1 concurrent workers.\n",
      "[Parallel(n_jobs=1)]: Done  60 out of  60 | elapsed:  2.0min finished\n"
     ]
    },
    {
     "data": {
      "text/plain": [
       "GridSearchCV(cv=3, error_score='raise-deprecating',\n",
       "       estimator=AdaBoostRegressor(base_estimator=DecisionTreeRegressor(criterion='mse', max_depth=15, max_features=None,\n",
       "           max_leaf_nodes=None, min_impurity_decrease=0.0,\n",
       "           min_impurity_split=None, min_samples_leaf=1,\n",
       "           min_samples_split=2, min_weight_fraction_leaf=0.0,\n",
       "           presort=False, random_state=None, splitter='best'),\n",
       "         learning_rate=1.0, loss='linear', n_estimators=50,\n",
       "         random_state=1234),\n",
       "       fit_params=None, iid='warn', n_jobs=None,\n",
       "       param_grid={'n_estimators': [25, 50, 75, 100], 'learning_rate': [0.1, 0.25, 0.5, 0.75, 1.0]},\n",
       "       pre_dispatch='2*n_jobs', refit=True, return_train_score='warn',\n",
       "       scoring='neg_mean_squared_error', verbose=1)"
      ]
     },
     "execution_count": 22,
     "metadata": {},
     "output_type": "execute_result"
    }
   ],
   "source": [
    "# グリッドサーチ実行\n",
    "gscv.fit(X_train, y_train[:,0])"
   ]
  },
  {
   "cell_type": "markdown",
   "metadata": {},
   "source": [
    "n_estimators、learning_rateもデフォルトのままが良い。"
   ]
  },
  {
   "cell_type": "code",
   "execution_count": 1,
   "metadata": {},
   "outputs": [
    {
     "ename": "NameError",
     "evalue": "name 'train_groped_df' is not defined",
     "output_type": "error",
     "traceback": [
      "\u001b[0;31m---------------------------------------------------------------------------\u001b[0m",
      "\u001b[0;31mNameError\u001b[0m                                 Traceback (most recent call last)",
      "\u001b[0;32m<ipython-input-1-5d457ce3c912>\u001b[0m in \u001b[0;36m<module>\u001b[0;34m()\u001b[0m\n\u001b[0;32m----> 1\u001b[0;31m \u001b[0mtrain_groped_df\u001b[0m\u001b[0;34m.\u001b[0m\u001b[0mhead\u001b[0m\u001b[0;34m(\u001b[0m\u001b[0;36m2\u001b[0m\u001b[0;34m)\u001b[0m\u001b[0;34m.\u001b[0m\u001b[0mvalues\u001b[0m\u001b[0;34m\u001b[0m\u001b[0m\n\u001b[0m",
      "\u001b[0;31mNameError\u001b[0m: name 'train_groped_df' is not defined"
     ]
    }
   ],
   "source": [
    "train_groped_df.head(2).values"
   ]
  },
  {
   "cell_type": "code",
   "execution_count": 24,
   "metadata": {},
   "outputs": [
    {
     "data": {
      "text/plain": [
       "array([21., 52.])"
      ]
     },
     "execution_count": 24,
     "metadata": {},
     "output_type": "execute_result"
    }
   ],
   "source": [
    "# 予測してみる([1月 00:00 金曜、平日、センター],[1月 00:00 金曜、平日、スタンド])\n",
    "ada_count.predict(\n",
    "    np.array([[1, 0, 0, 0, 0, 0, 0, 1, 0, 0, 1, 0, 1, 0, 0],\n",
    "              [1, 0, 0, 0, 0, 0, 0, 1, 0, 0, 1, 0, 0, 1, 0]]))"
   ]
  },
  {
   "cell_type": "code",
   "execution_count": 25,
   "metadata": {},
   "outputs": [
    {
     "data": {
      "text/plain": [
       "(array([ 45.        ,  93.44444444,   8.        , ..., 155.70967742,\n",
       "         93.41666667,  71.5       ]),\n",
       " array([ 42.,  94.,   7., ..., 144.,  73.,  62.]))"
      ]
     },
     "execution_count": 25,
     "metadata": {},
     "output_type": "execute_result"
    }
   ],
   "source": [
    "ada_count.predict(X_test),y_test[:,0]"
   ]
  },
  {
   "cell_type": "markdown",
   "metadata": {},
   "source": [
    "#### 距離を予測"
   ]
  },
  {
   "cell_type": "code",
   "execution_count": 26,
   "metadata": {},
   "outputs": [
    {
     "name": "stdout",
     "output_type": "stream",
     "text": [
      "### AdaBoostRegressor detail: \n",
      "AdaBoostRegressor(base_estimator=DecisionTreeRegressor(criterion='mse', max_depth=10, max_features=None,\n",
      "           max_leaf_nodes=None, min_impurity_decrease=0.0,\n",
      "           min_impurity_split=None, min_samples_leaf=1,\n",
      "           min_samples_split=2, min_weight_fraction_leaf=0.0,\n",
      "           presort=False, random_state=None, splitter='best'),\n",
      "         learning_rate=1.0, loss='linear', n_estimators=50,\n",
      "         random_state=1234)\n",
      "### RMSE: 2.132657833202209\n",
      "### feature_importances_: \n",
      "[0.2263511  0.30830418 0.13420092 0.05006708 0.03451061 0.03149917\n",
      " 0.01613729 0.02937426 0.00737918 0.03575314 0.03075533 0.02789203\n",
      " 0.00304446 0.00276126 0.06196997]\n",
      "### [train] coefficient of determination R^2: 0.67\n",
      "### [test] coefficient of determination R^2: 0.25\n"
     ]
    }
   ],
   "source": [
    "# AdaBoostをインスタンス化\n",
    "ada_distance = AdaBoostRegressor(\n",
    "#     base_estimator=DecisionTreeRegressor(), random_state=1234)\n",
    "    base_estimator=DecisionTreeRegressor(max_depth=10), random_state=1234)\n",
    "# ada = AdaBoostRegressor(random_state=1234)\n",
    "\n",
    "# X_train：特徴量のデータ、y_train：教師データ（実車台数）で学習\n",
    "ada_distance.fit(X_train, y_train[:, 1])\n",
    "\n",
    "# X_testで予測し、結果を y_pred に格納\n",
    "y_pred = ada_distance.predict(X_test)\n",
    "\n",
    "# 予測（y_pred）と答え（y_train2）の誤差を計算\n",
    "ada_mse = mean_squared_error(y_test[:, 1], y_pred)\n",
    "\n",
    "print(\"### AdaBoostRegressor detail: \\n{}\".format(ada_distance))\n",
    "\n",
    "print(\"### RMSE: {}\".format(np.sqrt(ada_mse)))\n",
    "print(\"### feature_importances_: \\n{}\".format(ada_distance.feature_importances_))\n",
    "\n",
    "print(\"### [train] coefficient of determination R^2: {:.2f}\".format(\n",
    "    ada_distance.score(X_train, y_train[:, 1])))\n",
    "print(\"### [test] coefficient of determination R^2: {:.2f}\".format(\n",
    "    ada_distance.score(X_test, y_test[:, 1])))"
   ]
  },
  {
   "cell_type": "markdown",
   "metadata": {},
   "source": [
    "__TODO:距離の精度を上げる。__"
   ]
  },
  {
   "cell_type": "markdown",
   "metadata": {},
   "source": [
    "## 流しのみ区画に分ける"
   ]
  },
  {
   "cell_type": "code",
   "execution_count": 27,
   "metadata": {},
   "outputs": [],
   "source": [
    "df_call_type_c = df[df[\"CALL_TYPE\"] == \"C\"]"
   ]
  },
  {
   "cell_type": "code",
   "execution_count": 28,
   "metadata": {},
   "outputs": [
    {
     "data": {
      "image/png": "[encoded data removed]",
      "text/plain": [
       "<matplotlib.figure.Figure at 0x1a248ce2b0>"
      ]
     },
     "metadata": {},
     "output_type": "display_data"
    }
   ],
   "source": [
    "plt.scatter(df_call_type_c[\"end_x\"], df_call_type_c[\"end_y\"], color ='r')\n",
    "plt.scatter(df_call_type_c[\"start_x\"], df_call_type_c[\"start_y\"])\n",
    "plt.title(\"Start - End Point\")\n",
    "plt.xlabel(\"long\")\n",
    "plt.ylabel(\"lat\")\n",
    "plt.xlim(-9.45, -6.65)\n",
    "plt.ylim(37.15, 42.0)\n",
    "plt.grid()"
   ]
  },
  {
   "cell_type": "code",
   "execution_count": 29,
   "metadata": {},
   "outputs": [
    {
     "data": {
      "text/html": [
       "<div>\n",
       "<style scoped>\n",
       "    .dataframe tbody tr th:only-of-type {\n",
       "        vertical-align: middle;\n",
       "    }\n",
       "\n",
       "    .dataframe tbody tr th {\n",
       "        vertical-align: top;\n",
       "    }\n",
       "\n",
       "    .dataframe thead th {\n",
       "        text-align: right;\n",
       "    }\n",
       "</style>\n",
       "<table border=\"1\" class=\"dataframe\">\n",
       "  <thead>\n",
       "    <tr style=\"text-align: right;\">\n",
       "      <th></th>\n",
       "      <th>riding_time</th>\n",
       "      <th>distance</th>\n",
       "      <th>start_x</th>\n",
       "      <th>start_y</th>\n",
       "      <th>end_x</th>\n",
       "      <th>end_y</th>\n",
       "    </tr>\n",
       "  </thead>\n",
       "  <tbody>\n",
       "    <tr>\n",
       "      <th>count</th>\n",
       "      <td>502547.000000</td>\n",
       "      <td>502547.000000</td>\n",
       "      <td>502547.000000</td>\n",
       "      <td>502547.000000</td>\n",
       "      <td>502547.000000</td>\n",
       "      <td>502547.000000</td>\n",
       "    </tr>\n",
       "    <tr>\n",
       "      <th>mean</th>\n",
       "      <td>826.510724</td>\n",
       "      <td>7.716674</td>\n",
       "      <td>-8.618668</td>\n",
       "      <td>41.156637</td>\n",
       "      <td>-8.620709</td>\n",
       "      <td>41.163464</td>\n",
       "    </tr>\n",
       "    <tr>\n",
       "      <th>std</th>\n",
       "      <td>993.778382</td>\n",
       "      <td>12.595755</td>\n",
       "      <td>0.033315</td>\n",
       "      <td>0.032558</td>\n",
       "      <td>0.045607</td>\n",
       "      <td>0.048331</td>\n",
       "    </tr>\n",
       "    <tr>\n",
       "      <th>min</th>\n",
       "      <td>30.000000</td>\n",
       "      <td>0.000000</td>\n",
       "      <td>-11.820645</td>\n",
       "      <td>37.184832</td>\n",
       "      <td>-9.729117</td>\n",
       "      <td>37.313784</td>\n",
       "    </tr>\n",
       "    <tr>\n",
       "      <th>25%</th>\n",
       "      <td>420.000000</td>\n",
       "      <td>2.890794</td>\n",
       "      <td>-8.629722</td>\n",
       "      <td>41.147163</td>\n",
       "      <td>-8.644891</td>\n",
       "      <td>41.148819</td>\n",
       "    </tr>\n",
       "    <tr>\n",
       "      <th>50%</th>\n",
       "      <td>630.000000</td>\n",
       "      <td>5.113712</td>\n",
       "      <td>-8.613396</td>\n",
       "      <td>41.152491</td>\n",
       "      <td>-8.615808</td>\n",
       "      <td>41.158728</td>\n",
       "    </tr>\n",
       "    <tr>\n",
       "      <th>75%</th>\n",
       "      <td>945.000000</td>\n",
       "      <td>9.163816</td>\n",
       "      <td>-8.606146</td>\n",
       "      <td>41.163093</td>\n",
       "      <td>-8.602839</td>\n",
       "      <td>41.173092</td>\n",
       "    </tr>\n",
       "    <tr>\n",
       "      <th>max</th>\n",
       "      <td>58215.000000</td>\n",
       "      <td>1335.144743</td>\n",
       "      <td>-4.816116</td>\n",
       "      <td>51.037119</td>\n",
       "      <td>-6.263919</td>\n",
       "      <td>44.351622</td>\n",
       "    </tr>\n",
       "  </tbody>\n",
       "</table>\n",
       "</div>"
      ],
      "text/plain": [
       "         riding_time       distance        start_x        start_y  \\\n",
       "count  502547.000000  502547.000000  502547.000000  502547.000000   \n",
       "mean      826.510724       7.716674      -8.618668      41.156637   \n",
       "std       993.778382      12.595755       0.033315       0.032558   \n",
       "min        30.000000       0.000000     -11.820645      37.184832   \n",
       "25%       420.000000       2.890794      -8.629722      41.147163   \n",
       "50%       630.000000       5.113712      -8.613396      41.152491   \n",
       "75%       945.000000       9.163816      -8.606146      41.163093   \n",
       "max     58215.000000    1335.144743      -4.816116      51.037119   \n",
       "\n",
       "               end_x          end_y  \n",
       "count  502547.000000  502547.000000  \n",
       "mean       -8.620709      41.163464  \n",
       "std         0.045607       0.048331  \n",
       "min        -9.729117      37.313784  \n",
       "25%        -8.644891      41.148819  \n",
       "50%        -8.615808      41.158728  \n",
       "75%        -8.602839      41.173092  \n",
       "max        -6.263919      44.351622  "
      ]
     },
     "execution_count": 29,
     "metadata": {},
     "output_type": "execute_result"
    }
   ],
   "source": [
    "df_call_type_c.describe()[[\"riding_time\", \"distance\", \"start_x\", \"start_y\", \"end_x\", \"end_y\"]]"
   ]
  },
  {
   "cell_type": "markdown",
   "metadata": {},
   "source": [
    "long = -9度 ～ -7度は距離的に222km位なので、\n",
    "start_xとstart_yの平均を中心（-8.6291,  41.1579)を中心に20km(= 40km,40km)に範囲を絞ってみる。  \n",
    "\n",
    "0.01度=1.11kmなので、0.2度=22.2km\n",
    "-8.6291 ±　0.2\n",
    "41.1579 ±　0.2\n",
    "\n",
    "のデータに絞る。"
   ]
  },
  {
   "cell_type": "code",
   "execution_count": 30,
   "metadata": {},
   "outputs": [
    {
     "data": {
      "text/plain": [
       "(-8.4291, -8.829099999999999, 41.3579, 40.957899999999995)"
      ]
     },
     "execution_count": 30,
     "metadata": {},
     "output_type": "execute_result"
    }
   ],
   "source": [
    "-8.6291 + 0.20, -8.6291 - 0.20, 41.1579 + 0.20, 41.1579 - 0.20"
   ]
  },
  {
   "cell_type": "code",
   "execution_count": 31,
   "metadata": {},
   "outputs": [
    {
     "data": {
      "text/plain": [
       "((501762, 16), (502547, 16), 0.9984379570468036)"
      ]
     },
     "execution_count": 31,
     "metadata": {},
     "output_type": "execute_result"
    }
   ],
   "source": [
    "df_call_type_c_limited = df_call_type_c.query(\n",
    "    \"-8.829099999999999 <= start_x <= -8.4291 and 40.957899999999995 <= start_y <= 41.3579\"\n",
    ")\n",
    "\n",
    "df_call_type_c_limited.shape, df_call_type_c.shape, df_call_type_c_limited.shape[\n",
    "    0] / df_call_type_c.shape[0]"
   ]
  },
  {
   "cell_type": "markdown",
   "metadata": {},
   "source": [
    "99.8%が　(40,40)圏内にいる。"
   ]
  },
  {
   "cell_type": "code",
   "execution_count": 32,
   "metadata": {},
   "outputs": [
    {
     "data": {
      "text/plain": [
       "(44.39999999999984, 44.40000000000063)"
      ]
     },
     "execution_count": 32,
     "metadata": {},
     "output_type": "execute_result"
    }
   ],
   "source": [
    "(-8.4291 - (-8.829099999999999)) * 111, (41.3579 - 40.957899999999995) * 111"
   ]
  },
  {
   "cell_type": "markdown",
   "metadata": {},
   "source": [
    "### 緯度、経度を10等分する"
   ]
  },
  {
   "cell_type": "markdown",
   "metadata": {},
   "source": [
    "#### 境界値の算出"
   ]
  },
  {
   "cell_type": "code",
   "execution_count": 33,
   "metadata": {},
   "outputs": [
    {
     "data": {
      "text/plain": [
       "(array([-8.8295, -8.7891, -8.7491, -8.7091, -8.6691, -8.6291, -8.5891,\n",
       "        -8.5491, -8.5091, -8.4691, -8.4291]),\n",
       " array([40.9575, 40.9979, 41.0379, 41.0779, 41.1179, 41.1579, 41.1979,\n",
       "        41.2379, 41.2779, 41.3179, 41.3579]))"
      ]
     },
     "execution_count": 33,
     "metadata": {},
     "output_type": "execute_result"
    }
   ],
   "source": [
    "long_cut, long_bins = pd.cut(pd.Series([-8.829099999999999, -8.4291]), 10, retbins=True)\n",
    "\n",
    "lat_cut, lat_bins = pd.cut(pd.Series([40.957899999999995, 41.3579]), 10, retbins=True)\n",
    "\n",
    "long_bins, lat_bins"
   ]
  },
  {
   "cell_type": "markdown",
   "metadata": {},
   "source": [
    "#### 分割位置列を追加"
   ]
  },
  {
   "cell_type": "code",
   "execution_count": 34,
   "metadata": {},
   "outputs": [],
   "source": [
    "def split_area(row):\n",
    "\n",
    "    long_bins = [\n",
    "        -8.7891, -8.7491, -8.7091, -8.6691, -8.6291, -8.5891, -8.5491, -8.5091,\n",
    "        -8.4691, -8.4291\n",
    "    ]\n",
    "\n",
    "    lat_bins = [\n",
    "        40.9979, 41.0379, 41.0779, 41.1179, 41.1579, 41.1979, 41.2379, 41.2779,\n",
    "        41.3179, 41.3579\n",
    "    ]\n",
    "\n",
    "    area = [\n",
    "        [\"area_00\", \"area_01\", \"area_02\", \"area_03\", \"area_04\", \"area_05\", \"area_06\", \"area_07\", \"area_08\", \"area_09\" ]\n",
    "        ,[\"area_10\", \"area_11\", \"area_12\", \"area_13\", \"area_14\", \"area_15\", \"area_16\", \"area_17\", \"area_18\", \"area_19\" ]\n",
    "        ,[\"area_20\", \"area_21\", \"area_22\", \"area_23\", \"area_24\", \"area_25\", \"area_26\", \"area_27\", \"area_28\", \"area_29\" ]\n",
    "        ,[\"area_30\", \"area_31\", \"area_32\", \"area_33\", \"area_34\", \"area_35\", \"area_36\", \"area_37\", \"area_38\", \"area_39\" ]\n",
    "        ,[\"area_40\", \"area_41\", \"area_42\", \"area_43\", \"area_43\", \"area_45\", \"area_46\", \"area_47\", \"area_48\", \"area_49\" ]\n",
    "        ,[\"area_50\", \"area_51\", \"area_52\", \"area_53\", \"area_54\", \"area_55\", \"area_56\", \"area_57\", \"area_58\", \"area_59\" ]\n",
    "        ,[\"area_60\", \"area_61\", \"area_62\", \"area_63\", \"area_64\", \"area_65\", \"area_66\", \"area_67\", \"area_68\", \"area_69\" ]\n",
    "        ,[\"area_70\", \"area_71\", \"area_72\", \"area_73\", \"area_74\", \"area_75\", \"area_76\", \"area_77\", \"area_78\", \"area_79\" ]\n",
    "        ,[\"area_80\", \"area_81\", \"area_82\", \"area_83\", \"area_84\", \"area_85\", \"area_86\", \"area_87\", \"area_88\", \"area_89\" ]\n",
    "        ,[\"area_90\", \"area_91\", \"area_92\", \"area_93\", \"area_94\", \"area_95\", \"area_96\", \"area_97\", \"area_98\", \"area_99\" ]\n",
    "    ]\n",
    "\n",
    "    _start_long = row[\"start_x\"]\n",
    "    _start_lat = row[\"start_y\"]\n",
    "\n",
    "    for i, x in enumerate(long_bins):\n",
    "\n",
    "        if _start_long < x:\n",
    "            for j, y in enumerate(lat_bins):\n",
    "                if _start_lat < y:\n",
    "                    return area[i][j]\n",
    "\n",
    "    return \"area_err\"\n",
    "\n",
    "\n",
    "df_call_type_c_limited[\"area\"] = df_call_type_c_limited.apply(split_area, axis=1)"
   ]
  },
  {
   "cell_type": "code",
   "execution_count": 35,
   "metadata": {},
   "outputs": [
    {
     "data": {
      "text/plain": [
       "Index(['TIMESTAMP', 'year', 'month', 'day', 'weekday', 'hour', 'minute',\n",
       "       'holiday', 'riding_time', 'distance', 'start_x', 'start_y', 'end_x',\n",
       "       'end_y', 'CALL_TYPE', 'TAXI_ID', 'area'],\n",
       "      dtype='object')"
      ]
     },
     "execution_count": 35,
     "metadata": {},
     "output_type": "execute_result"
    }
   ],
   "source": [
    "df_call_type_c_limited.columns"
   ]
  },
  {
   "cell_type": "code",
   "execution_count": 36,
   "metadata": {},
   "outputs": [
    {
     "data": {
      "text/html": [
       "<div>\n",
       "<style scoped>\n",
       "    .dataframe tbody tr th:only-of-type {\n",
       "        vertical-align: middle;\n",
       "    }\n",
       "\n",
       "    .dataframe tbody tr th {\n",
       "        vertical-align: top;\n",
       "    }\n",
       "\n",
       "    .dataframe thead th {\n",
       "        text-align: right;\n",
       "    }\n",
       "</style>\n",
       "<table border=\"1\" class=\"dataframe\">\n",
       "  <thead>\n",
       "    <tr style=\"text-align: right;\">\n",
       "      <th></th>\n",
       "      <th>month</th>\n",
       "      <th>weekday</th>\n",
       "      <th>hour</th>\n",
       "      <th>minute</th>\n",
       "      <th>holiday</th>\n",
       "      <th>start_x</th>\n",
       "      <th>start_y</th>\n",
       "      <th>end_x</th>\n",
       "      <th>end_y</th>\n",
       "      <th>riding_time</th>\n",
       "      <th>distance</th>\n",
       "      <th>area</th>\n",
       "    </tr>\n",
       "  </thead>\n",
       "  <tbody>\n",
       "    <tr>\n",
       "      <th>0</th>\n",
       "      <td>7</td>\n",
       "      <td>mon</td>\n",
       "      <td>0</td>\n",
       "      <td>0</td>\n",
       "      <td>o</td>\n",
       "      <td>-8.610291</td>\n",
       "      <td>41.140746</td>\n",
       "      <td>-8.605890</td>\n",
       "      <td>41.145345</td>\n",
       "      <td>375</td>\n",
       "      <td>2.395003</td>\n",
       "      <td>area_54</td>\n",
       "    </tr>\n",
       "    <tr>\n",
       "      <th>1</th>\n",
       "      <td>7</td>\n",
       "      <td>mon</td>\n",
       "      <td>0</td>\n",
       "      <td>0</td>\n",
       "      <td>o</td>\n",
       "      <td>-8.574678</td>\n",
       "      <td>41.151951</td>\n",
       "      <td>-8.607996</td>\n",
       "      <td>41.142915</td>\n",
       "      <td>645</td>\n",
       "      <td>10.114430</td>\n",
       "      <td>area_64</td>\n",
       "    </tr>\n",
       "    <tr>\n",
       "      <th>2</th>\n",
       "      <td>7</td>\n",
       "      <td>mon</td>\n",
       "      <td>0</td>\n",
       "      <td>0</td>\n",
       "      <td>o</td>\n",
       "      <td>-8.618643</td>\n",
       "      <td>41.141412</td>\n",
       "      <td>-8.630838</td>\n",
       "      <td>41.154489</td>\n",
       "      <td>345</td>\n",
       "      <td>3.186095</td>\n",
       "      <td>area_54</td>\n",
       "    </tr>\n",
       "    <tr>\n",
       "      <th>3</th>\n",
       "      <td>7</td>\n",
       "      <td>mon</td>\n",
       "      <td>0</td>\n",
       "      <td>0</td>\n",
       "      <td>o</td>\n",
       "      <td>-8.619894</td>\n",
       "      <td>41.148009</td>\n",
       "      <td>-8.609490</td>\n",
       "      <td>41.157351</td>\n",
       "      <td>330</td>\n",
       "      <td>2.549688</td>\n",
       "      <td>area_54</td>\n",
       "    </tr>\n",
       "    <tr>\n",
       "      <th>4</th>\n",
       "      <td>7</td>\n",
       "      <td>mon</td>\n",
       "      <td>0</td>\n",
       "      <td>0</td>\n",
       "      <td>o</td>\n",
       "      <td>-8.617599</td>\n",
       "      <td>41.146137</td>\n",
       "      <td>-8.636625</td>\n",
       "      <td>41.169141</td>\n",
       "      <td>645</td>\n",
       "      <td>10.080812</td>\n",
       "      <td>area_54</td>\n",
       "    </tr>\n",
       "  </tbody>\n",
       "</table>\n",
       "</div>"
      ],
      "text/plain": [
       "   month weekday  hour  minute holiday   start_x    start_y     end_x  \\\n",
       "0      7     mon     0       0       o -8.610291  41.140746 -8.605890   \n",
       "1      7     mon     0       0       o -8.574678  41.151951 -8.607996   \n",
       "2      7     mon     0       0       o -8.618643  41.141412 -8.630838   \n",
       "3      7     mon     0       0       o -8.619894  41.148009 -8.609490   \n",
       "4      7     mon     0       0       o -8.617599  41.146137 -8.636625   \n",
       "\n",
       "       end_y  riding_time   distance     area  \n",
       "0  41.145345          375   2.395003  area_54  \n",
       "1  41.142915          645  10.114430  area_64  \n",
       "2  41.154489          345   3.186095  area_54  \n",
       "3  41.157351          330   2.549688  area_54  \n",
       "4  41.169141          645  10.080812  area_54  "
      ]
     },
     "execution_count": 36,
     "metadata": {},
     "output_type": "execute_result"
    }
   ],
   "source": [
    "# 要らない列を削除\n",
    "df_call_type_c_limited.drop(\n",
    "    [\"TIMESTAMP\", \"year\", \"day\", \"CALL_TYPE\", \"TAXI_ID\"], axis=1, inplace=True)\n",
    "\n",
    "col_names = [\n",
    "    \"month\", \"weekday\", \"hour\", \"minute\", \"holiday\", \"start_x\", \"start_y\",\n",
    "    \"end_x\", \"end_y\", \"riding_time\", \"distance\", \"area\"\n",
    "]\n",
    "\n",
    "# 列の並び替え\n",
    "df_call_type_c_limited = df_call_type_c_limited.reindex(col_names, axis=1)\n",
    "\n",
    "df_call_type_c_limited.head()"
   ]
  },
  {
   "cell_type": "markdown",
   "metadata": {},
   "source": [
    "area_54 = [(-8.6291, -8.5891), (41.1179, 41.1579]  "
   ]
  },
  {
   "cell_type": "code",
   "execution_count": 47,
   "metadata": {
    "scrolled": false
   },
   "outputs": [
    {
     "data": {
      "text/plain": [
       "area_54    0.500245\n",
       "area_55    0.147474\n",
       "area_45    0.104001\n",
       "area_43    0.079077\n",
       "area_65    0.048332\n",
       "area_35    0.038235\n",
       "area_64    0.036436\n",
       "area_34    0.020466\n",
       "area_36    0.005572\n",
       "area_46    0.003251\n",
       "Name: area, dtype: float64"
      ]
     },
     "execution_count": 47,
     "metadata": {},
     "output_type": "execute_result"
    },
    {
     "data": {
      "image/png": "[encoded data removed]",
      "text/plain": [
       "<matplotlib.figure.Figure at 0x1a348cfb70>"
      ]
     },
     "metadata": {},
     "output_type": "display_data"
    }
   ],
   "source": [
    "prop = (df_call_type_c_limited[\"area\"].value_counts() / df_call_type_c_limited.shape[0])\n",
    "\n",
    "sns.countplot(x=\"area\", order=prop.index, data=df_call_type_c_limited)\n",
    "\n",
    "# 割合\n",
    "prop.head(10)"
   ]
  },
  {
   "cell_type": "code",
   "execution_count": 50,
   "metadata": {},
   "outputs": [
    {
     "data": {
      "text/plain": [
       "0.879129"
      ]
     },
     "execution_count": 50,
     "metadata": {},
     "output_type": "execute_result"
    }
   ],
   "source": [
    "# 上位５エリアで87%\n",
    "0.500245 + 0.147474 + 0.104001 + 0.079077 + 0.048332\n",
    "# + 0.038235"
   ]
  },
  {
   "cell_type": "markdown",
   "metadata": {},
   "source": [
    "時間毎に集計すれば乗車実績ベースの確率はでるが、データ編集しただけでつまらない・・・    \n",
    "TODO:ヒートマップみたいにエリア毎に、確立を図示するには？"
   ]
  },
  {
   "cell_type": "markdown",
   "metadata": {},
   "source": [
    "### 降車方向を追加"
   ]
  },
  {
   "cell_type": "markdown",
   "metadata": {},
   "source": [
    "緯度に対する角度で分割  \n",
    "\n",
    "\n",
    "    "
   ]
  },
  {
   "cell_type": "code",
   "execution_count": 39,
   "metadata": {},
   "outputs": [
    {
     "name": "stdout",
     "output_type": "stream",
     "text": [
      "### E:337.5 - 22.5度\n",
      "### NE:22.5 - 67.5度\n",
      "### N:67.5 - 112.5度\n",
      "### NW:112.5 - 157.5度\n",
      "### W:157.5 - 202.5度\n",
      "### SW:202.5 - 247.5度\n",
      "### S:247.5 - 292.5度\n",
      "### SE:292.5 - 337.5度\n"
     ]
    }
   ],
   "source": [
    "print(\"### E:{} - {}度\".format(360 - 22.5, -22.5 + 45))\n",
    "print(\"### NE:{} - {}度\".format(22.5, 22.5 + 45))\n",
    "print(\"### N:{} - {}度\".format(67.5, 67.5 + 45))\n",
    "print(\"### NW:{} - {}度\".format(112.5, 112.5 + 45))\n",
    "print(\"### W:{} - {}度\".format(157.5, 157.5 + 45))\n",
    "print(\"### SW:{} - {}度\".format(202.5, 202.5 + 45))\n",
    "print(\"### S:{} - {}度\".format(247.5, 247.5 + 45))\n",
    "print(\"### SE:{} - {}度\".format(292.5, 292.5 + 45))"
   ]
  },
  {
   "cell_type": "code",
   "execution_count": 40,
   "metadata": {},
   "outputs": [],
   "source": [
    "def get_direction(row):\n",
    "\n",
    "    _start_x = row[\"start_x\"]\n",
    "    _start_y = row[\"start_y\"]\n",
    "\n",
    "    _end_x = row[\"end_x\"]\n",
    "    _end_y = row[\"end_y\"]\n",
    "\n",
    "    # 原点を start_x、start_y に移動\n",
    "    _v1 = np.array([1.0, 0.0])\n",
    "    _v2 = np.array([_end_x - _start_x, _end_y - _start_y])\n",
    "\n",
    "    # コサインを算出\n",
    "    _cosine = np.dot(_v1, _v2) / np.linalg.norm(_v2)\n",
    "\n",
    "    # 角度をラジアンから度に変換\n",
    "    _degree = np.rad2deg(np.arccos(_cosine))\n",
    "\n",
    "    if _degree > 337.5 or _degree <= 22.5:\n",
    "        return \"E\"\n",
    "    elif _degree > 22.5 or _degree <= 67.5:\n",
    "        return \"NE\"\n",
    "    elif _degree > 67.5 or _degree <= 112.5:\n",
    "        return \"N\"\n",
    "    elif _degree > 112.5 or _degree <= 157.5:\n",
    "        return \"NW\"\n",
    "    elif _degree > 157.5 or _degree <= 202.5:\n",
    "        return \"W\"\n",
    "    elif _degree > 202.5 or _degree <= 247.5:\n",
    "        return \"SW\"\n",
    "    elif _degree > 247.5 or _degree <= 292.5:\n",
    "        return \"S\"\n",
    "    elif _degree > 292.5 or _degree <= 337.5:\n",
    "        return \"SE\"\n",
    "\n",
    "    return \"EQ\"\n",
    "\n",
    "\n",
    "df_call_type_c_limited[\"direction\"] = df_call_type_c_limited.apply(get_direction, axis=1)"
   ]
  },
  {
   "cell_type": "code",
   "execution_count": 41,
   "metadata": {},
   "outputs": [
    {
     "data": {
      "text/html": [
       "<div>\n",
       "<style scoped>\n",
       "    .dataframe tbody tr th:only-of-type {\n",
       "        vertical-align: middle;\n",
       "    }\n",
       "\n",
       "    .dataframe tbody tr th {\n",
       "        vertical-align: top;\n",
       "    }\n",
       "\n",
       "    .dataframe thead th {\n",
       "        text-align: right;\n",
       "    }\n",
       "</style>\n",
       "<table border=\"1\" class=\"dataframe\">\n",
       "  <thead>\n",
       "    <tr style=\"text-align: right;\">\n",
       "      <th></th>\n",
       "      <th>month</th>\n",
       "      <th>weekday</th>\n",
       "      <th>hour</th>\n",
       "      <th>minute</th>\n",
       "      <th>holiday</th>\n",
       "      <th>start_x</th>\n",
       "      <th>start_y</th>\n",
       "      <th>end_x</th>\n",
       "      <th>end_y</th>\n",
       "      <th>riding_time</th>\n",
       "      <th>distance</th>\n",
       "      <th>area</th>\n",
       "      <th>direction</th>\n",
       "    </tr>\n",
       "  </thead>\n",
       "  <tbody>\n",
       "    <tr>\n",
       "      <th>0</th>\n",
       "      <td>7</td>\n",
       "      <td>mon</td>\n",
       "      <td>0</td>\n",
       "      <td>0</td>\n",
       "      <td>o</td>\n",
       "      <td>-8.610291</td>\n",
       "      <td>41.140746</td>\n",
       "      <td>-8.605890</td>\n",
       "      <td>41.145345</td>\n",
       "      <td>375</td>\n",
       "      <td>2.395003</td>\n",
       "      <td>area_54</td>\n",
       "      <td>NE</td>\n",
       "    </tr>\n",
       "    <tr>\n",
       "      <th>1</th>\n",
       "      <td>7</td>\n",
       "      <td>mon</td>\n",
       "      <td>0</td>\n",
       "      <td>0</td>\n",
       "      <td>o</td>\n",
       "      <td>-8.574678</td>\n",
       "      <td>41.151951</td>\n",
       "      <td>-8.607996</td>\n",
       "      <td>41.142915</td>\n",
       "      <td>645</td>\n",
       "      <td>10.114430</td>\n",
       "      <td>area_64</td>\n",
       "      <td>NE</td>\n",
       "    </tr>\n",
       "    <tr>\n",
       "      <th>2</th>\n",
       "      <td>7</td>\n",
       "      <td>mon</td>\n",
       "      <td>0</td>\n",
       "      <td>0</td>\n",
       "      <td>o</td>\n",
       "      <td>-8.618643</td>\n",
       "      <td>41.141412</td>\n",
       "      <td>-8.630838</td>\n",
       "      <td>41.154489</td>\n",
       "      <td>345</td>\n",
       "      <td>3.186095</td>\n",
       "      <td>area_54</td>\n",
       "      <td>NE</td>\n",
       "    </tr>\n",
       "    <tr>\n",
       "      <th>3</th>\n",
       "      <td>7</td>\n",
       "      <td>mon</td>\n",
       "      <td>0</td>\n",
       "      <td>0</td>\n",
       "      <td>o</td>\n",
       "      <td>-8.619894</td>\n",
       "      <td>41.148009</td>\n",
       "      <td>-8.609490</td>\n",
       "      <td>41.157351</td>\n",
       "      <td>330</td>\n",
       "      <td>2.549688</td>\n",
       "      <td>area_54</td>\n",
       "      <td>NE</td>\n",
       "    </tr>\n",
       "    <tr>\n",
       "      <th>4</th>\n",
       "      <td>7</td>\n",
       "      <td>mon</td>\n",
       "      <td>0</td>\n",
       "      <td>0</td>\n",
       "      <td>o</td>\n",
       "      <td>-8.617599</td>\n",
       "      <td>41.146137</td>\n",
       "      <td>-8.636625</td>\n",
       "      <td>41.169141</td>\n",
       "      <td>645</td>\n",
       "      <td>10.080812</td>\n",
       "      <td>area_54</td>\n",
       "      <td>NE</td>\n",
       "    </tr>\n",
       "  </tbody>\n",
       "</table>\n",
       "</div>"
      ],
      "text/plain": [
       "   month weekday  hour  minute holiday   start_x    start_y     end_x  \\\n",
       "0      7     mon     0       0       o -8.610291  41.140746 -8.605890   \n",
       "1      7     mon     0       0       o -8.574678  41.151951 -8.607996   \n",
       "2      7     mon     0       0       o -8.618643  41.141412 -8.630838   \n",
       "3      7     mon     0       0       o -8.619894  41.148009 -8.609490   \n",
       "4      7     mon     0       0       o -8.617599  41.146137 -8.636625   \n",
       "\n",
       "       end_y  riding_time   distance     area direction  \n",
       "0  41.145345          375   2.395003  area_54        NE  \n",
       "1  41.142915          645  10.114430  area_64        NE  \n",
       "2  41.154489          345   3.186095  area_54        NE  \n",
       "3  41.157351          330   2.549688  area_54        NE  \n",
       "4  41.169141          645  10.080812  area_54        NE  "
      ]
     },
     "execution_count": 41,
     "metadata": {},
     "output_type": "execute_result"
    }
   ],
   "source": [
    "df_call_type_c_limited.head()"
   ]
  },
  {
   "cell_type": "code",
   "execution_count": 42,
   "metadata": {
    "scrolled": true
   },
   "outputs": [
    {
     "name": "stdout",
     "output_type": "stream",
     "text": [
      "55 251004\n"
     ]
    },
    {
     "data": {
      "text/html": [
       "<div>\n",
       "<style scoped>\n",
       "    .dataframe tbody tr th:only-of-type {\n",
       "        vertical-align: middle;\n",
       "    }\n",
       "\n",
       "    .dataframe tbody tr th {\n",
       "        vertical-align: top;\n",
       "    }\n",
       "\n",
       "    .dataframe thead th {\n",
       "        text-align: right;\n",
       "    }\n",
       "</style>\n",
       "<table border=\"1\" class=\"dataframe\">\n",
       "  <thead>\n",
       "    <tr style=\"text-align: right;\">\n",
       "      <th></th>\n",
       "      <th>month</th>\n",
       "      <th>weekday</th>\n",
       "      <th>hour</th>\n",
       "      <th>minute</th>\n",
       "      <th>holiday</th>\n",
       "      <th>start_x</th>\n",
       "      <th>start_y</th>\n",
       "      <th>end_x</th>\n",
       "      <th>end_y</th>\n",
       "      <th>riding_time</th>\n",
       "      <th>distance</th>\n",
       "      <th>area</th>\n",
       "      <th>direction</th>\n",
       "    </tr>\n",
       "  </thead>\n",
       "  <tbody>\n",
       "    <tr>\n",
       "      <th>3721</th>\n",
       "      <td>7</td>\n",
       "      <td>mon</td>\n",
       "      <td>17</td>\n",
       "      <td>30</td>\n",
       "      <td>o</td>\n",
       "      <td>-8.629047</td>\n",
       "      <td>41.169843</td>\n",
       "      <td>-8.629047</td>\n",
       "      <td>41.169843</td>\n",
       "      <td>30</td>\n",
       "      <td>0.0</td>\n",
       "      <td>area_55</td>\n",
       "      <td>EQ</td>\n",
       "    </tr>\n",
       "    <tr>\n",
       "      <th>3978</th>\n",
       "      <td>7</td>\n",
       "      <td>mon</td>\n",
       "      <td>19</td>\n",
       "      <td>0</td>\n",
       "      <td>o</td>\n",
       "      <td>-8.624583</td>\n",
       "      <td>41.136984</td>\n",
       "      <td>-8.624583</td>\n",
       "      <td>41.136984</td>\n",
       "      <td>30</td>\n",
       "      <td>0.0</td>\n",
       "      <td>area_54</td>\n",
       "      <td>EQ</td>\n",
       "    </tr>\n",
       "    <tr>\n",
       "      <th>21043</th>\n",
       "      <td>7</td>\n",
       "      <td>fri</td>\n",
       "      <td>11</td>\n",
       "      <td>0</td>\n",
       "      <td>o</td>\n",
       "      <td>-8.636085</td>\n",
       "      <td>41.164254</td>\n",
       "      <td>-8.636085</td>\n",
       "      <td>41.164254</td>\n",
       "      <td>30</td>\n",
       "      <td>0.0</td>\n",
       "      <td>area_45</td>\n",
       "      <td>EQ</td>\n",
       "    </tr>\n",
       "    <tr>\n",
       "      <th>42945</th>\n",
       "      <td>7</td>\n",
       "      <td>tue</td>\n",
       "      <td>19</td>\n",
       "      <td>30</td>\n",
       "      <td>o</td>\n",
       "      <td>-8.585955</td>\n",
       "      <td>41.148477</td>\n",
       "      <td>-8.585955</td>\n",
       "      <td>41.148477</td>\n",
       "      <td>45</td>\n",
       "      <td>0.0</td>\n",
       "      <td>area_64</td>\n",
       "      <td>EQ</td>\n",
       "    </tr>\n",
       "    <tr>\n",
       "      <th>51654</th>\n",
       "      <td>7</td>\n",
       "      <td>thu</td>\n",
       "      <td>15</td>\n",
       "      <td>30</td>\n",
       "      <td>o</td>\n",
       "      <td>-8.689293</td>\n",
       "      <td>41.168205</td>\n",
       "      <td>-8.689293</td>\n",
       "      <td>41.168205</td>\n",
       "      <td>30</td>\n",
       "      <td>0.0</td>\n",
       "      <td>area_35</td>\n",
       "      <td>EQ</td>\n",
       "    </tr>\n",
       "  </tbody>\n",
       "</table>\n",
       "</div>"
      ],
      "text/plain": [
       "       month weekday  hour  minute holiday   start_x    start_y     end_x  \\\n",
       "3721       7     mon    17      30       o -8.629047  41.169843 -8.629047   \n",
       "3978       7     mon    19       0       o -8.624583  41.136984 -8.624583   \n",
       "21043      7     fri    11       0       o -8.636085  41.164254 -8.636085   \n",
       "42945      7     tue    19      30       o -8.585955  41.148477 -8.585955   \n",
       "51654      7     thu    15      30       o -8.689293  41.168205 -8.689293   \n",
       "\n",
       "           end_y  riding_time  distance     area direction  \n",
       "3721   41.169843           30       0.0  area_55        EQ  \n",
       "3978   41.136984           30       0.0  area_54        EQ  \n",
       "21043  41.164254           30       0.0  area_45        EQ  \n",
       "42945  41.148477           45       0.0  area_64        EQ  \n",
       "51654  41.168205           30       0.0  area_35        EQ  "
      ]
     },
     "execution_count": 42,
     "metadata": {},
     "output_type": "execute_result"
    }
   ],
   "source": [
    "print(\n",
    "    df_call_type_c_limited.query('direction == \"EQ\" and area == \"area_54\"').shape[0],\n",
    "    df_call_type_c_limited.query('area == \"area_54\"').shape[0])\n",
    "\n",
    "# 乗降ポイントが同じ乗車履歴が UN になっている\n",
    "df_call_type_c_limited[df_call_type_c_limited[\"direction\"] == \"EQ\"].head()"
   ]
  },
  {
   "cell_type": "markdown",
   "metadata": {},
   "source": [
    "## AREA_54をスペクトラルクラスタリング"
   ]
  },
  {
   "cell_type": "markdown",
   "metadata": {},
   "source": [
    "### AREA_54のデータを抽出\n",
    "\n",
    "- 日曜 - 04:00\n",
    "- 水曜 - 15:00\n",
    "- 金曜 - 22:00\n",
    "\n",
    "と思ったが、サンプル数が少ないので\n",
    "- 土・日曜 - 04:00\n",
    "- 平日 - 15:00\n",
    "- 平日 - 22:00\n",
    "\n",
    "でクラスタリング"
   ]
  },
  {
   "cell_type": "code",
   "execution_count": 43,
   "metadata": {
    "scrolled": true
   },
   "outputs": [
    {
     "data": {
      "text/html": [
       "<div>\n",
       "<style scoped>\n",
       "    .dataframe tbody tr th:only-of-type {\n",
       "        vertical-align: middle;\n",
       "    }\n",
       "\n",
       "    .dataframe tbody tr th {\n",
       "        vertical-align: top;\n",
       "    }\n",
       "\n",
       "    .dataframe thead th {\n",
       "        text-align: right;\n",
       "    }\n",
       "</style>\n",
       "<table border=\"1\" class=\"dataframe\">\n",
       "  <thead>\n",
       "    <tr style=\"text-align: right;\">\n",
       "      <th></th>\n",
       "      <th>month</th>\n",
       "      <th>weekday</th>\n",
       "      <th>hour</th>\n",
       "      <th>minute</th>\n",
       "      <th>holiday</th>\n",
       "      <th>start_x</th>\n",
       "      <th>start_y</th>\n",
       "      <th>end_x</th>\n",
       "      <th>end_y</th>\n",
       "      <th>riding_time</th>\n",
       "      <th>distance</th>\n",
       "      <th>area</th>\n",
       "      <th>direction</th>\n",
       "    </tr>\n",
       "  </thead>\n",
       "  <tbody>\n",
       "    <tr>\n",
       "      <th>0</th>\n",
       "      <td>7</td>\n",
       "      <td>mon</td>\n",
       "      <td>0</td>\n",
       "      <td>0</td>\n",
       "      <td>o</td>\n",
       "      <td>-8.610291</td>\n",
       "      <td>41.140746</td>\n",
       "      <td>-8.605890</td>\n",
       "      <td>41.145345</td>\n",
       "      <td>375</td>\n",
       "      <td>2.395003</td>\n",
       "      <td>area_54</td>\n",
       "      <td>NE</td>\n",
       "    </tr>\n",
       "    <tr>\n",
       "      <th>1</th>\n",
       "      <td>7</td>\n",
       "      <td>mon</td>\n",
       "      <td>0</td>\n",
       "      <td>0</td>\n",
       "      <td>o</td>\n",
       "      <td>-8.618643</td>\n",
       "      <td>41.141412</td>\n",
       "      <td>-8.630838</td>\n",
       "      <td>41.154489</td>\n",
       "      <td>345</td>\n",
       "      <td>3.186095</td>\n",
       "      <td>area_54</td>\n",
       "      <td>NE</td>\n",
       "    </tr>\n",
       "    <tr>\n",
       "      <th>2</th>\n",
       "      <td>7</td>\n",
       "      <td>mon</td>\n",
       "      <td>0</td>\n",
       "      <td>0</td>\n",
       "      <td>o</td>\n",
       "      <td>-8.619894</td>\n",
       "      <td>41.148009</td>\n",
       "      <td>-8.609490</td>\n",
       "      <td>41.157351</td>\n",
       "      <td>330</td>\n",
       "      <td>2.549688</td>\n",
       "      <td>area_54</td>\n",
       "      <td>NE</td>\n",
       "    </tr>\n",
       "    <tr>\n",
       "      <th>3</th>\n",
       "      <td>7</td>\n",
       "      <td>mon</td>\n",
       "      <td>0</td>\n",
       "      <td>0</td>\n",
       "      <td>o</td>\n",
       "      <td>-8.617599</td>\n",
       "      <td>41.146137</td>\n",
       "      <td>-8.636625</td>\n",
       "      <td>41.169141</td>\n",
       "      <td>645</td>\n",
       "      <td>10.080812</td>\n",
       "      <td>area_54</td>\n",
       "      <td>NE</td>\n",
       "    </tr>\n",
       "    <tr>\n",
       "      <th>4</th>\n",
       "      <td>7</td>\n",
       "      <td>mon</td>\n",
       "      <td>0</td>\n",
       "      <td>0</td>\n",
       "      <td>o</td>\n",
       "      <td>-8.612964</td>\n",
       "      <td>41.140359</td>\n",
       "      <td>-8.615970</td>\n",
       "      <td>41.140530</td>\n",
       "      <td>975</td>\n",
       "      <td>22.403604</td>\n",
       "      <td>area_54</td>\n",
       "      <td>NE</td>\n",
       "    </tr>\n",
       "  </tbody>\n",
       "</table>\n",
       "</div>"
      ],
      "text/plain": [
       "   month weekday  hour  minute holiday   start_x    start_y     end_x  \\\n",
       "0      7     mon     0       0       o -8.610291  41.140746 -8.605890   \n",
       "1      7     mon     0       0       o -8.618643  41.141412 -8.630838   \n",
       "2      7     mon     0       0       o -8.619894  41.148009 -8.609490   \n",
       "3      7     mon     0       0       o -8.617599  41.146137 -8.636625   \n",
       "4      7     mon     0       0       o -8.612964  41.140359 -8.615970   \n",
       "\n",
       "       end_y  riding_time   distance     area direction  \n",
       "0  41.145345          375   2.395003  area_54        NE  \n",
       "1  41.154489          345   3.186095  area_54        NE  \n",
       "2  41.157351          330   2.549688  area_54        NE  \n",
       "3  41.169141          645  10.080812  area_54        NE  \n",
       "4  41.140530          975  22.403604  area_54        NE  "
      ]
     },
     "execution_count": 43,
     "metadata": {},
     "output_type": "execute_result"
    }
   ],
   "source": [
    "area_54_df = df_call_type_c_limited.query('area == \"area_54\"')\n",
    "\n",
    "area_54_df.reset_index(drop=True, inplace=True)\n",
    "\n",
    "area_54_df.head()"
   ]
  },
  {
   "cell_type": "markdown",
   "metadata": {},
   "source": [
    "area_54 = [(-8.6291, -8.5891), (41.1179, 41.1579]  "
   ]
  },
  {
   "cell_type": "markdown",
   "metadata": {},
   "source": [
    "### クラスタリング"
   ]
  },
  {
   "cell_type": "markdown",
   "metadata": {},
   "source": [
    "#### 土・日曜 - 04:00"
   ]
  },
  {
   "cell_type": "code",
   "execution_count": 117,
   "metadata": {
    "scrolled": true
   },
   "outputs": [
    {
     "data": {
      "text/plain": [
       "(55431, 13)"
      ]
     },
     "execution_count": 117,
     "metadata": {},
     "output_type": "execute_result"
    }
   ],
   "source": [
    "area_54_categ_1 = area_54_df.query(\n",
    "    \"weekday in ['sun', 'sat'] and 3 <= hour <= 6\")\n",
    "\n",
    "area_54_categ_1.reset_index(drop=True, inplace=True)\n",
    "\n",
    "area_54_categ_1.shape"
   ]
  },
  {
   "cell_type": "code",
   "execution_count": 118,
   "metadata": {
    "scrolled": true
   },
   "outputs": [
    {
     "data": {
      "image/png": "[encoded data removed]",
      "text/plain": [
       "<matplotlib.figure.Figure at 0x1a596b6f28>"
      ]
     },
     "metadata": {},
     "output_type": "display_data"
    }
   ],
   "source": [
    "# area_54のarea_54_categ_1の分布\n",
    "plt.scatter(area_54_categ_1[\"end_x\"], area_54_categ_1[\"end_y\"], color ='r')\n",
    "plt.scatter(area_54_categ_1[\"start_x\"], area_54_categ_1[\"start_y\"])\n",
    "plt.title(\"Start - End Point\")\n",
    "plt.xlabel(\"long\")\n",
    "plt.ylabel(\"lat\")\n",
    "plt.grid()"
   ]
  },
  {
   "cell_type": "markdown",
   "metadata": {},
   "source": [
    "## SpectralClusteringだとkernelが死ぬので、代わりにDBSCAN"
   ]
  },
  {
   "cell_type": "code",
   "execution_count": 194,
   "metadata": {},
   "outputs": [
    {
     "data": {
      "text/html": [
       "<div>\n",
       "<style scoped>\n",
       "    .dataframe tbody tr th:only-of-type {\n",
       "        vertical-align: middle;\n",
       "    }\n",
       "\n",
       "    .dataframe tbody tr th {\n",
       "        vertical-align: top;\n",
       "    }\n",
       "\n",
       "    .dataframe thead th {\n",
       "        text-align: right;\n",
       "    }\n",
       "</style>\n",
       "<table border=\"1\" class=\"dataframe\">\n",
       "  <thead>\n",
       "    <tr style=\"text-align: right;\">\n",
       "      <th></th>\n",
       "      <th>month</th>\n",
       "      <th>hour</th>\n",
       "      <th>minute</th>\n",
       "      <th>start_x</th>\n",
       "      <th>start_y</th>\n",
       "      <th>end_x</th>\n",
       "      <th>end_y</th>\n",
       "      <th>riding_time</th>\n",
       "      <th>distance</th>\n",
       "      <th>weekday_sat</th>\n",
       "      <th>weekday_sun</th>\n",
       "      <th>holiday_h</th>\n",
       "      <th>holiday_o</th>\n",
       "      <th>area_area_54</th>\n",
       "      <th>direction_E</th>\n",
       "      <th>direction_EQ</th>\n",
       "      <th>direction_NE</th>\n",
       "    </tr>\n",
       "  </thead>\n",
       "  <tbody>\n",
       "    <tr>\n",
       "      <th>0</th>\n",
       "      <td>7</td>\n",
       "      <td>3</td>\n",
       "      <td>0</td>\n",
       "      <td>-8.614116</td>\n",
       "      <td>41.146227</td>\n",
       "      <td>-8.640198</td>\n",
       "      <td>41.083920</td>\n",
       "      <td>720</td>\n",
       "      <td>13.256451</td>\n",
       "      <td>1</td>\n",
       "      <td>0</td>\n",
       "      <td>0</td>\n",
       "      <td>1</td>\n",
       "      <td>1</td>\n",
       "      <td>0</td>\n",
       "      <td>0</td>\n",
       "      <td>1</td>\n",
       "    </tr>\n",
       "    <tr>\n",
       "      <th>1</th>\n",
       "      <td>7</td>\n",
       "      <td>3</td>\n",
       "      <td>0</td>\n",
       "      <td>-8.612244</td>\n",
       "      <td>41.147946</td>\n",
       "      <td>-8.598123</td>\n",
       "      <td>41.165136</td>\n",
       "      <td>735</td>\n",
       "      <td>3.275915</td>\n",
       "      <td>1</td>\n",
       "      <td>0</td>\n",
       "      <td>0</td>\n",
       "      <td>1</td>\n",
       "      <td>1</td>\n",
       "      <td>0</td>\n",
       "      <td>0</td>\n",
       "      <td>1</td>\n",
       "    </tr>\n",
       "    <tr>\n",
       "      <th>2</th>\n",
       "      <td>7</td>\n",
       "      <td>3</td>\n",
       "      <td>0</td>\n",
       "      <td>-8.612244</td>\n",
       "      <td>41.148027</td>\n",
       "      <td>-8.602605</td>\n",
       "      <td>41.155641</td>\n",
       "      <td>585</td>\n",
       "      <td>3.357506</td>\n",
       "      <td>1</td>\n",
       "      <td>0</td>\n",
       "      <td>0</td>\n",
       "      <td>1</td>\n",
       "      <td>1</td>\n",
       "      <td>0</td>\n",
       "      <td>0</td>\n",
       "      <td>1</td>\n",
       "    </tr>\n",
       "    <tr>\n",
       "      <th>3</th>\n",
       "      <td>7</td>\n",
       "      <td>3</td>\n",
       "      <td>0</td>\n",
       "      <td>-8.616231</td>\n",
       "      <td>41.147127</td>\n",
       "      <td>-8.648856</td>\n",
       "      <td>41.165244</td>\n",
       "      <td>615</td>\n",
       "      <td>5.757742</td>\n",
       "      <td>1</td>\n",
       "      <td>0</td>\n",
       "      <td>0</td>\n",
       "      <td>1</td>\n",
       "      <td>1</td>\n",
       "      <td>0</td>\n",
       "      <td>0</td>\n",
       "      <td>1</td>\n",
       "    </tr>\n",
       "    <tr>\n",
       "      <th>4</th>\n",
       "      <td>7</td>\n",
       "      <td>3</td>\n",
       "      <td>0</td>\n",
       "      <td>-8.627112</td>\n",
       "      <td>41.152023</td>\n",
       "      <td>-8.604099</td>\n",
       "      <td>41.149323</td>\n",
       "      <td>510</td>\n",
       "      <td>3.423744</td>\n",
       "      <td>1</td>\n",
       "      <td>0</td>\n",
       "      <td>0</td>\n",
       "      <td>1</td>\n",
       "      <td>1</td>\n",
       "      <td>1</td>\n",
       "      <td>0</td>\n",
       "      <td>0</td>\n",
       "    </tr>\n",
       "  </tbody>\n",
       "</table>\n",
       "</div>"
      ],
      "text/plain": [
       "   month  hour  minute   start_x    start_y     end_x      end_y  riding_time  \\\n",
       "0      7     3       0 -8.614116  41.146227 -8.640198  41.083920          720   \n",
       "1      7     3       0 -8.612244  41.147946 -8.598123  41.165136          735   \n",
       "2      7     3       0 -8.612244  41.148027 -8.602605  41.155641          585   \n",
       "3      7     3       0 -8.616231  41.147127 -8.648856  41.165244          615   \n",
       "4      7     3       0 -8.627112  41.152023 -8.604099  41.149323          510   \n",
       "\n",
       "    distance  weekday_sat  weekday_sun  holiday_h  holiday_o  area_area_54  \\\n",
       "0  13.256451            1            0          0          1             1   \n",
       "1   3.275915            1            0          0          1             1   \n",
       "2   3.357506            1            0          0          1             1   \n",
       "3   5.757742            1            0          0          1             1   \n",
       "4   3.423744            1            0          0          1             1   \n",
       "\n",
       "   direction_E  direction_EQ  direction_NE  \n",
       "0            0             0             1  \n",
       "1            0             0             1  \n",
       "2            0             0             1  \n",
       "3            0             0             1  \n",
       "4            1             0             0  "
      ]
     },
     "execution_count": 194,
     "metadata": {},
     "output_type": "execute_result"
    }
   ],
   "source": [
    "area_54_dummy_categ_1 = pd.get_dummies(area_54_categ_1)\n",
    "area_54_dummy_categ_1.head()"
   ]
  },
  {
   "cell_type": "code",
   "execution_count": 195,
   "metadata": {},
   "outputs": [],
   "source": [
    "# 要らない列を削除\n",
    "area_54_dummy_categ_1.drop([\n",
    "    \"month\", \"hour\", \"minute\", \"weekday_sat\", \"weekday_sun\", \"holiday_h\",\n",
    "    \"holiday_o\", \"area_area_54\", \"direction_E\", \"direction_EQ\", \"direction_NE\"\n",
    "],\n",
    "                           axis=1,\n",
    "                           inplace=True)"
   ]
  },
  {
   "cell_type": "code",
   "execution_count": 196,
   "metadata": {},
   "outputs": [
    {
     "data": {
      "text/html": [
       "<div>\n",
       "<style scoped>\n",
       "    .dataframe tbody tr th:only-of-type {\n",
       "        vertical-align: middle;\n",
       "    }\n",
       "\n",
       "    .dataframe tbody tr th {\n",
       "        vertical-align: top;\n",
       "    }\n",
       "\n",
       "    .dataframe thead th {\n",
       "        text-align: right;\n",
       "    }\n",
       "</style>\n",
       "<table border=\"1\" class=\"dataframe\">\n",
       "  <thead>\n",
       "    <tr style=\"text-align: right;\">\n",
       "      <th></th>\n",
       "      <th>start_x</th>\n",
       "      <th>start_y</th>\n",
       "      <th>end_x</th>\n",
       "      <th>end_y</th>\n",
       "      <th>riding_time</th>\n",
       "      <th>distance</th>\n",
       "    </tr>\n",
       "  </thead>\n",
       "  <tbody>\n",
       "    <tr>\n",
       "      <th>count</th>\n",
       "      <td>5.543100e+04</td>\n",
       "      <td>5.543100e+04</td>\n",
       "      <td>5.543100e+04</td>\n",
       "      <td>5.543100e+04</td>\n",
       "      <td>5.543100e+04</td>\n",
       "      <td>5.543100e+04</td>\n",
       "    </tr>\n",
       "    <tr>\n",
       "      <th>mean</th>\n",
       "      <td>-1.192882e-13</td>\n",
       "      <td>-1.219558e-12</td>\n",
       "      <td>-7.270478e-15</td>\n",
       "      <td>3.225810e-14</td>\n",
       "      <td>1.148398e-16</td>\n",
       "      <td>7.339998e-17</td>\n",
       "    </tr>\n",
       "    <tr>\n",
       "      <th>std</th>\n",
       "      <td>1.000009e+00</td>\n",
       "      <td>1.000009e+00</td>\n",
       "      <td>1.000009e+00</td>\n",
       "      <td>1.000009e+00</td>\n",
       "      <td>1.000009e+00</td>\n",
       "      <td>1.000009e+00</td>\n",
       "    </tr>\n",
       "    <tr>\n",
       "      <th>min</th>\n",
       "      <td>-3.544924e+00</td>\n",
       "      <td>-8.206327e+00</td>\n",
       "      <td>-4.576827e+00</td>\n",
       "      <td>-1.953710e+01</td>\n",
       "      <td>-1.606305e+00</td>\n",
       "      <td>-1.242171e+00</td>\n",
       "    </tr>\n",
       "    <tr>\n",
       "      <th>25%</th>\n",
       "      <td>-5.773101e-01</td>\n",
       "      <td>-4.398247e-01</td>\n",
       "      <td>-7.218428e-01</td>\n",
       "      <td>-4.341501e-01</td>\n",
       "      <td>-6.523595e-01</td>\n",
       "      <td>-6.841356e-01</td>\n",
       "    </tr>\n",
       "    <tr>\n",
       "      <th>50%</th>\n",
       "      <td>-2.946803e-01</td>\n",
       "      <td>-2.687026e-01</td>\n",
       "      <td>1.467230e-01</td>\n",
       "      <td>-1.158742e-01</td>\n",
       "      <td>-1.753867e-01</td>\n",
       "      <td>-2.809071e-01</td>\n",
       "    </tr>\n",
       "    <tr>\n",
       "      <th>75%</th>\n",
       "      <td>5.797060e-01</td>\n",
       "      <td>-2.179772e-02</td>\n",
       "      <td>6.954827e-01</td>\n",
       "      <td>3.708113e-01</td>\n",
       "      <td>4.208294e-01</td>\n",
       "      <td>3.777175e-01</td>\n",
       "    </tr>\n",
       "    <tr>\n",
       "      <th>max</th>\n",
       "      <td>4.301588e+00</td>\n",
       "      <td>2.596372e+00</td>\n",
       "      <td>2.548338e+01</td>\n",
       "      <td>1.439231e+01</td>\n",
       "      <td>1.584295e+01</td>\n",
       "      <td>2.142139e+01</td>\n",
       "    </tr>\n",
       "  </tbody>\n",
       "</table>\n",
       "</div>"
      ],
      "text/plain": [
       "            start_x       start_y         end_x         end_y   riding_time  \\\n",
       "count  5.543100e+04  5.543100e+04  5.543100e+04  5.543100e+04  5.543100e+04   \n",
       "mean  -1.192882e-13 -1.219558e-12 -7.270478e-15  3.225810e-14  1.148398e-16   \n",
       "std    1.000009e+00  1.000009e+00  1.000009e+00  1.000009e+00  1.000009e+00   \n",
       "min   -3.544924e+00 -8.206327e+00 -4.576827e+00 -1.953710e+01 -1.606305e+00   \n",
       "25%   -5.773101e-01 -4.398247e-01 -7.218428e-01 -4.341501e-01 -6.523595e-01   \n",
       "50%   -2.946803e-01 -2.687026e-01  1.467230e-01 -1.158742e-01 -1.753867e-01   \n",
       "75%    5.797060e-01 -2.179772e-02  6.954827e-01  3.708113e-01  4.208294e-01   \n",
       "max    4.301588e+00  2.596372e+00  2.548338e+01  1.439231e+01  1.584295e+01   \n",
       "\n",
       "           distance  \n",
       "count  5.543100e+04  \n",
       "mean   7.339998e-17  \n",
       "std    1.000009e+00  \n",
       "min   -1.242171e+00  \n",
       "25%   -6.841356e-01  \n",
       "50%   -2.809071e-01  \n",
       "75%    3.777175e-01  \n",
       "max    2.142139e+01  "
      ]
     },
     "execution_count": 196,
     "metadata": {},
     "output_type": "execute_result"
    }
   ],
   "source": [
    "from sklearn.preprocessing import StandardScaler\n",
    "\n",
    "scaler = StandardScaler()\n",
    "area_54_dummy_categ_1 = scaler.fit_transform(area_54_dummy_categ_1)\n",
    "\n",
    "pd.DataFrame(\n",
    "    area_54_dummy_categ_1,\n",
    "    columns=[\n",
    "        \"start_x\", \"start_y\", \"end_x\", \"end_y\", \"riding_time\", \"distance\"\n",
    "    ]).describe()"
   ]
  },
  {
   "cell_type": "code",
   "execution_count": 197,
   "metadata": {},
   "outputs": [],
   "source": [
    "from sklearn.cluster import DBSCAN\n",
    "\n",
    "# dbscan = DBSCAN(eps=0.5, min_samples=5)\n",
    "dbscan = DBSCAN(eps=0.7, min_samples=100)\n",
    "\n",
    "dbscan_cluster =dbscan.fit_predict(area_54_dummy_categ_1)"
   ]
  },
  {
   "cell_type": "code",
   "execution_count": 186,
   "metadata": {},
   "outputs": [
    {
     "data": {
      "text/plain": [
       "DBSCAN(algorithm='auto', eps=0.7, leaf_size=30, metric='euclidean',\n",
       "    metric_params=None, min_samples=100, n_jobs=None, p=None)"
      ]
     },
     "execution_count": 186,
     "metadata": {},
     "output_type": "execute_result"
    }
   ],
   "source": [
    "dbscan"
   ]
  },
  {
   "cell_type": "code",
   "execution_count": 198,
   "metadata": {
    "scrolled": true
   },
   "outputs": [
    {
     "data": {
      "text/plain": [
       "(55431, array([-1,  0,  1,  2]))"
      ]
     },
     "execution_count": 198,
     "metadata": {},
     "output_type": "execute_result"
    }
   ],
   "source": [
    "area_54_categ_1.shape[0],np.unique(dbscan_cluster)"
   ]
  },
  {
   "cell_type": "code",
   "execution_count": 188,
   "metadata": {},
   "outputs": [
    {
     "data": {
      "text/plain": [
       "3164"
      ]
     },
     "execution_count": 188,
     "metadata": {},
     "output_type": "execute_result"
    }
   ],
   "source": [
    "len(np.where(dbscan_cluster==-1)[0])"
   ]
  },
  {
   "cell_type": "code",
   "execution_count": 199,
   "metadata": {},
   "outputs": [
    {
     "data": {
      "text/plain": [
       "(45489, 816)"
      ]
     },
     "execution_count": 199,
     "metadata": {},
     "output_type": "execute_result"
    }
   ],
   "source": [
    "# len(np.where(dbscan_cluster==0)[0]),len(np.where(dbscan_cluster==1)[0]),len(np.where(dbscan_cluster==2)[0]),\n",
    "len(np.where(dbscan_cluster==0)[0]),len(np.where(dbscan_cluster==1)[0])\n"
   ]
  },
  {
   "cell_type": "code",
   "execution_count": 162,
   "metadata": {},
   "outputs": [
    {
     "data": {
      "text/plain": [
       "(array([    0,     4,    10, ..., 55423, 55424, 55426]),)"
      ]
     },
     "execution_count": 162,
     "metadata": {},
     "output_type": "execute_result"
    }
   ],
   "source": [
    "idx_cls_e = np.where(dbscan_cluster == -1)\n",
    "idx_cls_e"
   ]
  },
  {
   "cell_type": "code",
   "execution_count": 163,
   "metadata": {},
   "outputs": [
    {
     "data": {
      "text/plain": [
       "month                7\n",
       "weekday            sat\n",
       "hour                 3\n",
       "minute               0\n",
       "holiday              o\n",
       "start_x       -8.61412\n",
       "start_y        41.1462\n",
       "end_x          -8.6402\n",
       "end_y          41.0839\n",
       "riding_time        720\n",
       "distance       13.2565\n",
       "area           area_54\n",
       "direction           NE\n",
       "Name: 0, dtype: object"
      ]
     },
     "execution_count": 163,
     "metadata": {},
     "output_type": "execute_result"
    }
   ],
   "source": [
    "area_54_categ_1.iloc[0]"
   ]
  },
  {
   "cell_type": "code",
   "execution_count": 190,
   "metadata": {},
   "outputs": [],
   "source": [
    "# クラスター -1 に属するインデックス番号を取得\n",
    "idx_cls_e = np.where(dbscan_cluster == -1)\n",
    "area_54_categ_1_e = area_54_categ_1.iloc[idx_cls_e[0]]\n",
    "\n",
    "# クラスター 0 に属するインデックス番号を取得\n",
    "idx_cls_0 = np.where(dbscan_cluster == 0)\n",
    "area_54_categ_1_0 = area_54_categ_1.iloc[idx_cls_0[0]]\n",
    "\n",
    "# クラスター 1 に属するインデックス番号を取得\n",
    "idx_cls_1 = np.where(dbscan_cluster == 1)\n",
    "area_54_categ_1_1 = area_54_categ_1.iloc[idx_cls_1[0]]\n",
    "\n",
    "# # クラスター 2 に属するインデックス番号を取得\n",
    "# idx_cls_2 = np.where(dbscan_cluster == 2)\n",
    "# area_54_categ_1_2 = area_54_categ_1.iloc[idx_cls_2[0]]"
   ]
  },
  {
   "cell_type": "code",
   "execution_count": 191,
   "metadata": {
    "scrolled": true
   },
   "outputs": [
    {
     "data": {
      "text/html": [
       "<div>\n",
       "<style scoped>\n",
       "    .dataframe tbody tr th:only-of-type {\n",
       "        vertical-align: middle;\n",
       "    }\n",
       "\n",
       "    .dataframe tbody tr th {\n",
       "        vertical-align: top;\n",
       "    }\n",
       "\n",
       "    .dataframe thead th {\n",
       "        text-align: right;\n",
       "    }\n",
       "</style>\n",
       "<table border=\"1\" class=\"dataframe\">\n",
       "  <thead>\n",
       "    <tr style=\"text-align: right;\">\n",
       "      <th></th>\n",
       "      <th>month</th>\n",
       "      <th>hour</th>\n",
       "      <th>minute</th>\n",
       "      <th>start_x</th>\n",
       "      <th>start_y</th>\n",
       "      <th>end_x</th>\n",
       "      <th>end_y</th>\n",
       "      <th>riding_time</th>\n",
       "      <th>distance</th>\n",
       "    </tr>\n",
       "  </thead>\n",
       "  <tbody>\n",
       "    <tr>\n",
       "      <th>count</th>\n",
       "      <td>3164.000000</td>\n",
       "      <td>3164.000000</td>\n",
       "      <td>3164.000000</td>\n",
       "      <td>3164.000000</td>\n",
       "      <td>3164.000000</td>\n",
       "      <td>3164.000000</td>\n",
       "      <td>3164.000000</td>\n",
       "      <td>3164.000000</td>\n",
       "      <td>3164.000000</td>\n",
       "    </tr>\n",
       "    <tr>\n",
       "      <th>mean</th>\n",
       "      <td>6.627054</td>\n",
       "      <td>4.365676</td>\n",
       "      <td>22.424147</td>\n",
       "      <td>-8.610299</td>\n",
       "      <td>41.146919</td>\n",
       "      <td>-8.629672</td>\n",
       "      <td>41.180406</td>\n",
       "      <td>1197.890329</td>\n",
       "      <td>14.954471</td>\n",
       "    </tr>\n",
       "    <tr>\n",
       "      <th>std</th>\n",
       "      <td>3.340320</td>\n",
       "      <td>1.057008</td>\n",
       "      <td>16.979529</td>\n",
       "      <td>0.010088</td>\n",
       "      <td>0.007726</td>\n",
       "      <td>0.052399</td>\n",
       "      <td>0.061539</td>\n",
       "      <td>826.766629</td>\n",
       "      <td>11.343374</td>\n",
       "    </tr>\n",
       "    <tr>\n",
       "      <th>min</th>\n",
       "      <td>1.000000</td>\n",
       "      <td>3.000000</td>\n",
       "      <td>0.000000</td>\n",
       "      <td>-8.629092</td>\n",
       "      <td>41.118120</td>\n",
       "      <td>-8.785332</td>\n",
       "      <td>40.642254</td>\n",
       "      <td>30.000000</td>\n",
       "      <td>0.000998</td>\n",
       "    </tr>\n",
       "    <tr>\n",
       "      <th>25%</th>\n",
       "      <td>4.000000</td>\n",
       "      <td>3.000000</td>\n",
       "      <td>0.000000</td>\n",
       "      <td>-8.618198</td>\n",
       "      <td>41.142733</td>\n",
       "      <td>-8.670069</td>\n",
       "      <td>41.147793</td>\n",
       "      <td>600.000000</td>\n",
       "      <td>5.194122</td>\n",
       "    </tr>\n",
       "    <tr>\n",
       "      <th>50%</th>\n",
       "      <td>6.000000</td>\n",
       "      <td>4.000000</td>\n",
       "      <td>15.000000</td>\n",
       "      <td>-8.610867</td>\n",
       "      <td>41.147505</td>\n",
       "      <td>-8.628908</td>\n",
       "      <td>41.168309</td>\n",
       "      <td>1050.000000</td>\n",
       "      <td>14.199089</td>\n",
       "    </tr>\n",
       "    <tr>\n",
       "      <th>75%</th>\n",
       "      <td>9.000000</td>\n",
       "      <td>5.000000</td>\n",
       "      <td>45.000000</td>\n",
       "      <td>-8.602425</td>\n",
       "      <td>41.152975</td>\n",
       "      <td>-8.603892</td>\n",
       "      <td>41.236749</td>\n",
       "      <td>1695.000000</td>\n",
       "      <td>21.462795</td>\n",
       "    </tr>\n",
       "    <tr>\n",
       "      <th>max</th>\n",
       "      <td>12.000000</td>\n",
       "      <td>6.000000</td>\n",
       "      <td>45.000000</td>\n",
       "      <td>-8.589114</td>\n",
       "      <td>41.157891</td>\n",
       "      <td>-7.746075</td>\n",
       "      <td>41.547960</td>\n",
       "      <td>6615.000000</td>\n",
       "      <td>125.360381</td>\n",
       "    </tr>\n",
       "  </tbody>\n",
       "</table>\n",
       "</div>"
      ],
      "text/plain": [
       "             month         hour       minute      start_x      start_y  \\\n",
       "count  3164.000000  3164.000000  3164.000000  3164.000000  3164.000000   \n",
       "mean      6.627054     4.365676    22.424147    -8.610299    41.146919   \n",
       "std       3.340320     1.057008    16.979529     0.010088     0.007726   \n",
       "min       1.000000     3.000000     0.000000    -8.629092    41.118120   \n",
       "25%       4.000000     3.000000     0.000000    -8.618198    41.142733   \n",
       "50%       6.000000     4.000000    15.000000    -8.610867    41.147505   \n",
       "75%       9.000000     5.000000    45.000000    -8.602425    41.152975   \n",
       "max      12.000000     6.000000    45.000000    -8.589114    41.157891   \n",
       "\n",
       "             end_x        end_y  riding_time     distance  \n",
       "count  3164.000000  3164.000000  3164.000000  3164.000000  \n",
       "mean     -8.629672    41.180406  1197.890329    14.954471  \n",
       "std       0.052399     0.061539   826.766629    11.343374  \n",
       "min      -8.785332    40.642254    30.000000     0.000998  \n",
       "25%      -8.670069    41.147793   600.000000     5.194122  \n",
       "50%      -8.628908    41.168309  1050.000000    14.199089  \n",
       "75%      -8.603892    41.236749  1695.000000    21.462795  \n",
       "max      -7.746075    41.547960  6615.000000   125.360381  "
      ]
     },
     "execution_count": 191,
     "metadata": {},
     "output_type": "execute_result"
    },
    {
     "data": {
      "image/png": "[encoded data removed]",
      "text/plain": [
       "<matplotlib.figure.Figure at 0x1a4f344dd8>"
      ]
     },
     "metadata": {},
     "output_type": "display_data"
    }
   ],
   "source": [
    "# area_54のarea_54_categ_1の分布\n",
    "plt.scatter(area_54_categ_1_e[\"end_x\"], area_54_categ_1_e[\"end_y\"], color ='r')\n",
    "plt.scatter(area_54_categ_1_e[\"start_x\"], area_54_categ_1_e[\"start_y\"])\n",
    "plt.title(\"Start - End Point\")\n",
    "plt.xlabel(\"long\")\n",
    "plt.ylabel(\"lat\")\n",
    "plt.grid()\n",
    "\n",
    "area_54_categ_1_e.describe()"
   ]
  },
  {
   "cell_type": "code",
   "execution_count": 192,
   "metadata": {},
   "outputs": [
    {
     "data": {
      "text/html": [
       "<div>\n",
       "<style scoped>\n",
       "    .dataframe tbody tr th:only-of-type {\n",
       "        vertical-align: middle;\n",
       "    }\n",
       "\n",
       "    .dataframe tbody tr th {\n",
       "        vertical-align: top;\n",
       "    }\n",
       "\n",
       "    .dataframe thead th {\n",
       "        text-align: right;\n",
       "    }\n",
       "</style>\n",
       "<table border=\"1\" class=\"dataframe\">\n",
       "  <thead>\n",
       "    <tr style=\"text-align: right;\">\n",
       "      <th></th>\n",
       "      <th>month</th>\n",
       "      <th>hour</th>\n",
       "      <th>minute</th>\n",
       "      <th>start_x</th>\n",
       "      <th>start_y</th>\n",
       "      <th>end_x</th>\n",
       "      <th>end_y</th>\n",
       "      <th>riding_time</th>\n",
       "      <th>distance</th>\n",
       "    </tr>\n",
       "  </thead>\n",
       "  <tbody>\n",
       "    <tr>\n",
       "      <th>count</th>\n",
       "      <td>52008.000000</td>\n",
       "      <td>52008.000000</td>\n",
       "      <td>52008.000000</td>\n",
       "      <td>52008.000000</td>\n",
       "      <td>52008.000000</td>\n",
       "      <td>52008.000000</td>\n",
       "      <td>52008.000000</td>\n",
       "      <td>52008.000000</td>\n",
       "      <td>52008.000000</td>\n",
       "    </tr>\n",
       "    <tr>\n",
       "      <th>mean</th>\n",
       "      <td>6.564894</td>\n",
       "      <td>4.277477</td>\n",
       "      <td>21.485348</td>\n",
       "      <td>-8.610992</td>\n",
       "      <td>41.148376</td>\n",
       "      <td>-8.626973</td>\n",
       "      <td>41.162800</td>\n",
       "      <td>603.008768</td>\n",
       "      <td>6.392319</td>\n",
       "    </tr>\n",
       "    <tr>\n",
       "      <th>std</th>\n",
       "      <td>3.680615</td>\n",
       "      <td>1.044151</td>\n",
       "      <td>16.589895</td>\n",
       "      <td>0.004479</td>\n",
       "      <td>0.003214</td>\n",
       "      <td>0.033213</td>\n",
       "      <td>0.022584</td>\n",
       "      <td>299.282798</td>\n",
       "      <td>4.530112</td>\n",
       "    </tr>\n",
       "    <tr>\n",
       "      <th>min</th>\n",
       "      <td>1.000000</td>\n",
       "      <td>3.000000</td>\n",
       "      <td>0.000000</td>\n",
       "      <td>-8.629047</td>\n",
       "      <td>41.137938</td>\n",
       "      <td>-8.725644</td>\n",
       "      <td>40.985325</td>\n",
       "      <td>30.000000</td>\n",
       "      <td>0.000000</td>\n",
       "    </tr>\n",
       "    <tr>\n",
       "      <th>25%</th>\n",
       "      <td>3.000000</td>\n",
       "      <td>3.000000</td>\n",
       "      <td>0.000000</td>\n",
       "      <td>-8.613945</td>\n",
       "      <td>41.146749</td>\n",
       "      <td>-8.650251</td>\n",
       "      <td>41.152437</td>\n",
       "      <td>390.000000</td>\n",
       "      <td>3.044642</td>\n",
       "    </tr>\n",
       "    <tr>\n",
       "      <th>50%</th>\n",
       "      <td>6.000000</td>\n",
       "      <td>4.000000</td>\n",
       "      <td>15.000000</td>\n",
       "      <td>-8.612541</td>\n",
       "      <td>41.147343</td>\n",
       "      <td>-8.621640</td>\n",
       "      <td>41.160582</td>\n",
       "      <td>555.000000</td>\n",
       "      <td>5.177078</td>\n",
       "    </tr>\n",
       "    <tr>\n",
       "      <th>75%</th>\n",
       "      <td>10.000000</td>\n",
       "      <td>5.000000</td>\n",
       "      <td>30.000000</td>\n",
       "      <td>-8.608104</td>\n",
       "      <td>41.148189</td>\n",
       "      <td>-8.602965</td>\n",
       "      <td>41.172714</td>\n",
       "      <td>765.000000</td>\n",
       "      <td>8.566489</td>\n",
       "    </tr>\n",
       "    <tr>\n",
       "      <th>max</th>\n",
       "      <td>12.000000</td>\n",
       "      <td>6.000000</td>\n",
       "      <td>45.000000</td>\n",
       "      <td>-8.596368</td>\n",
       "      <td>41.157891</td>\n",
       "      <td>-8.440164</td>\n",
       "      <td>41.296023</td>\n",
       "      <td>1965.000000</td>\n",
       "      <td>27.423201</td>\n",
       "    </tr>\n",
       "  </tbody>\n",
       "</table>\n",
       "</div>"
      ],
      "text/plain": [
       "              month          hour        minute       start_x       start_y  \\\n",
       "count  52008.000000  52008.000000  52008.000000  52008.000000  52008.000000   \n",
       "mean       6.564894      4.277477     21.485348     -8.610992     41.148376   \n",
       "std        3.680615      1.044151     16.589895      0.004479      0.003214   \n",
       "min        1.000000      3.000000      0.000000     -8.629047     41.137938   \n",
       "25%        3.000000      3.000000      0.000000     -8.613945     41.146749   \n",
       "50%        6.000000      4.000000     15.000000     -8.612541     41.147343   \n",
       "75%       10.000000      5.000000     30.000000     -8.608104     41.148189   \n",
       "max       12.000000      6.000000     45.000000     -8.596368     41.157891   \n",
       "\n",
       "              end_x         end_y   riding_time      distance  \n",
       "count  52008.000000  52008.000000  52008.000000  52008.000000  \n",
       "mean      -8.626973     41.162800    603.008768      6.392319  \n",
       "std        0.033213      0.022584    299.282798      4.530112  \n",
       "min       -8.725644     40.985325     30.000000      0.000000  \n",
       "25%       -8.650251     41.152437    390.000000      3.044642  \n",
       "50%       -8.621640     41.160582    555.000000      5.177078  \n",
       "75%       -8.602965     41.172714    765.000000      8.566489  \n",
       "max       -8.440164     41.296023   1965.000000     27.423201  "
      ]
     },
     "execution_count": 192,
     "metadata": {},
     "output_type": "execute_result"
    },
    {
     "data": {
      "image/png": "[encoded data removed]",
      "text/plain": [
       "<matplotlib.figure.Figure at 0x1a4f6997b8>"
      ]
     },
     "metadata": {},
     "output_type": "display_data"
    }
   ],
   "source": [
    "# area_54のarea_54_categ_1の分布\n",
    "plt.scatter(area_54_categ_1_0[\"end_x\"], area_54_categ_1_0[\"end_y\"], color ='r')\n",
    "plt.scatter(area_54_categ_1_0[\"start_x\"], area_54_categ_1_0[\"start_y\"])\n",
    "plt.title(\"Start - End Point\")\n",
    "plt.xlabel(\"long\")\n",
    "plt.ylabel(\"lat\")\n",
    "plt.grid()\n",
    "\n",
    "area_54_categ_1_0.describe()"
   ]
  },
  {
   "cell_type": "code",
   "execution_count": 193,
   "metadata": {},
   "outputs": [
    {
     "data": {
      "text/html": [
       "<div>\n",
       "<style scoped>\n",
       "    .dataframe tbody tr th:only-of-type {\n",
       "        vertical-align: middle;\n",
       "    }\n",
       "\n",
       "    .dataframe tbody tr th {\n",
       "        vertical-align: top;\n",
       "    }\n",
       "\n",
       "    .dataframe thead th {\n",
       "        text-align: right;\n",
       "    }\n",
       "</style>\n",
       "<table border=\"1\" class=\"dataframe\">\n",
       "  <thead>\n",
       "    <tr style=\"text-align: right;\">\n",
       "      <th></th>\n",
       "      <th>month</th>\n",
       "      <th>hour</th>\n",
       "      <th>minute</th>\n",
       "      <th>start_x</th>\n",
       "      <th>start_y</th>\n",
       "      <th>end_x</th>\n",
       "      <th>end_y</th>\n",
       "      <th>riding_time</th>\n",
       "      <th>distance</th>\n",
       "    </tr>\n",
       "  </thead>\n",
       "  <tbody>\n",
       "    <tr>\n",
       "      <th>count</th>\n",
       "      <td>259.000000</td>\n",
       "      <td>259.000000</td>\n",
       "      <td>259.000000</td>\n",
       "      <td>259.000000</td>\n",
       "      <td>259.000000</td>\n",
       "      <td>259.000000</td>\n",
       "      <td>259.000000</td>\n",
       "      <td>259.000000</td>\n",
       "      <td>259.000000</td>\n",
       "    </tr>\n",
       "    <tr>\n",
       "      <th>mean</th>\n",
       "      <td>6.482625</td>\n",
       "      <td>4.204633</td>\n",
       "      <td>21.544402</td>\n",
       "      <td>-8.627651</td>\n",
       "      <td>41.156812</td>\n",
       "      <td>-8.621056</td>\n",
       "      <td>41.156193</td>\n",
       "      <td>436.679537</td>\n",
       "      <td>4.220335</td>\n",
       "    </tr>\n",
       "    <tr>\n",
       "      <th>std</th>\n",
       "      <td>3.496771</td>\n",
       "      <td>1.092885</td>\n",
       "      <td>16.853477</td>\n",
       "      <td>0.001219</td>\n",
       "      <td>0.000832</td>\n",
       "      <td>0.025614</td>\n",
       "      <td>0.014412</td>\n",
       "      <td>176.999588</td>\n",
       "      <td>2.167205</td>\n",
       "    </tr>\n",
       "    <tr>\n",
       "      <th>min</th>\n",
       "      <td>1.000000</td>\n",
       "      <td>3.000000</td>\n",
       "      <td>0.000000</td>\n",
       "      <td>-8.629056</td>\n",
       "      <td>41.153904</td>\n",
       "      <td>-8.681994</td>\n",
       "      <td>41.097267</td>\n",
       "      <td>30.000000</td>\n",
       "      <td>0.008050</td>\n",
       "    </tr>\n",
       "    <tr>\n",
       "      <th>25%</th>\n",
       "      <td>3.000000</td>\n",
       "      <td>3.000000</td>\n",
       "      <td>0.000000</td>\n",
       "      <td>-8.628273</td>\n",
       "      <td>41.156109</td>\n",
       "      <td>-8.641642</td>\n",
       "      <td>41.146425</td>\n",
       "      <td>307.500000</td>\n",
       "      <td>2.677155</td>\n",
       "    </tr>\n",
       "    <tr>\n",
       "      <th>50%</th>\n",
       "      <td>6.000000</td>\n",
       "      <td>4.000000</td>\n",
       "      <td>15.000000</td>\n",
       "      <td>-8.628093</td>\n",
       "      <td>41.157207</td>\n",
       "      <td>-8.615376</td>\n",
       "      <td>41.154759</td>\n",
       "      <td>420.000000</td>\n",
       "      <td>3.667017</td>\n",
       "    </tr>\n",
       "    <tr>\n",
       "      <th>75%</th>\n",
       "      <td>10.000000</td>\n",
       "      <td>5.000000</td>\n",
       "      <td>30.000000</td>\n",
       "      <td>-8.627517</td>\n",
       "      <td>41.157401</td>\n",
       "      <td>-8.607155</td>\n",
       "      <td>41.165181</td>\n",
       "      <td>555.000000</td>\n",
       "      <td>5.549100</td>\n",
       "    </tr>\n",
       "    <tr>\n",
       "      <th>max</th>\n",
       "      <td>12.000000</td>\n",
       "      <td>6.000000</td>\n",
       "      <td>45.000000</td>\n",
       "      <td>-8.622378</td>\n",
       "      <td>41.157855</td>\n",
       "      <td>-8.554986</td>\n",
       "      <td>41.201766</td>\n",
       "      <td>855.000000</td>\n",
       "      <td>9.916814</td>\n",
       "    </tr>\n",
       "  </tbody>\n",
       "</table>\n",
       "</div>"
      ],
      "text/plain": [
       "            month        hour      minute     start_x     start_y       end_x  \\\n",
       "count  259.000000  259.000000  259.000000  259.000000  259.000000  259.000000   \n",
       "mean     6.482625    4.204633   21.544402   -8.627651   41.156812   -8.621056   \n",
       "std      3.496771    1.092885   16.853477    0.001219    0.000832    0.025614   \n",
       "min      1.000000    3.000000    0.000000   -8.629056   41.153904   -8.681994   \n",
       "25%      3.000000    3.000000    0.000000   -8.628273   41.156109   -8.641642   \n",
       "50%      6.000000    4.000000   15.000000   -8.628093   41.157207   -8.615376   \n",
       "75%     10.000000    5.000000   30.000000   -8.627517   41.157401   -8.607155   \n",
       "max     12.000000    6.000000   45.000000   -8.622378   41.157855   -8.554986   \n",
       "\n",
       "            end_y  riding_time    distance  \n",
       "count  259.000000   259.000000  259.000000  \n",
       "mean    41.156193   436.679537    4.220335  \n",
       "std      0.014412   176.999588    2.167205  \n",
       "min     41.097267    30.000000    0.008050  \n",
       "25%     41.146425   307.500000    2.677155  \n",
       "50%     41.154759   420.000000    3.667017  \n",
       "75%     41.165181   555.000000    5.549100  \n",
       "max     41.201766   855.000000    9.916814  "
      ]
     },
     "execution_count": 193,
     "metadata": {},
     "output_type": "execute_result"
    },
    {
     "data": {
      "image/png": "[encoded data removed]",
      "text/plain": [
       "<matplotlib.figure.Figure at 0x1a50ff8780>"
      ]
     },
     "metadata": {},
     "output_type": "display_data"
    }
   ],
   "source": [
    "# area_54のarea_54_categ_1の分布\n",
    "plt.scatter(area_54_categ_1_1[\"end_x\"], area_54_categ_1_1[\"end_y\"], color ='r')\n",
    "plt.scatter(area_54_categ_1_1[\"start_x\"], area_54_categ_1_1[\"start_y\"])\n",
    "plt.title(\"Start - End Point\")\n",
    "plt.xlabel(\"long\")\n",
    "plt.ylabel(\"lat\")\n",
    "plt.grid()\n",
    "\n",
    "area_54_categ_1_1.describe()"
   ]
  },
  {
   "cell_type": "code",
   "execution_count": 171,
   "metadata": {},
   "outputs": [
    {
     "data": {
      "text/html": [
       "<div>\n",
       "<style scoped>\n",
       "    .dataframe tbody tr th:only-of-type {\n",
       "        vertical-align: middle;\n",
       "    }\n",
       "\n",
       "    .dataframe tbody tr th {\n",
       "        vertical-align: top;\n",
       "    }\n",
       "\n",
       "    .dataframe thead th {\n",
       "        text-align: right;\n",
       "    }\n",
       "</style>\n",
       "<table border=\"1\" class=\"dataframe\">\n",
       "  <thead>\n",
       "    <tr style=\"text-align: right;\">\n",
       "      <th></th>\n",
       "      <th>month</th>\n",
       "      <th>hour</th>\n",
       "      <th>minute</th>\n",
       "      <th>start_x</th>\n",
       "      <th>start_y</th>\n",
       "      <th>end_x</th>\n",
       "      <th>end_y</th>\n",
       "      <th>riding_time</th>\n",
       "      <th>distance</th>\n",
       "    </tr>\n",
       "  </thead>\n",
       "  <tbody>\n",
       "    <tr>\n",
       "      <th>count</th>\n",
       "      <td>241.000000</td>\n",
       "      <td>241.000000</td>\n",
       "      <td>241.000000</td>\n",
       "      <td>241.000000</td>\n",
       "      <td>241.000000</td>\n",
       "      <td>241.000000</td>\n",
       "      <td>241.000000</td>\n",
       "      <td>241.000000</td>\n",
       "      <td>241.000000</td>\n",
       "    </tr>\n",
       "    <tr>\n",
       "      <th>mean</th>\n",
       "      <td>6.240664</td>\n",
       "      <td>4.381743</td>\n",
       "      <td>21.535270</td>\n",
       "      <td>-8.612552</td>\n",
       "      <td>41.147259</td>\n",
       "      <td>-8.619870</td>\n",
       "      <td>41.230202</td>\n",
       "      <td>878.215768</td>\n",
       "      <td>12.985812</td>\n",
       "    </tr>\n",
       "    <tr>\n",
       "      <th>std</th>\n",
       "      <td>3.776044</td>\n",
       "      <td>1.058457</td>\n",
       "      <td>17.569143</td>\n",
       "      <td>0.001877</td>\n",
       "      <td>0.000904</td>\n",
       "      <td>0.006280</td>\n",
       "      <td>0.005185</td>\n",
       "      <td>145.989195</td>\n",
       "      <td>1.193158</td>\n",
       "    </tr>\n",
       "    <tr>\n",
       "      <th>min</th>\n",
       "      <td>1.000000</td>\n",
       "      <td>3.000000</td>\n",
       "      <td>0.000000</td>\n",
       "      <td>-8.617626</td>\n",
       "      <td>41.145363</td>\n",
       "      <td>-8.640612</td>\n",
       "      <td>41.209281</td>\n",
       "      <td>555.000000</td>\n",
       "      <td>10.249827</td>\n",
       "    </tr>\n",
       "    <tr>\n",
       "      <th>25%</th>\n",
       "      <td>3.000000</td>\n",
       "      <td>4.000000</td>\n",
       "      <td>0.000000</td>\n",
       "      <td>-8.613918</td>\n",
       "      <td>41.146578</td>\n",
       "      <td>-8.624322</td>\n",
       "      <td>41.226507</td>\n",
       "      <td>765.000000</td>\n",
       "      <td>12.207495</td>\n",
       "    </tr>\n",
       "    <tr>\n",
       "      <th>50%</th>\n",
       "      <td>5.000000</td>\n",
       "      <td>4.000000</td>\n",
       "      <td>15.000000</td>\n",
       "      <td>-8.613504</td>\n",
       "      <td>41.147172</td>\n",
       "      <td>-8.621199</td>\n",
       "      <td>41.231016</td>\n",
       "      <td>870.000000</td>\n",
       "      <td>12.711339</td>\n",
       "    </tr>\n",
       "    <tr>\n",
       "      <th>75%</th>\n",
       "      <td>10.000000</td>\n",
       "      <td>5.000000</td>\n",
       "      <td>45.000000</td>\n",
       "      <td>-8.611128</td>\n",
       "      <td>41.147811</td>\n",
       "      <td>-8.614908</td>\n",
       "      <td>41.233140</td>\n",
       "      <td>990.000000</td>\n",
       "      <td>13.537670</td>\n",
       "    </tr>\n",
       "    <tr>\n",
       "      <th>max</th>\n",
       "      <td>12.000000</td>\n",
       "      <td>6.000000</td>\n",
       "      <td>45.000000</td>\n",
       "      <td>-8.607816</td>\n",
       "      <td>41.150151</td>\n",
       "      <td>-8.599536</td>\n",
       "      <td>41.241753</td>\n",
       "      <td>1245.000000</td>\n",
       "      <td>16.899582</td>\n",
       "    </tr>\n",
       "  </tbody>\n",
       "</table>\n",
       "</div>"
      ],
      "text/plain": [
       "            month        hour      minute     start_x     start_y       end_x  \\\n",
       "count  241.000000  241.000000  241.000000  241.000000  241.000000  241.000000   \n",
       "mean     6.240664    4.381743   21.535270   -8.612552   41.147259   -8.619870   \n",
       "std      3.776044    1.058457   17.569143    0.001877    0.000904    0.006280   \n",
       "min      1.000000    3.000000    0.000000   -8.617626   41.145363   -8.640612   \n",
       "25%      3.000000    4.000000    0.000000   -8.613918   41.146578   -8.624322   \n",
       "50%      5.000000    4.000000   15.000000   -8.613504   41.147172   -8.621199   \n",
       "75%     10.000000    5.000000   45.000000   -8.611128   41.147811   -8.614908   \n",
       "max     12.000000    6.000000   45.000000   -8.607816   41.150151   -8.599536   \n",
       "\n",
       "            end_y  riding_time    distance  \n",
       "count  241.000000   241.000000  241.000000  \n",
       "mean    41.230202   878.215768   12.985812  \n",
       "std      0.005185   145.989195    1.193158  \n",
       "min     41.209281   555.000000   10.249827  \n",
       "25%     41.226507   765.000000   12.207495  \n",
       "50%     41.231016   870.000000   12.711339  \n",
       "75%     41.233140   990.000000   13.537670  \n",
       "max     41.241753  1245.000000   16.899582  "
      ]
     },
     "execution_count": 171,
     "metadata": {},
     "output_type": "execute_result"
    },
    {
     "data": {
      "image/png": "[encoded data removed]",
      "text/plain": [
       "<matplotlib.figure.Figure at 0x1a4f6872e8>"
      ]
     },
     "metadata": {},
     "output_type": "display_data"
    }
   ],
   "source": [
    "# area_54のarea_54_categ_1の分布\n",
    "plt.scatter(area_54_categ_1_2[\"end_x\"], area_54_categ_1_2[\"end_y\"], color ='r')\n",
    "plt.scatter(area_54_categ_1_2[\"start_x\"], area_54_categ_1_2[\"start_y\"])\n",
    "plt.title(\"Start - End Point\")\n",
    "plt.xlabel(\"long\")\n",
    "plt.ylabel(\"lat\")\n",
    "plt.grid()\n",
    "\n",
    "area_54_categ_1_2.describe()"
   ]
  },
  {
   "cell_type": "markdown",
   "metadata": {},
   "source": [
    "## SpectralClustering"
   ]
  },
  {
   "cell_type": "code",
   "execution_count": 217,
   "metadata": {},
   "outputs": [],
   "source": [
    "# SpectralClusteringをやるとShe kernel appears to have died. It will restart automatically.発生\n",
    "\n",
    "from sklearn import cluster\n",
    "\n",
    "# area_54_dummy_categ_1 = pd.get_dummies(area_54_categ_1)\n",
    "\n",
    "# sc=cluster.SpectralClustering(n_clusters=2, eigen_solver='arpack', affinity='rbf', gamma=10.0)\n",
    "sc=cluster.SpectralClustering(n_clusters=2, affinity=\"nearest_neighbors\")\n",
    "# sc=cluster.SpectralClustering(affinity=\"nearest_neighbors\")\n",
    "\n",
    "sc_cluster =sc.fit_predict(area_54_dummy_categ_1)\n",
    "\n",
    "# area_54_categ_1_sc =sc.fit(area_54_dummy_categ_1)"
   ]
  },
  {
   "cell_type": "code",
   "execution_count": 216,
   "metadata": {},
   "outputs": [
    {
     "data": {
      "text/plain": [
       "SpectralClustering(affinity='nearest_neighbors', assign_labels='kmeans',\n",
       "          coef0=1, degree=3, eigen_solver=None, eigen_tol=0.0, gamma=1.0,\n",
       "          kernel_params=None, n_clusters=8, n_init=10, n_jobs=None,\n",
       "          n_neighbors=10, random_state=None)"
      ]
     },
     "execution_count": 216,
     "metadata": {},
     "output_type": "execute_result"
    }
   ],
   "source": [
    "sc"
   ]
  },
  {
   "cell_type": "code",
   "execution_count": 205,
   "metadata": {},
   "outputs": [
    {
     "data": {
      "text/plain": [
       "(55431, array([0, 1, 2, 3, 4, 5, 6, 7], dtype=int32))"
      ]
     },
     "execution_count": 205,
     "metadata": {},
     "output_type": "execute_result"
    }
   ],
   "source": [
    "area_54_categ_1.shape[0],np.unique(sc_cluster)"
   ]
  },
  {
   "cell_type": "code",
   "execution_count": 206,
   "metadata": {},
   "outputs": [],
   "source": [
    "# クラスター -1 に属するインデックス番号を取得\n",
    "idx_cls_sc_0 = np.where(sc_cluster == 0)\n",
    "area_54_categ_1_sc_0 = area_54_categ_1.iloc[idx_cls_sc_0[0]]\n",
    "\n",
    "# クラスター 0 に属するインデックス番号を取得\n",
    "idx_cls_sc_1 = np.where(sc_cluster == 1)\n",
    "area_54_categ_1_sc_1 = area_54_categ_1.iloc[idx_cls_sc_1[0]]\n",
    "\n",
    "# クラスター 1 に属するインデックス番号を取得\n",
    "idx_cls_sc_2 = np.where(sc_cluster == 2)\n",
    "area_54_categ_1_sc_2 = area_54_categ_1.iloc[idx_cls_sc_2[0]]\n",
    "\n",
    "idx_cls_sc_3 = np.where(sc_cluster == 3)\n",
    "area_54_categ_1_sc_3 = area_54_categ_1.iloc[idx_cls_sc_3[0]]\n",
    "\n",
    "idx_cls_sc_4 = np.where(sc_cluster == 4)\n",
    "area_54_categ_1_sc_4 = area_54_categ_1.iloc[idx_cls_sc_4[0]]\n",
    "\n",
    "idx_cls_sc_5 = np.where(sc_cluster == 5)\n",
    "area_54_categ_1_sc_5 = area_54_categ_1.iloc[idx_cls_sc_5[0]]\n",
    "\n",
    "idx_cls_sc_6 = np.where(sc_cluster == 6)\n",
    "area_54_categ_1_sc_6 = area_54_categ_1.iloc[idx_cls_sc_6[0]]\n",
    "\n",
    "idx_cls_sc_7 = np.where(sc_cluster == 7)\n",
    "area_54_categ_1_sc_7 = area_54_categ_1.iloc[idx_cls_sc_7[0]]"
   ]
  },
  {
   "cell_type": "code",
   "execution_count": 209,
   "metadata": {},
   "outputs": [
    {
     "data": {
      "image/png": "[encoded data removed]",
      "text/plain": [
       "<matplotlib.figure.Figure at 0x1a4f34feb8>"
      ]
     },
     "metadata": {},
     "output_type": "display_data"
    }
   ],
   "source": [
    "# area_54のarea_54_categ_1の分布\n",
    "plt.scatter(area_54_categ_1_sc_0[\"end_x\"], area_54_categ_1_sc_0[\"end_y\"], color ='r')\n",
    "plt.scatter(area_54_categ_1_sc_0[\"start_x\"], area_54_categ_1_sc_0[\"start_y\"])\n",
    "plt.title(\"Start - End Point\")\n",
    "plt.xlabel(\"long\")\n",
    "plt.ylabel(\"lat\")\n",
    "plt.xlim(-8.829099999999999, -8.4291)\n",
    "plt.ylim(40.957899999999995, 41.3579)\n",
    "plt.grid()"
   ]
  },
  {
   "cell_type": "code",
   "execution_count": 210,
   "metadata": {},
   "outputs": [
    {
     "data": {
      "image/png": "[encoded data removed]",
      "text/plain": [
       "<matplotlib.figure.Figure at 0x1a4c69bcf8>"
      ]
     },
     "metadata": {},
     "output_type": "display_data"
    }
   ],
   "source": [
    "# area_54のarea_54_categ_1の分布\n",
    "plt.scatter(area_54_categ_1_sc_1[\"end_x\"], area_54_categ_1_sc_1[\"end_y\"], color ='r')\n",
    "plt.scatter(area_54_categ_1_sc_1[\"start_x\"], area_54_categ_1_sc_1[\"start_y\"])\n",
    "plt.title(\"Start - End Point\")\n",
    "plt.xlabel(\"long\")\n",
    "plt.ylabel(\"lat\")\n",
    "plt.xlim(-8.829099999999999, -8.4291)\n",
    "plt.ylim(40.957899999999995, 41.3579)\n",
    "plt.grid()"
   ]
  },
  {
   "cell_type": "code",
   "execution_count": 211,
   "metadata": {},
   "outputs": [
    {
     "data": {
      "image/png": "[encoded data removed]",
      "text/plain": [
       "<matplotlib.figure.Figure at 0x1a358fa5c0>"
      ]
     },
     "metadata": {},
     "output_type": "display_data"
    }
   ],
   "source": [
    "# area_54のarea_54_categ_1の分布\n",
    "plt.scatter(area_54_categ_1_sc_2[\"end_x\"], area_54_categ_1_sc_2[\"end_y\"], color ='r')\n",
    "plt.scatter(area_54_categ_1_sc_2[\"start_x\"], area_54_categ_1_sc_2[\"start_y\"])\n",
    "plt.title(\"Start - End Point\")\n",
    "plt.xlabel(\"long\")\n",
    "plt.ylabel(\"lat\")\n",
    "plt.xlim(-8.829099999999999, -8.4291)\n",
    "plt.ylim(40.957899999999995, 41.3579)\n",
    "plt.grid()"
   ]
  },
  {
   "cell_type": "code",
   "execution_count": 212,
   "metadata": {},
   "outputs": [
    {
     "data": {
      "image/png": "[encoded data removed]",
      "text/plain": [
       "<matplotlib.figure.Figure at 0x1a536cc7b8>"
      ]
     },
     "metadata": {},
     "output_type": "display_data"
    }
   ],
   "source": [
    "# area_54のarea_54_categ_1の分布\n",
    "plt.scatter(area_54_categ_1_sc_3[\"end_x\"], area_54_categ_1_sc_3[\"end_y\"], color ='r')\n",
    "plt.scatter(area_54_categ_1_sc_3[\"start_x\"], area_54_categ_1_sc_3[\"start_y\"])\n",
    "plt.title(\"Start - End Point\")\n",
    "plt.xlabel(\"long\")\n",
    "plt.ylabel(\"lat\")\n",
    "plt.xlim(-8.829099999999999, -8.4291)\n",
    "plt.ylim(40.957899999999995, 41.3579)\n",
    "plt.grid()"
   ]
  },
  {
   "cell_type": "code",
   "execution_count": 213,
   "metadata": {
    "scrolled": true
   },
   "outputs": [
    {
     "data": {
      "image/png": "[encoded data removed]",
      "text/plain": [
       "<matplotlib.figure.Figure at 0x1a4d8fc7f0>"
      ]
     },
     "metadata": {},
     "output_type": "display_data"
    }
   ],
   "source": [
    "# area_54のarea_54_categ_1の分布\n",
    "plt.scatter(area_54_categ_1_sc_4[\"end_x\"], area_54_categ_1_sc_4[\"end_y\"], color ='r')\n",
    "plt.scatter(area_54_categ_1_sc_4[\"start_x\"], area_54_categ_1_sc_4[\"start_y\"])\n",
    "plt.title(\"Start - End Point\")\n",
    "plt.xlabel(\"long\")\n",
    "plt.ylabel(\"lat\")\n",
    "plt.xlim(-8.829099999999999, -8.4291)\n",
    "plt.ylim(40.957899999999995, 41.3579)\n",
    "plt.grid()"
   ]
  },
  {
   "cell_type": "code",
   "execution_count": 214,
   "metadata": {},
   "outputs": [
    {
     "data": {
      "image/png": "[encoded data removed]",
      "text/plain": [
       "<matplotlib.figure.Figure at 0x1a4f20a550>"
      ]
     },
     "metadata": {},
     "output_type": "display_data"
    }
   ],
   "source": [
    "# area_54のarea_54_categ_1の分布\n",
    "plt.scatter(area_54_categ_1_sc_5[\"end_x\"], area_54_categ_1_sc_5[\"end_y\"], color ='r')\n",
    "plt.scatter(area_54_categ_1_sc_5[\"start_x\"], area_54_categ_1_sc_5[\"start_y\"])\n",
    "plt.title(\"Start - End Point\")\n",
    "plt.xlabel(\"long\")\n",
    "plt.ylabel(\"lat\")\n",
    "plt.xlim(-8.829099999999999, -8.4291)\n",
    "plt.ylim(40.957899999999995, 41.3579)\n",
    "plt.grid()"
   ]
  },
  {
   "cell_type": "code",
   "execution_count": null,
   "metadata": {},
   "outputs": [],
   "source": [
    "# area_54のarea_54_categ_1の分布\n",
    "plt.scatter(area_54_categ_1_sc_6[\"end_x\"], area_54_categ_1_sc_6[\"end_y\"], color ='r')\n",
    "plt.scatter(area_54_categ_1_sc_6[\"start_x\"], area_54_categ_1_sc_6[\"start_y\"])\n",
    "plt.title(\"Start - End Point\")\n",
    "plt.xlabel(\"long\")\n",
    "plt.ylabel(\"lat\")\n",
    "plt.xlim(-8.829099999999999, -8.4291)\n",
    "plt.ylim(40.957899999999995, 41.3579)\n",
    "plt.grid()"
   ]
  },
  {
   "cell_type": "code",
   "execution_count": 215,
   "metadata": {},
   "outputs": [
    {
     "data": {
      "image/png": "[encoded data removed]",
      "text/plain": [
       "<matplotlib.figure.Figure at 0x1a539ef0f0>"
      ]
     },
     "metadata": {},
     "output_type": "display_data"
    }
   ],
   "source": [
    "# area_54のarea_54_categ_1の分布\n",
    "plt.scatter(area_54_categ_1_sc_7[\"end_x\"], area_54_categ_1_sc_7[\"end_y\"], color ='r')\n",
    "plt.scatter(area_54_categ_1_sc_7[\"start_x\"], area_54_categ_1_sc_7[\"start_y\"])\n",
    "plt.title(\"Start - End Point\")\n",
    "plt.xlabel(\"long\")\n",
    "plt.ylabel(\"lat\")\n",
    "plt.xlim(-8.829099999999999, -8.4291)\n",
    "plt.ylim(40.957899999999995, 41.3579)\n",
    "plt.grid()"
   ]
  },
  {
   "cell_type": "code",
   "execution_count": 202,
   "metadata": {},
   "outputs": [
    {
     "ename": "AttributeError",
     "evalue": "'SpectralClustering' object has no attribute 'inertia_'",
     "output_type": "error",
     "traceback": [
      "\u001b[0;31m---------------------------------------------------------------------------\u001b[0m",
      "\u001b[0;31mAttributeError\u001b[0m                            Traceback (most recent call last)",
      "\u001b[0;32m<ipython-input-202-31c0e837f3a5>\u001b[0m in \u001b[0;36m<module>\u001b[0;34m()\u001b[0m\n\u001b[1;32m     12\u001b[0m \u001b[0;34m\u001b[0m\u001b[0m\n\u001b[1;32m     13\u001b[0m     \u001b[0;31m# SSEを格納\u001b[0m\u001b[0;34m\u001b[0m\u001b[0;34m\u001b[0m\u001b[0m\n\u001b[0;32m---> 14\u001b[0;31m     \u001b[0msum_squared_distance\u001b[0m\u001b[0;34m.\u001b[0m\u001b[0mappend\u001b[0m\u001b[0;34m(\u001b[0m\u001b[0msc\u001b[0m\u001b[0;34m.\u001b[0m\u001b[0minertia_\u001b[0m\u001b[0;34m)\u001b[0m\u001b[0;34m\u001b[0m\u001b[0m\n\u001b[0m\u001b[1;32m     15\u001b[0m \u001b[0;34m\u001b[0m\u001b[0m\n\u001b[1;32m     16\u001b[0m \u001b[0mplt\u001b[0m\u001b[0;34m.\u001b[0m\u001b[0mplot\u001b[0m\u001b[0;34m(\u001b[0m\u001b[0mrange\u001b[0m\u001b[0;34m(\u001b[0m\u001b[0;36m1\u001b[0m\u001b[0;34m,\u001b[0m \u001b[0;36m15\u001b[0m\u001b[0;34m)\u001b[0m\u001b[0;34m,\u001b[0m \u001b[0msum_squared_distance\u001b[0m\u001b[0;34m,\u001b[0m \u001b[0mmarker\u001b[0m\u001b[0;34m=\u001b[0m\u001b[0;34m'o'\u001b[0m\u001b[0;34m)\u001b[0m\u001b[0;34m\u001b[0m\u001b[0m\n",
      "\u001b[0;31mAttributeError\u001b[0m: 'SpectralClustering' object has no attribute 'inertia_'"
     ]
    }
   ],
   "source": [
    "# # 残差平方和を格納するリスト\n",
    "# sum_squared_distance = []\n",
    "\n",
    "# # 1～15クラスタまで計算\n",
    "# for i in range(1, 15):\n",
    "\n",
    "#     # n_clusters= i を 動的に変えてSSEを算出\n",
    "#     sc = cluster.SpectralClustering(n_clusters=i, affinity=\"nearest_neighbors\")\n",
    "\n",
    "#     # クラスタリングの計算を実行\n",
    "#     sc.fit(area_54_dummy_categ_1)\n",
    "\n",
    "#     # SSEを格納\n",
    "#     sum_squared_distance.append(sc.inertia_)\n",
    "\n",
    "# plt.plot(range(1, 15), sum_squared_distance, marker='o')\n",
    "# plt.title(\"Elbow Method\")\n",
    "# plt.xlabel(\"Number of Clusters\")\n",
    "# plt.ylabel(\"Sum of squared distance\")"
   ]
  },
  {
   "cell_type": "markdown",
   "metadata": {},
   "source": [
    "#### 平日 - 15:00"
   ]
  },
  {
   "cell_type": "code",
   "execution_count": null,
   "metadata": {},
   "outputs": [],
   "source": [
    "area_54_categ_2 = area_54_df.query(\n",
    "    \"weekday not in ['sun', 'sat'] and 14 <= hour <= 16\")\n",
    "\n",
    "area_54_categ_2.shape"
   ]
  },
  {
   "cell_type": "markdown",
   "metadata": {},
   "source": [
    "#### 平日 - 22:00"
   ]
  },
  {
   "cell_type": "code",
   "execution_count": null,
   "metadata": {},
   "outputs": [],
   "source": [
    "area_54_categ_3 = area_54_df.query(\n",
    "    \"weekday not in ['sun', 'sat'] and 21 <= hour <= 23\")\n",
    "\n",
    "area_54_categ_3.shape"
   ]
  },
  {
   "cell_type": "markdown",
   "metadata": {},
   "source": [
    "## AREA_54の需要台数を予測"
   ]
  },
  {
   "cell_type": "code",
   "execution_count": null,
   "metadata": {},
   "outputs": [],
   "source": [
    "df_call_type_c_limited.groupby(\n",
    "        [\"month\", \"weekday\", \"hour\", \"minute\", \"holiday\"]).max().head()"
   ]
  },
  {
   "cell_type": "code",
   "execution_count": null,
   "metadata": {},
   "outputs": [],
   "source": [
    "df_call_type_c_grouped_area54 = df_call_type_c_limited.groupby(\n",
    "    [\"month\", \"weekday\", \"hour\", \"minute\", \"holiday\"]).count()\n",
    "\n",
    "df_call_type_c_grouped_area54[\n",
    "    \"riding_time_mean\"] = df_call_type_c_limited.groupby(\n",
    "        [\"month\", \"weekday\", \"hour\", \"minute\",\n",
    "         \"holiday\"])[\"riding_time\"].mean()\n",
    "\n",
    "df_call_type_c_grouped_area54[\n",
    "    \"distance_mean\"] = df_call_type_c_limited.groupby(\n",
    "        [\"month\", \"weekday\", \"hour\", \"minute\", \"holiday\"])[\"distance\"].mean()\n",
    "\n",
    "df_call_type_c_grouped_area54[\n",
    "    \"direction_max\"] = df_call_type_c_limited.groupby(\n",
    "        [\"month\", \"weekday\", \"hour\", \"minute\", \"holiday\"])[\"direction\"].max()\n",
    "\n",
    "# カラム名を変更\n",
    "df_call_type_c_grouped_area54.rename(columns={\"area\": \"count\"}, inplace=True)\n",
    "\n",
    "# 要らない列を削除\n",
    "df_call_type_c_grouped_area54.drop([\n",
    "    \"start_x\", \"start_y\", \"end_x\", \"end_y\", \"riding_time\", \"distance\",\n",
    "    \"direction\"\n",
    "],\n",
    "                                   axis=1,\n",
    "                                   inplace=True)\n",
    "\n",
    "col_names = [\n",
    "    \"month\", \"weekday\", \"hour\", \"minute\", \"holiday\", \"count\",\n",
    "    \"riding_time_mean\", \"distance_mean\", \"direction_max\"\n",
    "]\n",
    "\n",
    "# インデックスをカラムに戻す\n",
    "df_call_type_c_grouped_area54.reset_index(inplace=True)\n",
    "\n",
    "df_call_type_c_grouped_area54.head()"
   ]
  },
  {
   "cell_type": "code",
   "execution_count": null,
   "metadata": {},
   "outputs": [],
   "source": []
  },
  {
   "cell_type": "code",
   "execution_count": null,
   "metadata": {},
   "outputs": [],
   "source": []
  },
  {
   "cell_type": "markdown",
   "metadata": {},
   "source": [
    "### area_54で乗車した際の進行方向"
   ]
  },
  {
   "cell_type": "code",
   "execution_count": null,
   "metadata": {
    "scrolled": true
   },
   "outputs": [],
   "source": [
    "sns.countplot(x=\"direction\", hue=\"holiday\", data=df_call_type_c_limited.query(\"area == 'area_54'\"))"
   ]
  },
  {
   "cell_type": "markdown",
   "metadata": {},
   "source": [
    "### ここまでのデータを保存"
   ]
  },
  {
   "cell_type": "code",
   "execution_count": null,
   "metadata": {},
   "outputs": [],
   "source": [
    "df_call_type_c_limited.to_csv(\"data/edit_train_call_type_c.csv\", index=False, header=True)"
   ]
  },
  {
   "cell_type": "markdown",
   "metadata": {},
   "source": [
    "## 分析方針\n",
    "\n",
    "１.全ドライバーの移動距離と乗車時間と乗車回数の合計を算出  \n",
    "２.乗車時間と乗車回数の２軸でプロット  \n",
    "３.クラスタリング  \n",
    "４.  \n",
    "\n",
    "乗車時間／乗車回数　で優良ドライバーを特定\n",
    "\n",
    "\n",
    "タクシーの料金は、初乗り運賃の時点から「距離」と「時間」を併用。\n",
    "\n",
    "タクシーの料金は基本的に一定距離内の初乗り運賃（例：東京：最長1.052kmまで、上限410円）\n",
    "を越えて乗車した場合の走行距離に応じた「距離制」で計算されるが、走行速度が10km/h以下になった場合には、走行時間を距離に置き換えて計算する「時間距離併用制」が適用される。\n"
   ]
  },
  {
   "cell_type": "code",
   "execution_count": null,
   "metadata": {},
   "outputs": [],
   "source": []
  }
 ],
 "metadata": {
  "kernelspec": {
   "display_name": "Python 3",
   "language": "python",
   "name": "python3"
  },
  "language_info": {
   "codemirror_mode": {
    "name": "ipython",
    "version": 3
   },
   "file_extension": ".py",
   "mimetype": "text/x-python",
   "name": "python",
   "nbconvert_exporter": "python",
   "pygments_lexer": "ipython3",
   "version": "3.6.4"
  },
  "toc": {
   "base_numbering": 1,
   "nav_menu": {},
   "number_sections": true,
   "sideBar": true,
   "skip_h1_title": true,
   "title_cell": "目次",
   "title_sidebar": "Contents",
   "toc_cell": true,
   "toc_position": {},
   "toc_section_display": true,
   "toc_window_display": false
  }
 },
 "nbformat": 4,
 "nbformat_minor": 2
}
