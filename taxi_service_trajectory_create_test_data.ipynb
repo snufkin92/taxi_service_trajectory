{
 "cells": [
  {
   "cell_type": "markdown",
   "metadata": {
    "toc": true
   },
   "source": [
    "<h1>目次<span class=\"tocSkip\"></span></h1>\n",
    "<div class=\"toc\"><ul class=\"toc-item\"><li><span><a href=\"#背景\" data-toc-modified-id=\"背景-1\"><span class=\"toc-item-num\">1&nbsp;&nbsp;</span>背景</a></span></li><li><span><a href=\"#目的\" data-toc-modified-id=\"目的-2\"><span class=\"toc-item-num\">2&nbsp;&nbsp;</span>目的</a></span><ul class=\"toc-item\"><li><span><a href=\"#ビジネスインパクト\" data-toc-modified-id=\"ビジネスインパクト-2.1\"><span class=\"toc-item-num\">2.1&nbsp;&nbsp;</span>ビジネスインパクト</a></span></li></ul></li><li><span><a href=\"#データ概説\" data-toc-modified-id=\"データ概説-3\"><span class=\"toc-item-num\">3&nbsp;&nbsp;</span>データ概説</a></span></li><li><span><a href=\"#初期仮説\" data-toc-modified-id=\"初期仮説-4\"><span class=\"toc-item-num\">4&nbsp;&nbsp;</span>初期仮説</a></span></li><li><span><a href=\"#データ編集\" data-toc-modified-id=\"データ編集-5\"><span class=\"toc-item-num\">5&nbsp;&nbsp;</span>データ編集</a></span><ul class=\"toc-item\"><li><span><a href=\"#UNIXタイムスタンプを-yyyyMMddhhmmss形式に変更\" data-toc-modified-id=\"UNIXタイムスタンプを-yyyyMMddhhmmss形式に変更-5.1\"><span class=\"toc-item-num\">5.1&nbsp;&nbsp;</span>UNIXタイムスタンプを yyyyMMddhhmmss形式に変更</a></span></li><li><span><a href=\"#タイムスタンプを年月日時分秒＋曜日に分ける\" data-toc-modified-id=\"タイムスタンプを年月日時分秒＋曜日に分ける-5.2\"><span class=\"toc-item-num\">5.2&nbsp;&nbsp;</span>タイムスタンプを年月日時分秒＋曜日に分ける</a></span></li><li><span><a href=\"#POLYLINEの編集\" data-toc-modified-id=\"POLYLINEの編集-5.3\"><span class=\"toc-item-num\">5.3&nbsp;&nbsp;</span>POLYLINEの編集</a></span><ul class=\"toc-item\"><li><span><a href=\"#カンマ区切りの文字列に変換\" data-toc-modified-id=\"カンマ区切りの文字列に変換-5.3.1\"><span class=\"toc-item-num\">5.3.1&nbsp;&nbsp;</span>カンマ区切りの文字列に変換</a></span></li><li><span><a href=\"#POLYLINEに不正な値が入っている行を削除\" data-toc-modified-id=\"POLYLINEに不正な値が入っている行を削除-5.3.2\"><span class=\"toc-item-num\">5.3.2&nbsp;&nbsp;</span>POLYLINEに不正な値が入っている行を削除</a></span></li><li><span><a href=\"#[緯度、経度]ペアで配列化\" data-toc-modified-id=\"[緯度、経度]ペアで配列化-5.3.3\"><span class=\"toc-item-num\">5.3.3&nbsp;&nbsp;</span>[緯度、経度]ペアで配列化</a></span></li></ul></li><li><span><a href=\"#乗車距離の算出\" data-toc-modified-id=\"乗車距離の算出-5.4\"><span class=\"toc-item-num\">5.4&nbsp;&nbsp;</span>乗車距離の算出</a></span></li><li><span><a href=\"#乗降ポイント列の追加\" data-toc-modified-id=\"乗降ポイント列の追加-5.5\"><span class=\"toc-item-num\">5.5&nbsp;&nbsp;</span>乗降ポイント列の追加</a></span><ul class=\"toc-item\"><li><span><a href=\"#降車ポイントが不明なデータの削除\" data-toc-modified-id=\"降車ポイントが不明なデータの削除-5.5.1\"><span class=\"toc-item-num\">5.5.1&nbsp;&nbsp;</span>降車ポイントが不明なデータの削除</a></span></li></ul></li><li><span><a href=\"#祝日列の追加\" data-toc-modified-id=\"祝日列の追加-5.6\"><span class=\"toc-item-num\">5.6&nbsp;&nbsp;</span>祝日列の追加</a></span></li><li><span><a href=\"#曜日を文字に変換\" data-toc-modified-id=\"曜日を文字に変換-5.7\"><span class=\"toc-item-num\">5.7&nbsp;&nbsp;</span>曜日を文字に変換</a></span></li><li><span><a href=\"#列を並び替え、日付の昇順でソート\" data-toc-modified-id=\"列を並び替え、日付の昇順でソート-5.8\"><span class=\"toc-item-num\">5.8&nbsp;&nbsp;</span>列を並び替え、日付の昇順でソート</a></span></li></ul></li><li><span><a href=\"#ここまでのデータをcsvに保存\" data-toc-modified-id=\"ここまでのデータをcsvに保存-6\"><span class=\"toc-item-num\">6&nbsp;&nbsp;</span>ここまでのデータをcsvに保存</a></span></li></ul></div>"
   ]
  },
  {
   "cell_type": "markdown",
   "metadata": {},
   "source": [
    "## データ編集"
   ]
  },
  {
   "cell_type": "code",
   "execution_count": 1,
   "metadata": {},
   "outputs": [],
   "source": [
    "import pandas as pd \n",
    "import numpy as np\n",
    "import re\n",
    "import copy\n",
    "from datetime import datetime as dt\n",
    "\n",
    "from matplotlib import pyplot as plt\n",
    "import seaborn as sns\n",
    "\n",
    "# warningの抑止\n",
    "import warnings\n",
    "warnings.filterwarnings('ignore')\n",
    "\n",
    "# メモリ解放\n",
    "import gc"
   ]
  },
  {
   "cell_type": "code",
   "execution_count": 2,
   "metadata": {},
   "outputs": [
    {
     "data": {
      "text/plain": [
       "(320, 9)"
      ]
     },
     "execution_count": 2,
     "metadata": {},
     "output_type": "execute_result"
    }
   ],
   "source": [
    "# データを読み込む\n",
    "df = pd.read_csv(\"data/Porto_taxi_data_test_partial_trajectories.csv\")\n",
    "\n",
    "# 行数と列数を確認\n",
    "df.shape"
   ]
  },
  {
   "cell_type": "markdown",
   "metadata": {},
   "source": [
    "### UNIXタイムスタンプを yyyyMMddhhmmss形式に変更"
   ]
  },
  {
   "cell_type": "code",
   "execution_count": 3,
   "metadata": {},
   "outputs": [],
   "source": [
    "df[\"time\"] = pd.to_datetime(df[\"TIMESTAMP\"], unit=\"s\") "
   ]
  },
  {
   "cell_type": "markdown",
   "metadata": {},
   "source": [
    "### タイムスタンプを年月日時分秒＋曜日に分ける"
   ]
  },
  {
   "cell_type": "code",
   "execution_count": 4,
   "metadata": {},
   "outputs": [],
   "source": [
    "# time列（9列目）を、年月日時分秒 + 曜日 で分割する。\n",
    "df[\"year\"] = df.iloc[:, 9].apply(lambda x: x.year)\n",
    "\n",
    "df[\"month\"] = df.iloc[:, 9].apply(lambda x: x.month)\n",
    "\n",
    "df[\"day\"] = df.iloc[:, 9].apply(lambda x: x.day)\n",
    "\n",
    "df[\"weekday\"] = df.iloc[:, 9].apply(lambda x: x.weekday())\n",
    "\n",
    "df[\"hour\"] = df.iloc[:, 9].apply(lambda x: x.hour)\n",
    "\n",
    "df[\"minute\"] = df.iloc[:, 9].apply(lambda x: x.minute)\n",
    "\n",
    "df[\"second\"] = df.iloc[:, 9].apply(lambda x: x.second)"
   ]
  },
  {
   "cell_type": "markdown",
   "metadata": {},
   "source": [
    "### POLYLINEの編集"
   ]
  },
  {
   "cell_type": "markdown",
   "metadata": {},
   "source": [
    "#### カンマ区切りの文字列に変換"
   ]
  },
  {
   "cell_type": "code",
   "execution_count": 5,
   "metadata": {},
   "outputs": [],
   "source": [
    "df[\"POLYLINE\"] = df[\"POLYLINE\"].apply(lambda x: x.replace(\"[\", \"\").replace(\"]\", \"\"))"
   ]
  },
  {
   "cell_type": "markdown",
   "metadata": {},
   "source": [
    "#### POLYLINEに不正な値が入っている行を削除"
   ]
  },
  {
   "cell_type": "markdown",
   "metadata": {},
   "source": [
    "POLYLINEは15秒ごとの [経度、緯度] をリストなので、値が入っていなかったり、[経度、緯度]の組みとなっていなかった場合、乗車、降車地点が不明なレコードは削除する。"
   ]
  },
  {
   "cell_type": "code",
   "execution_count": 6,
   "metadata": {},
   "outputs": [],
   "source": [
    "invalid_polyline_row_index = []\n",
    "\n",
    "for i, v in enumerate(df[\"POLYLINE\"]):\n",
    "\n",
    "    try:\n",
    "        _arr = v.split(\",\")\n",
    "        _size = len(_arr)\n",
    "\n",
    "        # 経度、緯度のペアになっていない場合\n",
    "        if (_size % 2) != 0:\n",
    "            raise ValueError()\n",
    "\n",
    "        # 乗車経度、乗車緯度、降車経度、降車緯度がない場合\n",
    "        if _size < 4:\n",
    "            raise ValueError()\n",
    "\n",
    "        # 数値に変換できる事を確認\n",
    "        float(_arr[0])  #乗車経度\n",
    "        float(_arr[1])  #乗車経度\n",
    "        float(_arr[-2])  #降車経度\n",
    "        float(_arr[-1])  #降車緯度\n",
    "\n",
    "    except:\n",
    "        # print(i, v)\n",
    "        # 不適切な 値が格納されている行インデックスを格納\n",
    "        invalid_polyline_row_index.append(i)"
   ]
  },
  {
   "cell_type": "code",
   "execution_count": 8,
   "metadata": {},
   "outputs": [
    {
     "data": {
      "text/plain": [
       "[33, 121]"
      ]
     },
     "execution_count": 8,
     "metadata": {},
     "output_type": "execute_result"
    }
   ],
   "source": [
    "invalid_polyline_row_index"
   ]
  },
  {
   "cell_type": "code",
   "execution_count": 9,
   "metadata": {},
   "outputs": [
    {
     "data": {
      "text/plain": [
       "320"
      ]
     },
     "execution_count": 9,
     "metadata": {},
     "output_type": "execute_result"
    }
   ],
   "source": [
    "df.shape[0]"
   ]
  },
  {
   "cell_type": "code",
   "execution_count": 10,
   "metadata": {},
   "outputs": [],
   "source": [
    "# 無効な行レコードを削除\n",
    "df.drop(invalid_polyline_row_index, inplace=True)"
   ]
  },
  {
   "cell_type": "code",
   "execution_count": 11,
   "metadata": {},
   "outputs": [
    {
     "data": {
      "text/plain": [
       "318"
      ]
     },
     "execution_count": 11,
     "metadata": {},
     "output_type": "execute_result"
    }
   ],
   "source": [
    "df.shape[0]"
   ]
  },
  {
   "cell_type": "markdown",
   "metadata": {},
   "source": [
    "#### [緯度、経度]ペアで配列化"
   ]
  },
  {
   "cell_type": "code",
   "execution_count": 12,
   "metadata": {},
   "outputs": [],
   "source": [
    "def to_array_polyline(x):\n",
    "    \n",
    "    _arr = x.split(\",\")\n",
    "\n",
    "    parent_list = []\n",
    "    child_list = None\n",
    "    \n",
    "    for i ,v in enumerate( _arr ):\n",
    "        \n",
    "        if i % 2 == 0:\n",
    "            child_list = []\n",
    "            child_list.append(float(v))\n",
    "        else:\n",
    "            child_list.append(v)\n",
    "            parent_list.append(np.array(child_list))\n",
    "    \n",
    "    return np.array(parent_list)\n",
    "\n",
    "df[\"POLYLINE\"] = df[\"POLYLINE\"].apply(to_array_polyline)"
   ]
  },
  {
   "cell_type": "markdown",
   "metadata": {},
   "source": [
    "### 乗車距離の算出"
   ]
  },
  {
   "cell_type": "code",
   "execution_count": 13,
   "metadata": {},
   "outputs": [],
   "source": [
    "def calc_distance(x):\n",
    "\n",
    "    _distance = 0\n",
    "\n",
    "    start_point = []\n",
    "    end_point = []\n",
    "\n",
    "    for i, v in enumerate(x):\n",
    "\n",
    "        if i == 0:\n",
    "            start_point.append(float(v[0]))\n",
    "            start_point.append(float(v[1]))\n",
    "            continue\n",
    "\n",
    "        end_point = np.array(start_point)\n",
    "        start_point = []\n",
    "\n",
    "        start_point.append(float(v[0]))\n",
    "        start_point.append(float(v[1]))\n",
    "        start_point = np.array(start_point)\n",
    "\n",
    "        # １度あたり 110.94297kmで計算（緯度の違いによる経度の距離の違いは無視）\n",
    "        _temp = ((end_point - start_point) * 110.94297)**2\n",
    "        _distance += np.sqrt(_temp[0] + _temp[1])\n",
    "\n",
    "    return _distance\n",
    "\n",
    "\n",
    "df[\"distance\"] = df[\"POLYLINE\"].apply(calc_distance)"
   ]
  },
  {
   "cell_type": "code",
   "execution_count": 14,
   "metadata": {},
   "outputs": [
    {
     "data": {
      "text/plain": [
       "0    0.607466\n",
       "1    2.429108\n",
       "2    4.347088\n",
       "3    0.226726\n",
       "4    0.000998\n",
       "Name: distance, dtype: float64"
      ]
     },
     "execution_count": 14,
     "metadata": {},
     "output_type": "execute_result"
    }
   ],
   "source": [
    "df[\"distance\"].head()"
   ]
  },
  {
   "cell_type": "markdown",
   "metadata": {},
   "source": [
    "### 乗降ポイント列の追加"
   ]
  },
  {
   "cell_type": "code",
   "execution_count": 15,
   "metadata": {},
   "outputs": [],
   "source": [
    "# 乗車時間（秒）列の追加\n",
    "df[\"riding_time\"] = df[\"POLYLINE\"].apply(lambda x : len(x) * 15)"
   ]
  },
  {
   "cell_type": "code",
   "execution_count": 16,
   "metadata": {},
   "outputs": [],
   "source": [
    "# 乗車した緯度・経度を返す\n",
    "def get_start_point(polyline):\n",
    "    _arr = polyline.split(\",\")\n",
    "    return np.array(float(_arr[0]), float(_arr[1]))\n",
    "\n",
    "\n",
    "# 降車した緯度・経度を返す\n",
    "def get_end_point(polyline):\n",
    "    _arr = polyline.split(\",\")\n",
    "    return np.array(float(_arr[-2]), float(_arr[-1]))"
   ]
  },
  {
   "cell_type": "code",
   "execution_count": 17,
   "metadata": {},
   "outputs": [],
   "source": [
    "# 乗降ポイント列の追加\n",
    "df[\"start_x\"] = df[\"POLYLINE\"].apply(lambda x : x[0][0])\n",
    "df[\"start_y\"] = df[\"POLYLINE\"].apply(lambda x : x[0][1])\n",
    "\n",
    "df[\"end_x\"] = df[\"POLYLINE\"].apply(lambda x : x[-1][0])\n",
    "df[\"end_y\"] = df[\"POLYLINE\"].apply(lambda x : x[-1][1])"
   ]
  },
  {
   "cell_type": "code",
   "execution_count": 18,
   "metadata": {},
   "outputs": [
    {
     "data": {
      "text/html": [
       "<div>\n",
       "<style scoped>\n",
       "    .dataframe tbody tr th:only-of-type {\n",
       "        vertical-align: middle;\n",
       "    }\n",
       "\n",
       "    .dataframe tbody tr th {\n",
       "        vertical-align: top;\n",
       "    }\n",
       "\n",
       "    .dataframe thead th {\n",
       "        text-align: right;\n",
       "    }\n",
       "</style>\n",
       "<table border=\"1\" class=\"dataframe\">\n",
       "  <thead>\n",
       "    <tr style=\"text-align: right;\">\n",
       "      <th></th>\n",
       "      <th>TRIP_ID</th>\n",
       "      <th>CALL_TYPE</th>\n",
       "      <th>ORIGIN_CALL</th>\n",
       "      <th>ORIGIN_STAND</th>\n",
       "      <th>TAXI_ID</th>\n",
       "      <th>TIMESTAMP</th>\n",
       "      <th>DAY_TYPE</th>\n",
       "      <th>MISSING_DATA</th>\n",
       "      <th>POLYLINE</th>\n",
       "      <th>time</th>\n",
       "      <th>...</th>\n",
       "      <th>weekday</th>\n",
       "      <th>hour</th>\n",
       "      <th>minute</th>\n",
       "      <th>second</th>\n",
       "      <th>distance</th>\n",
       "      <th>riding_time</th>\n",
       "      <th>start_x</th>\n",
       "      <th>start_y</th>\n",
       "      <th>end_x</th>\n",
       "      <th>end_y</th>\n",
       "    </tr>\n",
       "  </thead>\n",
       "  <tbody>\n",
       "    <tr>\n",
       "      <th>0</th>\n",
       "      <td>T1</td>\n",
       "      <td>B</td>\n",
       "      <td>NaN</td>\n",
       "      <td>15.0</td>\n",
       "      <td>20000542</td>\n",
       "      <td>1408039037</td>\n",
       "      <td>A</td>\n",
       "      <td>False</td>\n",
       "      <td>[[-8.585676,  41.148522], [-8.585712000000001,...</td>\n",
       "      <td>2014-08-14 17:57:17</td>\n",
       "      <td>...</td>\n",
       "      <td>3</td>\n",
       "      <td>17</td>\n",
       "      <td>57</td>\n",
       "      <td>17</td>\n",
       "      <td>0.607466</td>\n",
       "      <td>165</td>\n",
       "      <td>-8.585676</td>\n",
       "      <td>41.148522</td>\n",
       "      <td>-8.584883999999999</td>\n",
       "      <td>41.146623000000005</td>\n",
       "    </tr>\n",
       "    <tr>\n",
       "      <th>1</th>\n",
       "      <td>T2</td>\n",
       "      <td>B</td>\n",
       "      <td>NaN</td>\n",
       "      <td>57.0</td>\n",
       "      <td>20000108</td>\n",
       "      <td>1408038611</td>\n",
       "      <td>A</td>\n",
       "      <td>False</td>\n",
       "      <td>[[-8.610876000000001,  41.14557], [-8.610858, ...</td>\n",
       "      <td>2014-08-14 17:50:11</td>\n",
       "      <td>...</td>\n",
       "      <td>3</td>\n",
       "      <td>17</td>\n",
       "      <td>50</td>\n",
       "      <td>11</td>\n",
       "      <td>2.429108</td>\n",
       "      <td>600</td>\n",
       "      <td>-8.610876000000001</td>\n",
       "      <td>41.14557</td>\n",
       "      <td>-8.601894</td>\n",
       "      <td>41.163597</td>\n",
       "    </tr>\n",
       "    <tr>\n",
       "      <th>2</th>\n",
       "      <td>T3</td>\n",
       "      <td>B</td>\n",
       "      <td>NaN</td>\n",
       "      <td>15.0</td>\n",
       "      <td>20000370</td>\n",
       "      <td>1408038568</td>\n",
       "      <td>A</td>\n",
       "      <td>False</td>\n",
       "      <td>[[-8.585739,  41.148558], [-8.585730000000002,...</td>\n",
       "      <td>2014-08-14 17:49:28</td>\n",
       "      <td>...</td>\n",
       "      <td>3</td>\n",
       "      <td>17</td>\n",
       "      <td>49</td>\n",
       "      <td>28</td>\n",
       "      <td>4.347088</td>\n",
       "      <td>600</td>\n",
       "      <td>-8.585739</td>\n",
       "      <td>41.148558</td>\n",
       "      <td>-8.574903</td>\n",
       "      <td>41.167719</td>\n",
       "    </tr>\n",
       "  </tbody>\n",
       "</table>\n",
       "<p>3 rows × 23 columns</p>\n",
       "</div>"
      ],
      "text/plain": [
       "  TRIP_ID CALL_TYPE  ORIGIN_CALL  ORIGIN_STAND   TAXI_ID   TIMESTAMP DAY_TYPE  \\\n",
       "0      T1         B          NaN          15.0  20000542  1408039037        A   \n",
       "1      T2         B          NaN          57.0  20000108  1408038611        A   \n",
       "2      T3         B          NaN          15.0  20000370  1408038568        A   \n",
       "\n",
       "   MISSING_DATA                                           POLYLINE  \\\n",
       "0         False  [[-8.585676,  41.148522], [-8.585712000000001,...   \n",
       "1         False  [[-8.610876000000001,  41.14557], [-8.610858, ...   \n",
       "2         False  [[-8.585739,  41.148558], [-8.585730000000002,...   \n",
       "\n",
       "                 time         ...           weekday  hour  minute  second  \\\n",
       "0 2014-08-14 17:57:17         ...                 3    17      57      17   \n",
       "1 2014-08-14 17:50:11         ...                 3    17      50      11   \n",
       "2 2014-08-14 17:49:28         ...                 3    17      49      28   \n",
       "\n",
       "   distance  riding_time             start_x     start_y               end_x  \\\n",
       "0  0.607466          165           -8.585676   41.148522  -8.584883999999999   \n",
       "1  2.429108          600  -8.610876000000001    41.14557           -8.601894   \n",
       "2  4.347088          600           -8.585739   41.148558           -8.574903   \n",
       "\n",
       "                 end_y  \n",
       "0   41.146623000000005  \n",
       "1            41.163597  \n",
       "2            41.167719  \n",
       "\n",
       "[3 rows x 23 columns]"
      ]
     },
     "execution_count": 18,
     "metadata": {},
     "output_type": "execute_result"
    }
   ],
   "source": [
    "df.head(3)"
   ]
  },
  {
   "cell_type": "markdown",
   "metadata": {},
   "source": [
    "#### 降車ポイントが不明なデータの削除"
   ]
  },
  {
   "cell_type": "code",
   "execution_count": 19,
   "metadata": {
    "scrolled": true
   },
   "outputs": [
    {
     "data": {
      "text/plain": [
       "array([], dtype=int64)"
      ]
     },
     "execution_count": 19,
     "metadata": {},
     "output_type": "execute_result"
    }
   ],
   "source": [
    "# 降車ポイント\n",
    "df[df[\"MISSING_DATA\"] != False].index.values"
   ]
  },
  {
   "cell_type": "code",
   "execution_count": 20,
   "metadata": {},
   "outputs": [],
   "source": [
    "df.drop(df[df[\"MISSING_DATA\"] != False].index.values, inplace=True)"
   ]
  },
  {
   "cell_type": "code",
   "execution_count": 21,
   "metadata": {},
   "outputs": [
    {
     "data": {
      "text/plain": [
       "0"
      ]
     },
     "execution_count": 21,
     "metadata": {},
     "output_type": "execute_result"
    }
   ],
   "source": [
    "df[df[\"MISSING_DATA\"] != False].shape[0]"
   ]
  },
  {
   "cell_type": "markdown",
   "metadata": {},
   "source": [
    "### 祝日列の追加"
   ]
  },
  {
   "cell_type": "code",
   "execution_count": 22,
   "metadata": {},
   "outputs": [],
   "source": [
    "def is_holiday(x):\n",
    "\n",
    "    # 平日\n",
    "    ret_val = \"o\"\n",
    "\n",
    "    _year = x[\"year\"]\n",
    "    _month = x[\"month\"]\n",
    "    _day = x[\"day\"]\n",
    "\n",
    "    if _year == 2013:\n",
    "        # 1/1\n",
    "        if _month == 1:\n",
    "            if _day == 1:\n",
    "                ret_val = 'h'\n",
    "\n",
    "        # 2/11、2/14\n",
    "        elif _month == 2:\n",
    "            if _day in (11, 14):\n",
    "                ret_val = 'h'\n",
    "\n",
    "        # 3/29、3/31\n",
    "        elif _month == 3:\n",
    "            if _day in (29, 31):\n",
    "                ret_val = 'h'\n",
    "\n",
    "        # 4/1、4/25\n",
    "        elif _month == 4:\n",
    "            if _day in (1, 25):\n",
    "                ret_val = 'h'\n",
    "\n",
    "        # 5/1、5/5、5/9、5/30\n",
    "        elif _month == 5:\n",
    "            if _day in (1, 5, 9, 30):\n",
    "                ret_val = 'h'\n",
    "\n",
    "        # 6/10、6/13、6/24、6/29\n",
    "        elif _month == 6:\n",
    "            if _day in (10, 13, 24, 29):\n",
    "                ret_val = 'h'\n",
    "        # 8/15\n",
    "        elif _month == 8:\n",
    "            if _day == 15:\n",
    "                ret_val = 'h'\n",
    "        # 10/5\n",
    "        elif _month == 10:\n",
    "            if _day == 5:\n",
    "                ret_val = 'h'\n",
    "\n",
    "        # 11/1\n",
    "        elif _month == 11:\n",
    "            if _day == 1:\n",
    "                ret_val = 'h'\n",
    "\n",
    "        # 12/1、12/8、12/25\n",
    "        elif _month == 12:\n",
    "            if _day in (1, 8, 25):\n",
    "                ret_val = 'h'\n",
    "\n",
    "    elif _year == 2014:\n",
    "        # 1/1\n",
    "        if _month == 1:\n",
    "            if _day == 1:\n",
    "                ret_val = 'h'\n",
    "\n",
    "        # 2/14\n",
    "        elif _month == 2:\n",
    "            if _day == 14:\n",
    "                ret_val = 'h'\n",
    "\n",
    "        # 3/3\n",
    "        elif _month == 3:\n",
    "            if _day == 3:\n",
    "                ret_val = 'h'\n",
    "\n",
    "        # 4/18、4/20、4/21、4/25\n",
    "        elif _month == 4:\n",
    "            if _day in (18, 20, 21, 25):\n",
    "                ret_val = 'h'\n",
    "\n",
    "        # 5/1、5/4、5/29\n",
    "        elif _month == 5:\n",
    "            if _day in (1, 4, 29):\n",
    "                ret_val = 'h'\n",
    "\n",
    "        # 6/10、6/13、6/19、6/24、6/29\n",
    "        elif _month == 6:\n",
    "            if _day in (10, 13, 19, 24, 29):\n",
    "                ret_val = 'h'\n",
    "        # 8/15\n",
    "        elif _month == 8:\n",
    "            if _day == 15:\n",
    "                ret_val = 'h'\n",
    "        # 10/5\n",
    "        elif _month == 10:\n",
    "            if _day == 5:\n",
    "                ret_val = 'h'\n",
    "\n",
    "        # 11/1\n",
    "        elif _month == 11:\n",
    "            if _day == 1:\n",
    "                ret_val = 'h'\n",
    "\n",
    "        # 12/1、12/8、12/25\n",
    "        elif _month == 12:\n",
    "            if _day in (1, 8, 25):\n",
    "                ret_val = 'h'\n",
    "\n",
    "    return ret_val\n",
    "\n",
    "\n",
    "df[\"holiday\"] = df.apply(is_holiday, axis=1)"
   ]
  },
  {
   "cell_type": "markdown",
   "metadata": {},
   "source": [
    "### 曜日を文字に変換  \n",
    "後でダミー化する為"
   ]
  },
  {
   "cell_type": "code",
   "execution_count": 23,
   "metadata": {},
   "outputs": [],
   "source": [
    "# Monday=0, Sunday=6 => 0=Mon, 6=Sun に変換\n",
    "def convert_weekday(x):\n",
    "\n",
    "    if x == 0:\n",
    "        return \"mon\"\n",
    "    elif x == 1:\n",
    "        return \"tue\"\n",
    "    elif x == 2:\n",
    "        return \"wed\"\n",
    "    elif x == 3:\n",
    "        return \"thu\"\n",
    "    elif x == 4:\n",
    "        return \"fri\"\n",
    "    elif x == 5:\n",
    "        return \"sat\"\n",
    "    elif x == 6:\n",
    "        return \"sun\"\n",
    "\n",
    "df[\"weekday\"] = df[\"weekday\"].apply(convert_weekday)"
   ]
  },
  {
   "cell_type": "code",
   "execution_count": 24,
   "metadata": {},
   "outputs": [
    {
     "data": {
      "text/html": [
       "<div>\n",
       "<style scoped>\n",
       "    .dataframe tbody tr th:only-of-type {\n",
       "        vertical-align: middle;\n",
       "    }\n",
       "\n",
       "    .dataframe tbody tr th {\n",
       "        vertical-align: top;\n",
       "    }\n",
       "\n",
       "    .dataframe thead th {\n",
       "        text-align: right;\n",
       "    }\n",
       "</style>\n",
       "<table border=\"1\" class=\"dataframe\">\n",
       "  <thead>\n",
       "    <tr style=\"text-align: right;\">\n",
       "      <th></th>\n",
       "      <th>TRIP_ID</th>\n",
       "      <th>CALL_TYPE</th>\n",
       "      <th>ORIGIN_CALL</th>\n",
       "      <th>ORIGIN_STAND</th>\n",
       "      <th>TAXI_ID</th>\n",
       "      <th>TIMESTAMP</th>\n",
       "      <th>DAY_TYPE</th>\n",
       "      <th>MISSING_DATA</th>\n",
       "      <th>POLYLINE</th>\n",
       "      <th>time</th>\n",
       "      <th>...</th>\n",
       "      <th>hour</th>\n",
       "      <th>minute</th>\n",
       "      <th>second</th>\n",
       "      <th>distance</th>\n",
       "      <th>riding_time</th>\n",
       "      <th>start_x</th>\n",
       "      <th>start_y</th>\n",
       "      <th>end_x</th>\n",
       "      <th>end_y</th>\n",
       "      <th>holiday</th>\n",
       "    </tr>\n",
       "  </thead>\n",
       "  <tbody>\n",
       "    <tr>\n",
       "      <th>0</th>\n",
       "      <td>T1</td>\n",
       "      <td>B</td>\n",
       "      <td>NaN</td>\n",
       "      <td>15.0</td>\n",
       "      <td>20000542</td>\n",
       "      <td>1408039037</td>\n",
       "      <td>A</td>\n",
       "      <td>False</td>\n",
       "      <td>[[-8.585676,  41.148522], [-8.585712000000001,...</td>\n",
       "      <td>2014-08-14 17:57:17</td>\n",
       "      <td>...</td>\n",
       "      <td>17</td>\n",
       "      <td>57</td>\n",
       "      <td>17</td>\n",
       "      <td>0.607466</td>\n",
       "      <td>165</td>\n",
       "      <td>-8.585676</td>\n",
       "      <td>41.148522</td>\n",
       "      <td>-8.584883999999999</td>\n",
       "      <td>41.146623000000005</td>\n",
       "      <td>o</td>\n",
       "    </tr>\n",
       "    <tr>\n",
       "      <th>1</th>\n",
       "      <td>T2</td>\n",
       "      <td>B</td>\n",
       "      <td>NaN</td>\n",
       "      <td>57.0</td>\n",
       "      <td>20000108</td>\n",
       "      <td>1408038611</td>\n",
       "      <td>A</td>\n",
       "      <td>False</td>\n",
       "      <td>[[-8.610876000000001,  41.14557], [-8.610858, ...</td>\n",
       "      <td>2014-08-14 17:50:11</td>\n",
       "      <td>...</td>\n",
       "      <td>17</td>\n",
       "      <td>50</td>\n",
       "      <td>11</td>\n",
       "      <td>2.429108</td>\n",
       "      <td>600</td>\n",
       "      <td>-8.610876000000001</td>\n",
       "      <td>41.14557</td>\n",
       "      <td>-8.601894</td>\n",
       "      <td>41.163597</td>\n",
       "      <td>o</td>\n",
       "    </tr>\n",
       "    <tr>\n",
       "      <th>2</th>\n",
       "      <td>T3</td>\n",
       "      <td>B</td>\n",
       "      <td>NaN</td>\n",
       "      <td>15.0</td>\n",
       "      <td>20000370</td>\n",
       "      <td>1408038568</td>\n",
       "      <td>A</td>\n",
       "      <td>False</td>\n",
       "      <td>[[-8.585739,  41.148558], [-8.585730000000002,...</td>\n",
       "      <td>2014-08-14 17:49:28</td>\n",
       "      <td>...</td>\n",
       "      <td>17</td>\n",
       "      <td>49</td>\n",
       "      <td>28</td>\n",
       "      <td>4.347088</td>\n",
       "      <td>600</td>\n",
       "      <td>-8.585739</td>\n",
       "      <td>41.148558</td>\n",
       "      <td>-8.574903</td>\n",
       "      <td>41.167719</td>\n",
       "      <td>o</td>\n",
       "    </tr>\n",
       "    <tr>\n",
       "      <th>3</th>\n",
       "      <td>T4</td>\n",
       "      <td>B</td>\n",
       "      <td>NaN</td>\n",
       "      <td>53.0</td>\n",
       "      <td>20000492</td>\n",
       "      <td>1408039090</td>\n",
       "      <td>A</td>\n",
       "      <td>False</td>\n",
       "      <td>[[-8.613963,  41.141169], [-8.614125000000001,...</td>\n",
       "      <td>2014-08-14 17:58:10</td>\n",
       "      <td>...</td>\n",
       "      <td>17</td>\n",
       "      <td>58</td>\n",
       "      <td>10</td>\n",
       "      <td>0.226726</td>\n",
       "      <td>120</td>\n",
       "      <td>-8.613963</td>\n",
       "      <td>41.141169</td>\n",
       "      <td>-8.614638</td>\n",
       "      <td>41.14097999999999</td>\n",
       "      <td>o</td>\n",
       "    </tr>\n",
       "    <tr>\n",
       "      <th>4</th>\n",
       "      <td>T5</td>\n",
       "      <td>B</td>\n",
       "      <td>NaN</td>\n",
       "      <td>18.0</td>\n",
       "      <td>20000621</td>\n",
       "      <td>1408039177</td>\n",
       "      <td>A</td>\n",
       "      <td>False</td>\n",
       "      <td>[[-8.619902999999999,  41.148036000000005], [-...</td>\n",
       "      <td>2014-08-14 17:59:37</td>\n",
       "      <td>...</td>\n",
       "      <td>17</td>\n",
       "      <td>59</td>\n",
       "      <td>37</td>\n",
       "      <td>0.000998</td>\n",
       "      <td>30</td>\n",
       "      <td>-8.619902999999999</td>\n",
       "      <td>41.148036000000005</td>\n",
       "      <td>-8.619894</td>\n",
       "      <td>41.148036000000005</td>\n",
       "      <td>o</td>\n",
       "    </tr>\n",
       "  </tbody>\n",
       "</table>\n",
       "<p>5 rows × 24 columns</p>\n",
       "</div>"
      ],
      "text/plain": [
       "  TRIP_ID CALL_TYPE  ORIGIN_CALL  ORIGIN_STAND   TAXI_ID   TIMESTAMP DAY_TYPE  \\\n",
       "0      T1         B          NaN          15.0  20000542  1408039037        A   \n",
       "1      T2         B          NaN          57.0  20000108  1408038611        A   \n",
       "2      T3         B          NaN          15.0  20000370  1408038568        A   \n",
       "3      T4         B          NaN          53.0  20000492  1408039090        A   \n",
       "4      T5         B          NaN          18.0  20000621  1408039177        A   \n",
       "\n",
       "   MISSING_DATA                                           POLYLINE  \\\n",
       "0         False  [[-8.585676,  41.148522], [-8.585712000000001,...   \n",
       "1         False  [[-8.610876000000001,  41.14557], [-8.610858, ...   \n",
       "2         False  [[-8.585739,  41.148558], [-8.585730000000002,...   \n",
       "3         False  [[-8.613963,  41.141169], [-8.614125000000001,...   \n",
       "4         False  [[-8.619902999999999,  41.148036000000005], [-...   \n",
       "\n",
       "                 time   ...    hour  minute  second  distance  riding_time  \\\n",
       "0 2014-08-14 17:57:17   ...      17      57      17  0.607466          165   \n",
       "1 2014-08-14 17:50:11   ...      17      50      11  2.429108          600   \n",
       "2 2014-08-14 17:49:28   ...      17      49      28  4.347088          600   \n",
       "3 2014-08-14 17:58:10   ...      17      58      10  0.226726          120   \n",
       "4 2014-08-14 17:59:37   ...      17      59      37  0.000998           30   \n",
       "\n",
       "              start_x              start_y               end_x  \\\n",
       "0           -8.585676            41.148522  -8.584883999999999   \n",
       "1  -8.610876000000001             41.14557           -8.601894   \n",
       "2           -8.585739            41.148558           -8.574903   \n",
       "3           -8.613963            41.141169           -8.614638   \n",
       "4  -8.619902999999999   41.148036000000005           -8.619894   \n",
       "\n",
       "                 end_y holiday  \n",
       "0   41.146623000000005       o  \n",
       "1            41.163597       o  \n",
       "2            41.167719       o  \n",
       "3    41.14097999999999       o  \n",
       "4   41.148036000000005       o  \n",
       "\n",
       "[5 rows x 24 columns]"
      ]
     },
     "execution_count": 24,
     "metadata": {},
     "output_type": "execute_result"
    }
   ],
   "source": [
    "df.head()"
   ]
  },
  {
   "cell_type": "markdown",
   "metadata": {},
   "source": [
    "### 列を並び替え、日付の昇順でソート"
   ]
  },
  {
   "cell_type": "code",
   "execution_count": 25,
   "metadata": {},
   "outputs": [],
   "source": [
    "# 降車ポイントが不明なデータを削除\n",
    "df.drop(df[df[\"MISSING_DATA\"] != False].index.values, inplace=True)\n",
    "\n",
    "col_names = [\n",
    "    \"TIMESTAMP\", \"year\", \"month\", \"day\", \"weekday\", \"hour\", \"minute\",\n",
    "    \"holiday\", \"riding_time\", \"distance\", \"start_x\", \"start_y\", \"end_x\",\n",
    "    \"end_y\", \"CALL_TYPE\", \"TAXI_ID\"\n",
    "]\n",
    "\n",
    "df.sort_values(\n",
    "    by=[\"year\", \"month\", \"day\", \"hour\", \"minute\", \"second\"],\n",
    "    ascending=True,\n",
    "    inplace=True)\n",
    "\n",
    "# 要らない列を削除\n",
    "df.drop([\n",
    "    \"time\", \"second\", \"TRIP_ID\", \"DAY_TYPE\", \"ORIGIN_STAND\", \"ORIGIN_CALL\",\n",
    "    \"MISSING_DATA\", \"POLYLINE\"\n",
    "],\n",
    "        axis=1,\n",
    "        inplace=True)\n",
    "\n",
    "# 列の並び替え\n",
    "df = df.reindex(col_names, axis=1)\n",
    "\n",
    "# 元の行インデックスをdropし、振りなおす\n",
    "df.reset_index(drop=True, inplace=True)\n",
    "\n",
    "df.to_csv(\"data/edit_test_final.csv\", index=False, header=True)"
   ]
  },
  {
   "cell_type": "code",
   "execution_count": 26,
   "metadata": {
    "scrolled": true
   },
   "outputs": [
    {
     "data": {
      "text/html": [
       "<div>\n",
       "<style scoped>\n",
       "    .dataframe tbody tr th:only-of-type {\n",
       "        vertical-align: middle;\n",
       "    }\n",
       "\n",
       "    .dataframe tbody tr th {\n",
       "        vertical-align: top;\n",
       "    }\n",
       "\n",
       "    .dataframe thead th {\n",
       "        text-align: right;\n",
       "    }\n",
       "</style>\n",
       "<table border=\"1\" class=\"dataframe\">\n",
       "  <thead>\n",
       "    <tr style=\"text-align: right;\">\n",
       "      <th></th>\n",
       "      <th>TIMESTAMP</th>\n",
       "      <th>year</th>\n",
       "      <th>month</th>\n",
       "      <th>day</th>\n",
       "      <th>weekday</th>\n",
       "      <th>hour</th>\n",
       "      <th>minute</th>\n",
       "      <th>holiday</th>\n",
       "      <th>riding_time</th>\n",
       "      <th>distance</th>\n",
       "      <th>start_x</th>\n",
       "      <th>start_y</th>\n",
       "      <th>end_x</th>\n",
       "      <th>end_y</th>\n",
       "      <th>CALL_TYPE</th>\n",
       "      <th>TAXI_ID</th>\n",
       "    </tr>\n",
       "  </thead>\n",
       "  <tbody>\n",
       "    <tr>\n",
       "      <th>0</th>\n",
       "      <td>1408032143</td>\n",
       "      <td>2014</td>\n",
       "      <td>8</td>\n",
       "      <td>14</td>\n",
       "      <td>thu</td>\n",
       "      <td>16</td>\n",
       "      <td>2</td>\n",
       "      <td>o</td>\n",
       "      <td>7050</td>\n",
       "      <td>69.679737</td>\n",
       "      <td>-8.624304</td>\n",
       "      <td>41.179688999999996</td>\n",
       "      <td>-8.376903</td>\n",
       "      <td>41.556375</td>\n",
       "      <td>C</td>\n",
       "      <td>20000010</td>\n",
       "    </tr>\n",
       "    <tr>\n",
       "      <th>1</th>\n",
       "      <td>1408036076</td>\n",
       "      <td>2014</td>\n",
       "      <td>8</td>\n",
       "      <td>14</td>\n",
       "      <td>thu</td>\n",
       "      <td>17</td>\n",
       "      <td>7</td>\n",
       "      <td>o</td>\n",
       "      <td>2010</td>\n",
       "      <td>21.236825</td>\n",
       "      <td>-8.630667</td>\n",
       "      <td>41.207364</td>\n",
       "      <td>-8.642916000000001</td>\n",
       "      <td>41.167746</td>\n",
       "      <td>C</td>\n",
       "      <td>20000668</td>\n",
       "    </tr>\n",
       "    <tr>\n",
       "      <th>2</th>\n",
       "      <td>1408036255</td>\n",
       "      <td>2014</td>\n",
       "      <td>8</td>\n",
       "      <td>14</td>\n",
       "      <td>thu</td>\n",
       "      <td>17</td>\n",
       "      <td>10</td>\n",
       "      <td>o</td>\n",
       "      <td>1140</td>\n",
       "      <td>11.765057</td>\n",
       "      <td>-8.665353</td>\n",
       "      <td>41.18616</td>\n",
       "      <td>-8.669475</td>\n",
       "      <td>41.237415</td>\n",
       "      <td>C</td>\n",
       "      <td>20000312</td>\n",
       "    </tr>\n",
       "  </tbody>\n",
       "</table>\n",
       "</div>"
      ],
      "text/plain": [
       "    TIMESTAMP  year  month  day weekday  hour  minute holiday  riding_time  \\\n",
       "0  1408032143  2014      8   14     thu    16       2       o         7050   \n",
       "1  1408036076  2014      8   14     thu    17       7       o         2010   \n",
       "2  1408036255  2014      8   14     thu    17      10       o         1140   \n",
       "\n",
       "    distance    start_x              start_y               end_x       end_y  \\\n",
       "0  69.679737  -8.624304   41.179688999999996           -8.376903   41.556375   \n",
       "1  21.236825  -8.630667            41.207364  -8.642916000000001   41.167746   \n",
       "2  11.765057  -8.665353             41.18616           -8.669475   41.237415   \n",
       "\n",
       "  CALL_TYPE   TAXI_ID  \n",
       "0         C  20000010  \n",
       "1         C  20000668  \n",
       "2         C  20000312  "
      ]
     },
     "execution_count": 26,
     "metadata": {},
     "output_type": "execute_result"
    }
   ],
   "source": [
    "df.head(3)"
   ]
  }
 ],
 "metadata": {
  "kernelspec": {
   "display_name": "Python 3",
   "language": "python",
   "name": "python3"
  },
  "language_info": {
   "codemirror_mode": {
    "name": "ipython",
    "version": 3
   },
   "file_extension": ".py",
   "mimetype": "text/x-python",
   "name": "python",
   "nbconvert_exporter": "python",
   "pygments_lexer": "ipython3",
   "version": "3.6.4"
  },
  "toc": {
   "base_numbering": 1,
   "nav_menu": {},
   "number_sections": true,
   "sideBar": true,
   "skip_h1_title": true,
   "title_cell": "目次",
   "title_sidebar": "Contents",
   "toc_cell": true,
   "toc_position": {},
   "toc_section_display": true,
   "toc_window_display": false
  }
 },
 "nbformat": 4,
 "nbformat_minor": 2
}
