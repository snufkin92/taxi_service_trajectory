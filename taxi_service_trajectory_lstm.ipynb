{
 "cells": [
  {
   "cell_type": "markdown",
   "metadata": {
    "toc": true
   },
   "source": [
    "<h1>目次<span class=\"tocSkip\"></span></h1>\n",
    "<div class=\"toc\"><ul class=\"toc-item\"><li><span><a href=\"#データ準備\" data-toc-modified-id=\"データ準備-1\"><span class=\"toc-item-num\">1&nbsp;&nbsp;</span>データ準備</a></span></li><li><span><a href=\"#データ読み込み\" data-toc-modified-id=\"データ読み込み-2\"><span class=\"toc-item-num\">2&nbsp;&nbsp;</span>データ読み込み</a></span></li><li><span><a href=\"#がっちゃんこ\" data-toc-modified-id=\"がっちゃんこ-3\"><span class=\"toc-item-num\">3&nbsp;&nbsp;</span>がっちゃんこ</a></span><ul class=\"toc-item\"><li><span><a href=\"#レコード数を1年分（35,040件）に戻す\" data-toc-modified-id=\"レコード数を1年分（35,040件）に戻す-3.1\"><span class=\"toc-item-num\">3.1&nbsp;&nbsp;</span>レコード数を1年分（35,040件）に戻す</a></span></li></ul></li><li><span><a href=\"#教師データと訓練データの作成の作成\" data-toc-modified-id=\"教師データと訓練データの作成の作成-4\"><span class=\"toc-item-num\">4&nbsp;&nbsp;</span>教師データと訓練データの作成の作成</a></span><ul class=\"toc-item\"><li><span><a href=\"#訓練データ\" data-toc-modified-id=\"訓練データ-4.1\"><span class=\"toc-item-num\">4.1&nbsp;&nbsp;</span>訓練データ</a></span></li><li><span><a href=\"#教師データ\" data-toc-modified-id=\"教師データ-4.2\"><span class=\"toc-item-num\">4.2&nbsp;&nbsp;</span>教師データ</a></span></li></ul></li><li><span><a href=\"#Chainerで予測\" data-toc-modified-id=\"Chainerで予測-5\"><span class=\"toc-item-num\">5&nbsp;&nbsp;</span>Chainerで予測</a></span><ul class=\"toc-item\"><li><span><a href=\"#標準化\" data-toc-modified-id=\"標準化-5.1\"><span class=\"toc-item-num\">5.1&nbsp;&nbsp;</span>標準化</a></span></li><li><span><a href=\"#TupleDatasetを作成\" data-toc-modified-id=\"TupleDatasetを作成-5.2\"><span class=\"toc-item-num\">5.2&nbsp;&nbsp;</span>TupleDatasetを作成</a></span></li><li><span><a href=\"#Iteratorの作成\" data-toc-modified-id=\"Iteratorの作成-5.3\"><span class=\"toc-item-num\">5.3&nbsp;&nbsp;</span>Iteratorの作成</a></span></li><li><span><a href=\"#ライブラリーのインポート\" data-toc-modified-id=\"ライブラリーのインポート-5.4\"><span class=\"toc-item-num\">5.4&nbsp;&nbsp;</span>ライブラリーのインポート</a></span></li><li><span><a href=\"#LSTMネットワークの作成\" data-toc-modified-id=\"LSTMネットワークの作成-5.5\"><span class=\"toc-item-num\">5.5&nbsp;&nbsp;</span>LSTMネットワークの作成</a></span></li><li><span><a href=\"#モデルの作成\" data-toc-modified-id=\"モデルの作成-5.6\"><span class=\"toc-item-num\">5.6&nbsp;&nbsp;</span>モデルの作成</a></span></li><li><span><a href=\"#オプティマイザの設定\" data-toc-modified-id=\"オプティマイザの設定-5.7\"><span class=\"toc-item-num\">5.7&nbsp;&nbsp;</span>オプティマイザの設定</a></span></li><li><span><a href=\"#Updaterの作成\" data-toc-modified-id=\"Updaterの作成-5.8\"><span class=\"toc-item-num\">5.8&nbsp;&nbsp;</span>Updaterの作成</a></span></li><li><span><a href=\"#Trainerの準備\" data-toc-modified-id=\"Trainerの準備-5.9\"><span class=\"toc-item-num\">5.9&nbsp;&nbsp;</span>Trainerの準備</a></span></li><li><span><a href=\"#実行\" data-toc-modified-id=\"実行-5.10\"><span class=\"toc-item-num\">5.10&nbsp;&nbsp;</span>実行</a></span></li></ul></li><li><span><a href=\"#モデルの保存\" data-toc-modified-id=\"モデルの保存-6\"><span class=\"toc-item-num\">6&nbsp;&nbsp;</span>モデルの保存</a></span></li><li><span><a href=\"#モデルの読み込み\" data-toc-modified-id=\"モデルの読み込み-7\"><span class=\"toc-item-num\">7&nbsp;&nbsp;</span>モデルの読み込み</a></span></li><li><span><a href=\"#学習、評価にも使用していないデータで検証\" data-toc-modified-id=\"学習、評価にも使用していないデータで検証-8\"><span class=\"toc-item-num\">8&nbsp;&nbsp;</span>学習、評価にも使用していないデータで検証</a></span></li></ul></div>"
   ]
  },
  {
   "cell_type": "markdown",
   "metadata": {},
   "source": [
    "## データ準備"
   ]
  },
  {
   "cell_type": "code",
   "execution_count": 1,
   "metadata": {},
   "outputs": [],
   "source": [
    "import pandas as pd \n",
    "import numpy as np\n",
    "import copy\n",
    "from datetime import datetime as dt\n",
    "\n",
    "from matplotlib import pyplot as plt\n",
    "import seaborn as sns\n",
    "\n",
    "# warningの抑止\n",
    "import warnings\n",
    "warnings.filterwarnings('ignore')\n",
    "\n",
    "# メモリ解放\n",
    "import gc"
   ]
  },
  {
   "cell_type": "markdown",
   "metadata": {
    "heading_collapsed": true
   },
   "source": [
    "## データ読み込み"
   ]
  },
  {
   "cell_type": "code",
   "execution_count": null,
   "metadata": {
    "hidden": true
   },
   "outputs": [],
   "source": [
    "pd.set_option(\"display.max_columns\", 80)\n",
    "\n",
    "# データを読み込む\n",
    "group_a_df = pd.read_csv(\"data/train_final_group_a.csv\")\n",
    "group_b_df = pd.read_csv(\"data/train_final_group_b.csv\")\n",
    "group_c_df = pd.read_csv(\"data/train_final_group_c.csv\")\n",
    "\n",
    "group_a_df.shape, group_b_df.shape, group_c_df.shape"
   ]
  },
  {
   "cell_type": "markdown",
   "metadata": {
    "heading_collapsed": true
   },
   "source": [
    "## がっちゃんこ"
   ]
  },
  {
   "cell_type": "code",
   "execution_count": null,
   "metadata": {
    "hidden": true
   },
   "outputs": [],
   "source": [
    "df = pd.concat([group_a_df, group_b_df,group_c_df])\n",
    "display(df.head(), df.shape)"
   ]
  },
  {
   "cell_type": "markdown",
   "metadata": {
    "hidden": true
   },
   "source": [
    "### レコード数を1年分（35,040件）に戻す"
   ]
  },
  {
   "cell_type": "code",
   "execution_count": null,
   "metadata": {
    "hidden": true
   },
   "outputs": [],
   "source": [
    "ts_group = df.groupby([\"year\", \"month\", \"day\", \"hour\", \"minute\"])\n",
    "ts_df = ts_group.count()\n",
    "\n",
    "display(ts_df.head(), ts_df.shape)"
   ]
  },
  {
   "cell_type": "code",
   "execution_count": null,
   "metadata": {
    "hidden": true
   },
   "outputs": [],
   "source": [
    "# 複合インデックスを解除\n",
    "ts_df.reset_index(inplace=True)\n",
    "\n",
    "display(ts_df.head(), ts_df.shape)"
   ]
  },
  {
   "cell_type": "code",
   "execution_count": null,
   "metadata": {
    "hidden": true,
    "scrolled": true
   },
   "outputs": [],
   "source": [
    "ts_df[\"area_a\"] = df.query(\"CALL_TYPE == 'A'\")[\"area_a\"]\n",
    "ts_df[\"area_b\"] = df.query(\"CALL_TYPE == 'B'\")[\"area_b\"]\n",
    "ts_df[\"area_c_other\"] = df.query(\"CALL_TYPE == 'C'\")[\"area_c_other\"]\n",
    "ts_df[\"area_c_00\"] = df.query(\"CALL_TYPE == 'C'\")[\"area_c_00\"]\n",
    "ts_df[\"area_c_01\"] = df.query(\"CALL_TYPE == 'C'\")[\"area_c_01\"]\n",
    "ts_df[\"area_c_02\"] = df.query(\"CALL_TYPE == 'C'\")[\"area_c_02\"]\n",
    "ts_df[\"area_c_03\"] = df.query(\"CALL_TYPE == 'C'\")[\"area_c_03\"]\n",
    "ts_df[\"area_c_04\"] = df.query(\"CALL_TYPE == 'C'\")[\"area_c_04\"]\n",
    "ts_df[\"area_c_10\"] = df.query(\"CALL_TYPE == 'C'\")[\"area_c_10\"]\n",
    "ts_df[\"area_c_11\"] = df.query(\"CALL_TYPE == 'C'\")[\"area_c_11\"]\n",
    "ts_df[\"area_c_12\"] = df.query(\"CALL_TYPE == 'C'\")[\"area_c_12\"]\n",
    "ts_df[\"area_c_13\"] = df.query(\"CALL_TYPE == 'C'\")[\"area_c_13\"]\n",
    "ts_df[\"area_c_14\"] = df.query(\"CALL_TYPE == 'C'\")[\"area_c_14\"]\n",
    "ts_df[\"area_c_20\"] = df.query(\"CALL_TYPE == 'C'\")[\"area_c_20\"]\n",
    "ts_df[\"area_c_21\"] = df.query(\"CALL_TYPE == 'C'\")[\"area_c_21\"]\n",
    "ts_df[\"area_c_22\"] = df.query(\"CALL_TYPE == 'C'\")[\"area_c_22\"]\n",
    "ts_df[\"area_c_23\"] = df.query(\"CALL_TYPE == 'C'\")[\"area_c_23\"]\n",
    "ts_df[\"area_c_24\"] = df.query(\"CALL_TYPE == 'C'\")[\"area_c_24\"]\n",
    "ts_df[\"area_c_30\"] = df.query(\"CALL_TYPE == 'C'\")[\"area_c_30\"]\n",
    "ts_df[\"area_c_31\"] = df.query(\"CALL_TYPE == 'C'\")[\"area_c_31\"]\n",
    "ts_df[\"area_c_32\"] = df.query(\"CALL_TYPE == 'C'\")[\"area_c_32\"]\n",
    "ts_df[\"area_c_33\"] = df.query(\"CALL_TYPE == 'C'\")[\"area_c_33\"]\n",
    "ts_df[\"area_c_34\"] = df.query(\"CALL_TYPE == 'C'\")[\"area_c_34\"]\n",
    "ts_df[\"area_c_40\"] = df.query(\"CALL_TYPE == 'C'\")[\"area_c_40\"]\n",
    "ts_df[\"area_c_41\"] = df.query(\"CALL_TYPE == 'C'\")[\"area_c_41\"]\n",
    "ts_df[\"area_c_42\"] = df.query(\"CALL_TYPE == 'C'\")[\"area_c_42\"]\n",
    "ts_df[\"area_c_43\"] = df.query(\"CALL_TYPE == 'C'\")[\"area_c_43\"]\n",
    "ts_df[\"area_c_44\"] = df.query(\"CALL_TYPE == 'C'\")[\"area_c_44\"]\n",
    "\n",
    "ts_df[\"a_dir\"] = df.query(\"CALL_TYPE == 'A'\")[\"direction\"]\n",
    "ts_df[\"b_dir\"] = df.query(\"CALL_TYPE == 'B'\")[\"direction\"]\n",
    "ts_df[\"c_dir\"] = df.query(\"CALL_TYPE == 'C'\")[\"direction\"]\n",
    "\n",
    "ts_df[\"a_rid\"] = df.query(\"CALL_TYPE == 'A'\")[\"riding_time_mean\"]\n",
    "ts_df[\"b_rid\"] = df.query(\"CALL_TYPE == 'B'\")[\"riding_time_mean\"]\n",
    "ts_df[\"c_rid\"] = df.query(\"CALL_TYPE == 'C'\")[\"riding_time_mean\"]\n",
    "\n",
    "ts_df[\"a_dis\"] = df.query(\"CALL_TYPE == 'A'\")[\"distance_mean\"]\n",
    "ts_df[\"b_dis\"] = df.query(\"CALL_TYPE == 'B'\")[\"distance_mean\"]\n",
    "ts_df[\"c_dis\"] = df.query(\"CALL_TYPE == 'C'\")[\"distance_mean\"]\n",
    "\n",
    "display(ts_df.head(), ts_df.shape)"
   ]
  },
  {
   "cell_type": "code",
   "execution_count": null,
   "metadata": {
    "hidden": true,
    "scrolled": true
   },
   "outputs": [],
   "source": [
    "# 念の為、ソート\n",
    "ts_df.sort_values(\n",
    "    by=[\"year\", \"month\", \"day\", \"hour\", \"minute\"],\n",
    "    ascending=True,\n",
    "    inplace=True)\n",
    "\n",
    "\n",
    "# 要らない列を削除\n",
    "ts_df.drop([\"CALL_TYPE\", \"direction\", \"riding_time_mean\", \"distance_mean\"],\n",
    "        axis=1,\n",
    "        inplace=True)\n",
    "\n",
    "display(ts_df.head(), ts_df.shape)"
   ]
  },
  {
   "cell_type": "markdown",
   "metadata": {
    "heading_collapsed": true
   },
   "source": [
    "## 教師データと訓練データの作成の作成"
   ]
  },
  {
   "cell_type": "markdown",
   "metadata": {
    "heading_collapsed": true,
    "hidden": true
   },
   "source": [
    "### 訓練データ"
   ]
  },
  {
   "cell_type": "code",
   "execution_count": null,
   "metadata": {
    "hidden": true
   },
   "outputs": [],
   "source": [
    "28*672"
   ]
  },
  {
   "cell_type": "markdown",
   "metadata": {
    "hidden": true
   },
   "source": [
    "周期性を考えて、1週間分の過去データ= 96*7 = 672 レコードを 入力とする。（でかいので４日分に変更）\n",
    "1行、28*384 = 18816列"
   ]
  },
  {
   "cell_type": "code",
   "execution_count": null,
   "metadata": {
    "hidden": true
   },
   "outputs": [],
   "source": [
    "d = pd.DataFrame()\n",
    "\n",
    "a = pd.Series()\n",
    "b = pd.Series([5, 6, 7])\n",
    "c = pd.Series([10, 20, 40])\n",
    "\n",
    "a = pd.concat([a, b], ignore_index=True)\n",
    "a = pd.concat([a, c], ignore_index=True)\n",
    "\n",
    "d = d.append(a, ignore_index = True)\n",
    "d\n"
   ]
  },
  {
   "cell_type": "code",
   "execution_count": null,
   "metadata": {
    "hidden": true
   },
   "outputs": [],
   "source": [
    "past_df = pd.DataFrame()\n",
    "\n",
    "target_col = [\n",
    "    'area_a', 'area_b', 'area_c_other', 'area_c_00', 'area_c_01', 'area_c_02',\n",
    "    'area_c_03', 'area_c_04', 'area_c_10', 'area_c_11', 'area_c_12',\n",
    "    'area_c_13', 'area_c_14', 'area_c_20', 'area_c_21', 'area_c_22',\n",
    "    'area_c_23', 'area_c_24', 'area_c_30', 'area_c_31', 'area_c_32',\n",
    "    'area_c_33', 'area_c_34', 'area_c_40', 'area_c_41', 'area_c_42',\n",
    "    'area_c_43', 'area_c_44'\n",
    "]\n",
    "\n",
    "temp_series = pd.Series()\n",
    "for i in range(384, 35040):\n",
    "\n",
    "    if i % 100 == 0:\n",
    "        print(\"### \", i)\n",
    "\n",
    "    for j in range(i - 384, i):\n",
    "\n",
    "        # 384レコード分、シリーズとして結合していく\n",
    "        s = ts_df.iloc[j][target_col]\n",
    "        temp_series = pd.concat([temp_series, s], ignore_index=True)\n",
    "\n",
    "    # 過去の384レコード(=10752列)を行として追加\n",
    "    past_df = past_df.append(temp_series, ignore_index=True)\n",
    "    temp_series = pd.Series()"
   ]
  },
  {
   "cell_type": "code",
   "execution_count": null,
   "metadata": {
    "hidden": true
   },
   "outputs": [],
   "source": [
    "past.to_csv(\"data/input_lstm.csv\", index=False, header=True)\n",
    "display(past.head(), past.shape)"
   ]
  },
  {
   "cell_type": "markdown",
   "metadata": {
    "heading_collapsed": true,
    "hidden": true
   },
   "source": [
    "### 教師データ"
   ]
  },
  {
   "cell_type": "code",
   "execution_count": null,
   "metadata": {
    "hidden": true
   },
   "outputs": [],
   "source": [
    "ts_df.head()"
   ]
  },
  {
   "cell_type": "code",
   "execution_count": null,
   "metadata": {
    "hidden": true
   },
   "outputs": [],
   "source": [
    "current_df = ts_df.drop(\n",
    "    [\n",
    "        \"index\", \"year\", \"month\", \"day\", \"hour\", \"minute\", \"weekday\",\n",
    "        \"holiday\", \"a_dir\", \"b_dir\", \"c_dir\", \"a_rid\", \"b_rid\", \"c_rid\",\n",
    "        \"a_dis\", \"b_dis\", \"c_dis\"\n",
    "    ],\n",
    "    axis=1,\n",
    ")\n",
    "\n",
    "current_df.to_csv(\"data/output_lstm.csv\", index=False, header=True)\n",
    "display(true_df.head(), true_df.shape)"
   ]
  },
  {
   "cell_type": "markdown",
   "metadata": {},
   "source": [
    "## Chainerで予測"
   ]
  },
  {
   "cell_type": "markdown",
   "metadata": {},
   "source": [
    "### 標準化"
   ]
  },
  {
   "cell_type": "code",
   "execution_count": 2,
   "metadata": {},
   "outputs": [],
   "source": [
    "pd.set_option(\"display.max_columns\", 80)\n",
    "\n",
    "# データを読み込む\n",
    "# 全体の35040中、[24:34680] のデータ\n",
    "past_df = pd.read_csv(\"data/input_lstm_6hours.csv\")\n",
    "# past_df = pd.read_csv(\"data/input_lstm.csv\")\n",
    "# past_df = pd.read_csv(\"data/input_lstm_oneday.csv\")\n",
    "\n",
    "current_df = pd.read_csv(\"data/output_lstm_6hours.csv\")"
   ]
  },
  {
   "cell_type": "code",
   "execution_count": null,
   "metadata": {},
   "outputs": [],
   "source": [
    "past_df.shape, current_df.shape"
   ]
  },
  {
   "cell_type": "code",
   "execution_count": 3,
   "metadata": {},
   "outputs": [],
   "source": [
    "from sklearn.preprocessing import StandardScaler\n",
    "\n",
    "# 標準正規分布で標準化\n",
    "scaler = StandardScaler()\n",
    "\n",
    "X = np.array(past_df)\n",
    "X = scaler.fit_transform(X)\n",
    "\n",
    "Y = np.array(current_df)"
   ]
  },
  {
   "cell_type": "code",
   "execution_count": 4,
   "metadata": {},
   "outputs": [
    {
     "data": {
      "text/plain": [
       "7"
      ]
     },
     "execution_count": 4,
     "metadata": {},
     "output_type": "execute_result"
    }
   ],
   "source": [
    "del past_df\n",
    "del current_df\n",
    "gc.collect()"
   ]
  },
  {
   "cell_type": "code",
   "execution_count": 88,
   "metadata": {},
   "outputs": [],
   "source": [
    "from sklearn.model_selection import train_test_split\n",
    "\n",
    "# クロスバリデーション用にテストデータを分割(学習：75% テスト:25%)\n",
    "X_train, X_test, y_train, y_test = train_test_split(X, Y, random_state=1234, shuffle=False)"
   ]
  },
  {
   "cell_type": "code",
   "execution_count": 89,
   "metadata": {},
   "outputs": [],
   "source": [
    "# 訓練データをパラメータ調整用の検証データに分割\n",
    "X_train, X_valid, y_train, y_valid = train_test_split(X_train, y_train, random_state=1234, shuffle=False)"
   ]
  },
  {
   "cell_type": "markdown",
   "metadata": {},
   "source": [
    "### TupleDatasetを作成"
   ]
  },
  {
   "cell_type": "code",
   "execution_count": 90,
   "metadata": {},
   "outputs": [],
   "source": [
    "from chainer.datasets import tuple_dataset\n",
    "\n",
    "train_var = tuple_dataset.TupleDataset(X_train.astype(np.float32), y_train.astype(np.float32))\n",
    "\n",
    "valid_var = tuple_dataset.TupleDataset(X_valid.astype(np.float32), y_valid.astype(np.float32))\n",
    "\n",
    "test_var = tuple_dataset.TupleDataset(X_test.astype(np.float32), y_test.astype(np.float32))"
   ]
  },
  {
   "cell_type": "markdown",
   "metadata": {},
   "source": [
    "### Iteratorの作成"
   ]
  },
  {
   "cell_type": "code",
   "execution_count": 91,
   "metadata": {},
   "outputs": [],
   "source": [
    "from chainer import iterators\n",
    "\n",
    "# 4 * 24 * 7 = 672レコード(1週間)毎に、パラメータを更新する。\n",
    "batchsize = 672\n",
    "\n",
    "# train:イテレータの名前、batchsize:ミニバッチサイズ(時系列は意識するので、shufleしない)\n",
    "train_iter = iterators.SerialIterator(train_var, batchsize, shuffle=False)\n",
    "\n",
    "valid_iter = iterators.SerialIterator(valid_var, batchsize, repeat=False, shuffle=False)\n",
    "\n",
    "test_iter = iterators.SerialIterator(test_var, batchsize, repeat=False, shuffle=True)"
   ]
  },
  {
   "cell_type": "markdown",
   "metadata": {},
   "source": [
    "### ライブラリーのインポート"
   ]
  },
  {
   "cell_type": "code",
   "execution_count": 92,
   "metadata": {},
   "outputs": [],
   "source": [
    "# chainerと必要なパッケージをインポート\n",
    "import chainer\n",
    "import chainer.links as L\n",
    "import chainer.functions as F\n",
    "from chainer import Chain, Variable, datasets, optimizers\n",
    "\n",
    "from chainer import report, training\n",
    "from chainer.training import extensions\n",
    "import chainer.cuda"
   ]
  },
  {
   "cell_type": "markdown",
   "metadata": {},
   "source": [
    "### LSTMネットワークの作成"
   ]
  },
  {
   "cell_type": "code",
   "execution_count": 93,
   "metadata": {},
   "outputs": [],
   "source": [
    "class LSTM(Chain):\n",
    "    def __init__(self):\n",
    "        # Optimizerが最適化対象のパラメータをもつ事を暗示する。\n",
    "        super(LSTM, self).__init__()\n",
    "\n",
    "        with self.init_scope():                \n",
    "            self.l1 = L.Linear(672, 200)\n",
    "            self.l2 = L.LSTM(200, 200)\n",
    "            self.l3 = L.Linear(200, 28)\n",
    "\n",
    "    def reset_state(self):\n",
    "        self.l2.reset_state()  \n",
    "        \n",
    "        \n",
    "    def __call__(self, x):\n",
    "        \n",
    "        # データを受け取った際のforward計算\n",
    "        h = F.relu(self.l1(x))\n",
    "        h = F.dropout(h, ratio=0.7)\n",
    "        \n",
    "        h = F.relu( self.l2(h))\n",
    "#         h = F.dropout(h, ratio=0.6)\n",
    "        \n",
    "        h = F.relu( self.l3(h))\n",
    "    \n",
    "        # マイナスをゼロに変換         \n",
    "        return h\n",
    "    "
   ]
  },
  {
   "cell_type": "code",
   "execution_count": 94,
   "metadata": {},
   "outputs": [],
   "source": [
    "class LSTMRegressor(Chain):\n",
    "    def __init__(self, predictor):\n",
    "        super(LSTMRegressor, self).__init__(predictor=predictor)\n",
    "\n",
    "    def __call__(self, x, y):\n",
    "        pred = self.predictor(x)\n",
    "\n",
    "        sqrt_diff = (y - pred)**2\n",
    "        count_diff = np.sum(y != pred.data)\n",
    "\n",
    "        loss = F.sqrt(F.sum(sqrt_diff) / count_diff)\n",
    "\n",
    "        #         loss = F.mean_squared_error(pred, y)\n",
    "\n",
    "        #         mse = ((y - pred)**2)\n",
    "        #         loss = F.sqrt(F.sum(mse) / x.shape[0])\n",
    "        #         loss = F.sqrt(F.sum(mse) / x.shape[1] * x.shape[0])\n",
    "\n",
    "        #         loss = F.mean_absolute_error(pred, y)\n",
    "\n",
    "        #         mae = F.absolute_error(y, pred)\n",
    "        #         loss = F.sum(mae) / x.shape[0]\n",
    "\n",
    "        report({'loss': loss}, self)\n",
    "\n",
    "        return loss"
   ]
  },
  {
   "cell_type": "markdown",
   "metadata": {},
   "source": [
    "### モデルの作成"
   ]
  },
  {
   "cell_type": "code",
   "execution_count": 95,
   "metadata": {},
   "outputs": [],
   "source": [
    "model = LSTMRegressor(LSTM())"
   ]
  },
  {
   "cell_type": "markdown",
   "metadata": {},
   "source": [
    "### オプティマイザの設定"
   ]
  },
  {
   "cell_type": "code",
   "execution_count": 96,
   "metadata": {},
   "outputs": [
    {
     "data": {
      "text/plain": [
       "<chainer.optimizers.adam.Adam at 0x1a280074e0>"
      ]
     },
     "execution_count": 96,
     "metadata": {},
     "output_type": "execute_result"
    }
   ],
   "source": [
    "from chainer import optimizers\n",
    "\n",
    "# 最適化手法をAdamに指定\n",
    "optimizer = optimizers.Adam(alpha=0.01)\n",
    "\n",
    "# モデルにオプティマイザーを組み込む\n",
    "optimizer.setup(model)"
   ]
  },
  {
   "cell_type": "markdown",
   "metadata": {},
   "source": [
    "### Updaterの作成"
   ]
  },
  {
   "cell_type": "code",
   "execution_count": 97,
   "metadata": {},
   "outputs": [],
   "source": [
    "from chainer import training\n",
    "from chainer.cuda import to_cpu\n",
    "\n",
    "updater = training.StandardUpdater(train_iter, optimizer)"
   ]
  },
  {
   "cell_type": "markdown",
   "metadata": {},
   "source": [
    "### Trainerの準備"
   ]
  },
  {
   "cell_type": "code",
   "execution_count": 98,
   "metadata": {},
   "outputs": [],
   "source": [
    "trainer = training.Trainer(updater, (100, 'epoch'))\n",
    "\n",
    "trainer.extend(extensions.Evaluator(valid_iter, model))\n",
    "trainer.extend(extensions.dump_graph('main/loss'))\n",
    "trainer.extend(extensions.LogReport())\n",
    "trainer.extend(extensions.snapshot(), trigger=(10, 'epoch'))\n",
    "trainer.extend(extensions.PlotReport(['main/loss', 'validation/main/loss'], file_name='loss.png'))\n",
    "trainer.extend(extensions.PrintReport(['epoch', 'main/loss', 'validation/main/loss', 'elapsed_time']))\n",
    "# trainer.extend(extensions.ProgressBar())"
   ]
  },
  {
   "cell_type": "markdown",
   "metadata": {},
   "source": [
    "### 実行"
   ]
  },
  {
   "cell_type": "code",
   "execution_count": 99,
   "metadata": {
    "scrolled": true
   },
   "outputs": [
    {
     "name": "stdout",
     "output_type": "stream",
     "text": [
      "epoch       main/loss   validation/main/loss  elapsed_time\n",
      "\u001b[J1           6.36624     5.94346               16.5993       \n",
      "\u001b[J2           5.2445      4.8061                32.1837       \n",
      "\u001b[J3           4.31384     4.30661               48.2618       \n",
      "\u001b[J4           3.97513     4.05223               64.8422       \n",
      "\u001b[J5           3.84148     3.98857               80.5221       \n",
      "\u001b[J6           3.77777     3.95833               96.1965       \n",
      "\u001b[J7           3.72266     3.89862               117.871       \n",
      "\u001b[J8           3.71201     3.88292               142.795       \n",
      "\u001b[J9           3.70571     3.82547               159.861       \n",
      "\u001b[J10          3.66687     3.82239               179.072       \n",
      "\u001b[J11          3.65346     3.88461               198.79        \n",
      "\u001b[J12          3.62473     3.8639                215.459       \n",
      "\u001b[J13          3.62857     3.87685               231.981       \n",
      "\u001b[J14          3.62388     3.79598               249.166       \n",
      "\u001b[J15          3.6091      3.73598               266.883       \n",
      "\u001b[J16          3.59507     3.68958               285.415       \n",
      "\u001b[J17          3.5887      3.75956               308.235       \n",
      "\u001b[J18          3.58798     3.76544               327.962       \n",
      "\u001b[J19          3.59852     3.79252               343.434       \n",
      "\u001b[J20          3.58388     3.8995                358.84        \n",
      "\u001b[J21          3.59439     3.8184                377.241       \n",
      "\u001b[J22          3.58016     3.84533               394.438       \n"
     ]
    },
    {
     "ename": "KeyboardInterrupt",
     "evalue": "",
     "output_type": "error",
     "traceback": [
      "\u001b[0;31m---------------------------------------------------------------------------\u001b[0m",
      "\u001b[0;31mKeyboardInterrupt\u001b[0m                         Traceback (most recent call last)",
      "\u001b[0;32m<ipython-input-99-041e2033e90a>\u001b[0m in \u001b[0;36m<module>\u001b[0;34m()\u001b[0m\n\u001b[0;32m----> 1\u001b[0;31m \u001b[0mtrainer\u001b[0m\u001b[0;34m.\u001b[0m\u001b[0mrun\u001b[0m\u001b[0;34m(\u001b[0m\u001b[0;34m)\u001b[0m\u001b[0;34m\u001b[0m\u001b[0m\n\u001b[0m",
      "\u001b[0;32m~/.pyenv/versions/anaconda3-5.1.0/lib/python3.6/site-packages/chainer/training/trainer.py\u001b[0m in \u001b[0;36mrun\u001b[0;34m(self, show_loop_exception_msg)\u001b[0m\n\u001b[1;32m    313\u001b[0m                 \u001b[0mself\u001b[0m\u001b[0;34m.\u001b[0m\u001b[0mobservation\u001b[0m \u001b[0;34m=\u001b[0m \u001b[0;34m{\u001b[0m\u001b[0;34m}\u001b[0m\u001b[0;34m\u001b[0m\u001b[0m\n\u001b[1;32m    314\u001b[0m                 \u001b[0;32mwith\u001b[0m \u001b[0mreporter\u001b[0m\u001b[0;34m.\u001b[0m\u001b[0mscope\u001b[0m\u001b[0;34m(\u001b[0m\u001b[0mself\u001b[0m\u001b[0;34m.\u001b[0m\u001b[0mobservation\u001b[0m\u001b[0;34m)\u001b[0m\u001b[0;34m:\u001b[0m\u001b[0;34m\u001b[0m\u001b[0m\n\u001b[0;32m--> 315\u001b[0;31m                     \u001b[0mupdate\u001b[0m\u001b[0;34m(\u001b[0m\u001b[0;34m)\u001b[0m\u001b[0;34m\u001b[0m\u001b[0m\n\u001b[0m\u001b[1;32m    316\u001b[0m                     \u001b[0;32mfor\u001b[0m \u001b[0mname\u001b[0m\u001b[0;34m,\u001b[0m \u001b[0mentry\u001b[0m \u001b[0;32min\u001b[0m \u001b[0mextensions\u001b[0m\u001b[0;34m:\u001b[0m\u001b[0;34m\u001b[0m\u001b[0m\n\u001b[1;32m    317\u001b[0m                         \u001b[0;32mif\u001b[0m \u001b[0mentry\u001b[0m\u001b[0;34m.\u001b[0m\u001b[0mtrigger\u001b[0m\u001b[0;34m(\u001b[0m\u001b[0mself\u001b[0m\u001b[0;34m)\u001b[0m\u001b[0;34m:\u001b[0m\u001b[0;34m\u001b[0m\u001b[0m\n",
      "\u001b[0;32m~/.pyenv/versions/anaconda3-5.1.0/lib/python3.6/site-packages/chainer/training/updaters/standard_updater.py\u001b[0m in \u001b[0;36mupdate\u001b[0;34m(self)\u001b[0m\n\u001b[1;32m    163\u001b[0m \u001b[0;34m\u001b[0m\u001b[0m\n\u001b[1;32m    164\u001b[0m         \"\"\"\n\u001b[0;32m--> 165\u001b[0;31m         \u001b[0mself\u001b[0m\u001b[0;34m.\u001b[0m\u001b[0mupdate_core\u001b[0m\u001b[0;34m(\u001b[0m\u001b[0;34m)\u001b[0m\u001b[0;34m\u001b[0m\u001b[0m\n\u001b[0m\u001b[1;32m    166\u001b[0m         \u001b[0mself\u001b[0m\u001b[0;34m.\u001b[0m\u001b[0miteration\u001b[0m \u001b[0;34m+=\u001b[0m \u001b[0;36m1\u001b[0m\u001b[0;34m\u001b[0m\u001b[0m\n\u001b[1;32m    167\u001b[0m \u001b[0;34m\u001b[0m\u001b[0m\n",
      "\u001b[0;32m~/.pyenv/versions/anaconda3-5.1.0/lib/python3.6/site-packages/chainer/training/updaters/standard_updater.py\u001b[0m in \u001b[0;36mupdate_core\u001b[0;34m(self)\u001b[0m\n\u001b[1;32m    175\u001b[0m \u001b[0;34m\u001b[0m\u001b[0m\n\u001b[1;32m    176\u001b[0m         \u001b[0;32mif\u001b[0m \u001b[0misinstance\u001b[0m\u001b[0;34m(\u001b[0m\u001b[0min_arrays\u001b[0m\u001b[0;34m,\u001b[0m \u001b[0mtuple\u001b[0m\u001b[0;34m)\u001b[0m\u001b[0;34m:\u001b[0m\u001b[0;34m\u001b[0m\u001b[0m\n\u001b[0;32m--> 177\u001b[0;31m             \u001b[0moptimizer\u001b[0m\u001b[0;34m.\u001b[0m\u001b[0mupdate\u001b[0m\u001b[0;34m(\u001b[0m\u001b[0mloss_func\u001b[0m\u001b[0;34m,\u001b[0m \u001b[0;34m*\u001b[0m\u001b[0min_arrays\u001b[0m\u001b[0;34m)\u001b[0m\u001b[0;34m\u001b[0m\u001b[0m\n\u001b[0m\u001b[1;32m    178\u001b[0m         \u001b[0;32melif\u001b[0m \u001b[0misinstance\u001b[0m\u001b[0;34m(\u001b[0m\u001b[0min_arrays\u001b[0m\u001b[0;34m,\u001b[0m \u001b[0mdict\u001b[0m\u001b[0;34m)\u001b[0m\u001b[0;34m:\u001b[0m\u001b[0;34m\u001b[0m\u001b[0m\n\u001b[1;32m    179\u001b[0m             \u001b[0moptimizer\u001b[0m\u001b[0;34m.\u001b[0m\u001b[0mupdate\u001b[0m\u001b[0;34m(\u001b[0m\u001b[0mloss_func\u001b[0m\u001b[0;34m,\u001b[0m \u001b[0;34m**\u001b[0m\u001b[0min_arrays\u001b[0m\u001b[0;34m)\u001b[0m\u001b[0;34m\u001b[0m\u001b[0m\n",
      "\u001b[0;32m~/.pyenv/versions/anaconda3-5.1.0/lib/python3.6/site-packages/chainer/optimizer.py\u001b[0m in \u001b[0;36mupdate\u001b[0;34m(self, lossfun, *args, **kwds)\u001b[0m\n\u001b[1;32m    683\u001b[0m             \u001b[0;32melse\u001b[0m\u001b[0;34m:\u001b[0m\u001b[0;34m\u001b[0m\u001b[0m\n\u001b[1;32m    684\u001b[0m                 \u001b[0mself\u001b[0m\u001b[0;34m.\u001b[0m\u001b[0mtarget\u001b[0m\u001b[0;34m.\u001b[0m\u001b[0mzerograds\u001b[0m\u001b[0;34m(\u001b[0m\u001b[0;34m)\u001b[0m\u001b[0;34m\u001b[0m\u001b[0m\n\u001b[0;32m--> 685\u001b[0;31m             \u001b[0mloss\u001b[0m\u001b[0;34m.\u001b[0m\u001b[0mbackward\u001b[0m\u001b[0;34m(\u001b[0m\u001b[0mloss_scale\u001b[0m\u001b[0;34m=\u001b[0m\u001b[0mself\u001b[0m\u001b[0;34m.\u001b[0m\u001b[0m_loss_scale\u001b[0m\u001b[0;34m)\u001b[0m\u001b[0;34m\u001b[0m\u001b[0m\n\u001b[0m\u001b[1;32m    686\u001b[0m             \u001b[0;32mdel\u001b[0m \u001b[0mloss\u001b[0m\u001b[0;34m\u001b[0m\u001b[0m\n\u001b[1;32m    687\u001b[0m \u001b[0;34m\u001b[0m\u001b[0m\n",
      "\u001b[0;32m~/.pyenv/versions/anaconda3-5.1.0/lib/python3.6/site-packages/chainer/variable.py\u001b[0m in \u001b[0;36mbackward\u001b[0;34m(self, retain_grad, enable_double_backprop, loss_scale)\u001b[0m\n\u001b[1;32m    961\u001b[0m         \"\"\"\n\u001b[1;32m    962\u001b[0m         \u001b[0;32mwith\u001b[0m \u001b[0mchainer\u001b[0m\u001b[0;34m.\u001b[0m\u001b[0musing_config\u001b[0m\u001b[0;34m(\u001b[0m\u001b[0;34m'enable_backprop'\u001b[0m\u001b[0;34m,\u001b[0m \u001b[0menable_double_backprop\u001b[0m\u001b[0;34m)\u001b[0m\u001b[0;34m:\u001b[0m\u001b[0;34m\u001b[0m\u001b[0m\n\u001b[0;32m--> 963\u001b[0;31m             \u001b[0mself\u001b[0m\u001b[0;34m.\u001b[0m\u001b[0m_backward_main\u001b[0m\u001b[0;34m(\u001b[0m\u001b[0mretain_grad\u001b[0m\u001b[0;34m,\u001b[0m \u001b[0mloss_scale\u001b[0m\u001b[0;34m)\u001b[0m\u001b[0;34m\u001b[0m\u001b[0m\n\u001b[0m\u001b[1;32m    964\u001b[0m \u001b[0;34m\u001b[0m\u001b[0m\n\u001b[1;32m    965\u001b[0m     \u001b[0;32mdef\u001b[0m \u001b[0m_backward_main\u001b[0m\u001b[0;34m(\u001b[0m\u001b[0mself\u001b[0m\u001b[0;34m,\u001b[0m \u001b[0mretain_grad\u001b[0m\u001b[0;34m,\u001b[0m \u001b[0mloss_scale\u001b[0m\u001b[0;34m)\u001b[0m\u001b[0;34m:\u001b[0m\u001b[0;34m\u001b[0m\u001b[0m\n",
      "\u001b[0;32m~/.pyenv/versions/anaconda3-5.1.0/lib/python3.6/site-packages/chainer/variable.py\u001b[0m in \u001b[0;36m_backward_main\u001b[0;34m(self, retain_grad, loss_scale)\u001b[0m\n\u001b[1;32m   1038\u001b[0m \u001b[0;34m\u001b[0m\u001b[0m\n\u001b[1;32m   1039\u001b[0m                 _backprop_utils.backprop_step(\n\u001b[0;32m-> 1040\u001b[0;31m                     func, target_input_indexes, out_grad, in_grad)\n\u001b[0m\u001b[1;32m   1041\u001b[0m \u001b[0;34m\u001b[0m\u001b[0m\n\u001b[1;32m   1042\u001b[0m                 \u001b[0;32mfor\u001b[0m \u001b[0mhook\u001b[0m \u001b[0;32min\u001b[0m \u001b[0mhooks\u001b[0m\u001b[0;34m:\u001b[0m\u001b[0;34m\u001b[0m\u001b[0m\n",
      "\u001b[0;32m~/.pyenv/versions/anaconda3-5.1.0/lib/python3.6/site-packages/chainer/_backprop_utils.py\u001b[0m in \u001b[0;36mbackprop_step\u001b[0;34m(func, target_input_indexes, grad_outputs, grad_inputs)\u001b[0m\n\u001b[1;32m    104\u001b[0m     \u001b[0;32melse\u001b[0m\u001b[0;34m:\u001b[0m  \u001b[0;31m# otherwise, backward should be overridden\u001b[0m\u001b[0;34m\u001b[0m\u001b[0m\n\u001b[1;32m    105\u001b[0m         gxs = func.backward(\n\u001b[0;32m--> 106\u001b[0;31m             target_input_indexes, grad_outputs)\n\u001b[0m\u001b[1;32m    107\u001b[0m \u001b[0;34m\u001b[0m\u001b[0m\n\u001b[1;32m    108\u001b[0m         \u001b[0;32mif\u001b[0m \u001b[0mis_debug\u001b[0m\u001b[0;34m:\u001b[0m\u001b[0;34m\u001b[0m\u001b[0m\n",
      "\u001b[0;32m~/.pyenv/versions/anaconda3-5.1.0/lib/python3.6/site-packages/chainer/functions/connection/linear.py\u001b[0m in \u001b[0;36mbackward\u001b[0;34m(self, indexes, grad_outputs)\u001b[0m\n\u001b[1;32m    124\u001b[0m         \u001b[0;32mwith\u001b[0m \u001b[0mchainer\u001b[0m\u001b[0;34m.\u001b[0m\u001b[0musing_config\u001b[0m\u001b[0;34m(\u001b[0m\u001b[0;34m'use_ideep'\u001b[0m\u001b[0;34m,\u001b[0m \u001b[0mself\u001b[0m\u001b[0;34m.\u001b[0m\u001b[0m_config_use_ideep\u001b[0m\u001b[0;34m)\u001b[0m\u001b[0;34m:\u001b[0m\u001b[0;34m\u001b[0m\u001b[0m\n\u001b[1;32m    125\u001b[0m             \u001b[0;32mif\u001b[0m \u001b[0;36m0\u001b[0m \u001b[0;32min\u001b[0m \u001b[0mindexes\u001b[0m\u001b[0;34m:\u001b[0m\u001b[0;34m\u001b[0m\u001b[0m\n\u001b[0;32m--> 126\u001b[0;31m                 \u001b[0mgx\u001b[0m\u001b[0;34m,\u001b[0m \u001b[0;34m=\u001b[0m \u001b[0mLinearGradData\u001b[0m\u001b[0;34m(\u001b[0m\u001b[0;34m)\u001b[0m\u001b[0;34m.\u001b[0m\u001b[0mapply\u001b[0m\u001b[0;34m(\u001b[0m\u001b[0;34m(\u001b[0m\u001b[0mW\u001b[0m\u001b[0;34m,\u001b[0m \u001b[0mgy\u001b[0m\u001b[0;34m)\u001b[0m\u001b[0;34m)\u001b[0m\u001b[0;34m\u001b[0m\u001b[0m\n\u001b[0m\u001b[1;32m    127\u001b[0m                 \u001b[0mret\u001b[0m\u001b[0;34m.\u001b[0m\u001b[0mappend\u001b[0m\u001b[0;34m(\u001b[0m\u001b[0mchainer\u001b[0m\u001b[0;34m.\u001b[0m\u001b[0mfunctions\u001b[0m\u001b[0;34m.\u001b[0m\u001b[0mcast\u001b[0m\u001b[0;34m(\u001b[0m\u001b[0mgx\u001b[0m\u001b[0;34m,\u001b[0m \u001b[0mx\u001b[0m\u001b[0;34m.\u001b[0m\u001b[0mdtype\u001b[0m\u001b[0;34m)\u001b[0m\u001b[0;34m)\u001b[0m\u001b[0;34m\u001b[0m\u001b[0m\n\u001b[1;32m    128\u001b[0m             \u001b[0;32mif\u001b[0m \u001b[0;36m1\u001b[0m \u001b[0;32min\u001b[0m \u001b[0mindexes\u001b[0m\u001b[0;34m:\u001b[0m\u001b[0;34m\u001b[0m\u001b[0m\n",
      "\u001b[0;32m~/.pyenv/versions/anaconda3-5.1.0/lib/python3.6/site-packages/chainer/function_node.py\u001b[0m in \u001b[0;36mapply\u001b[0;34m(self, inputs)\u001b[0m\n\u001b[1;32m    261\u001b[0m                 \u001b[0moutputs\u001b[0m \u001b[0;34m=\u001b[0m \u001b[0mstatic_forward_optimizations\u001b[0m\u001b[0;34m(\u001b[0m\u001b[0mself\u001b[0m\u001b[0;34m,\u001b[0m \u001b[0min_data\u001b[0m\u001b[0;34m)\u001b[0m\u001b[0;34m\u001b[0m\u001b[0m\n\u001b[1;32m    262\u001b[0m             \u001b[0;32melse\u001b[0m\u001b[0;34m:\u001b[0m\u001b[0;34m\u001b[0m\u001b[0m\n\u001b[0;32m--> 263\u001b[0;31m                 \u001b[0moutputs\u001b[0m \u001b[0;34m=\u001b[0m \u001b[0mself\u001b[0m\u001b[0;34m.\u001b[0m\u001b[0mforward\u001b[0m\u001b[0;34m(\u001b[0m\u001b[0min_data\u001b[0m\u001b[0;34m)\u001b[0m\u001b[0;34m\u001b[0m\u001b[0m\n\u001b[0m\u001b[1;32m    264\u001b[0m \u001b[0;34m\u001b[0m\u001b[0m\n\u001b[1;32m    265\u001b[0m         \u001b[0;31m# Check for output array types\u001b[0m\u001b[0;34m\u001b[0m\u001b[0;34m\u001b[0m\u001b[0m\n",
      "\u001b[0;32m~/.pyenv/versions/anaconda3-5.1.0/lib/python3.6/site-packages/chainer/functions/connection/linear.py\u001b[0m in \u001b[0;36mforward\u001b[0;34m(self, inputs)\u001b[0m\n\u001b[1;32m    156\u001b[0m             \u001b[0mgy\u001b[0m \u001b[0;34m=\u001b[0m \u001b[0mnumpy\u001b[0m\u001b[0;34m.\u001b[0m\u001b[0mascontiguousarray\u001b[0m\u001b[0;34m(\u001b[0m\u001b[0mgy\u001b[0m\u001b[0;34m)\u001b[0m\u001b[0;34m\u001b[0m\u001b[0m\n\u001b[1;32m    157\u001b[0m \u001b[0;34m\u001b[0m\u001b[0m\n\u001b[0;32m--> 158\u001b[0;31m         \u001b[0mgx\u001b[0m \u001b[0;34m=\u001b[0m \u001b[0mgy\u001b[0m\u001b[0;34m.\u001b[0m\u001b[0mdot\u001b[0m\u001b[0;34m(\u001b[0m\u001b[0mW\u001b[0m\u001b[0;34m)\u001b[0m\u001b[0;34m.\u001b[0m\u001b[0mastype\u001b[0m\u001b[0;34m(\u001b[0m\u001b[0mgy\u001b[0m\u001b[0;34m.\u001b[0m\u001b[0mdtype\u001b[0m\u001b[0;34m,\u001b[0m \u001b[0mcopy\u001b[0m\u001b[0;34m=\u001b[0m\u001b[0;32mFalse\u001b[0m\u001b[0;34m)\u001b[0m\u001b[0;34m\u001b[0m\u001b[0m\n\u001b[0m\u001b[1;32m    159\u001b[0m         \u001b[0;32mreturn\u001b[0m \u001b[0mgx\u001b[0m\u001b[0;34m,\u001b[0m\u001b[0;34m\u001b[0m\u001b[0m\n\u001b[1;32m    160\u001b[0m \u001b[0;34m\u001b[0m\u001b[0m\n",
      "\u001b[0;31mKeyboardInterrupt\u001b[0m: "
     ]
    }
   ],
   "source": [
    "trainer.run()"
   ]
  },
  {
   "cell_type": "markdown",
   "metadata": {},
   "source": [
    "## モデルの保存"
   ]
  },
  {
   "cell_type": "code",
   "execution_count": null,
   "metadata": {},
   "outputs": [],
   "source": [
    "from chainer import serializers\n",
    "\n",
    "serializers.save_npz('lstm.model', model)\n",
    "\n",
    "# check if the model is saved.\n",
    "%ls -la lstm.model"
   ]
  },
  {
   "cell_type": "markdown",
   "metadata": {},
   "source": [
    "## モデルの読み込み"
   ]
  },
  {
   "cell_type": "code",
   "execution_count": null,
   "metadata": {},
   "outputs": [],
   "source": [
    "# Create the infrence (evaluation) model as the previous model\n",
    "infer_model = LSTMRegressor(LSTM())\n",
    "\n",
    "# Load the saved parameters into the parameters of the new inference model to overwrite\n",
    "serializers.load_npz('lstm.model', infer_model)"
   ]
  },
  {
   "cell_type": "markdown",
   "metadata": {},
   "source": [
    "## 学習、評価にも使用していないデータで検証"
   ]
  },
  {
   "cell_type": "code",
   "execution_count": null,
   "metadata": {},
   "outputs": [],
   "source": [
    "import pydot\n",
    "from IPython.display import Image, display\n",
    "\n",
    "def show_graph():\n",
    "    graph = pydot.graph_from_dot_file('result/cg.dot') # load from .dot file\n",
    "    graph[0].write_png('graph.png')\n",
    "    display(Image('graph.png', width=600, height=600))"
   ]
  },
  {
   "cell_type": "code",
   "execution_count": null,
   "metadata": {},
   "outputs": [],
   "source": [
    "def show_loss():\n",
    "    display(Image(filename='result/loss.png'))"
   ]
  },
  {
   "cell_type": "code",
   "execution_count": null,
   "metadata": {},
   "outputs": [],
   "source": [
    "test_evaluator = extensions.Evaluator(test_iter, model)\n",
    "results = test_evaluator()\n",
    "print('Test loss:', results['main/loss'])"
   ]
  },
  {
   "cell_type": "code",
   "execution_count": null,
   "metadata": {},
   "outputs": [],
   "source": [
    "test_batch = test_iter.next()"
   ]
  },
  {
   "cell_type": "code",
   "execution_count": null,
   "metadata": {},
   "outputs": [],
   "source": [
    "from chainer.dataset import concat_examples\n",
    "x, t = concat_examples(test_batch)\n",
    "\n",
    "y = model.predictor(x)"
   ]
  },
  {
   "cell_type": "code",
   "execution_count": null,
   "metadata": {},
   "outputs": [],
   "source": [
    "x.shape"
   ]
  },
  {
   "cell_type": "code",
   "execution_count": null,
   "metadata": {},
   "outputs": [],
   "source": [
    "a = []\n",
    "for i in range(0, 672):\n",
    "    a.append(((t[i] - np.round(y[i].data))**2).sum())\n",
    "\n",
    "# a.sum()/672\n",
    "np.sqrt(np.array(a).sum() / 672)"
   ]
  },
  {
   "cell_type": "code",
   "execution_count": null,
   "metadata": {},
   "outputs": [],
   "source": [
    "(3 -2.5)**2 + (-0.5 - 0)** 2 + (7 - 8)** 2 "
   ]
  },
  {
   "cell_type": "code",
   "execution_count": null,
   "metadata": {},
   "outputs": [],
   "source": [
    "x.shape"
   ]
  },
  {
   "cell_type": "code",
   "execution_count": null,
   "metadata": {},
   "outputs": [],
   "source": [
    "# display(y[0], t[0])\n",
    "display(y[16].data, np.round(y[16].data), t[16])"
   ]
  },
  {
   "cell_type": "code",
   "execution_count": null,
   "metadata": {},
   "outputs": [],
   "source": [
    "np.sqrt( ((t[0] -y[0].data)**2).sum())"
   ]
  },
  {
   "cell_type": "code",
   "execution_count": null,
   "metadata": {},
   "outputs": [],
   "source": [
    "(t[0] -y[0].data)**2"
   ]
  },
  {
   "cell_type": "code",
   "execution_count": null,
   "metadata": {},
   "outputs": [],
   "source": [
    "((t[0] -y[0].data)**2).sum()"
   ]
  },
  {
   "cell_type": "code",
   "execution_count": null,
   "metadata": {},
   "outputs": [],
   "source": [
    "np.sqrt(21.348974)"
   ]
  },
  {
   "cell_type": "code",
   "execution_count": 57,
   "metadata": {},
   "outputs": [
    {
     "name": "stdout",
     "output_type": "stream",
     "text": [
      "variable([[1. 2. 6.]\n",
      "          [1. 2. 6.]])\n"
     ]
    },
    {
     "data": {
      "text/plain": [
       "variable(9.)"
      ]
     },
     "execution_count": 57,
     "metadata": {},
     "output_type": "execute_result"
    }
   ],
   "source": [
    "a = np.array([[1,2,3], [2,4,9]])\n",
    "b = np.array([[2,4,9], [1,2,3]])\n",
    "\n",
    "mae = F.absolute_error(a.astype(np.float32) , b.astype(np.float32))\n",
    "print(mae)\n",
    "F.sum(mae) / a.shape[0]\n"
   ]
  },
  {
   "cell_type": "code",
   "execution_count": 60,
   "metadata": {},
   "outputs": [
    {
     "data": {
      "text/plain": [
       "6"
      ]
     },
     "execution_count": 60,
     "metadata": {},
     "output_type": "execute_result"
    }
   ],
   "source": [
    "a = a.astype(np.float32)\n",
    "b = b.astype(np.float32)\n",
    "\n",
    "np.sum(a != b)"
   ]
  },
  {
   "cell_type": "code",
   "execution_count": null,
   "metadata": {},
   "outputs": [],
   "source": []
  }
 ],
 "metadata": {
  "kernelspec": {
   "display_name": "Python 3",
   "language": "python",
   "name": "python3"
  },
  "language_info": {
   "codemirror_mode": {
    "name": "ipython",
    "version": 3
   },
   "file_extension": ".py",
   "mimetype": "text/x-python",
   "name": "python",
   "nbconvert_exporter": "python",
   "pygments_lexer": "ipython3",
   "version": "3.6.4"
  },
  "toc": {
   "base_numbering": 1,
   "nav_menu": {},
   "number_sections": true,
   "sideBar": true,
   "skip_h1_title": true,
   "title_cell": "目次",
   "title_sidebar": "Contents",
   "toc_cell": true,
   "toc_position": {
    "height": "calc(100% - 180px)",
    "left": "10px",
    "top": "150px",
    "width": "234px"
   },
   "toc_section_display": true,
   "toc_window_display": true
  }
 },
 "nbformat": 4,
 "nbformat_minor": 2
}
