{
 "cells": [
  {
   "cell_type": "markdown",
   "metadata": {
    "toc": true
   },
   "source": [
    "<h1>目次<span class=\"tocSkip\"></span></h1>\n",
    "<div class=\"toc\"><ul class=\"toc-item\"><li><span><a href=\"#やりたいこと\" data-toc-modified-id=\"やりたいこと-1\"><span class=\"toc-item-num\">1&nbsp;&nbsp;</span>やりたいこと</a></span></li><li><span><a href=\"#データ考察\" data-toc-modified-id=\"データ考察-2\"><span class=\"toc-item-num\">2&nbsp;&nbsp;</span>データ考察</a></span><ul class=\"toc-item\"><li><span><a href=\"#降車ポイントが不明なデータを削除\" data-toc-modified-id=\"降車ポイントが不明なデータを削除-2.1\"><span class=\"toc-item-num\">2.1&nbsp;&nbsp;</span>降車ポイントが不明なデータを削除</a></span></li></ul></li><li><span><a href=\"#タクシーIDでグルーピング\" data-toc-modified-id=\"タクシーIDでグルーピング-3\"><span class=\"toc-item-num\">3&nbsp;&nbsp;</span>タクシーIDでグルーピング</a></span><ul class=\"toc-item\"><li><span><a href=\"#タクシーID毎に乗車数をカウント\" data-toc-modified-id=\"タクシーID毎に乗車数をカウント-3.1\"><span class=\"toc-item-num\">3.1&nbsp;&nbsp;</span>タクシーID毎に乗車数をカウント</a></span></li><li><span><a href=\"#乗車時間が長いドライバーでソート\" data-toc-modified-id=\"乗車時間が長いドライバーでソート-3.2\"><span class=\"toc-item-num\">3.2&nbsp;&nbsp;</span>乗車時間が長いドライバーでソート</a></span></li><li><span><a href=\"#優良ドライバー候補の抽出\" data-toc-modified-id=\"優良ドライバー候補の抽出-3.3\"><span class=\"toc-item-num\">3.3&nbsp;&nbsp;</span>優良ドライバー候補の抽出</a></span></li></ul></li><li><span><a href=\"#TAXI_ID-=-20000904-（乗車時間が最も長い）で考察\" data-toc-modified-id=\"TAXI_ID-=-20000904-（乗車時間が最も長い）で考察-4\"><span class=\"toc-item-num\">4&nbsp;&nbsp;</span>TAXI_ID = 20000904 （乗車時間が最も長い）で考察</a></span><ul class=\"toc-item\"><li><span><a href=\"#乗降地点\" data-toc-modified-id=\"乗降地点-4.1\"><span class=\"toc-item-num\">4.1&nbsp;&nbsp;</span>乗降地点</a></span></li></ul></li><li><span><a href=\"#TAXI_ID-=-20000403-（乗車回数が最も多い）で考察\" data-toc-modified-id=\"TAXI_ID-=-20000403-（乗車回数が最も多い）で考察-5\"><span class=\"toc-item-num\">5&nbsp;&nbsp;</span>TAXI_ID = 20000403 （乗車回数が最も多い）で考察</a></span><ul class=\"toc-item\"><li><span><a href=\"#乗降地点\" data-toc-modified-id=\"乗降地点-5.1\"><span class=\"toc-item-num\">5.1&nbsp;&nbsp;</span>乗降地点</a></span></li></ul></li><li><span><a href=\"#TAXI_ID-=-20000521-（新人）で考察\" data-toc-modified-id=\"TAXI_ID-=-20000521-（新人）で考察-6\"><span class=\"toc-item-num\">6&nbsp;&nbsp;</span>TAXI_ID = 20000521 （新人）で考察</a></span></li><li><span><a href=\"#TAXI_ID-=-20000440-（中堅）で考察\" data-toc-modified-id=\"TAXI_ID-=-20000440-（中堅）で考察-7\"><span class=\"toc-item-num\">7&nbsp;&nbsp;</span>TAXI_ID = 20000440 （中堅）で考察</a></span></li><li><span><a href=\"#TAXI_ID-=-20000380-(中堅）で考察\" data-toc-modified-id=\"TAXI_ID-=-20000380-(中堅）で考察-8\"><span class=\"toc-item-num\">8&nbsp;&nbsp;</span>TAXI_ID = 20000380 (中堅）で考察</a></span></li><li><span><a href=\"#分析方針\" data-toc-modified-id=\"分析方針-9\"><span class=\"toc-item-num\">9&nbsp;&nbsp;</span>分析方針</a></span></li><li><span><a href=\"#乗車率の算出\" data-toc-modified-id=\"乗車率の算出-10\"><span class=\"toc-item-num\">10&nbsp;&nbsp;</span>乗車率の算出</a></span><ul class=\"toc-item\"><li><span><a href=\"#乗車率の定義\" data-toc-modified-id=\"乗車率の定義-10.1\"><span class=\"toc-item-num\">10.1&nbsp;&nbsp;</span>乗車率の定義</a></span></li></ul></li></ul></div>"
   ]
  },
  {
   "cell_type": "markdown",
   "metadata": {},
   "source": [
    "## やりたいこと\n",
    "- 予測アプリ\n",
    "    - 緯度・軽度を分割する。\n",
    "    - 分割したエリアに乗車・降車ポイントをgooglemap上にプロット\n",
    "    - 分割したエリアの当日における15分単位の乗車確立を図示する。(ディープラーニングで2値問題の確立はだせる）\n",
    "        - 何をデータに食わせるか？（1年間の全データ？15分刻みのデータ？）\n",
    "        - 分割したエリアの当日における15分単位の乗車確立を図示する。(ディープラーニングで2値問題の確立はだせる）\n",
    "    - 分割したエリアで乗車した場合の予測乗車時間を図示する。(ディープラーニングで回帰予測はできるの？）\n",
    "    - 分割したエリアで乗車した場合の予測進路を8種類で図示する。（乗車、降車の教師データから方向はだせて、ディープラーニングで予測できる）\n",
    "\n",
    "- クラスタリング\n",
    "    - 優良ドライバーと新人ドライバーの比較ではなく、顧客を分析した方が良いか？\n",
    "        - どう分類する？"
   ]
  },
  {
   "cell_type": "markdown",
   "metadata": {},
   "source": [
    "## データ考察"
   ]
  },
  {
   "cell_type": "code",
   "execution_count": null,
   "metadata": {},
   "outputs": [],
   "source": [
    "# Google Map上にプロットするライブラリ\n",
    "# !pip install gmplot"
   ]
  },
  {
   "cell_type": "code",
   "execution_count": 1,
   "metadata": {},
   "outputs": [],
   "source": [
    "import pandas as pd \n",
    "import numpy as np\n",
    "import re\n",
    "import copy\n",
    "from datetime import datetime as dt\n",
    "from gmplot import gmplot\n",
    "\n",
    "from matplotlib import pyplot as plt\n",
    "import seaborn as sns\n",
    "\n",
    "# warningの抑止\n",
    "import warnings\n",
    "warnings.filterwarnings('ignore')\n",
    "\n",
    "# メモリ解放\n",
    "import gc"
   ]
  },
  {
   "cell_type": "code",
   "execution_count": 2,
   "metadata": {},
   "outputs": [
    {
     "data": {
      "text/html": [
       "<div>\n",
       "<style scoped>\n",
       "    .dataframe tbody tr th:only-of-type {\n",
       "        vertical-align: middle;\n",
       "    }\n",
       "\n",
       "    .dataframe tbody tr th {\n",
       "        vertical-align: top;\n",
       "    }\n",
       "\n",
       "    .dataframe thead th {\n",
       "        text-align: right;\n",
       "    }\n",
       "</style>\n",
       "<table border=\"1\" class=\"dataframe\">\n",
       "  <thead>\n",
       "    <tr style=\"text-align: right;\">\n",
       "      <th></th>\n",
       "      <th>TIMESTAMP</th>\n",
       "      <th>year</th>\n",
       "      <th>month</th>\n",
       "      <th>day</th>\n",
       "      <th>weekday</th>\n",
       "      <th>hour</th>\n",
       "      <th>minute</th>\n",
       "      <th>second</th>\n",
       "      <th>TAXI_ID</th>\n",
       "      <th>TRIP_ID</th>\n",
       "      <th>holiday</th>\n",
       "      <th>riding_time</th>\n",
       "      <th>distance</th>\n",
       "      <th>start_x</th>\n",
       "      <th>start_y</th>\n",
       "      <th>end_x</th>\n",
       "      <th>end_y</th>\n",
       "      <th>DAY_TYPE</th>\n",
       "      <th>CALL_TYPE</th>\n",
       "      <th>ORIGIN_STAND</th>\n",
       "      <th>ORIGIN_CALL</th>\n",
       "      <th>MISSING_DATA</th>\n",
       "    </tr>\n",
       "  </thead>\n",
       "  <tbody>\n",
       "    <tr>\n",
       "      <th>0</th>\n",
       "      <td>1372636853</td>\n",
       "      <td>2013</td>\n",
       "      <td>7</td>\n",
       "      <td>1</td>\n",
       "      <td>mon</td>\n",
       "      <td>0</td>\n",
       "      <td>0</td>\n",
       "      <td>53</td>\n",
       "      <td>20000380</td>\n",
       "      <td>1372636853620000380</td>\n",
       "      <td>o</td>\n",
       "      <td>375</td>\n",
       "      <td>2.395003</td>\n",
       "      <td>-8.610291</td>\n",
       "      <td>41.140746</td>\n",
       "      <td>-8.605890</td>\n",
       "      <td>41.145345</td>\n",
       "      <td>A</td>\n",
       "      <td>C</td>\n",
       "      <td>NaN</td>\n",
       "      <td>NaN</td>\n",
       "      <td>False</td>\n",
       "    </tr>\n",
       "    <tr>\n",
       "      <th>1</th>\n",
       "      <td>1372636854</td>\n",
       "      <td>2013</td>\n",
       "      <td>7</td>\n",
       "      <td>1</td>\n",
       "      <td>mon</td>\n",
       "      <td>0</td>\n",
       "      <td>0</td>\n",
       "      <td>54</td>\n",
       "      <td>20000520</td>\n",
       "      <td>1372636854620000520</td>\n",
       "      <td>o</td>\n",
       "      <td>645</td>\n",
       "      <td>10.114430</td>\n",
       "      <td>-8.574678</td>\n",
       "      <td>41.151951</td>\n",
       "      <td>-8.607996</td>\n",
       "      <td>41.142915</td>\n",
       "      <td>A</td>\n",
       "      <td>C</td>\n",
       "      <td>NaN</td>\n",
       "      <td>NaN</td>\n",
       "      <td>False</td>\n",
       "    </tr>\n",
       "    <tr>\n",
       "      <th>2</th>\n",
       "      <td>1372636858</td>\n",
       "      <td>2013</td>\n",
       "      <td>7</td>\n",
       "      <td>1</td>\n",
       "      <td>mon</td>\n",
       "      <td>0</td>\n",
       "      <td>0</td>\n",
       "      <td>58</td>\n",
       "      <td>20000589</td>\n",
       "      <td>1372636858620000589</td>\n",
       "      <td>o</td>\n",
       "      <td>345</td>\n",
       "      <td>3.186095</td>\n",
       "      <td>-8.618643</td>\n",
       "      <td>41.141412</td>\n",
       "      <td>-8.630838</td>\n",
       "      <td>41.154489</td>\n",
       "      <td>A</td>\n",
       "      <td>C</td>\n",
       "      <td>NaN</td>\n",
       "      <td>NaN</td>\n",
       "      <td>False</td>\n",
       "    </tr>\n",
       "    <tr>\n",
       "      <th>3</th>\n",
       "      <td>1372636875</td>\n",
       "      <td>2013</td>\n",
       "      <td>7</td>\n",
       "      <td>1</td>\n",
       "      <td>mon</td>\n",
       "      <td>0</td>\n",
       "      <td>1</td>\n",
       "      <td>15</td>\n",
       "      <td>20000233</td>\n",
       "      <td>1372636875620000233</td>\n",
       "      <td>o</td>\n",
       "      <td>330</td>\n",
       "      <td>2.549688</td>\n",
       "      <td>-8.619894</td>\n",
       "      <td>41.148009</td>\n",
       "      <td>-8.609490</td>\n",
       "      <td>41.157351</td>\n",
       "      <td>A</td>\n",
       "      <td>C</td>\n",
       "      <td>NaN</td>\n",
       "      <td>NaN</td>\n",
       "      <td>False</td>\n",
       "    </tr>\n",
       "    <tr>\n",
       "      <th>4</th>\n",
       "      <td>1372636896</td>\n",
       "      <td>2013</td>\n",
       "      <td>7</td>\n",
       "      <td>1</td>\n",
       "      <td>mon</td>\n",
       "      <td>0</td>\n",
       "      <td>1</td>\n",
       "      <td>36</td>\n",
       "      <td>20000360</td>\n",
       "      <td>1372636896620000360</td>\n",
       "      <td>o</td>\n",
       "      <td>645</td>\n",
       "      <td>10.080812</td>\n",
       "      <td>-8.617599</td>\n",
       "      <td>41.146137</td>\n",
       "      <td>-8.636625</td>\n",
       "      <td>41.169141</td>\n",
       "      <td>A</td>\n",
       "      <td>C</td>\n",
       "      <td>NaN</td>\n",
       "      <td>NaN</td>\n",
       "      <td>False</td>\n",
       "    </tr>\n",
       "  </tbody>\n",
       "</table>\n",
       "</div>"
      ],
      "text/plain": [
       "    TIMESTAMP  year  month  day weekday  hour  minute  second   TAXI_ID  \\\n",
       "0  1372636853  2013      7    1     mon     0       0      53  20000380   \n",
       "1  1372636854  2013      7    1     mon     0       0      54  20000520   \n",
       "2  1372636858  2013      7    1     mon     0       0      58  20000589   \n",
       "3  1372636875  2013      7    1     mon     0       1      15  20000233   \n",
       "4  1372636896  2013      7    1     mon     0       1      36  20000360   \n",
       "\n",
       "               TRIP_ID holiday  riding_time   distance   start_x    start_y  \\\n",
       "0  1372636853620000380       o          375   2.395003 -8.610291  41.140746   \n",
       "1  1372636854620000520       o          645  10.114430 -8.574678  41.151951   \n",
       "2  1372636858620000589       o          345   3.186095 -8.618643  41.141412   \n",
       "3  1372636875620000233       o          330   2.549688 -8.619894  41.148009   \n",
       "4  1372636896620000360       o          645  10.080812 -8.617599  41.146137   \n",
       "\n",
       "      end_x      end_y DAY_TYPE CALL_TYPE  ORIGIN_STAND  ORIGIN_CALL  \\\n",
       "0 -8.605890  41.145345        A         C           NaN          NaN   \n",
       "1 -8.607996  41.142915        A         C           NaN          NaN   \n",
       "2 -8.630838  41.154489        A         C           NaN          NaN   \n",
       "3 -8.609490  41.157351        A         C           NaN          NaN   \n",
       "4 -8.636625  41.169141        A         C           NaN          NaN   \n",
       "\n",
       "   MISSING_DATA  \n",
       "0         False  \n",
       "1         False  \n",
       "2         False  \n",
       "3         False  \n",
       "4         False  "
      ]
     },
     "execution_count": 2,
     "metadata": {},
     "output_type": "execute_result"
    }
   ],
   "source": [
    "pd.set_option(\"display.max_columns\", 30)\n",
    "\n",
    "# データを読み込む\n",
    "df = pd.read_csv(\"data/edit_train.csv\")\n",
    "\n",
    "df.head()"
   ]
  },
  {
   "cell_type": "markdown",
   "metadata": {},
   "source": [
    "### 降車ポイントが不明なデータを削除"
   ]
  },
  {
   "cell_type": "code",
   "execution_count": 3,
   "metadata": {},
   "outputs": [
    {
     "data": {
      "text/plain": [
       "array([ 104067,  294440,  449138,  725070,  768531,  832720,  914053,\n",
       "       1397905])"
      ]
     },
     "execution_count": 3,
     "metadata": {},
     "output_type": "execute_result"
    }
   ],
   "source": [
    "# 降車ポイント\n",
    "df[df[\"MISSING_DATA\"] != False].index.values"
   ]
  },
  {
   "cell_type": "code",
   "execution_count": 4,
   "metadata": {},
   "outputs": [
    {
     "data": {
      "text/plain": [
       "0"
      ]
     },
     "execution_count": 4,
     "metadata": {},
     "output_type": "execute_result"
    }
   ],
   "source": [
    "df.drop(df[df[\"MISSING_DATA\"] != False].index.values, inplace=True)\n",
    "df[df[\"MISSING_DATA\"] != False].shape[0]"
   ]
  },
  {
   "cell_type": "code",
   "execution_count": 5,
   "metadata": {},
   "outputs": [
    {
     "data": {
      "text/plain": [
       "(1674152, 22)"
      ]
     },
     "execution_count": 5,
     "metadata": {},
     "output_type": "execute_result"
    }
   ],
   "source": [
    "df.shape"
   ]
  },
  {
   "cell_type": "markdown",
   "metadata": {},
   "source": [
    "## タクシーIDでグルーピング"
   ]
  },
  {
   "cell_type": "code",
   "execution_count": 6,
   "metadata": {},
   "outputs": [],
   "source": [
    "group_taxi_id = df.groupby(\"TAXI_ID\")"
   ]
  },
  {
   "cell_type": "markdown",
   "metadata": {},
   "source": [
    "### タクシーID毎に乗車数をカウント"
   ]
  },
  {
   "cell_type": "code",
   "execution_count": 7,
   "metadata": {},
   "outputs": [
    {
     "data": {
      "text/plain": [
       "TAXI_ID\n",
       "20000403    7853\n",
       "20000483    7651\n",
       "20000364    7430\n",
       "20000307    7313\n",
       "20000621    7256\n",
       "dtype: int64"
      ]
     },
     "execution_count": 7,
     "metadata": {},
     "output_type": "execute_result"
    }
   ],
   "source": [
    "driving_count = group_taxi_id.size().sort_values(ascending=False)\n",
    "driving_count[:5]"
   ]
  },
  {
   "cell_type": "code",
   "execution_count": 8,
   "metadata": {},
   "outputs": [
    {
     "data": {
      "text/plain": [
       "(2689.75, 4927.25, 8283.5, -666.5)"
      ]
     },
     "execution_count": 8,
     "metadata": {},
     "output_type": "execute_result"
    }
   ],
   "source": [
    "# ４分位の外れ値を探す\n",
    "Q1 = driving_count.describe()['25%']\n",
    "Q3 = driving_count.describe()['75%']\n",
    "\n",
    "IQR = Q3 - Q1\n",
    "threshold_max = Q3 + 1.5 * IQR\n",
    "threshold_mim = Q1 - 1.5 * IQR\n",
    "\n",
    "Q1, Q3, threshold_max,threshold_mim"
   ]
  },
  {
   "cell_type": "markdown",
   "metadata": {},
   "source": [
    "__乗車回数の外れ値はない。__"
   ]
  },
  {
   "cell_type": "markdown",
   "metadata": {},
   "source": [
    "### 乗車時間が長いドライバーでソート"
   ]
  },
  {
   "cell_type": "code",
   "execution_count": 9,
   "metadata": {},
   "outputs": [
    {
     "data": {
      "text/plain": [
       "TAXI_ID\n",
       "20000904    7129620.0\n",
       "20000129    6046500.0\n",
       "20000307    5823270.0\n",
       "20000529    5530095.0\n",
       "20000276    5198760.0\n",
       "Name: riding_time, dtype: float64"
      ]
     },
     "execution_count": 9,
     "metadata": {},
     "output_type": "execute_result"
    }
   ],
   "source": [
    "driving_time = group_taxi_id.sum()[\"riding_time\"].sort_values(ascending=False)\n",
    "driving_time[:5]\n",
    "\n",
    "# 度数分布を表示したいが・・・\n",
    "# sns.barplot(x=driving_time.index, y=driving_time.values, data=driving_time)"
   ]
  },
  {
   "cell_type": "code",
   "execution_count": 10,
   "metadata": {},
   "outputs": [
    {
     "data": {
      "text/plain": [
       "(2068083.75, 3650463.75, 6024033.75, -305486.25)"
      ]
     },
     "execution_count": 10,
     "metadata": {},
     "output_type": "execute_result"
    }
   ],
   "source": [
    "# ４分位の外れ値を探す\n",
    "Q1 = driving_time.describe()['25%']\n",
    "Q3 = driving_time.describe()['75%']\n",
    "\n",
    "IQR = Q3 - Q1\n",
    "threshold_max = Q3 + 1.5 * IQR\n",
    "threshold_mim = Q1 - 1.5 * IQR\n",
    "\n",
    "Q1, Q3, threshold_max,threshold_mim"
   ]
  },
  {
   "cell_type": "markdown",
   "metadata": {},
   "source": [
    "__乗車時間の上限に外れ値がある。   \n",
    "乗車回数に外れ値がなく、乗車時間の上限が異常値という事は、優良ドライバーの可能性が高い。__"
   ]
  },
  {
   "cell_type": "markdown",
   "metadata": {},
   "source": [
    "### 優良ドライバー候補の抽出"
   ]
  },
  {
   "cell_type": "code",
   "execution_count": 11,
   "metadata": {},
   "outputs": [
    {
     "data": {
      "text/plain": [
       "TAXI_ID\n",
       "20000904    7129620.0\n",
       "20000129    6046500.0\n",
       "Name: riding_time, dtype: float64"
      ]
     },
     "execution_count": 11,
     "metadata": {},
     "output_type": "execute_result"
    }
   ],
   "source": [
    "# 優良ドライバー\n",
    "driving_time[driving_time.values > 6024033]"
   ]
  },
  {
   "cell_type": "markdown",
   "metadata": {},
   "source": [
    "## TAXI_ID = 20000904 （乗車時間が最も長い）で考察"
   ]
  },
  {
   "cell_type": "code",
   "execution_count": 12,
   "metadata": {},
   "outputs": [
    {
     "data": {
      "text/plain": [
       "(4933, 22)"
      ]
     },
     "execution_count": 12,
     "metadata": {},
     "output_type": "execute_result"
    }
   ],
   "source": [
    "df_20000904 = df[df[\"TAXI_ID\"] == 20000904]\n",
    "df_20000904.shape"
   ]
  },
  {
   "cell_type": "markdown",
   "metadata": {},
   "source": [
    "乗車回数は 4933 75%タイルの乗車回数（4927.25）よりもちょっと多い位。"
   ]
  },
  {
   "cell_type": "markdown",
   "metadata": {},
   "source": [
    "### 乗降地点"
   ]
  },
  {
   "cell_type": "markdown",
   "metadata": {},
   "source": [
    "緯度・経度はDEG形式（度だけで表記）    \n",
    "- 1度は111km、故に0.1度は11.1km。"
   ]
  },
  {
   "cell_type": "code",
   "execution_count": 34,
   "metadata": {},
   "outputs": [
    {
     "data": {
      "image/png": "[encoded data removed]",
      "text/plain": [
       "<matplotlib.figure.Figure at 0x1a1a905048>"
      ]
     },
     "metadata": {},
     "output_type": "display_data"
    }
   ],
   "source": [
    "plt.scatter(df_20000904[\"end_x\"], df_20000904[\"end_y\"], color=\"r\", label='end')\n",
    "plt.scatter(df_20000904[\"start_x\"], df_20000904[\"start_y\"], label='start')\n",
    "plt.title(\"Start - End Point\")\n",
    "plt.xlabel(\"long\")\n",
    "plt.ylabel(\"lat\")\n",
    "plt.legend()\n",
    "plt.grid()"
   ]
  },
  {
   "cell_type": "code",
   "execution_count": 23,
   "metadata": {},
   "outputs": [
    {
     "data": {
      "text/html": [
       "<div>\n",
       "<style scoped>\n",
       "    .dataframe tbody tr th:only-of-type {\n",
       "        vertical-align: middle;\n",
       "    }\n",
       "\n",
       "    .dataframe tbody tr th {\n",
       "        vertical-align: top;\n",
       "    }\n",
       "\n",
       "    .dataframe thead th {\n",
       "        text-align: right;\n",
       "    }\n",
       "</style>\n",
       "<table border=\"1\" class=\"dataframe\">\n",
       "  <thead>\n",
       "    <tr style=\"text-align: right;\">\n",
       "      <th></th>\n",
       "      <th>distance</th>\n",
       "      <th>riding_time</th>\n",
       "    </tr>\n",
       "  </thead>\n",
       "  <tbody>\n",
       "    <tr>\n",
       "      <th>count</th>\n",
       "      <td>4933.000000</td>\n",
       "      <td>4933.000000</td>\n",
       "    </tr>\n",
       "    <tr>\n",
       "      <th>mean</th>\n",
       "      <td>14.620715</td>\n",
       "      <td>1445.290898</td>\n",
       "    </tr>\n",
       "    <tr>\n",
       "      <th>std</th>\n",
       "      <td>24.685529</td>\n",
       "      <td>2096.517645</td>\n",
       "    </tr>\n",
       "    <tr>\n",
       "      <th>min</th>\n",
       "      <td>0.001412</td>\n",
       "      <td>30.000000</td>\n",
       "    </tr>\n",
       "    <tr>\n",
       "      <th>25%</th>\n",
       "      <td>3.501274</td>\n",
       "      <td>600.000000</td>\n",
       "    </tr>\n",
       "    <tr>\n",
       "      <th>50%</th>\n",
       "      <td>8.598231</td>\n",
       "      <td>1035.000000</td>\n",
       "    </tr>\n",
       "    <tr>\n",
       "      <th>75%</th>\n",
       "      <td>21.511891</td>\n",
       "      <td>1560.000000</td>\n",
       "    </tr>\n",
       "    <tr>\n",
       "      <th>max</th>\n",
       "      <td>659.568580</td>\n",
       "      <td>46800.000000</td>\n",
       "    </tr>\n",
       "  </tbody>\n",
       "</table>\n",
       "</div>"
      ],
      "text/plain": [
       "          distance   riding_time\n",
       "count  4933.000000   4933.000000\n",
       "mean     14.620715   1445.290898\n",
       "std      24.685529   2096.517645\n",
       "min       0.001412     30.000000\n",
       "25%       3.501274    600.000000\n",
       "50%       8.598231   1035.000000\n",
       "75%      21.511891   1560.000000\n",
       "max     659.568580  46800.000000"
      ]
     },
     "execution_count": 23,
     "metadata": {},
     "output_type": "execute_result"
    }
   ],
   "source": [
    "# distanceはkm、riding_timeは秒\n",
    "df_20000904.describe()[[\"distance\", \"riding_time\"]]"
   ]
  },
  {
   "cell_type": "code",
   "execution_count": 15,
   "metadata": {},
   "outputs": [
    {
     "data": {
      "text/plain": [
       "(4933, 22)"
      ]
     },
     "execution_count": 15,
     "metadata": {},
     "output_type": "execute_result"
    }
   ],
   "source": [
    "df_20000904.shape"
   ]
  },
  {
   "cell_type": "markdown",
   "metadata": {},
   "source": [
    "## TAXI_ID = 20000403 （乗車回数が最も多い）で考察"
   ]
  },
  {
   "cell_type": "code",
   "execution_count": 26,
   "metadata": {},
   "outputs": [
    {
     "data": {
      "text/plain": [
       "4614780.0"
      ]
     },
     "execution_count": 26,
     "metadata": {},
     "output_type": "execute_result"
    }
   ],
   "source": [
    "df_20000403 = df[df[\"TAXI_ID\"] == 20000403]\n",
    "driving_time.loc[20000403]"
   ]
  },
  {
   "cell_type": "markdown",
   "metadata": {},
   "source": [
    "乗車時間　4614780。0 は 75%1タイル (3650463.75)よりは長い。   \n",
    "乗車回数で、乗車時間を稼ぐタイプ"
   ]
  },
  {
   "cell_type": "markdown",
   "metadata": {},
   "source": [
    "### 乗降地点"
   ]
  },
  {
   "cell_type": "code",
   "execution_count": 35,
   "metadata": {},
   "outputs": [
    {
     "data": {
      "image/png": "[encoded data removed]",
      "text/plain": [
       "<matplotlib.figure.Figure at 0x10afd1eb8>"
      ]
     },
     "metadata": {},
     "output_type": "display_data"
    }
   ],
   "source": [
    "plt.scatter(df_20000403[\"end_x\"], df_20000403[\"end_y\"], color=\"r\", label='end')\n",
    "plt.scatter(df_20000403[\"start_x\"], df_20000403[\"start_y\"], label='start')\n",
    "plt.title(\"Start - End Point\")\n",
    "plt.xlabel(\"long\")\n",
    "plt.ylabel(\"lat\")\n",
    "plt.legend()\n",
    "plt.grid()"
   ]
  },
  {
   "cell_type": "code",
   "execution_count": 18,
   "metadata": {},
   "outputs": [
    {
     "data": {
      "text/html": [
       "<div>\n",
       "<style scoped>\n",
       "    .dataframe tbody tr th:only-of-type {\n",
       "        vertical-align: middle;\n",
       "    }\n",
       "\n",
       "    .dataframe tbody tr th {\n",
       "        vertical-align: top;\n",
       "    }\n",
       "\n",
       "    .dataframe thead th {\n",
       "        text-align: right;\n",
       "    }\n",
       "</style>\n",
       "<table border=\"1\" class=\"dataframe\">\n",
       "  <thead>\n",
       "    <tr style=\"text-align: right;\">\n",
       "      <th></th>\n",
       "      <th>distance</th>\n",
       "      <th>riding_time</th>\n",
       "    </tr>\n",
       "  </thead>\n",
       "  <tbody>\n",
       "    <tr>\n",
       "      <th>count</th>\n",
       "      <td>7853.000000</td>\n",
       "      <td>7853.000000</td>\n",
       "    </tr>\n",
       "    <tr>\n",
       "      <th>mean</th>\n",
       "      <td>6.345105</td>\n",
       "      <td>587.645486</td>\n",
       "    </tr>\n",
       "    <tr>\n",
       "      <th>std</th>\n",
       "      <td>12.853535</td>\n",
       "      <td>561.509462</td>\n",
       "    </tr>\n",
       "    <tr>\n",
       "      <th>min</th>\n",
       "      <td>0.000000</td>\n",
       "      <td>30.000000</td>\n",
       "    </tr>\n",
       "    <tr>\n",
       "      <th>25%</th>\n",
       "      <td>1.889257</td>\n",
       "      <td>270.000000</td>\n",
       "    </tr>\n",
       "    <tr>\n",
       "      <th>50%</th>\n",
       "      <td>3.817476</td>\n",
       "      <td>480.000000</td>\n",
       "    </tr>\n",
       "    <tr>\n",
       "      <th>75%</th>\n",
       "      <td>7.150244</td>\n",
       "      <td>750.000000</td>\n",
       "    </tr>\n",
       "    <tr>\n",
       "      <th>max</th>\n",
       "      <td>594.718758</td>\n",
       "      <td>13110.000000</td>\n",
       "    </tr>\n",
       "  </tbody>\n",
       "</table>\n",
       "</div>"
      ],
      "text/plain": [
       "          distance   riding_time\n",
       "count  7853.000000   7853.000000\n",
       "mean      6.345105    587.645486\n",
       "std      12.853535    561.509462\n",
       "min       0.000000     30.000000\n",
       "25%       1.889257    270.000000\n",
       "50%       3.817476    480.000000\n",
       "75%       7.150244    750.000000\n",
       "max     594.718758  13110.000000"
      ]
     },
     "execution_count": 18,
     "metadata": {},
     "output_type": "execute_result"
    }
   ],
   "source": [
    "# distanceはkm、riding_timeは秒\n",
    "df_20000403.describe()[[\"distance\", \"riding_time\"]]"
   ]
  },
  {
   "cell_type": "markdown",
   "metadata": {},
   "source": [
    "## TAXI_ID = 20000521 （新人）で考察"
   ]
  },
  {
   "cell_type": "code",
   "execution_count": 29,
   "metadata": {},
   "outputs": [
    {
     "data": {
      "text/plain": [
       "((1966, 22), 1261005.0)"
      ]
     },
     "execution_count": 29,
     "metadata": {},
     "output_type": "execute_result"
    }
   ],
   "source": [
    "df_20000521 = df[df[\"TAXI_ID\"] == 20000521]\n",
    "df_20000521.shape, driving_time.loc[20000521]"
   ]
  },
  {
   "cell_type": "markdown",
   "metadata": {},
   "source": [
    "乗車回数＝1966、乗車時間＝1261005.0　共に25%タイル（2689.75回、2068083.75秒）共に下回る新人の場合"
   ]
  },
  {
   "cell_type": "code",
   "execution_count": 36,
   "metadata": {},
   "outputs": [
    {
     "data": {
      "image/png": "[encoded data removed]",
      "text/plain": [
       "<matplotlib.figure.Figure at 0x1a1b1ced30>"
      ]
     },
     "metadata": {},
     "output_type": "display_data"
    }
   ],
   "source": [
    "plt.scatter(df_20000521[\"end_x\"], df_20000521[\"end_y\"], color=\"r\", label='end')\n",
    "plt.scatter(df_20000521[\"start_x\"], df_20000521[\"start_y\"], label='start')\n",
    "plt.title(\"Start - End Point\")\n",
    "plt.xlabel(\"long\")\n",
    "plt.ylabel(\"lat\")\n",
    "plt.legend()\n",
    "plt.grid()"
   ]
  },
  {
   "cell_type": "code",
   "execution_count": 21,
   "metadata": {},
   "outputs": [
    {
     "data": {
      "text/html": [
       "<div>\n",
       "<style scoped>\n",
       "    .dataframe tbody tr th:only-of-type {\n",
       "        vertical-align: middle;\n",
       "    }\n",
       "\n",
       "    .dataframe tbody tr th {\n",
       "        vertical-align: top;\n",
       "    }\n",
       "\n",
       "    .dataframe thead th {\n",
       "        text-align: right;\n",
       "    }\n",
       "</style>\n",
       "<table border=\"1\" class=\"dataframe\">\n",
       "  <thead>\n",
       "    <tr style=\"text-align: right;\">\n",
       "      <th></th>\n",
       "      <th>distance</th>\n",
       "      <th>riding_time</th>\n",
       "    </tr>\n",
       "  </thead>\n",
       "  <tbody>\n",
       "    <tr>\n",
       "      <th>count</th>\n",
       "      <td>1966.000000</td>\n",
       "      <td>1966.000000</td>\n",
       "    </tr>\n",
       "    <tr>\n",
       "      <th>mean</th>\n",
       "      <td>5.051573</td>\n",
       "      <td>641.406409</td>\n",
       "    </tr>\n",
       "    <tr>\n",
       "      <th>std</th>\n",
       "      <td>4.190691</td>\n",
       "      <td>358.026423</td>\n",
       "    </tr>\n",
       "    <tr>\n",
       "      <th>min</th>\n",
       "      <td>0.006233</td>\n",
       "      <td>30.000000</td>\n",
       "    </tr>\n",
       "    <tr>\n",
       "      <th>25%</th>\n",
       "      <td>2.735420</td>\n",
       "      <td>420.000000</td>\n",
       "    </tr>\n",
       "    <tr>\n",
       "      <th>50%</th>\n",
       "      <td>4.114161</td>\n",
       "      <td>570.000000</td>\n",
       "    </tr>\n",
       "    <tr>\n",
       "      <th>75%</th>\n",
       "      <td>6.044123</td>\n",
       "      <td>761.250000</td>\n",
       "    </tr>\n",
       "    <tr>\n",
       "      <th>max</th>\n",
       "      <td>88.808999</td>\n",
       "      <td>4560.000000</td>\n",
       "    </tr>\n",
       "  </tbody>\n",
       "</table>\n",
       "</div>"
      ],
      "text/plain": [
       "          distance  riding_time\n",
       "count  1966.000000  1966.000000\n",
       "mean      5.051573   641.406409\n",
       "std       4.190691   358.026423\n",
       "min       0.006233    30.000000\n",
       "25%       2.735420   420.000000\n",
       "50%       4.114161   570.000000\n",
       "75%       6.044123   761.250000\n",
       "max      88.808999  4560.000000"
      ]
     },
     "execution_count": 21,
     "metadata": {},
     "output_type": "execute_result"
    }
   ],
   "source": [
    "# distanceはkm、riding_timeは秒\n",
    "df_20000521.describe()[[\"distance\", \"riding_time\"]]"
   ]
  },
  {
   "cell_type": "markdown",
   "metadata": {},
   "source": [
    "## TAXI_ID = 20000440 （中堅）で考察"
   ]
  },
  {
   "cell_type": "code",
   "execution_count": 22,
   "metadata": {},
   "outputs": [
    {
     "data": {
      "text/plain": [
       "(3702.0, 2766832.5)"
      ]
     },
     "execution_count": 22,
     "metadata": {},
     "output_type": "execute_result"
    }
   ],
   "source": [
    "driving_count.describe()['50%'],driving_time.describe()['50%']"
   ]
  },
  {
   "cell_type": "code",
   "execution_count": 23,
   "metadata": {},
   "outputs": [
    {
     "data": {
      "text/plain": [
       "TAXI_ID\n",
       "20000201    3692\n",
       "20000440    3690\n",
       "20000549    3685\n",
       "dtype: int64"
      ]
     },
     "execution_count": 23,
     "metadata": {},
     "output_type": "execute_result"
    }
   ],
   "source": [
    "driving_count[driving_count.values < 3702].head(3)"
   ]
  },
  {
   "cell_type": "code",
   "execution_count": 40,
   "metadata": {},
   "outputs": [
    {
     "data": {
      "text/plain": [
       "((3690, 22), 2752170.0)"
      ]
     },
     "execution_count": 40,
     "metadata": {},
     "output_type": "execute_result"
    }
   ],
   "source": [
    "df_20000440 = df[df[\"TAXI_ID\"] == 20000440]\n",
    "df_20000440.shape, driving_time.loc[20000440]"
   ]
  },
  {
   "cell_type": "code",
   "execution_count": 41,
   "metadata": {},
   "outputs": [
    {
     "data": {
      "image/png": "[encoded data removed]",
      "text/plain": [
       "<matplotlib.figure.Figure at 0x1a1c158828>"
      ]
     },
     "metadata": {},
     "output_type": "display_data"
    }
   ],
   "source": [
    "plt.scatter(df_20000440[\"end_x\"], df_20000440[\"end_y\"], color=\"r\", label='end')\n",
    "plt.scatter(df_20000440[\"start_x\"], df_20000440[\"start_y\"], label='start')\n",
    "plt.title(\"Start - End Point\")\n",
    "plt.xlabel(\"long\")\n",
    "plt.ylabel(\"lat\")\n",
    "plt.legend()\n",
    "plt.grid()"
   ]
  },
  {
   "cell_type": "code",
   "execution_count": 26,
   "metadata": {},
   "outputs": [
    {
     "data": {
      "text/html": [
       "<div>\n",
       "<style scoped>\n",
       "    .dataframe tbody tr th:only-of-type {\n",
       "        vertical-align: middle;\n",
       "    }\n",
       "\n",
       "    .dataframe tbody tr th {\n",
       "        vertical-align: top;\n",
       "    }\n",
       "\n",
       "    .dataframe thead th {\n",
       "        text-align: right;\n",
       "    }\n",
       "</style>\n",
       "<table border=\"1\" class=\"dataframe\">\n",
       "  <thead>\n",
       "    <tr style=\"text-align: right;\">\n",
       "      <th></th>\n",
       "      <th>distance</th>\n",
       "      <th>riding_time</th>\n",
       "    </tr>\n",
       "  </thead>\n",
       "  <tbody>\n",
       "    <tr>\n",
       "      <th>count</th>\n",
       "      <td>3690.000000</td>\n",
       "      <td>3690.000000</td>\n",
       "    </tr>\n",
       "    <tr>\n",
       "      <th>mean</th>\n",
       "      <td>5.664773</td>\n",
       "      <td>745.845528</td>\n",
       "    </tr>\n",
       "    <tr>\n",
       "      <th>std</th>\n",
       "      <td>5.478029</td>\n",
       "      <td>556.322336</td>\n",
       "    </tr>\n",
       "    <tr>\n",
       "      <th>min</th>\n",
       "      <td>0.000000</td>\n",
       "      <td>30.000000</td>\n",
       "    </tr>\n",
       "    <tr>\n",
       "      <th>25%</th>\n",
       "      <td>2.613150</td>\n",
       "      <td>450.000000</td>\n",
       "    </tr>\n",
       "    <tr>\n",
       "      <th>50%</th>\n",
       "      <td>4.006829</td>\n",
       "      <td>630.000000</td>\n",
       "    </tr>\n",
       "    <tr>\n",
       "      <th>75%</th>\n",
       "      <td>6.876342</td>\n",
       "      <td>896.250000</td>\n",
       "    </tr>\n",
       "    <tr>\n",
       "      <th>max</th>\n",
       "      <td>117.942916</td>\n",
       "      <td>7755.000000</td>\n",
       "    </tr>\n",
       "  </tbody>\n",
       "</table>\n",
       "</div>"
      ],
      "text/plain": [
       "          distance  riding_time\n",
       "count  3690.000000  3690.000000\n",
       "mean      5.664773   745.845528\n",
       "std       5.478029   556.322336\n",
       "min       0.000000    30.000000\n",
       "25%       2.613150   450.000000\n",
       "50%       4.006829   630.000000\n",
       "75%       6.876342   896.250000\n",
       "max     117.942916  7755.000000"
      ]
     },
     "execution_count": 26,
     "metadata": {},
     "output_type": "execute_result"
    }
   ],
   "source": [
    "# distanceはkm、riding_timeは秒\n",
    "df_20000440.describe()[[\"distance\", \"riding_time\"]]"
   ]
  },
  {
   "cell_type": "markdown",
   "metadata": {},
   "source": [
    "## TAXI_ID = 20000380 (中堅）で考察"
   ]
  },
  {
   "cell_type": "code",
   "execution_count": 42,
   "metadata": {},
   "outputs": [
    {
     "data": {
      "text/plain": [
       "((3522, 22), 2484480.0)"
      ]
     },
     "execution_count": 42,
     "metadata": {},
     "output_type": "execute_result"
    }
   ],
   "source": [
    "df_20000380 = df[df[\"TAXI_ID\"] == 20000380]\n",
    "df_20000380.shape, driving_time.loc[20000380]"
   ]
  },
  {
   "cell_type": "code",
   "execution_count": 43,
   "metadata": {},
   "outputs": [
    {
     "data": {
      "image/png": "[encoded data removed]",
      "text/plain": [
       "<matplotlib.figure.Figure at 0x1a1c2ae048>"
      ]
     },
     "metadata": {},
     "output_type": "display_data"
    }
   ],
   "source": [
    "plt.scatter(df_20000380[\"end_x\"], df_20000380[\"end_y\"], color=\"r\", label=\"end\")\n",
    "plt.scatter(df_20000380[\"start_x\"], df_20000380[\"start_y\"], label=\"start\")\n",
    "plt.title(\"Start - End Point\")\n",
    "plt.xlabel(\"long\")\n",
    "plt.ylabel(\"lat\")\n",
    "plt.legend()\n",
    "plt.grid()"
   ]
  },
  {
   "cell_type": "code",
   "execution_count": 44,
   "metadata": {},
   "outputs": [
    {
     "data": {
      "text/html": [
       "<div>\n",
       "<style scoped>\n",
       "    .dataframe tbody tr th:only-of-type {\n",
       "        vertical-align: middle;\n",
       "    }\n",
       "\n",
       "    .dataframe tbody tr th {\n",
       "        vertical-align: top;\n",
       "    }\n",
       "\n",
       "    .dataframe thead th {\n",
       "        text-align: right;\n",
       "    }\n",
       "</style>\n",
       "<table border=\"1\" class=\"dataframe\">\n",
       "  <thead>\n",
       "    <tr style=\"text-align: right;\">\n",
       "      <th></th>\n",
       "      <th>distance</th>\n",
       "      <th>riding_time</th>\n",
       "    </tr>\n",
       "  </thead>\n",
       "  <tbody>\n",
       "    <tr>\n",
       "      <th>count</th>\n",
       "      <td>3522.000000</td>\n",
       "      <td>3522.000000</td>\n",
       "    </tr>\n",
       "    <tr>\n",
       "      <th>mean</th>\n",
       "      <td>5.871538</td>\n",
       "      <td>705.417376</td>\n",
       "    </tr>\n",
       "    <tr>\n",
       "      <th>std</th>\n",
       "      <td>5.813101</td>\n",
       "      <td>521.647894</td>\n",
       "    </tr>\n",
       "    <tr>\n",
       "      <th>min</th>\n",
       "      <td>0.002824</td>\n",
       "      <td>30.000000</td>\n",
       "    </tr>\n",
       "    <tr>\n",
       "      <th>25%</th>\n",
       "      <td>2.896307</td>\n",
       "      <td>435.000000</td>\n",
       "    </tr>\n",
       "    <tr>\n",
       "      <th>50%</th>\n",
       "      <td>4.567188</td>\n",
       "      <td>615.000000</td>\n",
       "    </tr>\n",
       "    <tr>\n",
       "      <th>75%</th>\n",
       "      <td>7.337904</td>\n",
       "      <td>855.000000</td>\n",
       "    </tr>\n",
       "    <tr>\n",
       "      <th>max</th>\n",
       "      <td>172.661045</td>\n",
       "      <td>15615.000000</td>\n",
       "    </tr>\n",
       "  </tbody>\n",
       "</table>\n",
       "</div>"
      ],
      "text/plain": [
       "          distance   riding_time\n",
       "count  3522.000000   3522.000000\n",
       "mean      5.871538    705.417376\n",
       "std       5.813101    521.647894\n",
       "min       0.002824     30.000000\n",
       "25%       2.896307    435.000000\n",
       "50%       4.567188    615.000000\n",
       "75%       7.337904    855.000000\n",
       "max     172.661045  15615.000000"
      ]
     },
     "execution_count": 44,
     "metadata": {},
     "output_type": "execute_result"
    }
   ],
   "source": [
    "# distanceはkm、riding_timeは秒\n",
    "df_20000380.describe()[[\"distance\", \"riding_time\"]]"
   ]
  },
  {
   "cell_type": "markdown",
   "metadata": {},
   "source": [
    "## 分析方針\n",
    "\n",
    "１.全ドライバーの移動距離と乗車時間と乗車回数の合計を算出  \n",
    "２.乗車時間と乗車回数の２軸でプロット  \n",
    "３.クラスタリング  \n",
    "４.  \n",
    "\n",
    "乗車時間／乗車回数　で優良ドライバーを特定\n",
    "\n",
    "\n",
    "タクシーの料金は、初乗り運賃の時点から「距離」と「時間」を併用。\n",
    "\n",
    "タクシーの料金は基本的に一定距離内の初乗り運賃（例：東京：最長1.052kmまで、上限410円）\n",
    "を越えて乗車した場合の走行距離に応じた「距離制」で計算されるが、走行速度が10km/h以下になった場合には、走行時間を距離に置き換えて計算する「時間距離併用制」が適用される。\n"
   ]
  },
  {
   "cell_type": "markdown",
   "metadata": {},
   "source": [
    "## 乗車率の算出\n",
    "\n",
    "### 乗車率の定義\n",
    "1日の乗車時間（秒）/ 24 * 60 * 60(秒）    \n",
    "\n",
    "※日跨ぎで働くドライバーでも1日の稼働時間は同じという前提。   \n",
    "例）9-18（8h）、22-25(1h）＋ 10-15(5h）＋22-25(2h）　\n"
   ]
  },
  {
   "cell_type": "code",
   "execution_count": 30,
   "metadata": {},
   "outputs": [],
   "source": [
    "def calc_working_rate(arr: np.ndarray):\n",
    "    \n",
    "    # 24 * 60 * 60 = 86400\n",
    "    return ( arr.sum() / 86400) * 100"
   ]
  },
  {
   "cell_type": "code",
   "execution_count": 31,
   "metadata": {},
   "outputs": [
    {
     "data": {
      "text/plain": [
       "86400"
      ]
     },
     "execution_count": 31,
     "metadata": {},
     "output_type": "execute_result"
    }
   ],
   "source": [
    "24 * 60 * 60"
   ]
  }
 ],
 "metadata": {
  "kernelspec": {
   "display_name": "Python 3",
   "language": "python",
   "name": "python3"
  },
  "language_info": {
   "codemirror_mode": {
    "name": "ipython",
    "version": 3
   },
   "file_extension": ".py",
   "mimetype": "text/x-python",
   "name": "python",
   "nbconvert_exporter": "python",
   "pygments_lexer": "ipython3",
   "version": "3.6.4"
  },
  "toc": {
   "base_numbering": 1,
   "nav_menu": {},
   "number_sections": true,
   "sideBar": true,
   "skip_h1_title": true,
   "title_cell": "目次",
   "title_sidebar": "Contents",
   "toc_cell": true,
   "toc_position": {},
   "toc_section_display": true,
   "toc_window_display": true
  }
 },
 "nbformat": 4,
 "nbformat_minor": 2
}
